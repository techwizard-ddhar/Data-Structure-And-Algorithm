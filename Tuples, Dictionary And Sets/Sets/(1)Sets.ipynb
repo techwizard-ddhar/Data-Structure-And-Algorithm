{
 "cells": [
  {
   "cell_type": "markdown",
   "id": "c05b9bad-281c-4cbd-832c-c3fb23293ccb",
   "metadata": {},
   "source": [
    "**There is no order in sets**"
   ]
  },
  {
   "cell_type": "code",
   "execution_count": 1,
   "id": "cb733305-cf36-4862-bdb2-c0726c4fece1",
   "metadata": {},
   "outputs": [
    {
     "data": {
      "text/plain": [
       "{23, 'apple', 'banana'}"
      ]
     },
     "execution_count": 1,
     "metadata": {},
     "output_type": "execute_result"
    }
   ],
   "source": [
    "s = {\"apple\", \"banana\", 23}\n",
    "s"
   ]
  },
  {
   "cell_type": "code",
   "execution_count": 2,
   "id": "dc60cdad-e302-42cf-b9cb-1a4cc8c492a0",
   "metadata": {},
   "outputs": [
    {
     "ename": "TypeError",
     "evalue": "'set' object is not subscriptable",
     "output_type": "error",
     "traceback": [
      "\u001b[1;31m---------------------------------------------------------------------------\u001b[0m",
      "\u001b[1;31mTypeError\u001b[0m                                 Traceback (most recent call last)",
      "Cell \u001b[1;32mIn[2], line 1\u001b[0m\n\u001b[1;32m----> 1\u001b[0m \u001b[43ms\u001b[49m\u001b[43m[\u001b[49m\u001b[38;5;241;43m0\u001b[39;49m\u001b[43m]\u001b[49m\n",
      "\u001b[1;31mTypeError\u001b[0m: 'set' object is not subscriptable"
     ]
    }
   ],
   "source": [
    "s[0]"
   ]
  },
  {
   "cell_type": "markdown",
   "id": "5d6d40dc-341e-4551-a42b-8b97ba150f98",
   "metadata": {},
   "source": [
    "# Access Data"
   ]
  },
  {
   "cell_type": "code",
   "execution_count": 3,
   "id": "da2e73a5-1f86-4a80-9896-0a59b8ee4d9e",
   "metadata": {},
   "outputs": [
    {
     "data": {
      "text/plain": [
       "True"
      ]
     },
     "execution_count": 3,
     "metadata": {},
     "output_type": "execute_result"
    }
   ],
   "source": [
    "23 in s"
   ]
  },
  {
   "cell_type": "code",
   "execution_count": 8,
   "id": "a0c0d5a1-3cfa-4b4b-96a8-d2358d793ff9",
   "metadata": {},
   "outputs": [
    {
     "name": "stdout",
     "output_type": "stream",
     "text": [
      "banana, apple, 23, "
     ]
    }
   ],
   "source": [
    "for w in s:\n",
    "    print(w, end = ', ')"
   ]
  },
  {
   "cell_type": "code",
   "execution_count": 9,
   "id": "540a82bc-35a2-4b3a-845a-bd4080ee68bb",
   "metadata": {},
   "outputs": [
    {
     "data": {
      "text/plain": [
       "3"
      ]
     },
     "execution_count": 9,
     "metadata": {},
     "output_type": "execute_result"
    }
   ],
   "source": [
    "len(s)"
   ]
  },
  {
   "cell_type": "markdown",
   "id": "df7ce213-171c-441f-b830-cd86ee7625f0",
   "metadata": {},
   "source": [
    "# Add or Update Data"
   ]
  },
  {
   "cell_type": "code",
   "execution_count": 10,
   "id": "2bd6fefd-c2f2-4d5a-a75b-cdf0e0a0c50e",
   "metadata": {},
   "outputs": [
    {
     "data": {
      "text/plain": [
       "{23, 'Assam', 'apple', 'banana'}"
      ]
     },
     "execution_count": 10,
     "metadata": {},
     "output_type": "execute_result"
    }
   ],
   "source": [
    "s.add(\"Assam\")\n",
    "s"
   ]
  },
  {
   "cell_type": "code",
   "execution_count": 11,
   "id": "ed4e40c6-7708-43b9-a481-d079ac167e7e",
   "metadata": {},
   "outputs": [],
   "source": [
    "b = {\"Assam\", \"goa\"}"
   ]
  },
  {
   "cell_type": "code",
   "execution_count": 13,
   "id": "a4942635-c0c6-4ca0-a3e6-071f237d955b",
   "metadata": {},
   "outputs": [
    {
     "data": {
      "text/plain": [
       "{23, 'Assam', 'apple', 'banana', 'goa'}"
      ]
     },
     "execution_count": 13,
     "metadata": {},
     "output_type": "execute_result"
    }
   ],
   "source": [
    "s.update(b)\n",
    "s"
   ]
  },
  {
   "cell_type": "markdown",
   "id": "a268c595-0fd7-42f0-9e95-434c43d52709",
   "metadata": {},
   "source": [
    "# Delete"
   ]
  },
  {
   "cell_type": "code",
   "execution_count": 16,
   "id": "5eae8595-bf49-453f-abbc-4f604950c855",
   "metadata": {},
   "outputs": [
    {
     "data": {
      "text/plain": [
       "{23, 'Assam', 'apple', 'goa'}"
      ]
     },
     "execution_count": 16,
     "metadata": {},
     "output_type": "execute_result"
    }
   ],
   "source": [
    "s.remove('banana')\n",
    "s"
   ]
  },
  {
   "cell_type": "markdown",
   "id": "6736096c-cd77-4cc9-8ba3-e350ceb75cee",
   "metadata": {},
   "source": [
    "**pop() func removesa ny random element**\n"
   ]
  },
  {
   "cell_type": "code",
   "execution_count": 17,
   "id": "02db64c4-5b89-4e72-a68a-a552d89d6b93",
   "metadata": {},
   "outputs": [
    {
     "data": {
      "text/plain": [
       "{23, 'Assam', 'goa'}"
      ]
     },
     "execution_count": 17,
     "metadata": {},
     "output_type": "execute_result"
    }
   ],
   "source": [
    "s.pop()\n",
    "s"
   ]
  },
  {
   "cell_type": "code",
   "execution_count": 91,
   "id": "8fb8d121-90a6-44d8-a8f5-f810e9950e13",
   "metadata": {},
   "outputs": [],
   "source": [
    "a = {1,2,3,4}\n",
    "b = {3,4,5,6}"
   ]
  },
  {
   "cell_type": "code",
   "execution_count": 92,
   "id": "bba76782-7ca8-44c5-9ead-c3b035069230",
   "metadata": {},
   "outputs": [
    {
     "name": "stdout",
     "output_type": "stream",
     "text": [
      "{3, 4}\n"
     ]
    }
   ],
   "source": [
    "print(a.intersection(b))"
   ]
  },
  {
   "cell_type": "code",
   "execution_count": 93,
   "id": "a783a6dc-2ee1-44e5-81b0-3b80484dfc5f",
   "metadata": {},
   "outputs": [
    {
     "name": "stdout",
     "output_type": "stream",
     "text": [
      "{1, 2, 3, 4, 5, 6}\n"
     ]
    }
   ],
   "source": [
    "print(a.union(b))"
   ]
  },
  {
   "cell_type": "code",
   "execution_count": 94,
   "id": "018b4f08-f210-4d51-a78a-26479f87c1f6",
   "metadata": {},
   "outputs": [
    {
     "name": "stdout",
     "output_type": "stream",
     "text": [
      "{1, 2}\n"
     ]
    }
   ],
   "source": [
    "print(a.difference(b))"
   ]
  },
  {
   "cell_type": "code",
   "execution_count": 95,
   "id": "5c274674-6cac-4830-b858-34eee18ed0f1",
   "metadata": {},
   "outputs": [
    {
     "name": "stdout",
     "output_type": "stream",
     "text": [
      "{1, 2, 5, 6}\n"
     ]
    }
   ],
   "source": [
    "print(a.symmetric_difference(b))\n"
   ]
  },
  {
   "cell_type": "code",
   "execution_count": 96,
   "id": "1d2c4bfd-ab88-4563-bbeb-14dd5bbd779d",
   "metadata": {},
   "outputs": [
    {
     "data": {
      "text/plain": [
       "{3, 4}"
      ]
     },
     "execution_count": 96,
     "metadata": {},
     "output_type": "execute_result"
    }
   ],
   "source": [
    "a.intersection_update(b)\n",
    "a\n"
   ]
  },
  {
   "cell_type": "code",
   "execution_count": 98,
   "id": "9e577668-fa0e-4e78-9efe-39c18284e864",
   "metadata": {},
   "outputs": [
    {
     "data": {
      "text/plain": [
       "{3, 4, 5, 6}"
      ]
     },
     "execution_count": 98,
     "metadata": {},
     "output_type": "execute_result"
    }
   ],
   "source": [
    "b\n"
   ]
  },
  {
   "cell_type": "code",
   "execution_count": 99,
   "id": "7d9c2a02-7bee-4891-8a8f-2a7e63e0f8c6",
   "metadata": {},
   "outputs": [
    {
     "data": {
      "text/plain": [
       "True"
      ]
     },
     "execution_count": 99,
     "metadata": {},
     "output_type": "execute_result"
    }
   ],
   "source": [
    "a.issubset(b)"
   ]
  },
  {
   "cell_type": "markdown",
   "id": "07653885-0eb9-42fc-8f7a-b630d5d9e2aa",
   "metadata": {},
   "source": [
    "**Set does not contain duplicate value**"
   ]
  },
  {
   "cell_type": "code",
   "execution_count": 100,
   "id": "a3c4a57a-7f99-4509-a7ee-1bf3d2282d0e",
   "metadata": {},
   "outputs": [
    {
     "name": "stdout",
     "output_type": "stream",
     "text": [
      "5\n"
     ]
    }
   ],
   "source": [
    "c = {1,2,3,5,4,2,3,1}\n",
    "print(len(c))"
   ]
  },
  {
   "cell_type": "code",
   "execution_count": null,
   "id": "05dff583-6a5b-4a81-8d31-84060582adc7",
   "metadata": {},
   "outputs": [],
   "source": []
  }
 ],
 "metadata": {
  "kernelspec": {
   "display_name": "Python 3 (ipykernel)",
   "language": "python",
   "name": "python3"
  },
  "language_info": {
   "codemirror_mode": {
    "name": "ipython",
    "version": 3
   },
   "file_extension": ".py",
   "mimetype": "text/x-python",
   "name": "python",
   "nbconvert_exporter": "python",
   "pygments_lexer": "ipython3",
   "version": "3.11.4"
  }
 },
 "nbformat": 4,
 "nbformat_minor": 5
}
