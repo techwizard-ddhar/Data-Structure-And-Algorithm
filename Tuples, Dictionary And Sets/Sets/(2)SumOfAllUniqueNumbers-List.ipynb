{
 "cells": [
  {
   "cell_type": "markdown",
   "id": "fda05aa5-486b-4f1f-ac97-9e017e86c9ab",
   "metadata": {},
   "source": [
    "**Create an empty string --> s = set()**"
   ]
  },
  {
   "cell_type": "code",
   "execution_count": 12,
   "id": "2ebfe631-9dab-4763-889c-0e39b0dfadc3",
   "metadata": {},
   "outputs": [
    {
     "name": "stdout",
     "output_type": "stream",
     "text": [
      "Sum of all unique number:  10\n"
     ]
    }
   ],
   "source": [
    "def sum_unique(ans):\n",
    "    sum = 0\n",
    "    for w in ans:\n",
    "        sum += w\n",
    "    print(\"Sum of all unique number: \", sum)\n",
    "\n",
    "def unique():\n",
    "    s = set()\n",
    "    li = [1,2,1,3,2,4,3]\n",
    "    for ele in li:\n",
    "        s.add(ele)\n",
    "    return s\n",
    "\n",
    "ans = unique()\n",
    "sum_unique(ans)"
   ]
  },
  {
   "cell_type": "code",
   "execution_count": null,
   "id": "418c7e8e-576d-4084-b9ed-d1917e5fbd27",
   "metadata": {},
   "outputs": [],
   "source": []
  }
 ],
 "metadata": {
  "kernelspec": {
   "display_name": "Python 3 (ipykernel)",
   "language": "python",
   "name": "python3"
  },
  "language_info": {
   "codemirror_mode": {
    "name": "ipython",
    "version": 3
   },
   "file_extension": ".py",
   "mimetype": "text/x-python",
   "name": "python",
   "nbconvert_exporter": "python",
   "pygments_lexer": "ipython3",
   "version": "3.11.4"
  }
 },
 "nbformat": 4,
 "nbformat_minor": 5
}
