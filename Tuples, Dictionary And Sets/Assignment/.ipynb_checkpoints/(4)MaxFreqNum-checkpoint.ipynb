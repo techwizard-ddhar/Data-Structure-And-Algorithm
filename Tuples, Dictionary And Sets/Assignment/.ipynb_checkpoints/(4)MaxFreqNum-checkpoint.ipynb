{
 "cells": [
  {
   "cell_type": "code",
   "execution_count": 5,
   "id": "41c1b55e-8fc1-4804-b7a1-9804c7d23cc4",
   "metadata": {},
   "outputs": [
    {
     "name": "stdout",
     "output_type": "stream",
     "text": [
      "{2: 6, 12: 3, 11: 2, 1: 1, 6: 1}\n"
     ]
    },
    {
     "data": {
      "text/plain": [
       "2"
      ]
     },
     "execution_count": 5,
     "metadata": {},
     "output_type": "execute_result"
    }
   ],
   "source": [
    "str = [2,12,2,11,12,2,1,2,2,11,12,2,6]\n",
    "str = [ele for ele in str ]\n",
    "\n",
    "def run(characters):\n",
    "    dic = {}\n",
    "    for ele in str:\n",
    "        if(ele in dic):\n",
    "            dic[ele] = dic[ele]+1\n",
    "        else:\n",
    "            dic[ele] = 1\n",
    "    print(dic)\n",
    "    for w in dic:\n",
    "        num = 0\n",
    "        if(num < dic[w]):\n",
    "            num = w\n",
    "        return num\n",
    "\n",
    "ans = run(str)\n",
    "ans"
   ]
  },
  {
   "cell_type": "code",
   "execution_count": null,
   "id": "2c4270c1-75d9-40a2-9158-6242d918daf7",
   "metadata": {},
   "outputs": [],
   "source": []
  }
 ],
 "metadata": {
  "kernelspec": {
   "display_name": "Python 3 (ipykernel)",
   "language": "python",
   "name": "python3"
  },
  "language_info": {
   "codemirror_mode": {
    "name": "ipython",
    "version": 3
   },
   "file_extension": ".py",
   "mimetype": "text/x-python",
   "name": "python",
   "nbconvert_exporter": "python",
   "pygments_lexer": "ipython3",
   "version": "3.11.4"
  }
 },
 "nbformat": 4,
 "nbformat_minor": 5
}
