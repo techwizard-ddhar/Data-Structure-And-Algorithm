{
 "cells": [
  {
   "cell_type": "markdown",
   "id": "95077e75-d2b3-4b0b-ba26-0d96699e9368",
   "metadata": {},
   "source": [
    "**Set is not possible since the elements are not in order ,** \n",
    "We **can use dictionary because it the ele is not present in dic we can add it, \n",
    "but if the ele is already present the values will not be updated**"
   ]
  },
  {
   "cell_type": "code",
   "execution_count": 22,
   "id": "8cf83a64-36d8-4a1b-881e-21b52aa5d66f",
   "metadata": {},
   "outputs": [
    {
     "name": "stdout",
     "output_type": "stream",
     "text": [
      "abcd"
     ]
    }
   ],
   "source": [
    "def output(dic):\n",
    "    for w in dic:\n",
    "        print(w,end='')\n",
    "        \n",
    "def unique_char(character):\n",
    "    dic = {}\n",
    "    for ele in character:\n",
    "        if(ele not in dic):\n",
    "            dic[ele]=True\n",
    "    return dic\n",
    "            \n",
    "\n",
    "def str_gen():\n",
    "    str = 'ababacd'\n",
    "    character = [ele for ele in str]\n",
    "    return character\n",
    "\n",
    "ans_1 = str_gen()\n",
    "ans_2 = unique_char(ans_1)\n",
    "ans_3 = output(ans_2)\n"
   ]
  },
  {
   "cell_type": "code",
   "execution_count": null,
   "id": "ddc45d24-47bc-45e8-8136-80f622495265",
   "metadata": {},
   "outputs": [],
   "source": []
  }
 ],
 "metadata": {
  "kernelspec": {
   "display_name": "Python 3 (ipykernel)",
   "language": "python",
   "name": "python3"
  },
  "language_info": {
   "codemirror_mode": {
    "name": "ipython",
    "version": 3
   },
   "file_extension": ".py",
   "mimetype": "text/x-python",
   "name": "python",
   "nbconvert_exporter": "python",
   "pygments_lexer": "ipython3",
   "version": "3.11.4"
  }
 },
 "nbformat": 4,
 "nbformat_minor": 5
}
