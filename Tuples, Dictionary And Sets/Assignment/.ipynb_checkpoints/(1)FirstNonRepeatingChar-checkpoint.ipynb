{
 "cells": [
  {
   "cell_type": "code",
   "execution_count": 23,
   "id": "54fb06bb-5ee0-4d3f-8599-94e39ffe862a",
   "metadata": {},
   "outputs": [
    {
     "name": "stdout",
     "output_type": "stream",
     "text": [
      "['g', 'd', 'h', 'l', 'g', 'H', 'a', 'd', 'a']\n",
      "{'g': 2, 'd': 2, 'h': 1, 'l': 1, 'H': 1, 'a': 2}\n",
      "It will give me non-repeated char: h\n",
      "It will give me non-repeated char: l\n",
      "It will give me non-repeated char: H\n"
     ]
    }
   ],
   "source": [
    "str = 'gdhlgHada'\n",
    "\n",
    "# Split the string into individual characters and store them in a list\n",
    "characters = [char for char in str]\n",
    "print(characters)\n",
    "\n",
    "def run(characters):\n",
    "    dic = {}\n",
    "    for ele in characters:\n",
    "        if(ele in dic):\n",
    "            dic[ele] = dic[ele]+1\n",
    "        else:\n",
    "            dic[ele] = 1\n",
    "    print(dic)\n",
    "    for w in dic:\n",
    "        if(dic[w] == 1):\n",
    "           print(\"It will give me non-repeated char:\", w)\n",
    "           \n",
    "\n",
    "ans = run(characters)\n",
    "ans"
   ]
  },
  {
   "cell_type": "code",
   "execution_count": 24,
   "id": "e982826e-56f2-4357-a7d7-853c1b81e4f3",
   "metadata": {},
   "outputs": [
    {
     "name": "stdout",
     "output_type": "stream",
     "text": [
      "['g', 'd', 'h', 'l', 'g', 'H', 'a', 'd', 'a']\n",
      "{'g': 2, 'd': 2, 'h': 1, 'l': 1, 'H': 1, 'a': 2}\n"
     ]
    },
    {
     "data": {
      "text/plain": [
       "'h'"
      ]
     },
     "execution_count": 24,
     "metadata": {},
     "output_type": "execute_result"
    }
   ],
   "source": [
    "str = 'gdhlgHada'\n",
    "\n",
    "# Split the string into individual characters and store them in a list\n",
    "characters = [char for char in str]\n",
    "print(characters)\n",
    "\n",
    "def run(characters):\n",
    "    dic = {}\n",
    "    for ele in characters:\n",
    "        if(ele in dic):\n",
    "            dic[ele] = dic[ele]+1\n",
    "        else:\n",
    "            dic[ele] = 1\n",
    "    print(dic)\n",
    "    for w in dic:\n",
    "        if(dic[w] == 1):\n",
    "           return w\n",
    "           \n",
    "\n",
    "ans = run(characters)\n",
    "ans"
   ]
  },
  {
   "cell_type": "code",
   "execution_count": null,
   "id": "1be0b232-fb08-46ba-916e-3f590f8cbf7e",
   "metadata": {},
   "outputs": [],
   "source": []
  }
 ],
 "metadata": {
  "kernelspec": {
   "display_name": "Python 3 (ipykernel)",
   "language": "python",
   "name": "python3"
  },
  "language_info": {
   "codemirror_mode": {
    "name": "ipython",
    "version": 3
   },
   "file_extension": ".py",
   "mimetype": "text/x-python",
   "name": "python",
   "nbconvert_exporter": "python",
   "pygments_lexer": "ipython3",
   "version": "3.11.4"
  }
 },
 "nbformat": 4,
 "nbformat_minor": 5
}
