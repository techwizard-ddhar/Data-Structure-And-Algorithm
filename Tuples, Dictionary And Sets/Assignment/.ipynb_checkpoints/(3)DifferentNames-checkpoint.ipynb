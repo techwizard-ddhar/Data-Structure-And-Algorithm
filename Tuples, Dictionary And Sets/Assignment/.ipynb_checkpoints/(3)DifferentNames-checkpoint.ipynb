{
 "cells": [
  {
   "cell_type": "code",
   "execution_count": 70,
   "id": "3cf3b445-cb9e-48af-9940-1a72bf9ec04c",
   "metadata": {},
   "outputs": [
    {
     "name": "stdin",
     "output_type": "stream",
     "text": [
      "Enter number of test cases:  2\n",
      "Enter String:  abhishek harshit ayush iti\n"
     ]
    },
    {
     "name": "stdout",
     "output_type": "stream",
     "text": [
      "The Given Dictionary is:  {'abhishek': 1, 'harshit': 1, 'ayush': 1, 'iti': 1}\n",
      "Duplicate_names:  {}\n",
      "Duplicate or not -1\n"
     ]
    },
    {
     "name": "stdin",
     "output_type": "stream",
     "text": [
      "Enter String:  abhishek harshit ayush harshit ayush iti deepak ayush iti\n"
     ]
    },
    {
     "name": "stdout",
     "output_type": "stream",
     "text": [
      "The Given Dictionary is:  {'abhishek': 1, 'harshit': 2, 'ayush': 3, 'iti': 2, 'deepak': 1}\n",
      "Duplicate_names:  {'harshit': 2, 'ayush': 3, 'iti': 2}\n",
      "Duplicate or not {'harshit': 2, 'ayush': 3, 'iti': 2}\n"
     ]
    }
   ],
   "source": [
    "def find(s):\n",
    "    for words in s:\n",
    "        if(s[words]>1):\n",
    "            return s\n",
    "    else:\n",
    "        return -1\n",
    "    \n",
    "    \n",
    "def fun(dic):\n",
    "    s = {}\n",
    "    for w in dic:\n",
    "        if(dic[w] != 1):\n",
    "           s[w] = dic[w]\n",
    "    return s\n",
    "    \n",
    "    \n",
    "def run(str):\n",
    "    s = {}\n",
    "    dic = {}\n",
    "    for ele in str:\n",
    "        if(ele in dic):\n",
    "            dic[ele] = dic[ele]+1\n",
    "        else:\n",
    "            dic[ele] = 1\n",
    "    return dic\n",
    "    \n",
    "def gen_str():\n",
    "    str = input(\"Enter String: \").split()\n",
    "    return str\n",
    "    \n",
    "num_test_cases = int(input(\"Enter number of test cases: \"))\n",
    "\n",
    "for i in range(num_test_cases):\n",
    "    \n",
    "    ans = gen_str()\n",
    "    \n",
    "    ans_1 = run(ans)\n",
    "    print(\"The Given Dictionary is: \", ans_1)\n",
    "\n",
    "    ans_2 = fun(ans_1)\n",
    "    print(\"Duplicate_names: \", ans_2)\n",
    "    \n",
    "    ans_3 = find(ans_2)\n",
    "    print(\"Duplicate or not\", ans_3)"
   ]
  },
  {
   "cell_type": "code",
   "execution_count": null,
   "id": "6dbf0e95-0321-4c3a-8258-12be63568506",
   "metadata": {},
   "outputs": [],
   "source": []
  }
 ],
 "metadata": {
  "kernelspec": {
   "display_name": "Python 3 (ipykernel)",
   "language": "python",
   "name": "python3"
  },
  "language_info": {
   "codemirror_mode": {
    "name": "ipython",
    "version": 3
   },
   "file_extension": ".py",
   "mimetype": "text/x-python",
   "name": "python",
   "nbconvert_exporter": "python",
   "pygments_lexer": "ipython3",
   "version": "3.11.4"
  }
 },
 "nbformat": 4,
 "nbformat_minor": 5
}
