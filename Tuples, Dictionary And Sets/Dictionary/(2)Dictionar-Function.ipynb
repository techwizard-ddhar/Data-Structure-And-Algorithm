{
 "cells": [
  {
   "cell_type": "code",
   "execution_count": 34,
   "id": "b28b96bb-94b0-42bb-8e0d-a9639078b6c5",
   "metadata": {},
   "outputs": [
    {
     "data": {
      "text/plain": [
       "{1: 2, 3: 4, 'list': [1, 23], 'dict': {1: 2}}"
      ]
     },
     "execution_count": 34,
     "metadata": {},
     "output_type": "execute_result"
    }
   ],
   "source": [
    "a = {1:2, 3:4, 'list': [1,23], 'dict': {1:2}}\n",
    "a"
   ]
  },
  {
   "cell_type": "markdown",
   "id": "a15f3c28-449b-42e2-bc2c-75e65a016d66",
   "metadata": {},
   "source": [
    "**There is No Indexing in dictionary**"
   ]
  },
  {
   "cell_type": "code",
   "execution_count": 2,
   "id": "d06ce5da-8c9f-4b31-8ca7-bc6af66b123e",
   "metadata": {},
   "outputs": [
    {
     "ename": "KeyError",
     "evalue": "0",
     "output_type": "error",
     "traceback": [
      "\u001b[1;31m---------------------------------------------------------------------------\u001b[0m",
      "\u001b[1;31mKeyError\u001b[0m                                  Traceback (most recent call last)",
      "Cell \u001b[1;32mIn[2], line 2\u001b[0m\n\u001b[0;32m      1\u001b[0m \u001b[38;5;66;03m# There is No Indexing in dictionary\u001b[39;00m\n\u001b[1;32m----> 2\u001b[0m \u001b[43ma\u001b[49m\u001b[43m[\u001b[49m\u001b[38;5;241;43m0\u001b[39;49m\u001b[43m]\u001b[49m\n",
      "\u001b[1;31mKeyError\u001b[0m: 0"
     ]
    }
   ],
   "source": [
    "a[0]"
   ]
  },
  {
   "cell_type": "markdown",
   "id": "ae3f41cf-4887-488e-9768-43b7b8c2ce6f",
   "metadata": {},
   "source": [
    "**Instead provide keys value**"
   ]
  },
  {
   "cell_type": "code",
   "execution_count": 3,
   "id": "b6ac169a-6c8f-4133-b6f7-24ba08d4e53c",
   "metadata": {},
   "outputs": [
    {
     "data": {
      "text/plain": [
       "[1, 23]"
      ]
     },
     "execution_count": 3,
     "metadata": {},
     "output_type": "execute_result"
    }
   ],
   "source": [
    "a['list']"
   ]
  },
  {
   "cell_type": "markdown",
   "id": "210fecf0-1744-4cc0-8fd5-28acdbba4518",
   "metadata": {},
   "source": [
    "**Both [] and get() works same, but in case the keys are not present [] will give an error**\n",
    "**whereas get() will give None as default value**"
   ]
  },
  {
   "cell_type": "code",
   "execution_count": 4,
   "id": "be0fcad1-51a8-453e-a221-590b6451ec37",
   "metadata": {},
   "outputs": [
    {
     "data": {
      "text/plain": [
       "{1: 2}"
      ]
     },
     "execution_count": 4,
     "metadata": {},
     "output_type": "execute_result"
    }
   ],
   "source": [
    "a.get('dict')"
   ]
  },
  {
   "cell_type": "code",
   "execution_count": 5,
   "id": "d9d8ded6-7e21-4656-825a-61c0ae8a65f1",
   "metadata": {},
   "outputs": [],
   "source": [
    "a.get('li')"
   ]
  },
  {
   "cell_type": "code",
   "execution_count": 7,
   "id": "2b1998af-98d4-420e-9de3-0256280aa17d",
   "metadata": {},
   "outputs": [
    {
     "name": "stdout",
     "output_type": "stream",
     "text": [
      "None\n"
     ]
    }
   ],
   "source": [
    "print(a.get('li'))"
   ]
  },
  {
   "cell_type": "markdown",
   "id": "79876010-c335-4668-b16d-050b2eb19f65",
   "metadata": {},
   "source": [
    "**if you want to give specific value instead of None**"
   ]
  },
  {
   "cell_type": "code",
   "execution_count": 9,
   "id": "ac79f7de-721d-4169-836a-26947cf7888c",
   "metadata": {},
   "outputs": [
    {
     "name": "stdout",
     "output_type": "stream",
     "text": [
      "0\n"
     ]
    }
   ],
   "source": [
    "print(a.get('li',0))"
   ]
  },
  {
   "cell_type": "markdown",
   "id": "c8ca876f-e07f-427f-8b55-11fcc4b9fe90",
   "metadata": {},
   "source": [
    "**this fun will give me all keys**"
   ]
  },
  {
   "cell_type": "code",
   "execution_count": 10,
   "id": "ef5e18bc-7128-4f99-97b0-cc46d89450da",
   "metadata": {},
   "outputs": [
    {
     "data": {
      "text/plain": [
       "dict_keys([1, 3, 'list', 'dict'])"
      ]
     },
     "execution_count": 10,
     "metadata": {},
     "output_type": "execute_result"
    }
   ],
   "source": [
    "a.keys()"
   ]
  },
  {
   "cell_type": "markdown",
   "id": "5083405b-444e-482b-9b38-c4ec43cb6efb",
   "metadata": {},
   "source": [
    "**this fun will give me all values**"
   ]
  },
  {
   "cell_type": "code",
   "execution_count": 11,
   "id": "7b84e59e-5405-43c8-b601-1a88e0c23182",
   "metadata": {},
   "outputs": [
    {
     "data": {
      "text/plain": [
       "dict_values([2, 4, [1, 23], {1: 2}])"
      ]
     },
     "execution_count": 11,
     "metadata": {},
     "output_type": "execute_result"
    }
   ],
   "source": [
    "a.values()"
   ]
  },
  {
   "cell_type": "markdown",
   "id": "1b4983f2-9a54-48cf-baa1-1412e8e42f8e",
   "metadata": {},
   "source": [
    "**using For Loops**"
   ]
  },
  {
   "cell_type": "code",
   "execution_count": 14,
   "id": "b143b188-bff2-4e9f-9735-5e3ebab753e2",
   "metadata": {},
   "outputs": [
    {
     "name": "stdout",
     "output_type": "stream",
     "text": [
      "1 2\n",
      "3 4\n",
      "list [1, 23]\n",
      "dict {1: 2}\n"
     ]
    }
   ],
   "source": [
    "for ele in a:\n",
    "    print(ele, a[ele])"
   ]
  },
  {
   "cell_type": "code",
   "execution_count": 15,
   "id": "adb36b92-fe7d-4aa9-8511-157e7909fbd8",
   "metadata": {},
   "outputs": [
    {
     "name": "stdout",
     "output_type": "stream",
     "text": [
      "2\n",
      "4\n",
      "[1, 23]\n",
      "{1: 2}\n"
     ]
    }
   ],
   "source": [
    "for i in a.values():\n",
    "    print(i)"
   ]
  },
  {
   "cell_type": "code",
   "execution_count": 17,
   "id": "d40fb088-c27e-4fa2-b9f0-058b0991ce71",
   "metadata": {},
   "outputs": [
    {
     "name": "stdout",
     "output_type": "stream",
     "text": [
      "1\n",
      "3\n",
      "list\n",
      "dict\n"
     ]
    }
   ],
   "source": [
    "for j in a.keys():\n",
    "    print(j)"
   ]
  },
  {
   "cell_type": "markdown",
   "id": "f1c708d7-8429-4c61-a76e-0429aaa27e71",
   "metadata": {},
   "source": [
    "**By Default it will give me keys**"
   ]
  },
  {
   "cell_type": "code",
   "execution_count": 19,
   "id": "31f842fb-8fda-4b99-a7fd-47c2fe662f05",
   "metadata": {},
   "outputs": [
    {
     "name": "stdout",
     "output_type": "stream",
     "text": [
      "1\n",
      "3\n",
      "list\n",
      "dict\n"
     ]
    }
   ],
   "source": [
    "for k in a:\n",
    "    print(k)"
   ]
  },
  {
   "cell_type": "markdown",
   "id": "8fd2dd5c-0967-40a5-bc81-07aad8054a7a",
   "metadata": {},
   "source": [
    "**If a key exist in dictionary or not**"
   ]
  },
  {
   "cell_type": "code",
   "execution_count": 27,
   "id": "d2b14392-866a-4144-9c12-333f80e95818",
   "metadata": {},
   "outputs": [
    {
     "data": {
      "text/plain": [
       "True"
      ]
     },
     "execution_count": 27,
     "metadata": {},
     "output_type": "execute_result"
    }
   ],
   "source": [
    "'list' in a"
   ]
  },
  {
   "cell_type": "code",
   "execution_count": 22,
   "id": "76847257-cf4e-4184-982e-c49feee5ec5a",
   "metadata": {},
   "outputs": [
    {
     "data": {
      "text/plain": [
       "False"
      ]
     },
     "execution_count": 22,
     "metadata": {},
     "output_type": "execute_result"
    }
   ],
   "source": [
    "'li' in a"
   ]
  },
  {
   "cell_type": "markdown",
   "id": "57bcc393-7c2e-4479-966b-e277c29d66af",
   "metadata": {},
   "source": [
    "**Adding values in a dictionary**"
   ]
  },
  {
   "cell_type": "code",
   "execution_count": 35,
   "id": "54b6c236-2a78-4123-8fb9-a0638b61a0ce",
   "metadata": {},
   "outputs": [
    {
     "ename": "AttributeError",
     "evalue": "'dict' object has no attribute 'add'",
     "output_type": "error",
     "traceback": [
      "\u001b[1;31m---------------------------------------------------------------------------\u001b[0m",
      "\u001b[1;31mAttributeError\u001b[0m                            Traceback (most recent call last)",
      "Cell \u001b[1;32mIn[35], line 1\u001b[0m\n\u001b[1;32m----> 1\u001b[0m \u001b[43ma\u001b[49m\u001b[38;5;241;43m.\u001b[39;49m\u001b[43madd\u001b[49m(\u001b[38;5;241m5\u001b[39m)\n\u001b[0;32m      2\u001b[0m a\n",
      "\u001b[1;31mAttributeError\u001b[0m: 'dict' object has no attribute 'add'"
     ]
    }
   ],
   "source": [
    "a.add(5)\n",
    "a"
   ]
  },
  {
   "cell_type": "code",
   "execution_count": 24,
   "id": "da670e0e-ffe9-462d-b080-e713f0e044f7",
   "metadata": {},
   "outputs": [],
   "source": [
    "a['tuples'] = (4,6,1)"
   ]
  },
  {
   "cell_type": "code",
   "execution_count": 25,
   "id": "6fc8336c-a914-4948-9de0-73b22041b45f",
   "metadata": {},
   "outputs": [
    {
     "data": {
      "text/plain": [
       "{1: 2, 3: 4, 'list': [1, 23], 'dict': {1: 2}, 'tuples': (4, 6, 1)}"
      ]
     },
     "execution_count": 25,
     "metadata": {},
     "output_type": "execute_result"
    }
   ],
   "source": [
    "a"
   ]
  },
  {
   "cell_type": "markdown",
   "id": "9668ac4a-4734-4aa0-9abc-14b38ee40ea5",
   "metadata": {},
   "source": [
    "**Updating values**"
   ]
  },
  {
   "cell_type": "code",
   "execution_count": 30,
   "id": "024d6a3a-0ca3-4b9e-8183-f8b11f42d971",
   "metadata": {},
   "outputs": [],
   "source": [
    "a[1]='Pincode'"
   ]
  },
  {
   "cell_type": "code",
   "execution_count": 31,
   "id": "d4c1ae82-eb58-403d-869e-2999519ffcdb",
   "metadata": {},
   "outputs": [
    {
     "data": {
      "text/plain": [
       "{1: 'Pincode', 3: 4, 'list': [1, 23], 'dict': {1: 2}, 'tuples': (4, 6, 1)}"
      ]
     },
     "execution_count": 31,
     "metadata": {},
     "output_type": "execute_result"
    }
   ],
   "source": [
    "a"
   ]
  },
  {
   "cell_type": "markdown",
   "id": "ef12fcc8-9889-4096-b800-2d7826650a9d",
   "metadata": {},
   "source": [
    "**Update Fun**"
   ]
  },
  {
   "cell_type": "markdown",
   "id": "7fa2e838-5188-4794-81e2-b4aff8605945",
   "metadata": {},
   "source": [
    "**common values will be updated and new values will be added**"
   ]
  },
  {
   "cell_type": "code",
   "execution_count": 32,
   "id": "81c29577-8c14-4bf7-ab9c-e3cbc65ac955",
   "metadata": {},
   "outputs": [
    {
     "data": {
      "text/plain": [
       "{1: 'Pincode',\n",
       " 3: 10,\n",
       " 'list': [1, 23],\n",
       " 'dict': {1: 2},\n",
       " 'tuples': (4, 6, 1),\n",
       " 'state': 'Goa'}"
      ]
     },
     "execution_count": 32,
     "metadata": {},
     "output_type": "execute_result"
    }
   ],
   "source": [
    "b = {3:10, 'state':'Goa'}\n",
    "a.update(b)\n",
    "a"
   ]
  },
  {
   "cell_type": "markdown",
   "id": "9c10e263-fdc2-4116-bc61-f13c2b902368",
   "metadata": {},
   "source": [
    "**Delete**"
   ]
  },
  {
   "cell_type": "markdown",
   "id": "e4eb976b-8e95-4c5a-a2c4-386e525f39e6",
   "metadata": {},
   "source": [
    "**it will give the value of deleted key**"
   ]
  },
  {
   "cell_type": "code",
   "execution_count": 33,
   "id": "9cbe5401-5b7f-4844-a918-ab6e9dfb63d2",
   "metadata": {},
   "outputs": [
    {
     "data": {
      "text/plain": [
       "[1, 23]"
      ]
     },
     "execution_count": 33,
     "metadata": {},
     "output_type": "execute_result"
    }
   ],
   "source": [
    "a.pop('list')"
   ]
  },
  {
   "cell_type": "code",
   "execution_count": null,
   "id": "7e112a37-6de0-44e4-9289-589141dd5e30",
   "metadata": {},
   "outputs": [],
   "source": []
  }
 ],
 "metadata": {
  "kernelspec": {
   "display_name": "Python 3 (ipykernel)",
   "language": "python",
   "name": "python3"
  },
  "language_info": {
   "codemirror_mode": {
    "name": "ipython",
    "version": 3
   },
   "file_extension": ".py",
   "mimetype": "text/x-python",
   "name": "python",
   "nbconvert_exporter": "python",
   "pygments_lexer": "ipython3",
   "version": "3.11.4"
  }
 },
 "nbformat": 4,
 "nbformat_minor": 5
}
