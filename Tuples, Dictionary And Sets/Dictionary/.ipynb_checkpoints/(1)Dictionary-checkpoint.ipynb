{
 "cells": [
  {
   "cell_type": "code",
   "execution_count": 9,
   "id": "310c954a-9d7d-4414-8198-4cd47b8b0be9",
   "metadata": {},
   "outputs": [
    {
     "data": {
      "text/plain": [
       "{'Name': 'Debanjan', 'Age': 20, 'is_adult': True}"
      ]
     },
     "execution_count": 9,
     "metadata": {},
     "output_type": "execute_result"
    }
   ],
   "source": [
    "dicton = {'Name': 'Debanjan', 'Age': 20, 'is_adult': True}\n",
    "dicton"
   ]
  },
  {
   "cell_type": "code",
   "execution_count": 10,
   "id": "afd0bf6a-4a0f-43be-aaaa-e0689d1f4d16",
   "metadata": {},
   "outputs": [
    {
     "data": {
      "text/plain": [
       "3"
      ]
     },
     "execution_count": 10,
     "metadata": {},
     "output_type": "execute_result"
    }
   ],
   "source": [
    "len(dicton)"
   ]
  },
  {
   "cell_type": "code",
   "execution_count": 3,
   "id": "9463abfb-42d2-4106-96d7-a32ddc2c2d9e",
   "metadata": {},
   "outputs": [
    {
     "data": {
      "text/plain": [
       "{'Name': 'Debanjan', 'Age': 20, 'is_adult': True}"
      ]
     },
     "execution_count": 3,
     "metadata": {},
     "output_type": "execute_result"
    }
   ],
   "source": [
    "#Copy\n",
    "\n",
    "a = dict.copy()\n",
    "a"
   ]
  },
  {
   "cell_type": "code",
   "execution_count": 18,
   "id": "593f5ff7-0d59-4dfb-8c44-9f8e6eac6554",
   "metadata": {},
   "outputs": [],
   "source": [
    "# By Default it will takes all the values as None\n",
    "\n",
    "d = dict.fromkeys(['Country', 'Language'])"
   ]
  },
  {
   "cell_type": "code",
   "execution_count": 19,
   "id": "afb4d857-b686-4be2-805d-9dd1dbeb0ff8",
   "metadata": {},
   "outputs": [
    {
     "data": {
      "text/plain": [
       "{'Country': None, 'Language': None}"
      ]
     },
     "execution_count": 19,
     "metadata": {},
     "output_type": "execute_result"
    }
   ],
   "source": [
    "d"
   ]
  },
  {
   "cell_type": "code",
   "execution_count": 20,
   "id": "affaa996-40e1-4259-b0c4-3270e3ae0347",
   "metadata": {},
   "outputs": [
    {
     "data": {
      "text/plain": [
       "{'Country': 'Hindi', 'Language': 'Hindi'}"
      ]
     },
     "execution_count": 20,
     "metadata": {},
     "output_type": "execute_result"
    }
   ],
   "source": [
    "# Create a dictionary with multiple keys and all keys have same value\n",
    "\n",
    "d1 = dict.fromkeys(['Country', 'Language'],'Hindi')\n",
    "d1"
   ]
  },
  {
   "cell_type": "code",
   "execution_count": null,
   "id": "e181fe00-ab73-412c-8bad-6c2568cc40e8",
   "metadata": {},
   "outputs": [],
   "source": []
  }
 ],
 "metadata": {
  "kernelspec": {
   "display_name": "Python 3 (ipykernel)",
   "language": "python",
   "name": "python3"
  },
  "language_info": {
   "codemirror_mode": {
    "name": "ipython",
    "version": 3
   },
   "file_extension": ".py",
   "mimetype": "text/x-python",
   "name": "python",
   "nbconvert_exporter": "python",
   "pygments_lexer": "ipython3",
   "version": "3.11.4"
  }
 },
 "nbformat": 4,
 "nbformat_minor": 5
}
