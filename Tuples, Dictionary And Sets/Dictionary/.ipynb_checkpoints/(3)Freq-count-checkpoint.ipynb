{
 "cells": [
  {
   "cell_type": "code",
   "execution_count": 13,
   "id": "5f77825d-0237-488a-9efd-2dfe72a584b2",
   "metadata": {},
   "outputs": [
    {
     "name": "stdin",
     "output_type": "stream",
     "text": [
      "Enter the string:  this is a word string having many many word\n",
      "Enter number of frequency:  2\n"
     ]
    },
    {
     "name": "stdout",
     "output_type": "stream",
     "text": [
      "word\n",
      "many\n"
     ]
    }
   ],
   "source": [
    "def create_str(input_str):\n",
    "    dic = {}\n",
    "    for s in input_str:\n",
    "        if s in dic:\n",
    "            dic[s] = dic[s] + 1\n",
    "        else:\n",
    "            dic[s] = 1\n",
    "    return dic\n",
    "\n",
    "def freq(str_dic, k):\n",
    "    for w in str_dic:\n",
    "        if str_dic[w] == k:\n",
    "            print(w)\n",
    "\n",
    "input_str = input('Enter the string: ').split()\n",
    "num = int(input('Enter number of frequency: '))\n",
    "ans_1 = create_str(input_str)\n",
    "freq(ans_1, num)\n"
   ]
  },
  {
   "cell_type": "code",
   "execution_count": 15,
   "id": "a57d2486-10a1-45de-af72-e187ebc8351f",
   "metadata": {},
   "outputs": [
    {
     "data": {
      "text/plain": [
       "['this', 'is', 'a', 'word', 'string', 'having', 'many', 'many', 'word']"
      ]
     },
     "execution_count": 15,
     "metadata": {},
     "output_type": "execute_result"
    }
   ],
   "source": [
    "t = 'this is a word string having many many word'\n",
    "t = t.split()\n",
    "t"
   ]
  },
  {
   "cell_type": "code",
   "execution_count": 16,
   "id": "33329cb3-e455-457f-94d6-62d5e75f1899",
   "metadata": {},
   "outputs": [
    {
     "name": "stdout",
     "output_type": "stream",
     "text": [
      "{'this': 1, 'is': 1, 'a': 1, 'word': 2, 'string': 1, 'having': 1, 'many': 2}\n"
     ]
    }
   ],
   "source": [
    "dic = {}\n",
    "for s in t:\n",
    "        if s in dic:\n",
    "            dic[s] = dic[s] + 1\n",
    "        else:\n",
    "            dic[s] = 1\n",
    "print(dic)"
   ]
  },
  {
   "cell_type": "code",
   "execution_count": null,
   "id": "9d7705f2-f512-4efb-914a-5b15fc8d7cd9",
   "metadata": {},
   "outputs": [],
   "source": []
  }
 ],
 "metadata": {
  "kernelspec": {
   "display_name": "Python 3 (ipykernel)",
   "language": "python",
   "name": "python3"
  },
  "language_info": {
   "codemirror_mode": {
    "name": "ipython",
    "version": 3
   },
   "file_extension": ".py",
   "mimetype": "text/x-python",
   "name": "python",
   "nbconvert_exporter": "python",
   "pygments_lexer": "ipython3",
   "version": "3.11.4"
  }
 },
 "nbformat": 4,
 "nbformat_minor": 5
}
