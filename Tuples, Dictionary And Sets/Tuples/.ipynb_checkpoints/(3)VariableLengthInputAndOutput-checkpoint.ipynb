{
 "cells": [
  {
   "cell_type": "code",
   "execution_count": 1,
   "id": "0038856f-2719-4000-b808-bdc77e20fb13",
   "metadata": {},
   "outputs": [],
   "source": [
    "def sum(a,b, *more): # more is an empty tuples\n",
    "    print(a)\n",
    "    print(b)\n",
    "    print(more)"
   ]
  },
  {
   "cell_type": "code",
   "execution_count": 2,
   "id": "64a0bbcb-437a-4a26-9fa2-c89c1943f10c",
   "metadata": {},
   "outputs": [
    {
     "name": "stdout",
     "output_type": "stream",
     "text": [
      "2\n",
      "3\n",
      "()\n"
     ]
    }
   ],
   "source": [
    "sum(2,3)"
   ]
  },
  {
   "cell_type": "code",
   "execution_count": 3,
   "id": "5e8c4e57-26f7-488c-9bb6-456e2f42f1a1",
   "metadata": {},
   "outputs": [],
   "source": [
    "def sum2(a,b, *more): # minimum 2 arguments are required\n",
    "    print(a)\n",
    "    print(b)\n",
    "    print(more)"
   ]
  },
  {
   "cell_type": "code",
   "execution_count": 4,
   "id": "130a70d7-5daf-47f6-a9b3-7a30c2334864",
   "metadata": {},
   "outputs": [
    {
     "ename": "TypeError",
     "evalue": "sum2() missing 1 required positional argument: 'b'",
     "output_type": "error",
     "traceback": [
      "\u001b[1;31m---------------------------------------------------------------------------\u001b[0m",
      "\u001b[1;31mTypeError\u001b[0m                                 Traceback (most recent call last)",
      "Cell \u001b[1;32mIn[4], line 1\u001b[0m\n\u001b[1;32m----> 1\u001b[0m \u001b[43msum2\u001b[49m\u001b[43m(\u001b[49m\u001b[38;5;241;43m4\u001b[39;49m\u001b[43m)\u001b[49m\n",
      "\u001b[1;31mTypeError\u001b[0m: sum2() missing 1 required positional argument: 'b'"
     ]
    }
   ],
   "source": [
    "sum2(4)"
   ]
  },
  {
   "cell_type": "code",
   "execution_count": 7,
   "id": "4375b55d-1cc7-4404-8500-95b069a7e1c7",
   "metadata": {},
   "outputs": [],
   "source": [
    "#The rest elements are stored in empty tuples\n",
    "\n",
    "def sum3(a,b, *more): \n",
    "    print(a)\n",
    "    print(b)\n",
    "    print(more)\n",
    "    ans = a + b\n",
    "    for ele in more:\n",
    "        ans += ele\n",
    "    return ans"
   ]
  },
  {
   "cell_type": "code",
   "execution_count": 8,
   "id": "87b2ed67-1717-4052-828a-632b1a069ed6",
   "metadata": {},
   "outputs": [
    {
     "name": "stdout",
     "output_type": "stream",
     "text": [
      "4\n",
      "5\n",
      "(6, 7)\n"
     ]
    },
    {
     "data": {
      "text/plain": [
       "22"
      ]
     },
     "execution_count": 8,
     "metadata": {},
     "output_type": "execute_result"
    }
   ],
   "source": [
    "sum3(4,5,6,7)\n"
   ]
  },
  {
   "cell_type": "code",
   "execution_count": 9,
   "id": "980e6c57-696e-4bde-8f3c-f56ca9cd8f1d",
   "metadata": {},
   "outputs": [],
   "source": [
    "def fun(a,b):\n",
    "    return a+b, a-b, a*b"
   ]
  },
  {
   "cell_type": "code",
   "execution_count": 12,
   "id": "4f22e4f3-82d9-4ef9-8fa2-be4facc6f133",
   "metadata": {},
   "outputs": [
    {
     "name": "stdout",
     "output_type": "stream",
     "text": [
      "7\n",
      "3\n",
      "10\n"
     ]
    }
   ],
   "source": [
    "c,d,e = fun(5,2)\n",
    "print(c)\n",
    "print(d)\n",
    "print(e)"
   ]
  },
  {
   "cell_type": "code",
   "execution_count": 14,
   "id": "663cf5bd-36f0-4f15-bd2b-d7e79141eb60",
   "metadata": {},
   "outputs": [
    {
     "data": {
      "text/plain": [
       "(9, 3, 18)"
      ]
     },
     "execution_count": 14,
     "metadata": {},
     "output_type": "execute_result"
    }
   ],
   "source": [
    "#Variable Length Output\n",
    "\n",
    "f = fun(6,3) \n",
    "f"
   ]
  },
  {
   "cell_type": "code",
   "execution_count": null,
   "id": "0d5d7739-d132-49f4-84a9-e4559365b934",
   "metadata": {},
   "outputs": [],
   "source": []
  }
 ],
 "metadata": {
  "kernelspec": {
   "display_name": "Python 3 (ipykernel)",
   "language": "python",
   "name": "python3"
  },
  "language_info": {
   "codemirror_mode": {
    "name": "ipython",
    "version": 3
   },
   "file_extension": ".py",
   "mimetype": "text/x-python",
   "name": "python",
   "nbconvert_exporter": "python",
   "pygments_lexer": "ipython3",
   "version": "3.11.4"
  }
 },
 "nbformat": 4,
 "nbformat_minor": 5
}
