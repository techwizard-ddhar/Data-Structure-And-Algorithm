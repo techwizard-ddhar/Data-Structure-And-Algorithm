{
 "cells": [
  {
   "cell_type": "code",
   "execution_count": 4,
   "id": "c09f138e-99fc-4314-9f1f-53ed2f013a1a",
   "metadata": {},
   "outputs": [
    {
     "name": "stdout",
     "output_type": "stream",
     "text": [
      "11\n"
     ]
    }
   ],
   "source": [
    "def RBSearch(arr, l, h, key):\n",
    "    if(l == h):\n",
    "        if(arr[l] == key):\n",
    "            return l\n",
    "        else:\n",
    "            return 0\n",
    "    else:\n",
    "        mid = (l+h)//2\n",
    "        if(key == arr[mid]):\n",
    "            return mid\n",
    "        elif(key < arr[mid]):\n",
    "            return RBSearch(arr, l, mid-1, key)\n",
    "        else:\n",
    "            return RBSearch(arr, mid+1, h, key)\n",
    "\n",
    "arr = [3,6,8,12,14,17,25,29,31,36,42,47,53,55,62]\n",
    "h = len(arr)\n",
    "print(RBSearch(arr, 0, h, 47))"
   ]
  },
  {
   "cell_type": "code",
   "execution_count": null,
   "id": "35ec258b-b61d-4497-a7b7-d8d2fb845734",
   "metadata": {},
   "outputs": [],
   "source": []
  }
 ],
 "metadata": {
  "kernelspec": {
   "display_name": "Python 3 (ipykernel)",
   "language": "python",
   "name": "python3"
  },
  "language_info": {
   "codemirror_mode": {
    "name": "ipython",
    "version": 3
   },
   "file_extension": ".py",
   "mimetype": "text/x-python",
   "name": "python",
   "nbconvert_exporter": "python",
   "pygments_lexer": "ipython3",
   "version": "3.11.4"
  }
 },
 "nbformat": 4,
 "nbformat_minor": 5
}
