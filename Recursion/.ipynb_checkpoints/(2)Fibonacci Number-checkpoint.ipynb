{
 "cells": [
  {
   "cell_type": "code",
   "execution_count": 11,
   "id": "5f6cf308-a3d3-4356-96bb-e67358424c69",
   "metadata": {},
   "outputs": [
    {
     "name": "stdin",
     "output_type": "stream",
     "text": [
      "Enter the number:  10\n"
     ]
    },
    {
     "name": "stdout",
     "output_type": "stream",
     "text": [
      "The fibonacci number of 10 is:  55\n"
     ]
    }
   ],
   "source": [
    "def fibonacci(n):\n",
    "    if(n==0):\n",
    "        return 0\n",
    "    elif(n==1):\n",
    "        return 1\n",
    "    fibo_1 = fibonacci(n-1)\n",
    "    fibo_2 = fibonacci(n-2)\n",
    "    output = fibo_1 + fibo_2\n",
    "    return output\n",
    "\n",
    "n = int(input(\"Enter the number: \"))\n",
    "output = fibonacci(n)\n",
    "print(\"The fibonacci number of\", n, \"is: \", output)"
   ]
  },
  {
   "cell_type": "code",
   "execution_count": null,
   "id": "de06a089-8c49-48be-9ef0-7042cb911629",
   "metadata": {},
   "outputs": [],
   "source": []
  }
 ],
 "metadata": {
  "kernelspec": {
   "display_name": "Python 3 (ipykernel)",
   "language": "python",
   "name": "python3"
  },
  "language_info": {
   "codemirror_mode": {
    "name": "ipython",
    "version": 3
   },
   "file_extension": ".py",
   "mimetype": "text/x-python",
   "name": "python",
   "nbconvert_exporter": "python",
   "pygments_lexer": "ipython3",
   "version": "3.11.4"
  }
 },
 "nbformat": 4,
 "nbformat_minor": 5
}
