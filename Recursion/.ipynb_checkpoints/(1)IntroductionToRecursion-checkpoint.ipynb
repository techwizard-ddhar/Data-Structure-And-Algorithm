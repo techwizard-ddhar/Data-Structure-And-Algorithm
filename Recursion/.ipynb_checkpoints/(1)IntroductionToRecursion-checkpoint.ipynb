{
 "cells": [
  {
   "cell_type": "code",
   "execution_count": 1,
   "id": "4269a330-b2df-431f-bb86-35c40d55cbf5",
   "metadata": {},
   "outputs": [
    {
     "name": "stdin",
     "output_type": "stream",
     "text": [
      "Enter the number:  6\n"
     ]
    },
    {
     "name": "stdout",
     "output_type": "stream",
     "text": [
      "The factorial of 6 is:  720\n"
     ]
    }
   ],
   "source": [
    "def recursion(n):\n",
    "    if(n==0):\n",
    "        return 1   # factorial of 0 is 1\n",
    "    middle_output = recursion(n-1)\n",
    "    final_output = n * middle_output\n",
    "    return final_output\n",
    "n = int(input(\"Enter the number: \"))\n",
    "output = recursion(n)\n",
    "print(\"The factorial of\", n, \"is: \", output)"
   ]
  },
  {
   "cell_type": "code",
   "execution_count": 5,
   "id": "5d735a48-7c67-4c6c-87d0-5654c3ff39d8",
   "metadata": {},
   "outputs": [
    {
     "name": "stdin",
     "output_type": "stream",
     "text": [
      "Enter the number:  5\n"
     ]
    },
    {
     "name": "stdout",
     "output_type": "stream",
     "text": [
      "Sum of first 5 natural numbers is:  15\n"
     ]
    }
   ],
   "source": [
    "def sum_of_n_natural_numbers(n):\n",
    "    if(n==0):\n",
    "        return 0\n",
    "    middle_output = sum_of_n_natural_numbers(n-1)\n",
    "    final_output = middle_output + n\n",
    "    return final_output\n",
    "\n",
    "n = int(input(\"Enter the number: \"))\n",
    "result = sum_of_n_natural_numbers(n)\n",
    "print(\"Sum of first\", n, \"natural numbers is: \", result)\n",
    "    "
   ]
  },
  {
   "cell_type": "code",
   "execution_count": 14,
   "id": "cf99dedf-f45d-459c-918f-ea6da01c8a27",
   "metadata": {},
   "outputs": [
    {
     "name": "stdin",
     "output_type": "stream",
     "text": [
      "Enter the number:  0\n"
     ]
    }
   ],
   "source": [
    "def print_1_to_n(n):\n",
    "    if(n==0):\n",
    "        return \n",
    "    print_1_to_n(n-1)\n",
    "    print(n)\n",
    "    return\n",
    "\n",
    "n = int(input(\"Enter the number: \"))\n",
    "print_1_to_n(n)"
   ]
  },
  {
   "cell_type": "code",
   "execution_count": 16,
   "id": "a915163b-6871-4d9a-8c33-e08f6008eacc",
   "metadata": {},
   "outputs": [
    {
     "name": "stdin",
     "output_type": "stream",
     "text": [
      "Enter the number:  5\n"
     ]
    },
    {
     "name": "stdout",
     "output_type": "stream",
     "text": [
      "5\n",
      "4\n",
      "3\n",
      "2\n",
      "1\n"
     ]
    }
   ],
   "source": [
    "def print_n_to_1(n):\n",
    "    if(n==0):\n",
    "        return \n",
    "    print(n)\n",
    "    print_1_to_n(n-1)\n",
    "    return\n",
    "\n",
    "n = int(input(\"Enter the number: \"))\n",
    "print_1_to_n(n)"
   ]
  },
  {
   "cell_type": "code",
   "execution_count": 8,
   "id": "54457c6b-94b5-4c47-a607-b882ee90f028",
   "metadata": {},
   "outputs": [
    {
     "name": "stdin",
     "output_type": "stream",
     "text": [
      " 2 5\n"
     ]
    },
    {
     "name": "stdout",
     "output_type": "stream",
     "text": [
      "Power is:  32\n"
     ]
    }
   ],
   "source": [
    "def power(x, n):\n",
    "    if(n==0):\n",
    "        return 1\n",
    "    middle_output = power(x, n-1)\n",
    "    final_output = x*middle_output\n",
    "    return final_output\n",
    "\n",
    "x, n = [int(ele) for ele in input().split()]\n",
    "output = power(x, n)\n",
    "print(\"Power is: \", output)"
   ]
  },
  {
   "cell_type": "code",
   "execution_count": null,
   "id": "4b036cd0-e409-49a9-adbb-d6714af7b02c",
   "metadata": {},
   "outputs": [],
   "source": []
  }
 ],
 "metadata": {
  "kernelspec": {
   "display_name": "Python 3 (ipykernel)",
   "language": "python",
   "name": "python3"
  },
  "language_info": {
   "codemirror_mode": {
    "name": "ipython",
    "version": 3
   },
   "file_extension": ".py",
   "mimetype": "text/x-python",
   "name": "python",
   "nbconvert_exporter": "python",
   "pygments_lexer": "ipython3",
   "version": "3.11.4"
  }
 },
 "nbformat": 4,
 "nbformat_minor": 5
}
