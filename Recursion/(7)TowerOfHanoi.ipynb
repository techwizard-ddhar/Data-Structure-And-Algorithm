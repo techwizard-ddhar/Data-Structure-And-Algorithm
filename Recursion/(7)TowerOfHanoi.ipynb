{
 "cells": [
  {
   "cell_type": "markdown",
   "id": "6bf9f5a9-6ba8-4bc6-b4f1-fdf65a0f14d9",
   "metadata": {},
   "source": [
    "**Tower_Of_Hanoi**"
   ]
  },
  {
   "cell_type": "code",
   "execution_count": 5,
   "id": "b54828ec-c65d-4991-bff2-3a8c9c80f23d",
   "metadata": {},
   "outputs": [
    {
     "name": "stdout",
     "output_type": "stream",
     "text": [
      "move 1st disk from source  to  destination\n",
      "move 2 th disk from source  to  helper\n",
      "move 1st disk from destination  to  helper\n",
      "move 3 th disk from source  to  destination\n",
      "move 1st disk from helper  to  source\n",
      "move 2 th disk from helper  to  destination\n",
      "move 1st disk from source  to  destination\n"
     ]
    }
   ],
   "source": [
    "def tower_of_hanoi(n, source, helper, destination):\n",
    "    if(n == 1):\n",
    "        print(\"move 1st disk from\", source, \" to \", destination)\n",
    "        return\n",
    "    tower_of_hanoi(n-1, source, destination, helper)\n",
    "    print(\"move\", n, \"th disk from\", source, \" to \", destination)\n",
    "    tower_of_hanoi(n-1, helper, source, destination)\n",
    "\n",
    "tower_of_hanoi(3, \"source\", \"helper\", \"destination\")"
   ]
  },
  {
   "cell_type": "code",
   "execution_count": null,
   "id": "980e39ed-2133-46c5-9768-076713cb9b6f",
   "metadata": {},
   "outputs": [],
   "source": []
  }
 ],
 "metadata": {
  "kernelspec": {
   "display_name": "Python 3 (ipykernel)",
   "language": "python",
   "name": "python3"
  },
  "language_info": {
   "codemirror_mode": {
    "name": "ipython",
    "version": 3
   },
   "file_extension": ".py",
   "mimetype": "text/x-python",
   "name": "python",
   "nbconvert_exporter": "python",
   "pygments_lexer": "ipython3",
   "version": "3.11.4"
  }
 },
 "nbformat": 4,
 "nbformat_minor": 5
}
