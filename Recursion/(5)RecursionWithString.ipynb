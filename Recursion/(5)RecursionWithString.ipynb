{
 "cells": [
  {
   "cell_type": "markdown",
   "id": "87e05006-2b3d-484f-a125-d7ebd41bdf97",
   "metadata": {},
   "source": [
    "**Replace character**"
   ]
  },
  {
   "cell_type": "code",
   "execution_count": 9,
   "id": "9c5183b3-bd4c-45f7-a2b7-a0fa4254b80c",
   "metadata": {},
   "outputs": [
    {
     "name": "stdout",
     "output_type": "stream",
     "text": [
      "xbfgtrbxvxxryxn\n"
     ]
    }
   ],
   "source": [
    "def change(arr, a, b):\n",
    "    l = len(arr)\n",
    "    if(l == 0):\n",
    "        return arr\n",
    "    smallerlist = arr[1:]\n",
    "    smallerlistoutput = change(smallerlist, a, b)\n",
    "    if(arr[0] == a):\n",
    "        return b + smallerlistoutput\n",
    "    else:\n",
    "        return arr[0] + smallerlistoutput\n",
    "\n",
    "print(change(\"cbfgtrbcvcxrycn\", 'c', 'x'))    "
   ]
  },
  {
   "cell_type": "markdown",
   "id": "71039a32-4905-4e4d-9396-c35b432c8c8d",
   "metadata": {},
   "source": [
    "**Remove X**"
   ]
  },
  {
   "cell_type": "code",
   "execution_count": 14,
   "id": "68007d95-ba01-4ac8-8495-1d779fe12539",
   "metadata": {},
   "outputs": [
    {
     "name": "stdout",
     "output_type": "stream",
     "text": [
      "cbfgtrbcvcryc\n"
     ]
    }
   ],
   "source": [
    "def change(arr, a):\n",
    "    l = len(arr)\n",
    "    if(l == 0):\n",
    "        return arr\n",
    "    smallerlist = arr[1:]\n",
    "    smallerlistoutput = change(smallerlist, a)\n",
    "    if(arr[0] == a):\n",
    "        return smallerlistoutput\n",
    "    else:\n",
    "        return arr[0] + smallerlistoutput\n",
    "\n",
    "print(change(\"cbfgtrbcvcxrycxx\", 'x'))   "
   ]
  },
  {
   "cell_type": "markdown",
   "id": "2c5d17db-70f4-4a0b-acd8-eafd8b548ba3",
   "metadata": {},
   "source": [
    "**Replace \"pi\" with 3.14**"
   ]
  },
  {
   "cell_type": "code",
   "execution_count": 36,
   "id": "767887e2-934b-4f92-854b-2693a851b00c",
   "metadata": {},
   "outputs": [
    {
     "name": "stdout",
     "output_type": "stream",
     "text": [
      "3.14cbfg3.14trbcvcxrycx3.14x\n"
     ]
    }
   ],
   "source": [
    "def change(arr, a, b):\n",
    "    l = len(arr)\n",
    "    if(l == 0) or (l == 1):\n",
    "        return arr\n",
    "    if(arr[0] == a) and (arr[1] == b):\n",
    "        smallerlistoutput = change(arr[2:], a, b)\n",
    "        return \"3.14\" + smallerlistoutput\n",
    "    else:\n",
    "        smallerlistoutput = change(arr[1:], a, b)\n",
    "        return arr[0] + smallerlistoutput\n",
    "\n",
    "print(change(\"picbfgpitrbcvcxrycxpix\", 'p', 'i')) "
   ]
  },
  {
   "cell_type": "markdown",
   "id": "09ef2448-b470-426e-bb53-398a2b151d40",
   "metadata": {},
   "source": [
    "**Remove Duplicate Evaluation**"
   ]
  },
  {
   "cell_type": "code",
   "execution_count": 38,
   "id": "09d352ab-2583-4c34-890b-422ebb497285",
   "metadata": {},
   "outputs": [
    {
     "name": "stdout",
     "output_type": "stream",
     "text": [
      "xyzwz\n"
     ]
    }
   ],
   "source": [
    "def change(arr):\n",
    "    l = len(arr)\n",
    "    if(l == 0) or (l == 1):\n",
    "        return arr\n",
    "    if(arr[0] == arr[1]):\n",
    "        smallerlistoutput = change(arr[1:])\n",
    "        return smallerlistoutput\n",
    "    else:\n",
    "        smallerlistoutput = change(arr[1:])\n",
    "        return arr[0] + smallerlistoutput\n",
    "\n",
    "print(change(\"xxxyyyzwwzzz\")) "
   ]
  },
  {
   "cell_type": "code",
   "execution_count": null,
   "id": "34d257a6-b4a6-42fb-950f-cd2440055b3c",
   "metadata": {},
   "outputs": [],
   "source": []
  }
 ],
 "metadata": {
  "kernelspec": {
   "display_name": "Python 3 (ipykernel)",
   "language": "python",
   "name": "python3"
  },
  "language_info": {
   "codemirror_mode": {
    "name": "ipython",
    "version": 3
   },
   "file_extension": ".py",
   "mimetype": "text/x-python",
   "name": "python",
   "nbconvert_exporter": "python",
   "pygments_lexer": "ipython3",
   "version": "3.11.4"
  }
 },
 "nbformat": 4,
 "nbformat_minor": 5
}
