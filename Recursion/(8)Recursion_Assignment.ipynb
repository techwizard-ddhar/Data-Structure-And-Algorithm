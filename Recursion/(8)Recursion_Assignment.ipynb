{
 "cells": [
  {
   "cell_type": "code",
   "execution_count": 13,
   "id": "a4d77dfa-9acf-4826-b6f3-0f345d6210ef",
   "metadata": {},
   "outputs": [
    {
     "name": "stdout",
     "output_type": "stream",
     "text": [
      "1.875\n"
     ]
    }
   ],
   "source": [
    "def geometric_sum(k):\n",
    "    if(k == 0):\n",
    "        return 1\n",
    "    middle_output = geometric_sum(k-1)\n",
    "    final_output = middle_output + 1/(2**k)\n",
    "    return round(final_output, 5)\n",
    "\n",
    "print(geometric_sum(3))"
   ]
  },
  {
   "cell_type": "markdown",
   "id": "706a4db2-719d-48ee-b567-214d6c9c2548",
   "metadata": {},
   "source": [
    "**Palindrome** --> **Important**"
   ]
  },
  {
   "cell_type": "code",
   "execution_count": 5,
   "id": "d1749487-fc19-4dd1-8c3f-59f88efdf9bf",
   "metadata": {},
   "outputs": [
    {
     "name": "stdout",
     "output_type": "stream",
     "text": [
      "True\n"
     ]
    }
   ],
   "source": [
    "def palindrome(str, si, ei):\n",
    "    if(si >= ei):\n",
    "        return True\n",
    "    if(str[si] == str[ei-1]):\n",
    "        smallerlistoutput = palindrome(str, si+1, ei-1)\n",
    "        return smallerlistoutput\n",
    "    else:\n",
    "        return False\n",
    "\n",
    "str = \"malayalam\" # racecar\n",
    "l = len(str)\n",
    "print(palindrome(str, 0, l))"
   ]
  },
  {
   "cell_type": "code",
   "execution_count": 39,
   "id": "399726db-a702-4a07-9a36-e5208dae5613",
   "metadata": {},
   "outputs": [
    {
     "name": "stdout",
     "output_type": "stream",
     "text": [
      "60\n"
     ]
    }
   ],
   "source": [
    "def multiplication(M, N):\n",
    "    if(N == 0):\n",
    "        return 0\n",
    "    middle_output = multiplication(M, N-1)\n",
    "    final_output = M + middle_output\n",
    "    return final_output\n",
    "\n",
    "print(multiplication(10, 6))"
   ]
  },
  {
   "cell_type": "markdown",
   "id": "45edbc14-604b-4bfd-8b5e-0b7032a9f9fe",
   "metadata": {},
   "source": [
    "**pair-star** --> **Important**"
   ]
  },
  {
   "cell_type": "code",
   "execution_count": 66,
   "id": "117b9ce2-4b01-410f-af5b-83a3a94656ab",
   "metadata": {},
   "outputs": [
    {
     "name": "stdout",
     "output_type": "stream",
     "text": [
      "a*a*a*a\n"
     ]
    }
   ],
   "source": [
    "def pair_star(str, si):\n",
    "    l = len(str)\n",
    "    if(si == l-1):\n",
    "        return str[si]\n",
    "    elif(str[si] == str[si+1]):\n",
    "        smallerlistoutput = pair_star(str, si+1)\n",
    "        return str[si] + '*' + smallerlistoutput\n",
    "    else:\n",
    "        smallerlistoutput = pair_star(str, si+1)\n",
    "        return str[si] + smallerlistoutput\n",
    "\n",
    "str = \"aaaa\"\n",
    "print(pair_star(str, 0))\n",
    "        "
   ]
  },
  {
   "cell_type": "markdown",
   "id": "4818f337-e77e-4309-9079-6c2073fcb2c1",
   "metadata": {},
   "source": [
    "**Staircase** --> **VeryVeryImportant**"
   ]
  },
  {
   "cell_type": "code",
   "execution_count": 71,
   "id": "ea929e26-950c-4c6f-b126-24c250ed845c",
   "metadata": {},
   "outputs": [
    {
     "name": "stdout",
     "output_type": "stream",
     "text": [
      "13\n"
     ]
    }
   ],
   "source": [
    "def staircase(n):\n",
    "    if(n < 0):\n",
    "        return 0\n",
    "    if(n == 0):\n",
    "        return 1\n",
    "    x = staircase(n-1)\n",
    "    y = staircase(n-2)\n",
    "    z = staircase(n-3)\n",
    "    return x + y + z\n",
    "\n",
    "print(staircase(5))"
   ]
  },
  {
   "cell_type": "markdown",
   "id": "1f946b99-4972-42d8-913d-ace1427feb58",
   "metadata": {},
   "source": [
    "**Numeric_String to integer-string** --> **Important**"
   ]
  },
  {
   "cell_type": "code",
   "execution_count": 1,
   "id": "9f3896d2-b97f-4f22-97f8-648765d539e4",
   "metadata": {},
   "outputs": [
    {
     "name": "stdout",
     "output_type": "stream",
     "text": [
      "123\n"
     ]
    }
   ],
   "source": [
    "def string_to_integer(s):\n",
    "    l = len(s)\n",
    "    if(l == 1):\n",
    "        return int(s)\n",
    "    \n",
    "    \n",
    "    remaining_digits = string_to_integer(s[1:])\n",
    "    \n",
    "    return int(s[0]) * (10 ** (l - 1)) + remaining_digits # 1 * 10^5 + 23456 = 1\"23456\" \n",
    "     \n",
    "\n",
    "numeric_string = \"123\"\n",
    "result = string_to_integer(numeric_string)\n",
    "print(result) \n"
   ]
  },
  {
   "cell_type": "markdown",
   "id": "0a97f71b-1617-4364-ae00-97e0d7519cde",
   "metadata": {},
   "source": [
    "**Check AB** --> **Important**"
   ]
  },
  {
   "cell_type": "code",
   "execution_count": 4,
   "id": "e9a351a9-bd9d-4c69-96c0-6146a5a7bd9c",
   "metadata": {},
   "outputs": [
    {
     "name": "stdout",
     "output_type": "stream",
     "text": [
      "False\n"
     ]
    }
   ],
   "source": [
    "def check(str):\n",
    "    l = len(str)\n",
    "    if(l == 0):\n",
    "        return True\n",
    "    if(str[0] == 'a'):\n",
    "        smallerlistoutput = check(str[1:])\n",
    "        return smallerlistoutput\n",
    "    elif(str[:2] == 'bb'):\n",
    "        smallerlistoutput = check(str[2:])\n",
    "        return smallerlistoutput\n",
    "    else:\n",
    "        return False\n",
    "\n",
    "print(check(\"abbab\"))"
   ]
  },
  {
   "cell_type": "markdown",
   "id": "9d502a88-dc80-430b-a7be-5c25a738dc98",
   "metadata": {},
   "source": [
    "**Count zeroes** --> **Important**"
   ]
  },
  {
   "cell_type": "code",
   "execution_count": 2,
   "id": "bfdf0244-5949-4bbb-b40a-55fb421533dc",
   "metadata": {},
   "outputs": [
    {
     "name": "stdout",
     "output_type": "stream",
     "text": [
      "2\n"
     ]
    }
   ],
   "source": [
    "def count(n):\n",
    "    if(n == 0):\n",
    "        return 0\n",
    "    last_digit = n % 10\n",
    "    remaining_digit = n // 10\n",
    "    if(last_digit == 0):\n",
    "        return 1 + count(remaining_digit)\n",
    "    else:\n",
    "        return count(remaining_digit)\n",
    "        \n",
    "n = 10204\n",
    "print(count(n))"
   ]
  },
  {
   "cell_type": "code",
   "execution_count": null,
   "id": "0d021307-304e-4edc-9611-705f2b974989",
   "metadata": {},
   "outputs": [],
   "source": []
  }
 ],
 "metadata": {
  "kernelspec": {
   "display_name": "Python 3 (ipykernel)",
   "language": "python",
   "name": "python3"
  },
  "language_info": {
   "codemirror_mode": {
    "name": "ipython",
    "version": 3
   },
   "file_extension": ".py",
   "mimetype": "text/x-python",
   "name": "python",
   "nbconvert_exporter": "python",
   "pygments_lexer": "ipython3",
   "version": "3.11.4"
  }
 },
 "nbformat": 4,
 "nbformat_minor": 5
}
