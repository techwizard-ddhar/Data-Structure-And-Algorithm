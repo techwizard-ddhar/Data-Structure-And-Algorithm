{
 "cells": [
  {
   "cell_type": "code",
   "execution_count": 14,
   "id": "5b8fe3a1-1d54-47c4-85ac-02681d7f3dad",
   "metadata": {},
   "outputs": [],
   "source": [
    "def isSorted(arr):\n",
    "    l = len(arr)\n",
    "    if(l==0) or (l==1):\n",
    "        return True\n",
    "    if(arr[0] > arr[1]):\n",
    "        return False\n",
    "    smallerList = arr[1:]  # it consumes for memory \n",
    "    isSmallerListSorted = isSorted(smallerList)\n",
    "\n",
    "    return isSmallerListSorted"
   ]
  },
  {
   "cell_type": "code",
   "execution_count": 15,
   "id": "7370d7fb-aca0-4565-b4d4-14d8256695df",
   "metadata": {},
   "outputs": [
    {
     "data": {
      "text/plain": [
       "False"
      ]
     },
     "execution_count": 15,
     "metadata": {},
     "output_type": "execute_result"
    }
   ],
   "source": [
    "arr = [1,2,8,4,5]\n",
    "isSorted(arr)"
   ]
  },
  {
   "cell_type": "code",
   "execution_count": 32,
   "id": "4925d5c4-1f2f-49cb-851f-e6e470a08072",
   "metadata": {},
   "outputs": [
    {
     "data": {
      "text/plain": [
       "False"
      ]
     },
     "execution_count": 32,
     "metadata": {},
     "output_type": "execute_result"
    }
   ],
   "source": [
    "def isSorted(arr, si):\n",
    "    l = len(arr)\n",
    "    if(si == l-1) or (si == l):\n",
    "        return True\n",
    "    if(arr[si] > arr[si+1]):\n",
    "        return False\n",
    "    \n",
    "    isSmallerListSorted = isSorted(arr, si+1) # in this we don't have to create an extra list\n",
    "\n",
    "    return isSmallerListSorted\n",
    "\n",
    "arr = [1,2,8,4,5]\n",
    "isSorted(arr, 0)"
   ]
  },
  {
   "cell_type": "markdown",
   "id": "0a75dc68-210d-4a45-a195-08ae584c7eac",
   "metadata": {},
   "source": [
    "**sum of elements in an array**\n"
   ]
  },
  {
   "cell_type": "code",
   "execution_count": 16,
   "id": "750f0274-ce32-48bf-a129-f8803b2b9464",
   "metadata": {},
   "outputs": [
    {
     "name": "stdout",
     "output_type": "stream",
     "text": [
      "26\n"
     ]
    }
   ],
   "source": [
    "def sum_array(arr, n):\n",
    "   \n",
    "    if(n == 0):\n",
    "        return 0\n",
    "    middle_output = sum_array(arr, n-1)\n",
    "    final_output = arr[n-1] + middle_output\n",
    "    return final_output\n",
    "\n",
    "arr = [9,8,9]\n",
    "print(sum_array(arr, 3))"
   ]
  },
  {
   "cell_type": "markdown",
   "id": "8c3fa248-7244-43a8-8335-fafd19717fde",
   "metadata": {},
   "source": [
    "**Check number in an array**"
   ]
  },
  {
   "cell_type": "code",
   "execution_count": 30,
   "id": "e87d61af-a8aa-4ed6-8186-13101639658c",
   "metadata": {},
   "outputs": [
    {
     "name": "stdin",
     "output_type": "stream",
     "text": [
      "Enter the elements:  9 8 10\n"
     ]
    },
    {
     "name": "stdout",
     "output_type": "stream",
     "text": [
      "False\n"
     ]
    }
   ],
   "source": [
    "def isPresent(arr):\n",
    "    ele = -2\n",
    "    l = len(arr)\n",
    "    if(l==0):\n",
    "        return False\n",
    "    if(ele == arr[0]):\n",
    "        return True\n",
    "    smallerList = arr[1:]\n",
    "    isSmallerListmatched = isPresent(smallerList)\n",
    "\n",
    "    return isSmallerListmatched\n",
    "\n",
    "arr = [int(ele) for ele in input(\"Enter the elements: \").split()]\n",
    "print(isPresent(arr))"
   ]
  },
  {
   "cell_type": "code",
   "execution_count": 50,
   "id": "5c6f3ff6-f64f-40c1-9b63-883530b83e91",
   "metadata": {},
   "outputs": [
    {
     "name": "stdin",
     "output_type": "stream",
     "text": [
      "Enter the element:  1 4 -1 3 4\n",
      "Enter the target ele:  4\n"
     ]
    },
    {
     "data": {
      "text/plain": [
       "1"
      ]
     },
     "execution_count": 50,
     "metadata": {},
     "output_type": "execute_result"
    }
   ],
   "source": [
    "def firstIndex(arr, ele, si):\n",
    "    l = len(arr)\n",
    "    if(si < 0) or (si >= l):\n",
    "        return -1\n",
    "    if(ele == arr[si]):\n",
    "        return si\n",
    "    SmallerListIndex = firstIndex(arr, ele, si+1)\n",
    "\n",
    "    return SmallerListIndex\n",
    "\n",
    "arr = [int(ele) for ele in input(\"Enter the element: \").split()]\n",
    "ele = int(input('Enter the target ele: '))\n",
    "firstIndex(arr, ele, 0)"
   ]
  },
  {
   "cell_type": "code",
   "execution_count": 54,
   "id": "f2a48b4f-08f0-4745-a534-d164ba8270d7",
   "metadata": {},
   "outputs": [
    {
     "name": "stdin",
     "output_type": "stream",
     "text": [
      "Enter the element:  1 3 5 3\n",
      "Enter the target ele:  3\n"
     ]
    },
    {
     "data": {
      "text/plain": [
       "3"
      ]
     },
     "execution_count": 54,
     "metadata": {},
     "output_type": "execute_result"
    }
   ],
   "source": [
    "def lastindex(arr, ele, si):\n",
    "    l = len(arr)\n",
    "    if(si < 0) or (si >= l):\n",
    "        return -1\n",
    "    if(ele == arr[si]):\n",
    "        return si\n",
    "    SmallerListIndex = lastIndex(arr, ele, si-1)\n",
    "\n",
    "    return SmallerListIndex\n",
    "\n",
    "arr = [int(ele) for ele in input(\"Enter the element: \").split()]\n",
    "ele = int(input('Enter the target ele: '))\n",
    "n = len(arr)\n",
    "lastindex(arr, ele, n-1)"
   ]
  },
  {
   "cell_type": "markdown",
   "id": "19915982-780d-40c0-a6c0-c757577675a5",
   "metadata": {},
   "source": [
    "**Better Solution**\n"
   ]
  },
  {
   "cell_type": "code",
   "execution_count": 4,
   "id": "6a0f090b-bc73-45f0-b48e-1c132f7e405c",
   "metadata": {},
   "outputs": [
    {
     "name": "stdin",
     "output_type": "stream",
     "text": [
      "Enter the element:  1 4 5 4 8\n",
      "Enter the target ele:  4\n"
     ]
    },
    {
     "data": {
      "text/plain": [
       "3"
      ]
     },
     "execution_count": 4,
     "metadata": {},
     "output_type": "execute_result"
    }
   ],
   "source": [
    "def lastIndex(arr, ele, si):\n",
    "    l = len(arr)\n",
    "    if(si == l):\n",
    "        return -1\n",
    "    smallerlistoutput = lastIndex(arr, ele, si+1)\n",
    "    if smallerlistoutput != -1:\n",
    "        return smallerlistoutput\n",
    "    else:\n",
    "        if(arr[si] == ele):\n",
    "            return si\n",
    "        else:\n",
    "            return -1\n",
    "\n",
    "arr = [int(ele) for ele in input(\"Enter the element: \").split()]\n",
    "ele = int(input('Enter the target ele: '))\n",
    "lastIndex(arr, ele, 0)"
   ]
  },
  {
   "cell_type": "code",
   "execution_count": null,
   "id": "b0b47bf1-bb0e-412e-8b82-0a0800b6500a",
   "metadata": {},
   "outputs": [],
   "source": []
  }
 ],
 "metadata": {
  "kernelspec": {
   "display_name": "Python 3 (ipykernel)",
   "language": "python",
   "name": "python3"
  },
  "language_info": {
   "codemirror_mode": {
    "name": "ipython",
    "version": 3
   },
   "file_extension": ".py",
   "mimetype": "text/x-python",
   "name": "python",
   "nbconvert_exporter": "python",
   "pygments_lexer": "ipython3",
   "version": "3.11.4"
  }
 },
 "nbformat": 4,
 "nbformat_minor": 5
}
