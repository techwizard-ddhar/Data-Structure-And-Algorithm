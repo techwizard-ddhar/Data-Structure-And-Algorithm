{
 "cells": [
  {
   "cell_type": "code",
   "execution_count": 1,
   "id": "0a7067ba-53b7-48e7-a354-97801ef5ac7f",
   "metadata": {},
   "outputs": [
    {
     "name": "stdout",
     "output_type": "stream",
     "text": [
      "abc+/de*-\n"
     ]
    }
   ],
   "source": [
    "def InfixToPostfix(tokens):\n",
    "    stack = []\n",
    "    postfix = \"\"\n",
    "    precedence = {\n",
    "        '^': 3,\n",
    "        '*': 2,\n",
    "        '/': 2,\n",
    "        '+': 1,\n",
    "        '-': 1,\n",
    "        '(': 0,\n",
    "        ')': 0\n",
    "    }\n",
    "    for char in tokens: \n",
    "        if char == \"(\":\n",
    "            stack.append(char)\n",
    "            \n",
    "        elif char == \")\":\n",
    "            while(stack[-1] != \"(\"):\n",
    "                ele = stack.pop()\n",
    "                postfix += ele\n",
    "            stack.pop()                    \n",
    "            \n",
    "        elif char in \"^*/+-\":\n",
    "            if(len(stack) != 0):\n",
    "                while(precedence[char] <= precedence[stack[-1]]):\n",
    "                    ele = stack.pop()\n",
    "                    postfix += ele\n",
    "                    if(len(stack) == 0):\n",
    "                        break\n",
    "            stack.append(char)\n",
    "            \n",
    "        else:\n",
    "            postfix += char\n",
    "            \n",
    "    while(len(stack) != 0):\n",
    "        ele = stack.pop()\n",
    "        postfix += ele\n",
    "\n",
    "    return postfix\n",
    "    \n",
    "def PostfixToInfix(string):\n",
    "    stack = []\n",
    "    string = string[::-1]\n",
    "    for char in string:\n",
    "        if char in \"^*/+-\":\n",
    "            op1 = stack.pop()\n",
    "            op2 = stack.pop()\n",
    "            if char == \"^\":\n",
    "                ele = f\"({op1}^{op2})\"\n",
    "            elif char == \"*\":\n",
    "                ele = f\"({op1}*{op2})\"\n",
    "            elif char == \"/\":\n",
    "                ele = f\"({op1}/{op2})\"\n",
    "            elif char == \"+\":\n",
    "                ele = f\"({op1}+{op2})\"\n",
    "            elif char == \"-\":\n",
    "                ele = f\"({op1}-{op2})\"\n",
    "            stack.append(ele)\n",
    "        else:\n",
    "            stack.append(char)\n",
    "    \n",
    "    return stack[-1]\n",
    "\n",
    "string = \"-/a+bc*de\"\n",
    "sol = PostfixToInfix(string)\n",
    "output = InfixToPostfix(sol)\n",
    "print(output)"
   ]
  },
  {
   "cell_type": "code",
   "execution_count": null,
   "id": "cfe6f2fc-218f-48f5-9b26-e4eea295a295",
   "metadata": {},
   "outputs": [],
   "source": []
  }
 ],
 "metadata": {
  "kernelspec": {
   "display_name": "Python 3 (ipykernel)",
   "language": "python",
   "name": "python3"
  },
  "language_info": {
   "codemirror_mode": {
    "name": "ipython",
    "version": 3
   },
   "file_extension": ".py",
   "mimetype": "text/x-python",
   "name": "python",
   "nbconvert_exporter": "python",
   "pygments_lexer": "ipython3",
   "version": "3.11.4"
  }
 },
 "nbformat": 4,
 "nbformat_minor": 5
}
