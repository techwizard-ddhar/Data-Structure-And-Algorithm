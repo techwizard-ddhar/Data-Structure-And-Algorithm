{
 "cells": [
  {
   "cell_type": "code",
   "execution_count": 28,
   "id": "1ecc4f6c-aa7e-4975-ab5c-48097908c48c",
   "metadata": {},
   "outputs": [
    {
     "name": "stdout",
     "output_type": "stream",
     "text": [
      "*-a/bc-/akl\n"
     ]
    }
   ],
   "source": [
    "def InfixToPrefix(string):\n",
    "    stack = []\n",
    "    prefix = \"\"\n",
    "    precedence = {\n",
    "        '^': 3,\n",
    "        '*': 2,\n",
    "        '/': 2,\n",
    "        '+': 1,\n",
    "        '-': 1,\n",
    "        '(': 0,\n",
    "        ')': 0\n",
    "    }\n",
    "    for char in string: \n",
    "        if char == \")\":\n",
    "            stack.append(char)\n",
    "            \n",
    "        elif char == \"(\":\n",
    "            while(stack[-1] != \")\"):\n",
    "                ele = stack.pop()\n",
    "                prefix += ele\n",
    "            stack.pop()                    \n",
    "            \n",
    "        elif char in \"^*/+-\":\n",
    "            if(len(stack) != 0):\n",
    "                while(precedence[char] <= precedence[stack[-1]]):\n",
    "                    ele = stack.pop()\n",
    "                    prefix += ele\n",
    "                    if(len(stack) == 0):\n",
    "                        break\n",
    "            stack.append(char)\n",
    "            \n",
    "        else:\n",
    "            prefix += char\n",
    "            \n",
    "    if(len(stack)>0):\n",
    "        while(len(stack) != 0):\n",
    "            ele = stack.pop()\n",
    "            prefix += ele\n",
    "\n",
    "    return prefix[::-1]\n",
    "\n",
    "string = \"(a-b/c)*(a/k-l)\"\n",
    "sol = InfixToPrefix(string[::-1])\n",
    "print(sol)"
   ]
  },
  {
   "cell_type": "code",
   "execution_count": 23,
   "id": "bcf03616-92a6-46d5-a224-90b9cc677d41",
   "metadata": {},
   "outputs": [
    {
     "name": "stdout",
     "output_type": "stream",
     "text": [
      "^^xyz\n"
     ]
    }
   ],
   "source": [
    "def InfixToPrefix(string):\n",
    "    stack = []\n",
    "    prefix = \"\"\n",
    "    precedence = {\n",
    "        '^': 3,\n",
    "        '*': 2,\n",
    "        '/': 2,\n",
    "        '+': 1,\n",
    "        '-': 1,\n",
    "        '(': 0,\n",
    "        ')': 0\n",
    "    }\n",
    "    for char in string: \n",
    "        if char == \")\":\n",
    "            stack.append(char)\n",
    "            \n",
    "        elif char == \"(\":\n",
    "            while(stack[-1] != \")\"):\n",
    "                ele = stack.pop()\n",
    "                prefix += ele\n",
    "            stack.pop()                    \n",
    "            \n",
    "        elif char in \"^*/+-\":\n",
    "            if(len(stack) != 0):\n",
    "                while(precedence[char] < precedence[stack[-1]]):\n",
    "                    ele = stack.pop()\n",
    "                    prefix += ele\n",
    "                    if(len(stack) == 0):\n",
    "                        break\n",
    "            stack.append(char)\n",
    "            \n",
    "        else:\n",
    "            prefix += char\n",
    "            \n",
    "    if(len(stack)>0):\n",
    "        while(len(stack) != 0):\n",
    "            ele = stack.pop()\n",
    "            prefix += ele\n",
    "\n",
    "    return prefix[::-1]\n",
    "\n",
    "string = \"x^y^z\"\n",
    "sol = InfixToPrefix(string[::-1])\n",
    "print(sol)"
   ]
  },
  {
   "cell_type": "code",
   "execution_count": null,
   "id": "cfc3de25-aea3-46a9-920e-3a5382f69130",
   "metadata": {},
   "outputs": [],
   "source": []
  }
 ],
 "metadata": {
  "kernelspec": {
   "display_name": "Python 3 (ipykernel)",
   "language": "python",
   "name": "python3"
  },
  "language_info": {
   "codemirror_mode": {
    "name": "ipython",
    "version": 3
   },
   "file_extension": ".py",
   "mimetype": "text/x-python",
   "name": "python",
   "nbconvert_exporter": "python",
   "pygments_lexer": "ipython3",
   "version": "3.11.4"
  }
 },
 "nbformat": 4,
 "nbformat_minor": 5
}
