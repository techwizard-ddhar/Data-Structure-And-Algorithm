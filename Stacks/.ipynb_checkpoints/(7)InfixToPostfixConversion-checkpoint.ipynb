{
 "cells": [
  {
   "cell_type": "code",
   "execution_count": 15,
   "id": "1f3e3efc-0e0d-448d-8689-ba0a0814e486",
   "metadata": {},
   "outputs": [
    {
     "name": "stdout",
     "output_type": "stream",
     "text": [
      "abc*d/+e+\n"
     ]
    }
   ],
   "source": [
    "def InfixToPostfix(string):\n",
    "    stack = []\n",
    "    postfix = \"\"\n",
    "    precedence = {\n",
    "        '^': 3,\n",
    "        '*': 2,\n",
    "        '/': 2,\n",
    "        '+': 1,\n",
    "        '-': 1,\n",
    "        '(': 0,\n",
    "        ')': 0\n",
    "    }\n",
    "    for char in string: \n",
    "        if char == \"(\":\n",
    "            stack.append(char)\n",
    "            \n",
    "        elif char == \")\":\n",
    "            while(stack[-1] != \"(\"):\n",
    "                ele = stack.pop()\n",
    "                postfix += ele\n",
    "            stack.pop()                    \n",
    "            \n",
    "        elif char in \"^*/+-\":\n",
    "            if(len(stack) != 0):\n",
    "                while(precedence[char] <= precedence[stack[-1]]):\n",
    "                    ele = stack.pop()\n",
    "                    postfix += ele\n",
    "                    if(len(stack) == 0):\n",
    "                        break\n",
    "            stack.append(char)\n",
    "            \n",
    "        else:\n",
    "            postfix += char\n",
    "            \n",
    "    while(len(stack) != 0):\n",
    "        ele = stack.pop()\n",
    "        postfix += ele\n",
    "\n",
    "    return postfix\n",
    "\n",
    "string = \"a+b*c/d+e\"\n",
    "sol = InfixToPostfix(string)\n",
    "print(sol)"
   ]
  }
 ],
 "metadata": {
  "kernelspec": {
   "display_name": "Python 3 (ipykernel)",
   "language": "python",
   "name": "python3"
  },
  "language_info": {
   "codemirror_mode": {
    "name": "ipython",
    "version": 3
   },
   "file_extension": ".py",
   "mimetype": "text/x-python",
   "name": "python",
   "nbconvert_exporter": "python",
   "pygments_lexer": "ipython3",
   "version": "3.11.4"
  }
 },
 "nbformat": 4,
 "nbformat_minor": 5
}
