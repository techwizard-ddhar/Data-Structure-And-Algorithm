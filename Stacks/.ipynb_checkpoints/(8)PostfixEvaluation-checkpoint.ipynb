{
 "cells": [
  {
   "cell_type": "markdown",
   "id": "5a8eee5b-3326-4e19-b340-423b5dae8126",
   "metadata": {},
   "source": [
    "**Single Digit**"
   ]
  },
  {
   "cell_type": "code",
   "execution_count": null,
   "id": "e67fbf99-2b05-4907-a43b-28cd0d22756c",
   "metadata": {},
   "outputs": [],
   "source": [
    "def EvaluatePostfix(string):\n",
    "    stack = []\n",
    "    for char in string:\n",
    "        if char in \"^*/+-\":\n",
    "            op1 = int(stack.pop())\n",
    "            op2 = int(stack.pop())\n",
    "            if char == \"^\":\n",
    "                ele = op2 ** op1\n",
    "            elif char == \"*\":\n",
    "                ele = op1 * op2\n",
    "            elif char == \"/\":\n",
    "                ele = op2 / op1\n",
    "            elif char == \"+\":\n",
    "                ele = op1 + op2\n",
    "            elif char == \"-\":\n",
    "                ele = op2 - op1\n",
    "            stack.append(ele)\n",
    "\n",
    "        else:\n",
    "            stack.append(char)\n",
    "            \n",
    "    return stack[-1]\n",
    "\n",
    "string = \"32+\"\n",
    "sol = EvaluatePostfix(string)\n",
    "print(sol)\n"
   ]
  },
  {
   "cell_type": "markdown",
   "id": "55f24ab7-861e-4251-bf30-df2311cc8277",
   "metadata": {},
   "source": [
    "**Multi Digit**"
   ]
  },
  {
   "cell_type": "code",
   "execution_count": 7,
   "id": "09ff3b50-d782-4d05-bc9b-c3c90e3c2436",
   "metadata": {},
   "outputs": [
    {
     "name": "stdout",
     "output_type": "stream",
     "text": [
      "29\n"
     ]
    }
   ],
   "source": [
    "def EvaluatePostfix(string):\n",
    "    stack = []\n",
    "    i = 0\n",
    "    while i < len(string):\n",
    "        char = string[i]\n",
    "        if char in \"^*/+-\":\n",
    "            op1 = int(stack.pop())\n",
    "            op2 = int(stack.pop())\n",
    "            if char == \"^\":\n",
    "                ele = op2 ** op1\n",
    "            elif char == \"*\":\n",
    "                ele = op1 * op2\n",
    "            elif char == \"/\":\n",
    "                ele = op2 / op1\n",
    "            elif char == \"+\":\n",
    "                ele = op1 + op2\n",
    "            elif char == \"-\":\n",
    "                ele = op2 - op1\n",
    "            stack.append(ele)\n",
    "\n",
    "        elif char.isdigit():  # Check if char is a digit\n",
    "            val = 0\n",
    "            while i < len(string) and string[i] != \" \":\n",
    "                temp = int(string[i])\n",
    "                val = 10 * val + temp\n",
    "                i += 1  # Advance the index to the next character\n",
    "            stack.append(val)\n",
    "        i += 1\n",
    "            \n",
    "    return stack[-1]\n",
    "\n",
    "string = \"10 22 + 8 / 6 * 5 +\"\n",
    "sol = EvaluatePostfix(string)\n",
    "print(sol)\n"
   ]
  },
  {
   "cell_type": "code",
   "execution_count": 4,
   "id": "b95bc914-0476-48d5-9f03-f7efed25c3e9",
   "metadata": {},
   "outputs": [
    {
     "name": "stdout",
     "output_type": "stream",
     "text": [
      "26\n"
     ]
    }
   ],
   "source": [
    "def EvaluatePostfix(string):\n",
    "    stack = []\n",
    "    i = 0\n",
    "    string = string.split()\n",
    "    for char in string:\n",
    "        if char in \"^*/+-\":\n",
    "            op1 = int(stack.pop())\n",
    "            op2 = int(stack.pop())\n",
    "            if char == \"^\":\n",
    "                ele = op2 ** op1\n",
    "            elif char == \"*\":\n",
    "                ele = op1 * op2\n",
    "            elif char == \"/\":\n",
    "                ele = op2 / op1\n",
    "            elif char == \"+\":\n",
    "                ele = op1 + op2\n",
    "            elif char == \"-\":\n",
    "                ele = op2 - op1\n",
    "            stack.append(ele)\n",
    "\n",
    "        elif(char >= '0' and char <= '9'): \n",
    "            temp = int(char)\n",
    "            stack.append(temp)\n",
    "            \n",
    "    return stack[-1]\n",
    "\n",
    "string = \"10 2 * 3 5 * + 9 -\"\n",
    "sol = EvaluatePostfix(string)\n",
    "print(sol)\n"
   ]
  },
  {
   "cell_type": "code",
   "execution_count": null,
   "id": "63de51e3-7437-4a4e-b659-7997d4912517",
   "metadata": {},
   "outputs": [],
   "source": []
  }
 ],
 "metadata": {
  "kernelspec": {
   "display_name": "Python 3 (ipykernel)",
   "language": "python",
   "name": "python3"
  },
  "language_info": {
   "codemirror_mode": {
    "name": "ipython",
    "version": 3
   },
   "file_extension": ".py",
   "mimetype": "text/x-python",
   "name": "python",
   "nbconvert_exporter": "python",
   "pygments_lexer": "ipython3",
   "version": "3.11.4"
  }
 },
 "nbformat": 4,
 "nbformat_minor": 5
}
