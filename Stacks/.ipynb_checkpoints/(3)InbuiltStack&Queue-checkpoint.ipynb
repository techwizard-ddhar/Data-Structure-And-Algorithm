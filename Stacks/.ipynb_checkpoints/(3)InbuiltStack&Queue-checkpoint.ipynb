{
 "cells": [
  {
   "cell_type": "markdown",
   "id": "c2a13394-cf9f-496b-b776-4dbf0375d90b",
   "metadata": {},
   "source": [
    "**Inbuilt Stack**"
   ]
  },
  {
   "cell_type": "code",
   "execution_count": 1,
   "id": "c16476ba-1838-445d-9326-006620828f99",
   "metadata": {},
   "outputs": [
    {
     "name": "stdout",
     "output_type": "stream",
     "text": [
      "6\n",
      "5\n"
     ]
    }
   ],
   "source": [
    "s = [1,2,3]\n",
    "s.append(5)\n",
    "s.append(6)\n",
    "\n",
    "print(s.pop())\n",
    "print(s.pop())"
   ]
  },
  {
   "cell_type": "markdown",
   "id": "b25a192f-950d-4e32-91ac-6c67f16d71ee",
   "metadata": {},
   "source": [
    "**Inbuilt Queue**"
   ]
  },
  {
   "cell_type": "code",
   "execution_count": 2,
   "id": "8bf51e71-3b73-4bee-b95e-4ca2b79d98f2",
   "metadata": {},
   "outputs": [
    {
     "name": "stdout",
     "output_type": "stream",
     "text": [
      "1\n",
      "2\n",
      "3\n",
      "4\n"
     ]
    }
   ],
   "source": [
    "import queue\n",
    "\n",
    "q = queue.Queue()\n",
    "q.put(1)\n",
    "q.put(2)\n",
    "q.put(3)\n",
    "q.put(4)\n",
    "\n",
    "while q.empty() is False:\n",
    "    print(q.get())"
   ]
  },
  {
   "cell_type": "markdown",
   "id": "0fe3086c-d95c-409f-8399-7a862f4af6d1",
   "metadata": {},
   "source": [
    "**Stack using import queue**"
   ]
  },
  {
   "cell_type": "code",
   "execution_count": 3,
   "id": "eda7df01-08d1-4707-9f25-eaf24cb16515",
   "metadata": {},
   "outputs": [
    {
     "name": "stdout",
     "output_type": "stream",
     "text": [
      "3\n",
      "2\n",
      "1\n"
     ]
    }
   ],
   "source": [
    "import queue\n",
    "\n",
    "q = queue.LifoQueue()\n",
    "q.put(1)\n",
    "q.put(2)\n",
    "q.put(3)\n",
    "\n",
    "while q.empty() is False:\n",
    "    print(q.get())"
   ]
  },
  {
   "cell_type": "code",
   "execution_count": null,
   "id": "b5e64413-376f-4fb9-8337-66199f4a4471",
   "metadata": {},
   "outputs": [],
   "source": []
  }
 ],
 "metadata": {
  "kernelspec": {
   "display_name": "Python 3 (ipykernel)",
   "language": "python",
   "name": "python3"
  },
  "language_info": {
   "codemirror_mode": {
    "name": "ipython",
    "version": 3
   },
   "file_extension": ".py",
   "mimetype": "text/x-python",
   "name": "python",
   "nbconvert_exporter": "python",
   "pygments_lexer": "ipython3",
   "version": "3.11.4"
  }
 },
 "nbformat": 4,
 "nbformat_minor": 5
}
