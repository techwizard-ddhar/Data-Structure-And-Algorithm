{
 "cells": [
  {
   "cell_type": "markdown",
   "id": "7ec72d35-b27a-4941-aec2-f65597252c22",
   "metadata": {},
   "source": [
    "**not s: It checks if the list is empty (i.e., it evaluates to True)** "
   ]
  },
  {
   "cell_type": "code",
   "execution_count": 1,
   "id": "e8725fb4-48ee-41ef-8776-3cb25dd935c3",
   "metadata": {},
   "outputs": [
    {
     "name": "stdout",
     "output_type": "stream",
     "text": [
      "False\n"
     ]
    }
   ],
   "source": [
    "def isBalanced(string):\n",
    "    stack = []\n",
    "    for char in string: \n",
    "        if char in \"{([\":\n",
    "            stack.append(char)\n",
    "            \n",
    "        elif char == \")\":\n",
    "            if(not stack) or (stack[-1] != \"(\"): # \"( ( } )\" \"case-3\"\n",
    "                return False\n",
    "            stack.pop()                     # \"{ ( ) }\" \"Case-2\"\n",
    "            \n",
    "        elif char == \"}\":\n",
    "            if(not stack) or (stack[-1] != \"{\"):\n",
    "                return False\n",
    "            stack.pop()\n",
    "            \n",
    "        elif char == \"]\":\n",
    "            if(not stack) or (stack[-1] != \"[\"):\n",
    "                return False\n",
    "            stack.pop()\n",
    "    if(not stack):                         # \"{ a + b\" or \"} g + h\" \"Case-1\"\n",
    "        return True\n",
    "        \n",
    "    return False\n",
    "\n",
    "string = \"{(a+b) + (c+d) + e]}\"\n",
    "sol = isBalanced(string)\n",
    "print(sol)"
   ]
  },
  {
   "cell_type": "code",
   "execution_count": null,
   "id": "97007b39-61d6-4eef-8909-908fdc4d608d",
   "metadata": {},
   "outputs": [],
   "source": []
  }
 ],
 "metadata": {
  "kernelspec": {
   "display_name": "Python 3 (ipykernel)",
   "language": "python",
   "name": "python3"
  },
  "language_info": {
   "codemirror_mode": {
    "name": "ipython",
    "version": 3
   },
   "file_extension": ".py",
   "mimetype": "text/x-python",
   "name": "python",
   "nbconvert_exporter": "python",
   "pygments_lexer": "ipython3",
   "version": "3.11.4"
  }
 },
 "nbformat": 4,
 "nbformat_minor": 5
}
