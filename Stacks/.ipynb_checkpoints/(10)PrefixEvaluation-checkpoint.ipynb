{
 "cells": [
  {
   "cell_type": "code",
   "execution_count": 34,
   "id": "ed0ae16a-a939-48c6-84f9-251a4f400083",
   "metadata": {},
   "outputs": [
    {
     "name": "stdout",
     "output_type": "stream",
     "text": [
      "100000000\n"
     ]
    }
   ],
   "source": [
    "def EvaluatePrefix(string):\n",
    "    stack = []\n",
    "    i = 0\n",
    "    string = string.split()\n",
    "    string = string[::-1]\n",
    "    for char in string:\n",
    "        if char in \"^*/+-\":\n",
    "            op1 = int(stack.pop())\n",
    "            op2 = int(stack.pop())\n",
    "            if char == \"^\":\n",
    "                ele = op1 ** op2\n",
    "            elif char == \"*\":\n",
    "                ele = op1 * op2\n",
    "            elif char == \"/\":\n",
    "                ele = op1 / op2\n",
    "            elif char == \"+\":\n",
    "                ele = op1 + op2\n",
    "            elif char == \"-\":\n",
    "                ele = op1 - op2\n",
    "            stack.append(ele)\n",
    "\n",
    "        elif char.isdigit():  \n",
    "            temp = int(char)\n",
    "            stack.append(temp)\n",
    "            \n",
    "    return stack[-1]\n",
    "\n",
    "string = \"^ 10 ^ 2 3\"\n",
    "sol = EvaluatePrefix(string)\n",
    "print(sol)\n"
   ]
  },
  {
   "cell_type": "code",
   "execution_count": null,
   "id": "effcf420-9703-40fb-867a-95c5a44de348",
   "metadata": {},
   "outputs": [],
   "source": []
  }
 ],
 "metadata": {
  "kernelspec": {
   "display_name": "Python 3 (ipykernel)",
   "language": "python",
   "name": "python3"
  },
  "language_info": {
   "codemirror_mode": {
    "name": "ipython",
    "version": 3
   },
   "file_extension": ".py",
   "mimetype": "text/x-python",
   "name": "python",
   "nbconvert_exporter": "python",
   "pygments_lexer": "ipython3",
   "version": "3.11.4"
  }
 },
 "nbformat": 4,
 "nbformat_minor": 5
}
