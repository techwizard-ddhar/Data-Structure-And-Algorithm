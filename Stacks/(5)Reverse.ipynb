{
 "cells": [
  {
   "cell_type": "code",
   "execution_count": 2,
   "id": "3e1ac4bf-085b-4193-9d0f-7dcf1e04dbb9",
   "metadata": {},
   "outputs": [
    {
     "name": "stdout",
     "output_type": "stream",
     "text": [
      "[30, 20, 10]\n"
     ]
    }
   ],
   "source": [
    "class stack:\n",
    "    def __init__(self):\n",
    "        self.__data = []\n",
    "        \n",
    "    def push(self, item):\n",
    "        self.__data.append(item)\n",
    "        \n",
    "    def pop(self):\n",
    "        if self.isEmpty():\n",
    "            print(\"Stack is empty !!\")\n",
    "            return\n",
    "        return self.__data.pop()\n",
    "        \n",
    "    def size(self):\n",
    "        return len(self.__data)\n",
    "        \n",
    "    def isEmpty(self):\n",
    "        return self.size() == 0\n",
    "        \n",
    "s = stack()\n",
    "s.push(10)\n",
    "s.push(20)\n",
    "s.push(30)\n",
    "\n",
    "arr = []\n",
    "while s.isEmpty() is False:\n",
    "    ele = s.pop()\n",
    "    arr.append(ele)\n",
    "\n",
    "print(arr)"
   ]
  },
  {
   "cell_type": "code",
   "execution_count": 10,
   "id": "0aa0522e-ac13-4ebf-9186-4ff044fafaed",
   "metadata": {},
   "outputs": [
    {
     "name": "stdin",
     "output_type": "stream",
     "text": [
      "Enter number of elements 5\n",
      " 1 3 5 7 9\n"
     ]
    },
    {
     "name": "stdout",
     "output_type": "stream",
     "text": [
      "1 3 5 7 9 "
     ]
    }
   ],
   "source": [
    "def reverse(s1, s2):\n",
    "    if(len(s1) <= 1):\n",
    "        return\n",
    "        \n",
    "    while(len(s1) != 1):\n",
    "        ele = s1.pop()\n",
    "        s2.append(ele)\n",
    "    temp = s1.pop()\n",
    "    \n",
    "    while(len(s2) != 0):\n",
    "        ele = s2.pop()\n",
    "        s1.append(ele)\n",
    "    reverse(s1, s2)\n",
    "    s1.append(temp)\n",
    "\n",
    "n = int(input(\"Enter number of elements\"))\n",
    "s1 = [int(ele) for ele in input().split()]\n",
    "\n",
    "s2 = []\n",
    "\n",
    "reverse(s1, s2)\n",
    "while(len(s1) != 0):\n",
    "    print(s1.pop(), end = \" \")"
   ]
  },
  {
   "cell_type": "code",
   "execution_count": null,
   "id": "a382b970-6d5f-4508-a905-35491edd0d27",
   "metadata": {},
   "outputs": [],
   "source": []
  }
 ],
 "metadata": {
  "kernelspec": {
   "display_name": "Python 3 (ipykernel)",
   "language": "python",
   "name": "python3"
  },
  "language_info": {
   "codemirror_mode": {
    "name": "ipython",
    "version": 3
   },
   "file_extension": ".py",
   "mimetype": "text/x-python",
   "name": "python",
   "nbconvert_exporter": "python",
   "pygments_lexer": "ipython3",
   "version": "3.11.4"
  }
 },
 "nbformat": 4,
 "nbformat_minor": 5
}
