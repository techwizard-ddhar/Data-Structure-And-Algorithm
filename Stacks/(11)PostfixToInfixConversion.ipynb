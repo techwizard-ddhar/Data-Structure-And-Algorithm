{
 "cells": [
  {
   "cell_type": "code",
   "execution_count": 1,
   "id": "e23ad3db-7c29-49f2-9b55-0428d7ad87b2",
   "metadata": {},
   "outputs": [
    {
     "name": "stdout",
     "output_type": "stream",
     "text": [
      "((a+b)*(e/f))\n"
     ]
    }
   ],
   "source": [
    "def PostfixToInfix(string):\n",
    "    stack = []\n",
    "    for char in string:\n",
    "        if char in \"^*/+-\":\n",
    "            op1 = stack.pop()\n",
    "            op2 = stack.pop()\n",
    "            if char == \"^\":\n",
    "                ele = f\"({op2}^{op1})\"\n",
    "            elif char == \"*\":\n",
    "                ele = f\"({op2}*{op1})\"\n",
    "            elif char == \"/\":\n",
    "                ele = f\"({op2}/{op1})\"\n",
    "            elif char == \"+\":\n",
    "                ele = f\"({op2}+{op1})\"\n",
    "            elif char == \"-\":\n",
    "                ele = f\"({op2}-{op1})\"\n",
    "            stack.append(ele)\n",
    "        else:\n",
    "            stack.append(char)\n",
    "    return stack[-1]\n",
    "\n",
    "string = \"ab+ef/*\"\n",
    "sol = PostfixToInfix(string)\n",
    "print(sol)\n"
   ]
  },
  {
   "cell_type": "code",
   "execution_count": null,
   "id": "f81e30e1-1506-4e34-9fd0-00e6613e6d44",
   "metadata": {},
   "outputs": [],
   "source": []
  }
 ],
 "metadata": {
  "kernelspec": {
   "display_name": "Python 3 (ipykernel)",
   "language": "python",
   "name": "python3"
  },
  "language_info": {
   "codemirror_mode": {
    "name": "ipython",
    "version": 3
   },
   "file_extension": ".py",
   "mimetype": "text/x-python",
   "name": "python",
   "nbconvert_exporter": "python",
   "pygments_lexer": "ipython3",
   "version": "3.11.4"
  }
 },
 "nbformat": 4,
 "nbformat_minor": 5
}
