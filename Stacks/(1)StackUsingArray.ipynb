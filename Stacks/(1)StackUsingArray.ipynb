{
 "cells": [
  {
   "cell_type": "code",
   "execution_count": 11,
   "id": "15de556e-4721-4d13-8139-d8c9d3a80df5",
   "metadata": {},
   "outputs": [
    {
     "name": "stdout",
     "output_type": "stream",
     "text": [
      "30\n",
      "20\n",
      "10\n",
      "Stack is empty !!\n"
     ]
    }
   ],
   "source": [
    "class stack:\n",
    "    def __init__(self):\n",
    "        self.__data = []\n",
    "        \n",
    "    def push(self, item):\n",
    "        self.__data.append(item)\n",
    "        \n",
    "    def pop(self):\n",
    "        if self.isEmpty():\n",
    "            print(\"Stack is empty !!\")\n",
    "            return\n",
    "        return self.__data.pop()\n",
    "        \n",
    "    def top(self):\n",
    "        if self.isEmpty():\n",
    "            print(\"Stack is empty !!\")\n",
    "            return\n",
    "        return self.__data[len(self.__data) - 1]\n",
    "        \n",
    "    def size(self):\n",
    "        return len(self.__data)\n",
    "        \n",
    "    def isEmpty(self):\n",
    "        return self.size() == 0\n",
    "        \n",
    "s = stack()\n",
    "s.push(10)\n",
    "s.push(20)\n",
    "s.push(30)\n",
    "\n",
    "while s.isEmpty() is False:\n",
    "    print(s.pop())\n",
    "\n",
    "s.top()"
   ]
  },
  {
   "cell_type": "code",
   "execution_count": null,
   "id": "e09408dc-0984-4154-8d29-5289b2a6b4aa",
   "metadata": {},
   "outputs": [],
   "source": []
  }
 ],
 "metadata": {
  "kernelspec": {
   "display_name": "Python 3 (ipykernel)",
   "language": "python",
   "name": "python3"
  },
  "language_info": {
   "codemirror_mode": {
    "name": "ipython",
    "version": 3
   },
   "file_extension": ".py",
   "mimetype": "text/x-python",
   "name": "python",
   "nbconvert_exporter": "python",
   "pygments_lexer": "ipython3",
   "version": "3.11.4"
  }
 },
 "nbformat": 4,
 "nbformat_minor": 5
}
