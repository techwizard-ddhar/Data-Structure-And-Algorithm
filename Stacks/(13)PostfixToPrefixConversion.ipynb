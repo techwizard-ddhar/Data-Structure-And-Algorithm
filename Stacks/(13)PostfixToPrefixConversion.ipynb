{
 "cells": [
  {
   "cell_type": "code",
   "execution_count": 7,
   "id": "9059548d-ccc4-4f59-afd4-481d7e801056",
   "metadata": {},
   "outputs": [
    {
     "name": "stdout",
     "output_type": "stream",
     "text": [
      "*+ab-cd\n"
     ]
    }
   ],
   "source": [
    "def InfixToPrefix(tokens):\n",
    "    stack = []\n",
    "    prefix = \"\"\n",
    "    tokens = tokens[::-1]\n",
    "    precedence = {\n",
    "        '^': 3,\n",
    "        '*': 2,\n",
    "        '/': 2,\n",
    "        '+': 1,\n",
    "        '-': 1,\n",
    "        '(': 0,\n",
    "        ')': 0\n",
    "    }\n",
    "    for char in tokens: \n",
    "        if char == \")\":\n",
    "            stack.append(char)\n",
    "        elif char == \"(\":\n",
    "            while(stack[-1] != \")\"):\n",
    "                ele = stack.pop()\n",
    "                prefix += ele\n",
    "            stack.pop()\n",
    "        elif char in \"^*/+-\":\n",
    "            if(len(stack) != 0):\n",
    "                while(precedence[char] <= precedence[stack[-1]]):\n",
    "                    ele = stack.pop()\n",
    "                    prefix += ele\n",
    "                    if(len(stack) == 0):\n",
    "                        break\n",
    "            stack.append(char)\n",
    "        else:\n",
    "            prefix += char\n",
    "    if(len(stack) > 0):\n",
    "        while(len(stack) != 0):\n",
    "            ele = stack.pop()\n",
    "            prefix += ele\n",
    "    return prefix[::-1]\n",
    "\n",
    "def PostfixToInfix(string):\n",
    "    stack = []\n",
    "    for char in string:\n",
    "        if char in \"^*/+-\":\n",
    "            op1 = stack.pop()\n",
    "            op2 = stack.pop()\n",
    "            if char == \"^\":\n",
    "                ele = f\"({op2}^{op1})\"\n",
    "            elif char == \"*\":\n",
    "                ele = f\"({op2}*{op1})\"\n",
    "            elif char == \"/\":\n",
    "                ele = f\"({op2}/{op1})\"\n",
    "            elif char == \"+\":\n",
    "                ele = f\"({op2}+{op1})\"\n",
    "            elif char == \"-\":\n",
    "                ele = f\"({op2}-{op1})\"\n",
    "            stack.append(ele)\n",
    "        else:\n",
    "            stack.append(char)\n",
    "    return stack[-1]\n",
    "\n",
    "string = \"ab+cd-*\"\n",
    "sol = PostfixToInfix(string)\n",
    "output = InfixToPrefix(sol)\n",
    "print(output)\n"
   ]
  },
  {
   "cell_type": "code",
   "execution_count": null,
   "id": "7a5b606b-7914-43c6-9348-a93dfd25c433",
   "metadata": {},
   "outputs": [],
   "source": []
  }
 ],
 "metadata": {
  "kernelspec": {
   "display_name": "Python 3 (ipykernel)",
   "language": "python",
   "name": "python3"
  },
  "language_info": {
   "codemirror_mode": {
    "name": "ipython",
    "version": 3
   },
   "file_extension": ".py",
   "mimetype": "text/x-python",
   "name": "python",
   "nbconvert_exporter": "python",
   "pygments_lexer": "ipython3",
   "version": "3.11.4"
  }
 },
 "nbformat": 4,
 "nbformat_minor": 5
}
