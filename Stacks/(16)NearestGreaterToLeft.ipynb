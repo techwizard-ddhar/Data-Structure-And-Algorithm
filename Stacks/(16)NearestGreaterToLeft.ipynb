{
 "cells": [
  {
   "cell_type": "code",
   "execution_count": 4,
   "id": "6c11df9e-d606-4db9-88ed-f1237678a2e8",
   "metadata": {},
   "outputs": [
    {
     "name": "stdout",
     "output_type": "stream",
     "text": [
      "The next greater elements are\n",
      "[-1, -1, 6, -1, 10, 10]\n"
     ]
    }
   ],
   "source": [
    "def nextGreaterElements(arr):\n",
    "    n = len(arr)\n",
    "    nge = [-1] * n \n",
    "    stack = []\n",
    "    for i in range(n):\n",
    "        if(len(stack) == 0):\n",
    "            nge[i] = -1\n",
    "            stack.append(arr[i])\n",
    "        elif(len(stack) > 0 and stack[-1] > arr[i]):\n",
    "            nge[i] = stack[-1]\n",
    "            stack.append(arr[i])\n",
    "        elif(len(stack) > 0 and stack[-1] <= arr[i]):\n",
    "            while(len(stack) > 0 and stack[-1] <= arr[i]):\n",
    "                stack.pop()\n",
    "            if(len(stack)==0):\n",
    "                nge[i] = -1\n",
    "                stack.append(arr[i])\n",
    "            else:\n",
    "                nge[i] = stack[-1]\n",
    "                stack.append(arr[i])\n",
    "                \n",
    "    \n",
    "    return nge\n",
    "                    \n",
    "v = [1, 6, 4, 10, 2, 5]\n",
    "res = nextGreaterElements(v)\n",
    "print(\"The next greater elements are\")\n",
    "print(res)       "
   ]
  },
  {
   "cell_type": "code",
   "execution_count": null,
   "id": "3d4e6931-8b68-4e28-aa04-cc6041b822c4",
   "metadata": {},
   "outputs": [],
   "source": []
  }
 ],
 "metadata": {
  "kernelspec": {
   "display_name": "Python 3 (ipykernel)",
   "language": "python",
   "name": "python3"
  },
  "language_info": {
   "codemirror_mode": {
    "name": "ipython",
    "version": 3
   },
   "file_extension": ".py",
   "mimetype": "text/x-python",
   "name": "python",
   "nbconvert_exporter": "python",
   "pygments_lexer": "ipython3",
   "version": "3.11.4"
  }
 },
 "nbformat": 4,
 "nbformat_minor": 5
}
