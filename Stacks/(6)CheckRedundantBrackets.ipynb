{
 "cells": [
  {
   "cell_type": "markdown",
   "id": "2201e6b9-ece6-4392-9d85-5ae59e5fb8c4",
   "metadata": {},
   "source": [
    "**s: It checks if the list is not empty** "
   ]
  },
  {
   "cell_type": "code",
   "execution_count": 75,
   "id": "df8a3f9d-5fe6-40ce-bd4a-0c9fd64d1df9",
   "metadata": {},
   "outputs": [
    {
     "name": "stdout",
     "output_type": "stream",
     "text": [
      "False\n"
     ]
    }
   ],
   "source": [
    "def isRedundant(string):\n",
    "    s = []\n",
    "    for char in string: \n",
    "        if char == \")\":\n",
    "            if(s) and (s[-1] == \"(\"): \n",
    "                return True\n",
    "            else:\n",
    "                while(s) and (s[-1] == \"(\"):\n",
    "                    s.pop()\n",
    "                s.pop()\n",
    "        else:\n",
    "            s.append(char)\n",
    "            \n",
    "    return False\n",
    "            \n",
    "string = \"((a+b))\"\n",
    "sol = isRedundant(string)\n",
    "print(sol)"
   ]
  },
  {
   "cell_type": "code",
   "execution_count": null,
   "id": "817592c1-a121-47ba-8f64-29213e498892",
   "metadata": {},
   "outputs": [],
   "source": []
  }
 ],
 "metadata": {
  "kernelspec": {
   "display_name": "Python 3 (ipykernel)",
   "language": "python",
   "name": "python3"
  },
  "language_info": {
   "codemirror_mode": {
    "name": "ipython",
    "version": 3
   },
   "file_extension": ".py",
   "mimetype": "text/x-python",
   "name": "python",
   "nbconvert_exporter": "python",
   "pygments_lexer": "ipython3",
   "version": "3.11.4"
  }
 },
 "nbformat": 4,
 "nbformat_minor": 5
}
