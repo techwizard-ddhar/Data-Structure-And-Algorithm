{
 "cells": [
  {
   "cell_type": "code",
   "execution_count": 11,
   "id": "1f098d89-cc5a-401c-b3b1-67e678073e2e",
   "metadata": {},
   "outputs": [
    {
     "name": "stdout",
     "output_type": "stream",
     "text": [
      "((a-b)/((c-d)+e))\n"
     ]
    }
   ],
   "source": [
    "def PostfixToInfix(string):\n",
    "    stack = []\n",
    "    string = string[::-1]\n",
    "    for char in string:\n",
    "        if char in \"^*/+-\":\n",
    "            op1 = stack.pop()\n",
    "            op2 = stack.pop()\n",
    "            if char == \"^\":\n",
    "                ele = f\"({op1}^{op2})\"\n",
    "            elif char == \"*\":\n",
    "                ele = f\"({op1}*{op2})\"\n",
    "            elif char == \"/\":\n",
    "                ele = f\"({op1}/{op2})\"\n",
    "            elif char == \"+\":\n",
    "                ele = f\"({op1}+{op2})\"\n",
    "            elif char == \"-\":\n",
    "                ele = f\"({op1}-{op2})\"\n",
    "            stack.append(ele)\n",
    "        else:\n",
    "            stack.append(char)\n",
    "    \n",
    "    return stack[-1]\n",
    "\n",
    "string = \"/-ab+-cde\"\n",
    "sol = PostfixToInfix(string)\n",
    "print(sol)"
   ]
  },
  {
   "cell_type": "code",
   "execution_count": null,
   "id": "02681349-16c4-4004-96d6-3b104252f2ee",
   "metadata": {},
   "outputs": [],
   "source": []
  }
 ],
 "metadata": {
  "kernelspec": {
   "display_name": "Python 3 (ipykernel)",
   "language": "python",
   "name": "python3"
  },
  "language_info": {
   "codemirror_mode": {
    "name": "ipython",
    "version": 3
   },
   "file_extension": ".py",
   "mimetype": "text/x-python",
   "name": "python",
   "nbconvert_exporter": "python",
   "pygments_lexer": "ipython3",
   "version": "3.11.4"
  }
 },
 "nbformat": 4,
 "nbformat_minor": 5
}
