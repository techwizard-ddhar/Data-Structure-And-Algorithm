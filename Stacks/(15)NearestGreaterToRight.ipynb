{
 "cells": [
  {
   "cell_type": "code",
   "execution_count": 18,
   "id": "279ed6eb-f0dc-4f8e-91e6-7ba0900aa14f",
   "metadata": {},
   "outputs": [
    {
     "name": "stdout",
     "output_type": "stream",
     "text": [
      "The next greater elements are\n",
      "[12, 20, 20, -1]\n"
     ]
    }
   ],
   "source": [
    "def nextGreaterElements(arr):\n",
    "    n = len(arr)\n",
    "    arr = arr[::-1] \n",
    "    nge = [-1] * n \n",
    "    stack = []\n",
    "    i = 0\n",
    "    for i in range(n):\n",
    "        if(len(stack) == 0):\n",
    "            nge[i] = -1\n",
    "            stack.append(arr[i])\n",
    "        elif(len(stack) > 0 and stack[-1] > arr[i]):\n",
    "            nge[i] = stack[-1]\n",
    "            stack.append(arr[i])\n",
    "        elif(len(stack) > 0 and stack[-1] <= arr[i]):\n",
    "            while(len(stack) > 0 and stack[-1] <= arr[i]):\n",
    "                stack.pop()\n",
    "            if(len(stack)==0):\n",
    "                nge[i] = -1\n",
    "                stack.append(arr[i])\n",
    "            else:\n",
    "                nge[i] = stack[-1]\n",
    "                stack.append(arr[i])\n",
    "                \n",
    "    \n",
    "    return nge[::-1]\n",
    "                    \n",
    "v = [7, 12, 1, 20]\n",
    "res = nextGreaterElements(v)\n",
    "print(\"The next greater elements are\")\n",
    "print(res)       "
   ]
  },
  {
   "cell_type": "code",
   "execution_count": null,
   "id": "b77888cb-2748-4bae-8e06-28009a2c2190",
   "metadata": {},
   "outputs": [],
   "source": []
  }
 ],
 "metadata": {
  "kernelspec": {
   "display_name": "Python 3 (ipykernel)",
   "language": "python",
   "name": "python3"
  },
  "language_info": {
   "codemirror_mode": {
    "name": "ipython",
    "version": 3
   },
   "file_extension": ".py",
   "mimetype": "text/x-python",
   "name": "python",
   "nbconvert_exporter": "python",
   "pygments_lexer": "ipython3",
   "version": "3.11.4"
  }
 },
 "nbformat": 4,
 "nbformat_minor": 5
}
