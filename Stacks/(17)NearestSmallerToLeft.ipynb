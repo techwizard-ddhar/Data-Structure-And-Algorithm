{
 "cells": [
  {
   "cell_type": "code",
   "execution_count": 1,
   "id": "22659d1a-6f21-4065-ba00-46f9963f8d7f",
   "metadata": {},
   "outputs": [
    {
     "name": "stdout",
     "output_type": "stream",
     "text": [
      "The next smaller elements are\n",
      "[-1, 4, -1, 2, 2]\n"
     ]
    }
   ],
   "source": [
    "def nextSmallerElements(arr):\n",
    "    n = len(arr)\n",
    "    nge = [-1] * n \n",
    "    stack = []\n",
    "    for i in range(n):\n",
    "        if(len(stack) == 0):\n",
    "            nge[i] = -1\n",
    "            stack.append(arr[i])\n",
    "        elif(len(stack) > 0 and stack[-1] < arr[i]):\n",
    "            nge[i] = stack[-1]\n",
    "            stack.append(arr[i])\n",
    "        elif(len(stack) > 0 and stack[-1] >= arr[i]):\n",
    "            while(len(stack) > 0 and stack[-1] >= arr[i]):\n",
    "                stack.pop()\n",
    "            if(len(stack)==0):\n",
    "                nge[i] = -1\n",
    "                stack.append(arr[i])\n",
    "            else:\n",
    "                nge[i] = stack[-1]\n",
    "                stack.append(arr[i])\n",
    "                \n",
    "    \n",
    "    return nge\n",
    "                    \n",
    "v = [4, 5, 2, 10, 8]\n",
    "res = nextSmallerElements(v)\n",
    "print(\"The next smaller elements are\")\n",
    "print(res)       "
   ]
  },
  {
   "cell_type": "code",
   "execution_count": null,
   "id": "4c12633f-1448-4bdd-9b02-a39b71531c12",
   "metadata": {},
   "outputs": [],
   "source": []
  }
 ],
 "metadata": {
  "kernelspec": {
   "display_name": "Python 3 (ipykernel)",
   "language": "python",
   "name": "python3"
  },
  "language_info": {
   "codemirror_mode": {
    "name": "ipython",
    "version": 3
   },
   "file_extension": ".py",
   "mimetype": "text/x-python",
   "name": "python",
   "nbconvert_exporter": "python",
   "pygments_lexer": "ipython3",
   "version": "3.11.4"
  }
 },
 "nbformat": 4,
 "nbformat_minor": 5
}
