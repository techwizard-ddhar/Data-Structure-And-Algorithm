{
 "cells": [
  {
   "cell_type": "markdown",
   "id": "1968b98c-b163-45cb-8102-dd273253d436",
   "metadata": {},
   "source": [
    "# Sum Of Rows"
   ]
  },
  {
   "cell_type": "code",
   "execution_count": 1,
   "id": "63137d8a-fb23-4b3e-b03e-09fb1d3eb775",
   "metadata": {},
   "outputs": [
    {
     "name": "stdin",
     "output_type": "stream",
     "text": [
      "Enter number of test cases:  2\n"
     ]
    },
    {
     "name": "stdout",
     "output_type": "stream",
     "text": [
      "Test Case 1: \n"
     ]
    },
    {
     "name": "stdin",
     "output_type": "stream",
     "text": [
      "Enter the values of n and m :  2 5\n",
      " 4 5 3 2 6\n",
      " 7 5 3 8 9\n"
     ]
    },
    {
     "name": "stdout",
     "output_type": "stream",
     "text": [
      "[20, 32]\n",
      "Test Case 2: \n"
     ]
    },
    {
     "name": "stdin",
     "output_type": "stream",
     "text": [
      "Enter the values of n and m :  4 4\n",
      " 1 2 3 4\n",
      " 3 4 5 6\n",
      " 9 8 7 6\n",
      " -1 1 -10 5\n"
     ]
    },
    {
     "name": "stdout",
     "output_type": "stream",
     "text": [
      "[10, 18, 30, -5]\n"
     ]
    }
   ],
   "source": [
    "def run(list):\n",
    "    li = []\n",
    "    for ele in list:\n",
    "        sum=0\n",
    "        for rows in ele:\n",
    "            sum += rows\n",
    "        li.append(sum)\n",
    "    return li # Return the total sum of all sublists\n",
    "\n",
    "def fun():\n",
    "    str = input(\"Enter the values of n and m : \").split()\n",
    "    n,m = int(str[0]), int(str[1])\n",
    "    list = [[int(ele) for ele in input().split()]for i in range(n)]\n",
    "    return list\n",
    "\n",
    "num_test_cases = int(input(\"Enter number of test cases: \"))\n",
    "\n",
    "for j in range(num_test_cases):\n",
    "    print(f\"Test Case {j+1}: \")\n",
    "    matrix = fun()\n",
    "    sum_rows = run(matrix)\n",
    "\n",
    "    print(sum_rows)"
   ]
  },
  {
   "cell_type": "code",
   "execution_count": null,
   "id": "fdfdae90-ed98-4079-a7d3-1a92975a48e7",
   "metadata": {},
   "outputs": [],
   "source": []
  }
 ],
 "metadata": {
  "kernelspec": {
   "display_name": "Python 3 (ipykernel)",
   "language": "python",
   "name": "python3"
  },
  "language_info": {
   "codemirror_mode": {
    "name": "ipython",
    "version": 3
   },
   "file_extension": ".py",
   "mimetype": "text/x-python",
   "name": "python",
   "nbconvert_exporter": "python",
   "pygments_lexer": "ipython3",
   "version": "3.11.4"
  }
 },
 "nbformat": 4,
 "nbformat_minor": 5
}
