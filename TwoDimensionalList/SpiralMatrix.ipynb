{
 "cells": [
  {
   "cell_type": "code",
   "execution_count": 13,
   "id": "7bea5333-ff1b-4f8f-b39e-a4bcb8a0c67f",
   "metadata": {},
   "outputs": [
    {
     "name": "stdin",
     "output_type": "stream",
     "text": [
      "Enter number of test cases:  1\n",
      "Enter values of row and column:  3 1\n",
      " 10\n",
      " 20\n",
      " 30\n"
     ]
    },
    {
     "name": "stdout",
     "output_type": "stream",
     "text": [
      "The Given Matrix is:  [[10], [20], [30]]\n",
      "The Final Output is:  [10, 20, 30]\n"
     ]
    }
   ],
   "source": [
    "def spiral(arr, r, c):\n",
    "    lst = []\n",
    "    top, left, right, down = 0, 0, c - 1, r - 1  # right=rightmost column index; down=bottommost row index \n",
    "\n",
    "\n",
    "    while(top<=down and left<=right):\n",
    "        # left to right\n",
    "        for i in range(left, right + 1):\n",
    "            lst.append(arr[top][i])\n",
    "        top += 1\n",
    "\n",
    "        # top to down\n",
    "        for i in range(top, down + 1):\n",
    "            lst.append(arr[i][right])\n",
    "        right -= 1\n",
    "\n",
    "        # right to left\n",
    "        if(top<=down):\n",
    "            for i in range(right, left - 1):  \n",
    "                lst.append(arr[down][i])\n",
    "        down -= 1\n",
    "\n",
    "        # down to top\n",
    "        if(left<=right):\n",
    "            for i in range(down, top - 1):  \n",
    "                lst.append(arr[i][left])\n",
    "        left += 1\n",
    "\n",
    "    return lst\n",
    "\n",
    "\n",
    "def matrix():\n",
    "    str = input(\"Enter values of row and column: \").split()\n",
    "    r, c = int(str[0]), int(str[1])\n",
    "    li = [[int(ele) for ele in input().split()] for i in range(r)]\n",
    "    return li\n",
    "\n",
    "num_test_cases = int(input(\"Enter number of test cases: \"))\n",
    "\n",
    "for i in range(num_test_cases):\n",
    "    result_1 = matrix()\n",
    "    print(\"The Given Matrix is: \", result_1)\n",
    "\n",
    "    result_2 = spiral(result_1, len(result_1), len(result_1[0]))\n",
    "    print(\"The Final Output is: \", result_2)\n"
   ]
  },
  {
   "cell_type": "code",
   "execution_count": null,
   "id": "c58e625c-e963-41d2-ab53-1211fe84e8d0",
   "metadata": {},
   "outputs": [],
   "source": []
  }
 ],
 "metadata": {
  "kernelspec": {
   "display_name": "Python 3 (ipykernel)",
   "language": "python",
   "name": "python3"
  },
  "language_info": {
   "codemirror_mode": {
    "name": "ipython",
    "version": 3
   },
   "file_extension": ".py",
   "mimetype": "text/x-python",
   "name": "python",
   "nbconvert_exporter": "python",
   "pygments_lexer": "ipython3",
   "version": "3.11.4"
  }
 },
 "nbformat": 4,
 "nbformat_minor": 5
}
