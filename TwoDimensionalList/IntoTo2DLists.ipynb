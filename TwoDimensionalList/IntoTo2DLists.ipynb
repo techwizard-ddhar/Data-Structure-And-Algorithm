{
 "cells": [
  {
   "cell_type": "markdown",
   "id": "211d0e32-1bab-4bd2-b454-2be67bfa7fce",
   "metadata": {},
   "source": [
    "<img src=\"chess.jpg\" alt=\"Chess Board\" width=\"200\" height=\"200\">\n",
    "\n",
    "# Imagine 2D-List as a chess board\r",
    "# 8 Rosw x 8 Columns\n"
   ]
  },
  {
   "cell_type": "code",
   "execution_count": 1,
   "id": "62422bde-c4aa-49fd-80d1-542ab09f718b",
   "metadata": {},
   "outputs": [],
   "source": [
    "li = [[1,2,3,4],[5,6,7,8],[9,10,11,12],[13,14,15,16]]"
   ]
  },
  {
   "cell_type": "code",
   "execution_count": 2,
   "id": "50961714-7e15-403b-a6f9-1605082ce926",
   "metadata": {},
   "outputs": [
    {
     "data": {
      "text/plain": [
       "[[1, 2, 3, 4], [5, 6, 7, 8], [9, 10, 11, 12], [13, 14, 15, 16]]"
      ]
     },
     "execution_count": 2,
     "metadata": {},
     "output_type": "execute_result"
    }
   ],
   "source": [
    "li"
   ]
  },
  {
   "cell_type": "code",
   "execution_count": 3,
   "id": "5c8bfe1b-9528-4420-98eb-0eade06c23e5",
   "metadata": {},
   "outputs": [
    {
     "data": {
      "text/plain": [
       "11"
      ]
     },
     "execution_count": 3,
     "metadata": {},
     "output_type": "execute_result"
    }
   ],
   "source": [
    "li[2][2]"
   ]
  },
  {
   "cell_type": "code",
   "execution_count": 4,
   "id": "42e46b12-8ffe-49e5-9722-5d689ed43350",
   "metadata": {},
   "outputs": [],
   "source": [
    "li[1][2]=20"
   ]
  },
  {
   "cell_type": "code",
   "execution_count": 5,
   "id": "e7cfe818-8dfb-4c6e-a0e1-2ca162e290ad",
   "metadata": {},
   "outputs": [
    {
     "data": {
      "text/plain": [
       "[[1, 2, 3, 4], [5, 6, 20, 8], [9, 10, 11, 12], [13, 14, 15, 16]]"
      ]
     },
     "execution_count": 5,
     "metadata": {},
     "output_type": "execute_result"
    }
   ],
   "source": [
    "li"
   ]
  },
  {
   "cell_type": "markdown",
   "id": "abe232b9-2b04-4955-82ae-9a94520e5f7a",
   "metadata": {},
   "source": [
    "# How 2D-Lists are stored"
   ]
  },
  {
   "cell_type": "code",
   "execution_count": 6,
   "id": "2859fb41-f6c4-48e7-b106-66f536a1fa6c",
   "metadata": {},
   "outputs": [
    {
     "data": {
      "text/plain": [
       "2439590649728"
      ]
     },
     "execution_count": 6,
     "metadata": {},
     "output_type": "execute_result"
    }
   ],
   "source": [
    "id(li)"
   ]
  },
  {
   "cell_type": "code",
   "execution_count": 7,
   "id": "3f592e19-a2d4-49a3-b8b0-8cb03fad615f",
   "metadata": {},
   "outputs": [
    {
     "data": {
      "text/plain": [
       "2439590649024"
      ]
     },
     "execution_count": 7,
     "metadata": {},
     "output_type": "execute_result"
    }
   ],
   "source": [
    "id(li[0])"
   ]
  },
  {
   "cell_type": "code",
   "execution_count": 8,
   "id": "ffae00a5-2e8d-435d-ba76-b5f7f6c5a002",
   "metadata": {},
   "outputs": [
    {
     "data": {
      "text/plain": [
       "2439590649280"
      ]
     },
     "execution_count": 8,
     "metadata": {},
     "output_type": "execute_result"
    }
   ],
   "source": [
    "id(li[1])"
   ]
  },
  {
   "cell_type": "code",
   "execution_count": 9,
   "id": "5875cff1-f32c-4f57-a9e1-3dde5d23ed83",
   "metadata": {},
   "outputs": [],
   "source": [
    "li[3] = \"Debanjan\" # Not a list, because its not list of list "
   ]
  },
  {
   "cell_type": "code",
   "execution_count": 10,
   "id": "f2635b79-7a0c-4788-b712-bfb31f474baf",
   "metadata": {},
   "outputs": [
    {
     "data": {
      "text/plain": [
       "[[1, 2, 3, 4], [5, 6, 20, 8], [9, 10, 11, 12], 'Debanjan']"
      ]
     },
     "execution_count": 10,
     "metadata": {},
     "output_type": "execute_result"
    }
   ],
   "source": [
    "li"
   ]
  },
  {
   "cell_type": "code",
   "execution_count": 13,
   "id": "7bc7c576-a11c-42f7-a249-5a990033c71d",
   "metadata": {},
   "outputs": [],
   "source": [
    "li[3] = [13,14,15,16]"
   ]
  },
  {
   "cell_type": "code",
   "execution_count": 14,
   "id": "65bb9270-7089-4f07-aad3-7989fedf582e",
   "metadata": {},
   "outputs": [
    {
     "data": {
      "text/plain": [
       "[[1, 2, 3, 4], [5, 6, 'Hello', 8], [9, 10, 11, 12], [13, 14, 15, 16]]"
      ]
     },
     "execution_count": 14,
     "metadata": {},
     "output_type": "execute_result"
    }
   ],
   "source": [
    "li"
   ]
  },
  {
   "cell_type": "code",
   "execution_count": 11,
   "id": "1cb46546-0aae-4c69-ab85-9136eed558e4",
   "metadata": {},
   "outputs": [],
   "source": [
    "li[1][2] = 'Hello'"
   ]
  },
  {
   "cell_type": "code",
   "execution_count": 15,
   "id": "38582e76-dbdd-4ea3-95ad-13a8c44edf1b",
   "metadata": {},
   "outputs": [
    {
     "data": {
      "text/plain": [
       "[[1, 2, 3, 4], [5, 6, 'Hello', 8], [9, 10, 11, 12], [13, 14, 15, 16]]"
      ]
     },
     "execution_count": 15,
     "metadata": {},
     "output_type": "execute_result"
    }
   ],
   "source": [
    "li"
   ]
  },
  {
   "cell_type": "code",
   "execution_count": null,
   "id": "dac33af7-9dd8-4b1d-977c-dc42e55bba91",
   "metadata": {},
   "outputs": [],
   "source": []
  }
 ],
 "metadata": {
  "kernelspec": {
   "display_name": "Python 3 (ipykernel)",
   "language": "python",
   "name": "python3"
  },
  "language_info": {
   "codemirror_mode": {
    "name": "ipython",
    "version": 3
   },
   "file_extension": ".py",
   "mimetype": "text/x-python",
   "name": "python",
   "nbconvert_exporter": "python",
   "pygments_lexer": "ipython3",
   "version": "3.11.4"
  }
 },
 "nbformat": 4,
 "nbformat_minor": 5
}
