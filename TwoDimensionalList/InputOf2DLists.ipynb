{
 "cells": [
  {
   "cell_type": "code",
   "execution_count": 1,
   "id": "cd75f809-5b78-4e2c-914e-f263a3d51645",
   "metadata": {},
   "outputs": [
    {
     "name": "stdin",
     "output_type": "stream",
     "text": [
      " 3 4\n"
     ]
    }
   ],
   "source": [
    "str = input()"
   ]
  },
  {
   "cell_type": "code",
   "execution_count": 2,
   "id": "7c34cfb3-616d-4172-a501-08cd45f16e35",
   "metadata": {},
   "outputs": [
    {
     "data": {
      "text/plain": [
       "'3 4'"
      ]
     },
     "execution_count": 2,
     "metadata": {},
     "output_type": "execute_result"
    }
   ],
   "source": [
    "str\n"
   ]
  },
  {
   "cell_type": "code",
   "execution_count": 2,
   "id": "0787e95f-2233-4e4c-9e04-c85cbd08c1ff",
   "metadata": {},
   "outputs": [
    {
     "name": "stdin",
     "output_type": "stream",
     "text": [
      " 3 4\n"
     ]
    },
    {
     "data": {
      "text/plain": [
       "['3', '4']"
      ]
     },
     "execution_count": 2,
     "metadata": {},
     "output_type": "execute_result"
    }
   ],
   "source": [
    "str = input().split()\n",
    "str"
   ]
  },
  {
   "cell_type": "code",
   "execution_count": 3,
   "id": "0df42291-48fa-4c14-8146-eb4656cdd783",
   "metadata": {},
   "outputs": [
    {
     "data": {
      "text/plain": [
       "'3'"
      ]
     },
     "execution_count": 3,
     "metadata": {},
     "output_type": "execute_result"
    }
   ],
   "source": [
    "str[0]"
   ]
  },
  {
   "cell_type": "code",
   "execution_count": 4,
   "id": "c03ce4ac-4af2-47f8-b80f-b44ca5bec30d",
   "metadata": {},
   "outputs": [
    {
     "data": {
      "text/plain": [
       "'4'"
      ]
     },
     "execution_count": 4,
     "metadata": {},
     "output_type": "execute_result"
    }
   ],
   "source": [
    "str[1]"
   ]
  },
  {
   "cell_type": "code",
   "execution_count": 5,
   "id": "203f003a-6938-4913-80bc-1222975862b2",
   "metadata": {},
   "outputs": [
    {
     "data": {
      "text/plain": [
       "(3, 4)"
      ]
     },
     "execution_count": 5,
     "metadata": {},
     "output_type": "execute_result"
    }
   ],
   "source": [
    "n, m = int(str[0]), int(str[1])\n",
    "n, m"
   ]
  },
  {
   "cell_type": "code",
   "execution_count": 6,
   "id": "0c762eba-3701-4ae1-822e-b6c99d4826b7",
   "metadata": {},
   "outputs": [
    {
     "name": "stdin",
     "output_type": "stream",
     "text": [
      " 1 2 3 4\n",
      " 5 6 7 8\n",
      " 9 10 11 12\n"
     ]
    },
    {
     "data": {
      "text/plain": [
       "[[1, 2, 3, 4], [5, 6, 7, 8], [9, 10, 11, 12]]"
      ]
     },
     "execution_count": 6,
     "metadata": {},
     "output_type": "execute_result"
    }
   ],
   "source": [
    "li = [[int(j) for j in input().split()]for i in range(n)]\n",
    "li"
   ]
  },
  {
   "cell_type": "markdown",
   "id": "56b1b475-8318-42f8-94e5-aa7f45c9d178",
   "metadata": {},
   "source": [
    "# Full Code"
   ]
  },
  {
   "cell_type": "code",
   "execution_count": 7,
   "id": "95e4f44d-cbb6-44fd-a8ed-58bca13c0f0d",
   "metadata": {},
   "outputs": [
    {
     "name": "stdin",
     "output_type": "stream",
     "text": [
      "Enter value of n and m 3 4\n",
      " 1 2 3 4 \n",
      " 5 6 7 8\n",
      " 9 10 11 12\n"
     ]
    },
    {
     "name": "stdout",
     "output_type": "stream",
     "text": [
      "[[1, 2, 3, 4], [5, 6, 7, 8], [9, 10, 11, 12]]\n"
     ]
    }
   ],
   "source": [
    "str = input(\"Enter value of n and m\").split()\n",
    "n,m = int(str[0]), int(str[1])\n",
    "list = [[int(j) for j in input().split()]for i in range(n)]\n",
    "print(list)"
   ]
  },
  {
   "cell_type": "markdown",
   "id": "eacf6707-4033-48d3-a3fc-f7281ac3a244",
   "metadata": {},
   "source": [
    "# Jagged Array"
   ]
  },
  {
   "cell_type": "code",
   "execution_count": 8,
   "id": "397fd81a-cbca-4e5f-b25a-5e25cac09b5c",
   "metadata": {},
   "outputs": [
    {
     "name": "stdin",
     "output_type": "stream",
     "text": [
      "Enter value of n 3\n",
      " 1 2 3 4\n",
      " 5 6 7\n",
      " 8 9 10 11 12\n"
     ]
    },
    {
     "name": "stdout",
     "output_type": "stream",
     "text": [
      "[[1, 2, 3, 4], [5, 6, 7], [8, 9, 10, 11, 12]]\n"
     ]
    }
   ],
   "source": [
    "str = input(\"Enter value of n\").split()\n",
    "n = int(str[0])\n",
    "list_1 = [[int(j) for j in input().split()]for i in range(n)]\n",
    "print(list_1)"
   ]
  },
  {
   "cell_type": "markdown",
   "id": "611beb46-9283-4257-b586-c6217023cd4a",
   "metadata": {},
   "source": [
    "# if the input is of the form \n",
    "# -->(row, columns)\n",
    "# -->(1,2,3,....,n)"
   ]
  },
  {
   "cell_type": "markdown",
   "id": "630985dd-1c09-434c-8776-7a61fd0499ad",
   "metadata": {},
   "source": [
    "# (m*i+j) --> (m*i)=Rows ; (j)=Columns"
   ]
  },
  {
   "cell_type": "code",
   "execution_count": 9,
   "id": "d2d002d7-742a-4010-9c0e-95af6277f285",
   "metadata": {},
   "outputs": [
    {
     "name": "stdin",
     "output_type": "stream",
     "text": [
      "Enter the values of n and m 3 4\n",
      " 1 2 3 4 5 6 7 8 9 10 11 12\n"
     ]
    },
    {
     "name": "stdout",
     "output_type": "stream",
     "text": [
      "[[1, 2, 3, 4], [5, 6, 7, 8], [9, 10, 11, 12]]\n"
     ]
    }
   ],
   "source": [
    "str = input(\"Enter the values of n and m\").split()\n",
    "n, m = int(str[0]), int(str[1])\n",
    "b = input().split()\n",
    "list_2 = [[int(b[m*i+j]) for j in range(m)]for i in range(n)]\n",
    "print(list_2)"
   ]
  },
  {
   "cell_type": "markdown",
   "id": "5bb46501-5f4f-401a-a09a-3266a678d24f",
   "metadata": {},
   "source": [
    "# if the input is of the form (rows, columns, 1,2,3,....,n)"
   ]
  },
  {
   "cell_type": "code",
   "execution_count": 11,
   "id": "a0e07587-bf0c-4cc1-86bd-51755609055f",
   "metadata": {},
   "outputs": [
    {
     "name": "stdin",
     "output_type": "stream",
     "text": [
      "Enter the values 3 4 1 2 3 4 5 6 7 8 9 10 11 12\n"
     ]
    },
    {
     "name": "stdout",
     "output_type": "stream",
     "text": [
      "[[1, 2, 3, 4], [5, 6, 7, 8], [9, 10, 11, 12]]\n"
     ]
    }
   ],
   "source": [
    "str = input(\"Enter the values\").split()\n",
    "n, m = int(str[0]), int(str[1])\n",
    "b = str[2:]\n",
    "list_3 = [[int(b[m*i+j]) for j in range(m)]for i in range(n)]\n",
    "print(list_3)"
   ]
  },
  {
   "cell_type": "code",
   "execution_count": null,
   "id": "ac14a98e-8eab-4355-a0ef-e17223d01218",
   "metadata": {},
   "outputs": [],
   "source": []
  }
 ],
 "metadata": {
  "kernelspec": {
   "display_name": "Python 3 (ipykernel)",
   "language": "python",
   "name": "python3"
  },
  "language_info": {
   "codemirror_mode": {
    "name": "ipython",
    "version": 3
   },
   "file_extension": ".py",
   "mimetype": "text/x-python",
   "name": "python",
   "nbconvert_exporter": "python",
   "pygments_lexer": "ipython3",
   "version": "3.11.4"
  }
 },
 "nbformat": 4,
 "nbformat_minor": 5
}
