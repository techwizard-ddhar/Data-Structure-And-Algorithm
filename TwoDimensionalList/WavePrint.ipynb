{
 "cells": [
  {
   "cell_type": "code",
   "execution_count": 53,
   "id": "21de426c-c7d1-45f1-96ff-671aa0efa464",
   "metadata": {},
   "outputs": [
    {
     "name": "stdin",
     "output_type": "stream",
     "text": [
      "Enter number of test case:  2\n",
      "Enter number of rows and columns: 5 3\n",
      " 1 2 3\n",
      " 4 5 6\n",
      " 7 8 9\n",
      " 10 11 12\n",
      " 13 14 15\n"
     ]
    },
    {
     "name": "stdout",
     "output_type": "stream",
     "text": [
      "The Given Matrix is:  [[1, 2, 3], [4, 5, 6], [7, 8, 9], [10, 11, 12], [13, 14, 15]]\n",
      "The Final Output is:  [1, 4, 7, 10, 13, 14, 11, 8, 5, 2, 3, 6, 9, 12, 15]\n"
     ]
    },
    {
     "name": "stdin",
     "output_type": "stream",
     "text": [
      "Enter number of rows and columns: 3 3\n",
      " 10 20 30\n",
      " 40 50 60\n",
      " 70 80 90\n"
     ]
    },
    {
     "name": "stdout",
     "output_type": "stream",
     "text": [
      "The Given Matrix is:  [[10, 20, 30], [40, 50, 60], [70, 80, 90]]\n",
      "The Final Output is:  [10, 40, 70, 80, 50, 20, 30, 60, 90]\n"
     ]
    }
   ],
   "source": [
    "def run(li,r,c):\n",
    "    my_list = []\n",
    "    for j in range(c):\n",
    "    \n",
    "        if j % 2 == 0:\n",
    "            for i in range(r):\n",
    "                my_list.append(li[i][j])\n",
    "        else:\n",
    "            for k in range((r - 1), -1, -1): \n",
    "                my_list.append(li[k][j])\n",
    "\n",
    "    return my_list\n",
    "\n",
    "def matrix():\n",
    "    str = input(\"Enter number of rows and columns:\" ).split()\n",
    "    r,c = int(str[0]), int(str[1])\n",
    "    li = [[int(ele) for ele in input().split()]for i in range(r)]\n",
    "    return li\n",
    "\n",
    "num_test_cases = int(input(\"Enter number of test case: \"))\n",
    "\n",
    "for i in range(num_test_cases):\n",
    "    result_1 = matrix()\n",
    "    print(\"The Given Matrix is: \", result_1)\n",
    "\n",
    "    result_2 = run(result_1, len(result_1), len(result_1[0])) #len(result_1)=rows; len(result_1[0])=columns\n",
    "    print(\"The Final Output is: \", result_2)"
   ]
  },
  {
   "cell_type": "code",
   "execution_count": null,
   "id": "7aadba6e-6de8-4239-be4a-c004883f32ea",
   "metadata": {},
   "outputs": [],
   "source": []
  }
 ],
 "metadata": {
  "kernelspec": {
   "display_name": "Python 3 (ipykernel)",
   "language": "python",
   "name": "python3"
  },
  "language_info": {
   "codemirror_mode": {
    "name": "ipython",
    "version": 3
   },
   "file_extension": ".py",
   "mimetype": "text/x-python",
   "name": "python",
   "nbconvert_exporter": "python",
   "pygments_lexer": "ipython3",
   "version": "3.11.4"
  }
 },
 "nbformat": 4,
 "nbformat_minor": 5
}
