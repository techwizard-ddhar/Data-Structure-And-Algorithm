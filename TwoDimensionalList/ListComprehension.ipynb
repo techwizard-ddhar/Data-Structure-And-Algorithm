{
 "cells": [
  {
   "cell_type": "code",
   "execution_count": 6,
   "id": "2fa61ebd-d19b-4016-8eec-46f1a685dd20",
   "metadata": {},
   "outputs": [],
   "source": [
    "li = [1,2,3,4]\n",
    "new_list=[]\n",
    "for ele in li:\n",
    "    new_list.append(ele**2)\n",
    "    \n",
    "\n",
    "    "
   ]
  },
  {
   "cell_type": "code",
   "execution_count": 4,
   "id": "34540547-1c60-472c-b2d9-a4f46a6e19e0",
   "metadata": {},
   "outputs": [
    {
     "data": {
      "text/plain": [
       "[1, 4, 9, 16]"
      ]
     },
     "execution_count": 4,
     "metadata": {},
     "output_type": "execute_result"
    }
   ],
   "source": [
    "new_list"
   ]
  },
  {
   "cell_type": "markdown",
   "id": "327db798-960e-4ca9-98ae-e15724b1e011",
   "metadata": {},
   "source": [
    "# Power of Comprehension\n",
    "# [output, for expression, condition]"
   ]
  },
  {
   "cell_type": "code",
   "execution_count": 7,
   "id": "4dc5e914-6bbd-4207-8083-28fb8463354c",
   "metadata": {},
   "outputs": [],
   "source": [
    "new_li = [ele**2 for ele in li] "
   ]
  },
  {
   "cell_type": "code",
   "execution_count": 8,
   "id": "f0c135d4-247e-4a39-9e61-ae2570c92a2d",
   "metadata": {},
   "outputs": [
    {
     "data": {
      "text/plain": [
       "[1, 4, 9, 16]"
      ]
     },
     "execution_count": 8,
     "metadata": {},
     "output_type": "execute_result"
    }
   ],
   "source": [
    "new_li"
   ]
  },
  {
   "cell_type": "code",
   "execution_count": 10,
   "id": "3daf7a9a-36c2-422a-847b-05960d3a19de",
   "metadata": {},
   "outputs": [],
   "source": [
    "even_list_new = [ele**2 for ele in li if ele%2 == 0]"
   ]
  },
  {
   "cell_type": "code",
   "execution_count": 11,
   "id": "474ea36c-bea2-4efa-b07f-c7ea81e12742",
   "metadata": {},
   "outputs": [
    {
     "data": {
      "text/plain": [
       "[4, 16]"
      ]
     },
     "execution_count": 11,
     "metadata": {},
     "output_type": "execute_result"
    }
   ],
   "source": [
    "even_list_new"
   ]
  },
  {
   "cell_type": "code",
   "execution_count": 16,
   "id": "45ceb0bf-48a9-49d8-9013-dec19212aa8c",
   "metadata": {},
   "outputs": [],
   "source": [
    "li_new = []\n",
    "for ele in li:\n",
    "    if ele%2 == 0:\n",
    "        li_new.append(ele**2)"
   ]
  },
  {
   "cell_type": "code",
   "execution_count": 17,
   "id": "61fd8789-bedc-4007-81ce-3b5719396ddd",
   "metadata": {},
   "outputs": [
    {
     "data": {
      "text/plain": [
       "[4, 16]"
      ]
     },
     "execution_count": 17,
     "metadata": {},
     "output_type": "execute_result"
    }
   ],
   "source": [
    "li_new"
   ]
  },
  {
   "cell_type": "code",
   "execution_count": 21,
   "id": "289dbcaf-deac-4f12-b860-6d7fa62b6f6d",
   "metadata": {},
   "outputs": [],
   "source": [
    "li1 = [1,2,3,4,5,6,7,8,9]\n",
    "new = []\n",
    "\n",
    "for ele in li1:\n",
    "    if(ele%2 == 0 and ele%3 == 0):\n",
    "        new.append(ele)   "
   ]
  },
  {
   "cell_type": "code",
   "execution_count": 22,
   "id": "c0d7743e-8f50-48aa-abe0-11fd9c69561a",
   "metadata": {},
   "outputs": [
    {
     "data": {
      "text/plain": [
       "[6]"
      ]
     },
     "execution_count": 22,
     "metadata": {},
     "output_type": "execute_result"
    }
   ],
   "source": [
    "new"
   ]
  },
  {
   "cell_type": "code",
   "execution_count": 25,
   "id": "19d82cab-6b0a-4492-b87f-8281fe0a1670",
   "metadata": {},
   "outputs": [
    {
     "name": "stdout",
     "output_type": "stream",
     "text": [
      "[6]\n"
     ]
    }
   ],
   "source": [
    "new = [ele for ele in li1 if ele%2 == 0 and ele%3 == 0]\n",
    "print(new)"
   ]
  },
  {
   "cell_type": "code",
   "execution_count": 33,
   "id": "eb381986-b381-4651-9d43-cd01a39f29b3",
   "metadata": {},
   "outputs": [],
   "source": [
    "li_1 = [1,2,3,4,5]\n",
    "li_2 = [2,4,6,7]\n",
    "li3 = []\n",
    "for ele_1 in li_1:\n",
    "    for ele_2 in li_2:\n",
    "        if(ele_1 == ele_2):\n",
    "            li3.append(ele_1)\n",
    "    "
   ]
  },
  {
   "cell_type": "code",
   "execution_count": 34,
   "id": "4a172f1f-85e7-4db1-9131-f534aadc9899",
   "metadata": {},
   "outputs": [
    {
     "data": {
      "text/plain": [
       "[2, 4]"
      ]
     },
     "execution_count": 34,
     "metadata": {},
     "output_type": "execute_result"
    }
   ],
   "source": [
    "li3"
   ]
  },
  {
   "cell_type": "code",
   "execution_count": 44,
   "id": "94265527-64aa-4aa7-84e4-d211c2a5e216",
   "metadata": {},
   "outputs": [
    {
     "name": "stdout",
     "output_type": "stream",
     "text": [
      "[2, 4]\n"
     ]
    }
   ],
   "source": [
    "li_3 = [ele_1 for ele_1 in li_1 for ele_2 in li_2 if ele_1 == ele_2]\n",
    "print(li_3)"
   ]
  },
  {
   "cell_type": "code",
   "execution_count": 45,
   "id": "e3f57588-1274-40d5-b90d-3156e7c64668",
   "metadata": {},
   "outputs": [
    {
     "name": "stdout",
     "output_type": "stream",
     "text": [
      "[1, 4, 3, 16, 5]\n"
     ]
    }
   ],
   "source": [
    "li_4 = [1,2,3,4,5]\n",
    "new_li_4 = []\n",
    "for ele in li_4:\n",
    "    if(ele%2 == 0):\n",
    "        new_li_4.append(ele**2)\n",
    "    else:\n",
    "        new_li_4.append(ele)\n",
    "print(new_li_4)"
   ]
  },
  {
   "cell_type": "markdown",
   "id": "c80ff726-93cd-4bdc-8b9e-c0a6823aa54d",
   "metadata": {},
   "source": [
    "# If-Else"
   ]
  },
  {
   "cell_type": "code",
   "execution_count": 47,
   "id": "58a4f27d-9821-4522-8330-7917b2e63f1d",
   "metadata": {},
   "outputs": [
    {
     "data": {
      "text/plain": [
       "[1, 4, 3, 16, 5]"
      ]
     },
     "execution_count": 47,
     "metadata": {},
     "output_type": "execute_result"
    }
   ],
   "source": [
    "new_li_4 = [ele**2 if ele%2 == 0 else ele for ele in li_4]\n",
    "new_li_4"
   ]
  },
  {
   "cell_type": "markdown",
   "id": "593e74bf-a274-4a09-ae69-4d12412cc9b1",
   "metadata": {},
   "source": [
    "# IMPORTANT"
   ]
  },
  {
   "cell_type": "code",
   "execution_count": 55,
   "id": "6722ea7c-4d72-40da-98fd-e2714680e0d4",
   "metadata": {},
   "outputs": [
    {
     "data": {
      "text/plain": [
       "[['D', 'e', 'b', 'a', 'n', 'j', 'a', 'n'],\n",
       " ['r', 'i', 's', 'h', 'i'],\n",
       " ['p', 'r', 'i', 't', 'a', 'm']]"
      ]
     },
     "execution_count": 55,
     "metadata": {},
     "output_type": "execute_result"
    }
   ],
   "source": [
    "li_5 = ['Debanjan', 'rishi', 'pritam']\n",
    "new_li_5 = [[i for i in ele] for ele in li_5]\n",
    "new_li_5"
   ]
  },
  {
   "cell_type": "code",
   "execution_count": null,
   "id": "b53f1fcd-4a79-4c9f-8351-759de62fa89f",
   "metadata": {},
   "outputs": [],
   "source": []
  }
 ],
 "metadata": {
  "kernelspec": {
   "display_name": "Python 3 (ipykernel)",
   "language": "python",
   "name": "python3"
  },
  "language_info": {
   "codemirror_mode": {
    "name": "ipython",
    "version": 3
   },
   "file_extension": ".py",
   "mimetype": "text/x-python",
   "name": "python",
   "nbconvert_exporter": "python",
   "pygments_lexer": "ipython3",
   "version": "3.11.4"
  }
 },
 "nbformat": 4,
 "nbformat_minor": 5
}
