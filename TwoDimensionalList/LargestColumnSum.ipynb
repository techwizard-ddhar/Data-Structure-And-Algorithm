{
 "cells": [
  {
   "cell_type": "code",
   "execution_count": 15,
   "id": "03c07303-2db7-4bd4-808a-ea795aa6fa19",
   "metadata": {},
   "outputs": [
    {
     "name": "stdin",
     "output_type": "stream",
     "text": [
      "Enter values of row and column:  3 4\n",
      " 1 2 3 4\n",
      " 8 7 6 5\n",
      " 13 14 15 10\n"
     ]
    },
    {
     "name": "stdout",
     "output_type": "stream",
     "text": [
      "Matrix is: [[1, 2, 3, 4], [8, 7, 6, 5], [13, 14, 15, 10]]\n",
      "Sum of each column: [22, 23, 24, 19]\n",
      "Max value is: 24\n",
      "Index of max value is: 2\n"
     ]
    }
   ],
   "source": [
    "def max_values(lst):\n",
    "    max_value = 0\n",
    "    max_index = 0\n",
    "    for i in range(len(lst)):\n",
    "        if max_value < lst[i]:\n",
    "            max_value = lst[i]\n",
    "            max_index = i\n",
    "    return max_value, max_index\n",
    "\n",
    "def column_sum(lst, r, c):\n",
    "    result = []\n",
    "    for j in range(c):\n",
    "        sum = 0\n",
    "        for i in range(r):\n",
    "            sum += lst[i][j]\n",
    "        result.append(sum)\n",
    "    return result\n",
    "\n",
    "def matrix():\n",
    "    str = input(\"Enter values of row and column: \").split()\n",
    "    r, c = int(str[0]), int(str[1])\n",
    "    li = [[int(ele) for ele in input().split()] for i in range(r)]\n",
    "    return li\n",
    "\n",
    "result_1 = matrix()\n",
    "print(\"Matrix is:\", result_1)\n",
    "\n",
    "result_2 = column_sum(result_1, len(result_1), len(result_1[0]))\n",
    "print(\"Sum of each column:\", result_2)\n",
    "\n",
    "max_value, max_index = max_values(result_2)\n",
    "print(\"Max value is:\", max_value)\n",
    "print(\"Index of max value is:\", max_index)\n"
   ]
  },
  {
   "cell_type": "code",
   "execution_count": 9,
   "id": "cd028e9f-32be-413e-9859-7e8e847c7c1e",
   "metadata": {},
   "outputs": [
    {
     "name": "stdin",
     "output_type": "stream",
     "text": [
      "Enter values of row and column:  3 4\n",
      " 1 2 3 4\n",
      " 8 7 6 5\n",
      " 13 14 15 10\n"
     ]
    },
    {
     "name": "stdout",
     "output_type": "stream",
     "text": [
      "[[1, 2, 3, 4], [8, 7, 6, 5], [13, 14, 15, 10]]\n"
     ]
    }
   ],
   "source": [
    "str = input(\"Enter values of row and column: \").split()\n",
    "r,c = int(str[0]), int(str[1])\n",
    "li = [[int(ele) for ele in input().split()]for i in range(r)]\n",
    "print(li)"
   ]
  },
  {
   "cell_type": "code",
   "execution_count": 10,
   "id": "25fb2110-4e35-4acd-b5f4-e6adbbb51cdd",
   "metadata": {},
   "outputs": [
    {
     "name": "stdout",
     "output_type": "stream",
     "text": [
      "[22, 23, 24, 19]\n",
      "24\n"
     ]
    }
   ],
   "source": [
    "max = 0\n",
    "list = []\n",
    "for j in range(c):\n",
    "    sum = 0\n",
    "    for i in range(r):\n",
    "        sum += li[i][j]\n",
    "    list.append(sum)\n",
    "    if(max < sum):\n",
    "        max = sum\n",
    "print(list)\n",
    "print(max)"
   ]
  },
  {
   "cell_type": "code",
   "execution_count": 13,
   "id": "15d04a11-1f31-4cda-a347-1f4d86ca6479",
   "metadata": {},
   "outputs": [
    {
     "name": "stdout",
     "output_type": "stream",
     "text": [
      "24\n",
      "2\n"
     ]
    }
   ],
   "source": [
    "max_value = 0\n",
    "max_index = 0\n",
    "for i in range(len(list)):\n",
    "    if(max_value < list[i]):\n",
    "        max_value = list[i]\n",
    "        max_index = i\n",
    "print(max_value)\n",
    "print(max_index)"
   ]
  },
  {
   "cell_type": "code",
   "execution_count": null,
   "id": "8bbd13d4-a4a9-465b-a05c-1ecd119a4e00",
   "metadata": {},
   "outputs": [],
   "source": []
  }
 ],
 "metadata": {
  "kernelspec": {
   "display_name": "Python 3 (ipykernel)",
   "language": "python",
   "name": "python3"
  },
  "language_info": {
   "codemirror_mode": {
    "name": "ipython",
    "version": 3
   },
   "file_extension": ".py",
   "mimetype": "text/x-python",
   "name": "python",
   "nbconvert_exporter": "python",
   "pygments_lexer": "ipython3",
   "version": "3.11.4"
  }
 },
 "nbformat": 4,
 "nbformat_minor": 5
}
