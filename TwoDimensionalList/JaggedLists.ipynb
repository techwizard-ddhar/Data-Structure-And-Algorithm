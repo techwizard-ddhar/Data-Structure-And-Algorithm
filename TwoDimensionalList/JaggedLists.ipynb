{
 "cells": [
  {
   "cell_type": "markdown",
   "id": "f8ba6b18-bb38-402e-baae-f6cb62b8c194",
   "metadata": {},
   "source": [
    "![Jagged-Array](jagged-array.png)"
   ]
  },
  {
   "cell_type": "code",
   "execution_count": 1,
   "id": "e616cd8f-db7f-4cfd-9468-c55348456fed",
   "metadata": {},
   "outputs": [],
   "source": [
    "li=[[1,2,3,4],[5,6,7],[8,9],[10,11]]"
   ]
  },
  {
   "cell_type": "code",
   "execution_count": 2,
   "id": "6081bca5-aa8f-4f6e-9625-fbb132833e5b",
   "metadata": {},
   "outputs": [
    {
     "data": {
      "text/plain": [
       "[1, 2, 3, 4]"
      ]
     },
     "execution_count": 2,
     "metadata": {},
     "output_type": "execute_result"
    }
   ],
   "source": [
    "li[0]"
   ]
  },
  {
   "cell_type": "code",
   "execution_count": 3,
   "id": "eacd1a0e-5c12-40ea-a35d-4ada54b66f96",
   "metadata": {},
   "outputs": [
    {
     "data": {
      "text/plain": [
       "[8, 9]"
      ]
     },
     "execution_count": 3,
     "metadata": {},
     "output_type": "execute_result"
    }
   ],
   "source": [
    "li[2]"
   ]
  },
  {
   "cell_type": "code",
   "execution_count": 4,
   "id": "874e2f3e-c1dd-4244-a719-f9cc342f5460",
   "metadata": {},
   "outputs": [
    {
     "data": {
      "text/plain": [
       "3"
      ]
     },
     "execution_count": 4,
     "metadata": {},
     "output_type": "execute_result"
    }
   ],
   "source": [
    "li[0][2]"
   ]
  },
  {
   "cell_type": "code",
   "execution_count": null,
   "id": "6d6b6e41-a45c-4de3-8965-2e2d9cb2926e",
   "metadata": {},
   "outputs": [],
   "source": []
  }
 ],
 "metadata": {
  "kernelspec": {
   "display_name": "Python 3 (ipykernel)",
   "language": "python",
   "name": "python3"
  },
  "language_info": {
   "codemirror_mode": {
    "name": "ipython",
    "version": 3
   },
   "file_extension": ".py",
   "mimetype": "text/x-python",
   "name": "python",
   "nbconvert_exporter": "python",
   "pygments_lexer": "ipython3",
   "version": "3.11.4"
  }
 },
 "nbformat": 4,
 "nbformat_minor": 5
}
