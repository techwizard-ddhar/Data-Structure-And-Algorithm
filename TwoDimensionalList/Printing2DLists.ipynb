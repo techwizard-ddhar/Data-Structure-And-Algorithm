{
 "cells": [
  {
   "cell_type": "code",
   "execution_count": 1,
   "id": "7a9108c8-1771-46f2-aebd-6a3064ed9e7a",
   "metadata": {},
   "outputs": [],
   "source": [
    "li = [[1,2,3,4], [5,6,7,8], [9,10,11,12]]"
   ]
  },
  {
   "cell_type": "code",
   "execution_count": 2,
   "id": "e4999b95-b581-4fd4-8b1a-fa04e9214236",
   "metadata": {},
   "outputs": [],
   "source": [
    "n = 3\n",
    "m = 4"
   ]
  },
  {
   "cell_type": "code",
   "execution_count": 4,
   "id": "b47d84ad-02fa-4b05-8d6f-433a9efd0ad7",
   "metadata": {},
   "outputs": [
    {
     "name": "stdout",
     "output_type": "stream",
     "text": [
      "1\n",
      "2\n",
      "3\n",
      "4\n",
      "\n",
      "\n",
      "5\n",
      "6\n",
      "7\n",
      "8\n",
      "\n",
      "\n",
      "9\n",
      "10\n",
      "11\n",
      "12\n",
      "\n",
      "\n"
     ]
    }
   ],
   "source": [
    "for i in range(n):\n",
    "    for j in range(m):\n",
    "        print(li[i][j])\n",
    "    print('\\n')"
   ]
  },
  {
   "cell_type": "code",
   "execution_count": 6,
   "id": "62537ee6-2e33-4bca-a37a-ffd120f0d31a",
   "metadata": {},
   "outputs": [
    {
     "name": "stdout",
     "output_type": "stream",
     "text": [
      "1 2 3 4 \n",
      "5 6 7 8 \n",
      "9 10 11 12 \n"
     ]
    }
   ],
   "source": [
    "for i in range(n):\n",
    "    for j in range(m):\n",
    "        print(li[i][j], end = ' ')\n",
    "    print()"
   ]
  },
  {
   "cell_type": "markdown",
   "id": "d964f052-4e8f-4242-9560-57bf4367b2f0",
   "metadata": {},
   "source": [
    "# Jagged Array"
   ]
  },
  {
   "cell_type": "code",
   "execution_count": 9,
   "id": "3a65c07a-3cfb-4926-b42d-528772285ca8",
   "metadata": {},
   "outputs": [],
   "source": [
    "li_1 = [[1,2,3,4], [5,6], [9,10,11]]"
   ]
  },
  {
   "cell_type": "code",
   "execution_count": 13,
   "id": "63187514-2ab9-4b7d-ab0c-cbbb6e629a9f",
   "metadata": {},
   "outputs": [
    {
     "name": "stdout",
     "output_type": "stream",
     "text": [
      "1 2 3 4 \n",
      "5 6 \n",
      "9 10 11 \n"
     ]
    }
   ],
   "source": [
    "n = 3\n",
    "for i in li_1:\n",
    "    for ele in i:\n",
    "        print(ele, end = ' ')\n",
    "    print()"
   ]
  },
  {
   "cell_type": "code",
   "execution_count": 14,
   "id": "82167586-6384-49ff-bc26-16b3982c8c23",
   "metadata": {},
   "outputs": [],
   "source": [
    "li_2 = [[1,2,3,4], [5,6,7,8], [9,10,11,12]]"
   ]
  },
  {
   "cell_type": "code",
   "execution_count": 17,
   "id": "4e049d3c-11a5-4883-8c4a-10cd2e5ca073",
   "metadata": {},
   "outputs": [
    {
     "name": "stdout",
     "output_type": "stream",
     "text": [
      "1 2 3 4 \n",
      "5 6 7 8 \n",
      "9 10 11 12 \n"
     ]
    }
   ],
   "source": [
    "for row in li_2:\n",
    "    for column in row :\n",
    "        print(column, end = ' ')\n",
    "    print()"
   ]
  },
  {
   "cell_type": "markdown",
   "id": "d0723018-21ea-4f5e-b289-a4cd04fa8c8d",
   "metadata": {},
   "source": [
    "# JOIN"
   ]
  },
  {
   "cell_type": "code",
   "execution_count": 26,
   "id": "1d5149bd-3e51-457d-9e23-d2ed20af6320",
   "metadata": {},
   "outputs": [
    {
     "data": {
      "text/plain": [
       "'dabeabb'"
      ]
     },
     "execution_count": 26,
     "metadata": {},
     "output_type": "execute_result"
    }
   ],
   "source": [
    "'ab'.join('deb') # last index will not be included"
   ]
  },
  {
   "cell_type": "code",
   "execution_count": 27,
   "id": "6c267644-785f-4b3a-9eec-1d0e899e29fb",
   "metadata": {},
   "outputs": [
    {
     "ename": "NameError",
     "evalue": "name 'join' is not defined",
     "output_type": "error",
     "traceback": [
      "\u001b[1;31m---------------------------------------------------------------------------\u001b[0m",
      "\u001b[1;31mNameError\u001b[0m                                 Traceback (most recent call last)",
      "Cell \u001b[1;32mIn[27], line 1\u001b[0m\n\u001b[1;32m----> 1\u001b[0m \u001b[38;5;124m'\u001b[39m\u001b[38;5;124mab\u001b[39m\u001b[38;5;124m'\u001b[39m,\u001b[43mjoin\u001b[49m([\u001b[38;5;241m1\u001b[39m,\u001b[38;5;241m2\u001b[39m,\u001b[38;5;241m3\u001b[39m,\u001b[38;5;241m4\u001b[39m])\n",
      "\u001b[1;31mNameError\u001b[0m: name 'join' is not defined"
     ]
    }
   ],
   "source": [
    "'ab',join([1,2,3,4]) # it works only with stirng"
   ]
  },
  {
   "cell_type": "code",
   "execution_count": 28,
   "id": "6dff884a-5553-43d4-b21f-0055f92ba34f",
   "metadata": {},
   "outputs": [
    {
     "data": {
      "text/plain": [
       "'1ab2ab3ab4'"
      ]
     },
     "execution_count": 28,
     "metadata": {},
     "output_type": "execute_result"
    }
   ],
   "source": [
    "'ab'.join(['1','2','3','4'])"
   ]
  },
  {
   "cell_type": "code",
   "execution_count": 25,
   "id": "1f8c6cf5-b164-4fd8-883d-6c25fe529073",
   "metadata": {},
   "outputs": [
    {
     "name": "stdout",
     "output_type": "stream",
     "text": [
      "1 2 3 4\n",
      "5 6 7 8\n",
      "9 10 11 12\n"
     ]
    }
   ],
   "source": [
    "li_3 = [[1,2,3,4], [5,6,7,8], [9,10,11,12]]\n",
    "for row in li_3:\n",
    "    result = ' '.join([str(ele) for ele in row])\n",
    "    print(result)"
   ]
  },
  {
   "cell_type": "markdown",
   "id": "297dcd9e-6b7c-4f81-bddb-e90397d10477",
   "metadata": {},
   "source": [
    "# join function expects an iterable (like a list or tuple) of strings"
   ]
  },
  {
   "cell_type": "code",
   "execution_count": 37,
   "id": "32965a44-d187-4e83-b865-f16a5aba7b6c",
   "metadata": {},
   "outputs": [
    {
     "name": "stdout",
     "output_type": "stream",
     "text": [
      "1\n",
      "2\n",
      "3\n",
      "4\n",
      "5\n",
      "6\n",
      "7\n",
      "8\n",
      "9\n"
     ]
    }
   ],
   "source": [
    "li_4 = [[1,2,3], [4,5], [6,7,8,9]] # wrong output\n",
    "for row in li_4:\n",
    "    for ele in row :\n",
    "        output = ' '.join(str(ele))\n",
    "        print(output)"
   ]
  },
  {
   "cell_type": "code",
   "execution_count": 42,
   "id": "dad6784f-6880-4302-8869-fb2e01331f98",
   "metadata": {},
   "outputs": [
    {
     "name": "stdin",
     "output_type": "stream",
     "text": [
      "Enter the values 3 4 1 2 3 4 5 6 7 8 9 10 11 12\n"
     ]
    },
    {
     "name": "stdout",
     "output_type": "stream",
     "text": [
      "[[1, 2, 3, 4], [5, 6, 7, 8], [9, 10, 11, 12]]\n"
     ]
    }
   ],
   "source": [
    "str = input(\"Enter the values\").split()\n",
    "n, m = int(str[0]), int(str[1])\n",
    "b = str[2:]\n",
    "list_3 = [[int(b[m*i+j]) for j in range(m)]for i in range(n)]\n",
    "print(list_3)"
   ]
  },
  {
   "cell_type": "code",
   "execution_count": 53,
   "id": "c826f296-a24c-463f-a32e-df32f4001c3b",
   "metadata": {},
   "outputs": [
    {
     "name": "stdin",
     "output_type": "stream",
     "text": [
      "Enter the values 4 2\n",
      " 1 2\n",
      " 3 4\n",
      " 5 6\n",
      " 7 8\n"
     ]
    },
    {
     "ename": "TypeError",
     "evalue": "'int' object is not callable",
     "output_type": "error",
     "traceback": [
      "\u001b[1;31m---------------------------------------------------------------------------\u001b[0m",
      "\u001b[1;31mTypeError\u001b[0m                                 Traceback (most recent call last)",
      "Cell \u001b[1;32mIn[53], line 4\u001b[0m\n\u001b[0;32m      2\u001b[0m n, m \u001b[38;5;241m=\u001b[39m \u001b[38;5;28mint\u001b[39m(\u001b[38;5;28mstr\u001b[39m[\u001b[38;5;241m0\u001b[39m]), \u001b[38;5;28mint\u001b[39m(\u001b[38;5;28mstr\u001b[39m[\u001b[38;5;241m1\u001b[39m])\n\u001b[0;32m      3\u001b[0m list_3 \u001b[38;5;241m=\u001b[39m [[\u001b[38;5;28mint\u001b[39m(ele)\u001b[38;5;28;01mfor\u001b[39;00m ele \u001b[38;5;129;01min\u001b[39;00m \u001b[38;5;28minput\u001b[39m()\u001b[38;5;241m.\u001b[39msplit()]\u001b[38;5;28;01mfor\u001b[39;00m i \u001b[38;5;129;01min\u001b[39;00m \u001b[38;5;28mrange\u001b[39m(n)]\n\u001b[1;32m----> 4\u001b[0m output \u001b[38;5;241m=\u001b[39m \u001b[43m[\u001b[49m\u001b[38;5;28;43msum\u001b[39;49m\u001b[43m(\u001b[49m\u001b[43me\u001b[49m\u001b[43m)\u001b[49m\u001b[43m \u001b[49m\u001b[38;5;28;43;01mfor\u001b[39;49;00m\u001b[43m \u001b[49m\u001b[43me\u001b[49m\u001b[43m \u001b[49m\u001b[38;5;129;43;01min\u001b[39;49;00m\u001b[43m \u001b[49m\u001b[43mlist_3\u001b[49m\u001b[43m]\u001b[49m\n\u001b[0;32m      5\u001b[0m \u001b[38;5;28mprint\u001b[39m(list_3)\n\u001b[0;32m      6\u001b[0m \u001b[38;5;28mprint\u001b[39m(output)\n",
      "Cell \u001b[1;32mIn[53], line 4\u001b[0m, in \u001b[0;36m<listcomp>\u001b[1;34m(.0)\u001b[0m\n\u001b[0;32m      2\u001b[0m n, m \u001b[38;5;241m=\u001b[39m \u001b[38;5;28mint\u001b[39m(\u001b[38;5;28mstr\u001b[39m[\u001b[38;5;241m0\u001b[39m]), \u001b[38;5;28mint\u001b[39m(\u001b[38;5;28mstr\u001b[39m[\u001b[38;5;241m1\u001b[39m])\n\u001b[0;32m      3\u001b[0m list_3 \u001b[38;5;241m=\u001b[39m [[\u001b[38;5;28mint\u001b[39m(ele)\u001b[38;5;28;01mfor\u001b[39;00m ele \u001b[38;5;129;01min\u001b[39;00m \u001b[38;5;28minput\u001b[39m()\u001b[38;5;241m.\u001b[39msplit()]\u001b[38;5;28;01mfor\u001b[39;00m i \u001b[38;5;129;01min\u001b[39;00m \u001b[38;5;28mrange\u001b[39m(n)]\n\u001b[1;32m----> 4\u001b[0m output \u001b[38;5;241m=\u001b[39m [\u001b[38;5;28;43msum\u001b[39;49m\u001b[43m(\u001b[49m\u001b[43me\u001b[49m\u001b[43m)\u001b[49m \u001b[38;5;28;01mfor\u001b[39;00m e \u001b[38;5;129;01min\u001b[39;00m list_3]\n\u001b[0;32m      5\u001b[0m \u001b[38;5;28mprint\u001b[39m(list_3)\n\u001b[0;32m      6\u001b[0m \u001b[38;5;28mprint\u001b[39m(output)\n",
      "\u001b[1;31mTypeError\u001b[0m: 'int' object is not callable"
     ]
    }
   ],
   "source": [
    "str = input(\"Enter the values\").split()\n",
    "n, m = int(str[0]), int(str[1])\n",
    "list_3 = [[int(ele)for ele in input().split()]for i in range(n)]\n",
    "output = [sum(e) for e in list_3]\n",
    "print(list_3)\n",
    "print(output)"
   ]
  },
  {
   "cell_type": "code",
   "execution_count": 47,
   "id": "aa24cb41-2a71-423d-b35a-669b01cfc27e",
   "metadata": {},
   "outputs": [
    {
     "name": "stdout",
     "output_type": "stream",
     "text": [
      "[1, 3, 6, 10, 15, 21, 28, 36, 45, 55, 66, 78]\n"
     ]
    }
   ],
   "source": [
    "sum = 0\n",
    "list = []\n",
    "li = [[1,2,3,4], [5,6,7,8], [9,10,11,12]]\n",
    "for i in li:\n",
    "    for ele in i:\n",
    "        sum = sum + ele\n",
    "        list.append(sum)\n",
    "print(list)"
   ]
  },
  {
   "cell_type": "code",
   "execution_count": 54,
   "id": "cf7c4455-8564-4a28-99ec-644cf07912e2",
   "metadata": {},
   "outputs": [
    {
     "name": "stdin",
     "output_type": "stream",
     "text": [
      "Enter the values:  4 3\n",
      " 1 2 3\n",
      " 4 5 6\n",
      " 7 8 9\n",
      " 10 11 12\n"
     ]
    },
    {
     "ename": "TypeError",
     "evalue": "'int' object is not callable",
     "output_type": "error",
     "traceback": [
      "\u001b[1;31m---------------------------------------------------------------------------\u001b[0m",
      "\u001b[1;31mTypeError\u001b[0m                                 Traceback (most recent call last)",
      "Cell \u001b[1;32mIn[54], line 6\u001b[0m\n\u001b[0;32m      3\u001b[0m list_3 \u001b[38;5;241m=\u001b[39m [[\u001b[38;5;28mint\u001b[39m(ele) \u001b[38;5;28;01mfor\u001b[39;00m ele \u001b[38;5;129;01min\u001b[39;00m \u001b[38;5;28minput\u001b[39m()\u001b[38;5;241m.\u001b[39msplit()] \u001b[38;5;28;01mfor\u001b[39;00m i \u001b[38;5;129;01min\u001b[39;00m \u001b[38;5;28mrange\u001b[39m(n)]\n\u001b[0;32m      5\u001b[0m \u001b[38;5;66;03m# Calculate the sum of each row using list comprehension\u001b[39;00m\n\u001b[1;32m----> 6\u001b[0m row_sums \u001b[38;5;241m=\u001b[39m \u001b[43m[\u001b[49m\u001b[38;5;28;43msum\u001b[39;49m\u001b[43m(\u001b[49m\u001b[43me\u001b[49m\u001b[43m)\u001b[49m\u001b[43m \u001b[49m\u001b[38;5;28;43;01mfor\u001b[39;49;00m\u001b[43m \u001b[49m\u001b[43me\u001b[49m\u001b[43m \u001b[49m\u001b[38;5;129;43;01min\u001b[39;49;00m\u001b[43m \u001b[49m\u001b[43mlist_3\u001b[49m\u001b[43m]\u001b[49m\n\u001b[0;32m      8\u001b[0m \u001b[38;5;28mprint\u001b[39m(\u001b[38;5;124m\"\u001b[39m\u001b[38;5;124mThe 2D list is:\u001b[39m\u001b[38;5;124m\"\u001b[39m)\n\u001b[0;32m      9\u001b[0m \u001b[38;5;28;01mfor\u001b[39;00m row \u001b[38;5;129;01min\u001b[39;00m list_3:\n",
      "Cell \u001b[1;32mIn[54], line 6\u001b[0m, in \u001b[0;36m<listcomp>\u001b[1;34m(.0)\u001b[0m\n\u001b[0;32m      3\u001b[0m list_3 \u001b[38;5;241m=\u001b[39m [[\u001b[38;5;28mint\u001b[39m(ele) \u001b[38;5;28;01mfor\u001b[39;00m ele \u001b[38;5;129;01min\u001b[39;00m \u001b[38;5;28minput\u001b[39m()\u001b[38;5;241m.\u001b[39msplit()] \u001b[38;5;28;01mfor\u001b[39;00m i \u001b[38;5;129;01min\u001b[39;00m \u001b[38;5;28mrange\u001b[39m(n)]\n\u001b[0;32m      5\u001b[0m \u001b[38;5;66;03m# Calculate the sum of each row using list comprehension\u001b[39;00m\n\u001b[1;32m----> 6\u001b[0m row_sums \u001b[38;5;241m=\u001b[39m [\u001b[38;5;28;43msum\u001b[39;49m\u001b[43m(\u001b[49m\u001b[43me\u001b[49m\u001b[43m)\u001b[49m \u001b[38;5;28;01mfor\u001b[39;00m e \u001b[38;5;129;01min\u001b[39;00m list_3]\n\u001b[0;32m      8\u001b[0m \u001b[38;5;28mprint\u001b[39m(\u001b[38;5;124m\"\u001b[39m\u001b[38;5;124mThe 2D list is:\u001b[39m\u001b[38;5;124m\"\u001b[39m)\n\u001b[0;32m      9\u001b[0m \u001b[38;5;28;01mfor\u001b[39;00m row \u001b[38;5;129;01min\u001b[39;00m list_3:\n",
      "\u001b[1;31mTypeError\u001b[0m: 'int' object is not callable"
     ]
    }
   ],
   "source": [
    "input_str = input(\"Enter the values: \").split()\n",
    "n, m = int(input_str[0]), int(input_str[1])\n",
    "list_3 = [[int(ele) for ele in input().split()] for i in range(n)]\n",
    "\n",
    "# Calculate the sum of each row using list comprehension\n",
    "row_sums = [sum(e) for e in list_3]\n",
    "\n",
    "print(\"The 2D list is:\")\n",
    "for row in list_3:\n",
    "    print(row)\n",
    "\n",
    "print(\"The sum of each row is:\")\n",
    "print(row_sums)\n"
   ]
  },
  {
   "cell_type": "code",
   "execution_count": null,
   "id": "21bb5c9b-36aa-487b-b513-4a3dda4a899e",
   "metadata": {},
   "outputs": [],
   "source": []
  }
 ],
 "metadata": {
  "kernelspec": {
   "display_name": "Python 3 (ipykernel)",
   "language": "python",
   "name": "python3"
  },
  "language_info": {
   "codemirror_mode": {
    "name": "ipython",
    "version": 3
   },
   "file_extension": ".py",
   "mimetype": "text/x-python",
   "name": "python",
   "nbconvert_exporter": "python",
   "pygments_lexer": "ipython3",
   "version": "3.11.4"
  }
 },
 "nbformat": 4,
 "nbformat_minor": 5
}
