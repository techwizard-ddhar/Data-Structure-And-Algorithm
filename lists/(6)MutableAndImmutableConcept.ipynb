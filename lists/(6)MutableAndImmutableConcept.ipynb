{
 "cells": [
  {
   "cell_type": "markdown",
   "id": "7406f7b3-a2fd-47fb-af13-4413b2c68e0f",
   "metadata": {},
   "source": [
    "ImMutable"
   ]
  },
  {
   "cell_type": "code",
   "execution_count": 9,
   "id": "c264a36d-4d13-4d4a-b229-64d0797dc2f0",
   "metadata": {},
   "outputs": [
    {
     "name": "stdout",
     "output_type": "stream",
     "text": [
      "3\n"
     ]
    }
   ],
   "source": [
    "x = 3                   \n",
    "y = 3                      # different variables have same reference\n",
    "print(x)"
   ]
  },
  {
   "cell_type": "code",
   "execution_count": 10,
   "id": "e5880757-e4ee-48c3-9d93-48d40d6ff3de",
   "metadata": {},
   "outputs": [
    {
     "data": {
      "text/plain": [
       "140712765809512"
      ]
     },
     "execution_count": 10,
     "metadata": {},
     "output_type": "execute_result"
    }
   ],
   "source": [
    "id(x)"
   ]
  },
  {
   "cell_type": "code",
   "execution_count": 11,
   "id": "ed618a0e-74c3-47f1-b5e7-2ae7eff4bcae",
   "metadata": {},
   "outputs": [
    {
     "data": {
      "text/plain": [
       "140712765809512"
      ]
     },
     "execution_count": 11,
     "metadata": {},
     "output_type": "execute_result"
    }
   ],
   "source": [
    "id(y)"
   ]
  },
  {
   "cell_type": "code",
   "execution_count": 12,
   "id": "98349be0-2327-48d8-a232-9bfd771b70a7",
   "metadata": {},
   "outputs": [
    {
     "name": "stdout",
     "output_type": "stream",
     "text": [
      "4\n"
     ]
    }
   ],
   "source": [
    "x = 4                   # Cannot be modified after creation.\n",
    "print(x)                # Any change creates a new object.\n",
    "                        # strings, tuples, integers.\n"
   ]
  },
  {
   "cell_type": "code",
   "execution_count": 13,
   "id": "257ee8c7-ae54-4bc9-957d-f12ba0150ee3",
   "metadata": {},
   "outputs": [
    {
     "data": {
      "text/plain": [
       "140712765809544"
      ]
     },
     "execution_count": 13,
     "metadata": {},
     "output_type": "execute_result"
    }
   ],
   "source": [
    "id(x)    # Any change creates a new object."
   ]
  },
  {
   "cell_type": "code",
   "execution_count": 14,
   "id": "bea75426-08bc-4b54-b8e1-bc5c3a30e491",
   "metadata": {},
   "outputs": [
    {
     "name": "stdout",
     "output_type": "stream",
     "text": [
      "3\n"
     ]
    }
   ],
   "source": [
    "print(y)"
   ]
  },
  {
   "cell_type": "markdown",
   "id": "58d8a296-3838-4c55-a817-92704ab0197a",
   "metadata": {},
   "source": [
    "Mutable"
   ]
  },
  {
   "cell_type": "code",
   "execution_count": 15,
   "id": "7e1fc6bf-0f64-4bc4-98d7-d9bc5a7455af",
   "metadata": {},
   "outputs": [
    {
     "name": "stdout",
     "output_type": "stream",
     "text": [
      "1\n",
      "2\n",
      "3\n",
      "4\n"
     ]
    }
   ],
   "source": [
    "li = [1, 2, 3, 4]\n",
    "li2 = li                       # both list pointing to same reference\n",
    "for ele in li2:\n",
    "    print(ele)"
   ]
  },
  {
   "cell_type": "code",
   "execution_count": 16,
   "id": "044af01b-0f34-4db4-a805-e2910ce1d494",
   "metadata": {},
   "outputs": [
    {
     "data": {
      "text/plain": [
       "2201590448960"
      ]
     },
     "execution_count": 16,
     "metadata": {},
     "output_type": "execute_result"
    }
   ],
   "source": [
    "id(li)"
   ]
  },
  {
   "cell_type": "code",
   "execution_count": 17,
   "id": "e20fc79a-62c0-4e5b-9956-6d4e91955ee3",
   "metadata": {},
   "outputs": [
    {
     "data": {
      "text/plain": [
       "2201590448960"
      ]
     },
     "execution_count": 17,
     "metadata": {},
     "output_type": "execute_result"
    }
   ],
   "source": [
    "id(li2)"
   ]
  },
  {
   "cell_type": "code",
   "execution_count": 19,
   "id": "09caa07a-0b59-4dd7-b850-7da41b9d070b",
   "metadata": {},
   "outputs": [],
   "source": [
    "li2[2] = 10      # Can be modified after creation.\n",
    "                 # Changes do not create a new object.\n",
    "                 # Examples: lists, dictionaries, sets, user-defined classes."
   ]
  },
  {
   "cell_type": "code",
   "execution_count": 20,
   "id": "a0925222-8540-4222-bb51-308227a9ac25",
   "metadata": {},
   "outputs": [
    {
     "data": {
      "text/plain": [
       "[1, 2, 10, 4]"
      ]
     },
     "execution_count": 20,
     "metadata": {},
     "output_type": "execute_result"
    }
   ],
   "source": [
    "li2"
   ]
  },
  {
   "cell_type": "code",
   "execution_count": 21,
   "id": "1fc86daa-5fe5-4f90-8020-77146bfb6cfe",
   "metadata": {},
   "outputs": [
    {
     "data": {
      "text/plain": [
       "2201590448960"
      ]
     },
     "execution_count": 21,
     "metadata": {},
     "output_type": "execute_result"
    }
   ],
   "source": [
    "id(li2)         # Changes do not create a new object.\n"
   ]
  },
  {
   "cell_type": "code",
   "execution_count": 22,
   "id": "12a82b24-2014-492c-97e5-1d33a95194ea",
   "metadata": {},
   "outputs": [
    {
     "data": {
      "text/plain": [
       "[1, 2, 10, 4]"
      ]
     },
     "execution_count": 22,
     "metadata": {},
     "output_type": "execute_result"
    }
   ],
   "source": [
    "li"
   ]
  },
  {
   "cell_type": "code",
   "execution_count": null,
   "id": "e66f1d68-dcfd-4ee3-ab19-cd4467ba3699",
   "metadata": {},
   "outputs": [],
   "source": [
    " "
   ]
  }
 ],
 "metadata": {
  "kernelspec": {
   "display_name": "Python 3 (ipykernel)",
   "language": "python",
   "name": "python3"
  },
  "language_info": {
   "codemirror_mode": {
    "name": "ipython",
    "version": 3
   },
   "file_extension": ".py",
   "mimetype": "text/x-python",
   "name": "python",
   "nbconvert_exporter": "python",
   "pygments_lexer": "ipython3",
   "version": "3.11.4"
  }
 },
 "nbformat": 4,
 "nbformat_minor": 5
}
