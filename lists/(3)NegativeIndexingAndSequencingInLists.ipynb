{
 "cells": [
  {
   "cell_type": "code",
   "execution_count": 2,
   "id": "b73c3985-15f8-4131-9a81-154e0b312bcf",
   "metadata": {},
   "outputs": [],
   "source": [
    "li = [1, 2.4, \"Debanjan\", 9, 'd']"
   ]
  },
  {
   "cell_type": "code",
   "execution_count": 3,
   "id": "af15df86-d285-4586-90fa-555848f688c9",
   "metadata": {},
   "outputs": [
    {
     "data": {
      "text/plain": [
       "[1, 2.4, 'Debanjan', 9, 'd']"
      ]
     },
     "execution_count": 3,
     "metadata": {},
     "output_type": "execute_result"
    }
   ],
   "source": [
    "li"
   ]
  },
  {
   "cell_type": "code",
   "execution_count": 4,
   "id": "7905b00b-4008-41a0-bbe1-d30b51895ac6",
   "metadata": {},
   "outputs": [
    {
     "data": {
      "text/plain": [
       "'d'"
      ]
     },
     "execution_count": 4,
     "metadata": {},
     "output_type": "execute_result"
    }
   ],
   "source": [
    "li[-1] # print last element"
   ]
  },
  {
   "cell_type": "code",
   "execution_count": 5,
   "id": "30940151-721d-49a7-80fb-8e7994c33f16",
   "metadata": {},
   "outputs": [
    {
     "data": {
      "text/plain": [
       "9"
      ]
     },
     "execution_count": 5,
     "metadata": {},
     "output_type": "execute_result"
    }
   ],
   "source": [
    "li[-2] # print 2nd last element"
   ]
  },
  {
   "cell_type": "code",
   "execution_count": 6,
   "id": "f98015be-4f39-4940-87db-f36a8d1417e6",
   "metadata": {},
   "outputs": [
    {
     "data": {
      "text/plain": [
       "'Debanjan'"
      ]
     },
     "execution_count": 6,
     "metadata": {},
     "output_type": "execute_result"
    }
   ],
   "source": [
    "li[-3] # print 3rd last element"
   ]
  },
  {
   "cell_type": "code",
   "execution_count": 7,
   "id": "15ce23a1-c633-4430-bbc5-d254560940ed",
   "metadata": {},
   "outputs": [
    {
     "data": {
      "text/plain": [
       "2.4"
      ]
     },
     "execution_count": 7,
     "metadata": {},
     "output_type": "execute_result"
    }
   ],
   "source": [
    "li[-4]"
   ]
  },
  {
   "cell_type": "code",
   "execution_count": 8,
   "id": "987845b1-3b91-473d-bcbb-b24aff3592c3",
   "metadata": {},
   "outputs": [
    {
     "data": {
      "text/plain": [
       "1"
      ]
     },
     "execution_count": 8,
     "metadata": {},
     "output_type": "execute_result"
    }
   ],
   "source": [
    "li[-5]"
   ]
  },
  {
   "cell_type": "markdown",
   "id": "fc40f8e5-df93-4a3f-a7c3-201d490c8538",
   "metadata": {},
   "source": [
    "Sequencing In Lists"
   ]
  },
  {
   "cell_type": "code",
   "execution_count": 9,
   "id": "84097881-7bbf-4f12-a13c-487ae4869b53",
   "metadata": {},
   "outputs": [],
   "source": [
    "li = [1, 2, 3, 4, 5, 6]"
   ]
  },
  {
   "cell_type": "code",
   "execution_count": 10,
   "id": "c635b8e6-07da-4ae5-a835-f04775bd0018",
   "metadata": {},
   "outputs": [
    {
     "data": {
      "text/plain": [
       "[1, 2, 3, 4, 5, 6]"
      ]
     },
     "execution_count": 10,
     "metadata": {},
     "output_type": "execute_result"
    }
   ],
   "source": [
    "li"
   ]
  },
  {
   "cell_type": "code",
   "execution_count": 11,
   "id": "ab3bed0b-f3f8-48bf-8981-a62944ce0b80",
   "metadata": {},
   "outputs": [
    {
     "data": {
      "text/plain": [
       "[2, 3, 4, 5, 6]"
      ]
     },
     "execution_count": 11,
     "metadata": {},
     "output_type": "execute_result"
    }
   ],
   "source": [
    "li[1:7:1]  # [ start: end: step]"
   ]
  },
  {
   "cell_type": "code",
   "execution_count": 12,
   "id": "210ce164-56e8-4468-beed-b0623f8fa364",
   "metadata": {},
   "outputs": [
    {
     "data": {
      "text/plain": [
       "[2, 4, 6]"
      ]
     },
     "execution_count": 12,
     "metadata": {},
     "output_type": "execute_result"
    }
   ],
   "source": [
    "li[1:7:2]"
   ]
  },
  {
   "cell_type": "code",
   "execution_count": 13,
   "id": "ced5c38a-4bd5-4f8c-bab7-d4352a060b15",
   "metadata": {},
   "outputs": [
    {
     "data": {
      "text/plain": [
       "[2, 4]"
      ]
     },
     "execution_count": 13,
     "metadata": {},
     "output_type": "execute_result"
    }
   ],
   "source": [
    "li[1:5:2]"
   ]
  },
  {
   "cell_type": "code",
   "execution_count": 14,
   "id": "ae4a5b4a-bd56-4ed4-9d3d-733db70f3727",
   "metadata": {},
   "outputs": [
    {
     "data": {
      "text/plain": [
       "[2, 3, 4, 5, 6]"
      ]
     },
     "execution_count": 14,
     "metadata": {},
     "output_type": "execute_result"
    }
   ],
   "source": [
    "li[1:] # starting from 1st index to last(n-1)"
   ]
  },
  {
   "cell_type": "code",
   "execution_count": 15,
   "id": "51cda0ac-501e-444a-af52-f9392a2949aa",
   "metadata": {},
   "outputs": [
    {
     "data": {
      "text/plain": [
       "[2, 4, 6]"
      ]
     },
     "execution_count": 15,
     "metadata": {},
     "output_type": "execute_result"
    }
   ],
   "source": [
    "li[1::2] # starting from 1st index to last with Step = 2"
   ]
  },
  {
   "cell_type": "code",
   "execution_count": 16,
   "id": "a9ae1751-5a49-41da-8633-3091db3262e4",
   "metadata": {},
   "outputs": [
    {
     "data": {
      "text/plain": [
       "[1, 2, 3]"
      ]
     },
     "execution_count": 16,
     "metadata": {},
     "output_type": "execute_result"
    }
   ],
   "source": [
    "li[:3] # Starting index = By Default(index 0) End index = (3-1 = index 2) Step = By Default( 1 )"
   ]
  },
  {
   "cell_type": "code",
   "execution_count": 17,
   "id": "47b5137d-b09c-4179-9824-b8621337c4d9",
   "metadata": {},
   "outputs": [
    {
     "data": {
      "text/plain": [
       "[6]"
      ]
     },
     "execution_count": 17,
     "metadata": {},
     "output_type": "execute_result"
    }
   ],
   "source": [
    "li[-1:] # Both Starting and End index = last element of the lists"
   ]
  },
  {
   "cell_type": "code",
   "execution_count": 18,
   "id": "495e882f-407a-4685-b45c-fdc1f967cf59",
   "metadata": {},
   "outputs": [
    {
     "data": {
      "text/plain": [
       "[1, 2, 3, 4, 5, 6]"
      ]
     },
     "execution_count": 18,
     "metadata": {},
     "output_type": "execute_result"
    }
   ],
   "source": [
    "li"
   ]
  },
  {
   "cell_type": "code",
   "execution_count": 19,
   "id": "a6fc1f6d-abe5-472f-9bef-a7a64823ba1a",
   "metadata": {},
   "outputs": [
    {
     "data": {
      "text/plain": [
       "[2, 3, 4]"
      ]
     },
     "execution_count": 19,
     "metadata": {},
     "output_type": "execute_result"
    }
   ],
   "source": [
    "li[-5:-2]  #Start index = 5th last ele; End index = (-2-1 = -3 = 3rd last ele)"
   ]
  },
  {
   "cell_type": "code",
   "execution_count": null,
   "id": "0f200574-8a31-4afd-8b94-70e29b8b95a8",
   "metadata": {},
   "outputs": [],
   "source": []
  }
 ],
 "metadata": {
  "kernelspec": {
   "display_name": "Python 3 (ipykernel)",
   "language": "python",
   "name": "python3"
  },
  "language_info": {
   "codemirror_mode": {
    "name": "ipython",
    "version": 3
   },
   "file_extension": ".py",
   "mimetype": "text/x-python",
   "name": "python",
   "nbconvert_exporter": "python",
   "pygments_lexer": "ipython3",
   "version": "3.11.4"
  }
 },
 "nbformat": 4,
 "nbformat_minor": 5
}
