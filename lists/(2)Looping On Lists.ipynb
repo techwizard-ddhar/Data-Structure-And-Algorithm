{
 "cells": [
  {
   "cell_type": "code",
   "execution_count": 1,
   "id": "c54c01f5-48f0-4681-864c-24c0eace714c",
   "metadata": {},
   "outputs": [],
   "source": [
    "li = [1, 2.4, \"Debanjan\", 's', 9, 10]"
   ]
  },
  {
   "cell_type": "code",
   "execution_count": 2,
   "id": "7f19a57f-3d2f-4935-8a4e-e34aa1716c11",
   "metadata": {},
   "outputs": [
    {
     "data": {
      "text/plain": [
       "[1, 2.4, 'Debanjan', 's', 9, 10]"
      ]
     },
     "execution_count": 2,
     "metadata": {},
     "output_type": "execute_result"
    }
   ],
   "source": [
    "li"
   ]
  },
  {
   "cell_type": "code",
   "execution_count": 5,
   "id": "334534fa-3991-4396-a2ca-96c0d87940ce",
   "metadata": {},
   "outputs": [
    {
     "name": "stdout",
     "output_type": "stream",
     "text": [
      "1\n",
      "2.4\n",
      "Debanjan\n",
      "s\n",
      "9\n",
      "10\n"
     ]
    }
   ],
   "source": [
    "for i in range(len(li)): # using Range \n",
    "    print(li[i])"
   ]
  },
  {
   "cell_type": "code",
   "execution_count": 6,
   "id": "2b2473c8-cdde-4fc7-b056-e5a91dab9992",
   "metadata": {},
   "outputs": [
    {
     "name": "stdout",
     "output_type": "stream",
     "text": [
      "Debanjan\n",
      "s\n",
      "9\n",
      "10\n"
     ]
    }
   ],
   "source": [
    "for i in range(2, len(li)): # start printing elements from index 2 to (n-1)\n",
    "    print(li[i])"
   ]
  },
  {
   "cell_type": "code",
   "execution_count": 8,
   "id": "0e43efb1-7cff-40c7-afdf-fba8887c9975",
   "metadata": {},
   "outputs": [
    {
     "name": "stdout",
     "output_type": "stream",
     "text": [
      "1\n",
      "2.4\n",
      "Debanjan\n",
      "s\n",
      "9\n",
      "10\n"
     ]
    }
   ],
   "source": [
    "for i in li:\n",
    "    print(i)"
   ]
  },
  {
   "cell_type": "code",
   "execution_count": 10,
   "id": "89c83146-c96c-4802-977a-b80121aee6cb",
   "metadata": {},
   "outputs": [
    {
     "name": "stdout",
     "output_type": "stream",
     "text": [
      "Debanjan\n",
      "s\n",
      "9\n",
      "10\n"
     ]
    }
   ],
   "source": [
    "for ele in li[2:]: # using Slicing Technique\n",
    "    print(ele)"
   ]
  },
  {
   "cell_type": "code",
   "execution_count": null,
   "id": "f1d2eb9d-cb61-4872-9041-a3296f329eda",
   "metadata": {},
   "outputs": [],
   "source": []
  }
 ],
 "metadata": {
  "kernelspec": {
   "display_name": "Python 3 (ipykernel)",
   "language": "python",
   "name": "python3"
  },
  "language_info": {
   "codemirror_mode": {
    "name": "ipython",
    "version": 3
   },
   "file_extension": ".py",
   "mimetype": "text/x-python",
   "name": "python",
   "nbconvert_exporter": "python",
   "pygments_lexer": "ipython3",
   "version": "3.11.4"
  }
 },
 "nbformat": 4,
 "nbformat_minor": 5
}
