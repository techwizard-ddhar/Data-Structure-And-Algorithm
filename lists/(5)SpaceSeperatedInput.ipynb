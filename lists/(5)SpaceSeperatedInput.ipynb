{
 "cells": [
  {
   "cell_type": "code",
   "execution_count": 2,
   "id": "5214e5dd-b783-4e6e-b798-f1b1f867525c",
   "metadata": {},
   "outputs": [
    {
     "name": "stdin",
     "output_type": "stream",
     "text": [
      " 1 2 3 4 5\n"
     ]
    }
   ],
   "source": [
    "str = input() # it will deliver a string"
   ]
  },
  {
   "cell_type": "code",
   "execution_count": 3,
   "id": "fcc4d380-fd40-4199-8225-6ae0ec85ecd8",
   "metadata": {},
   "outputs": [
    {
     "data": {
      "text/plain": [
       "'1 2 3 4 5'"
      ]
     },
     "execution_count": 3,
     "metadata": {},
     "output_type": "execute_result"
    }
   ],
   "source": [
    "str"
   ]
  },
  {
   "cell_type": "code",
   "execution_count": 4,
   "id": "ec2760bd-b159-48c3-8ff0-ab9c43d58495",
   "metadata": {},
   "outputs": [],
   "source": [
    "n = str.split(' ') # gives list of strings"
   ]
  },
  {
   "cell_type": "code",
   "execution_count": 5,
   "id": "f69c874e-9c65-47a2-ba19-493bc7e32397",
   "metadata": {},
   "outputs": [
    {
     "data": {
      "text/plain": [
       "['1', '2', '3', '4', '5']"
      ]
     },
     "execution_count": 5,
     "metadata": {},
     "output_type": "execute_result"
    }
   ],
   "source": [
    "n"
   ]
  },
  {
   "cell_type": "code",
   "execution_count": 7,
   "id": "43817767-971e-4742-9972-86405a840342",
   "metadata": {},
   "outputs": [],
   "source": [
    "str_in = str.split()"
   ]
  },
  {
   "cell_type": "code",
   "execution_count": 8,
   "id": "2cf5907e-f50b-4bb4-8967-f60d6cd6179e",
   "metadata": {},
   "outputs": [
    {
     "data": {
      "text/plain": [
       "['1', '2', '3', '4', '5']"
      ]
     },
     "execution_count": 8,
     "metadata": {},
     "output_type": "execute_result"
    }
   ],
   "source": [
    "str_in"
   ]
  },
  {
   "cell_type": "code",
   "execution_count": 9,
   "id": "0a0d2c34-e804-4317-8db7-266c1452110f",
   "metadata": {},
   "outputs": [],
   "source": [
    "li = []\n",
    "for i in str_in:                          # list of Integer\n",
    "    li.append(int(i))"
   ]
  },
  {
   "cell_type": "code",
   "execution_count": 10,
   "id": "2bdbab0a-a42b-40dd-ba31-31a386181cd7",
   "metadata": {},
   "outputs": [
    {
     "data": {
      "text/plain": [
       "[1, 2, 3, 4, 5]"
      ]
     },
     "execution_count": 10,
     "metadata": {},
     "output_type": "execute_result"
    }
   ],
   "source": [
    "li"
   ]
  },
  {
   "cell_type": "code",
   "execution_count": 2,
   "id": "5625a553-daa7-49cf-b731-3ab85c2bdaa5",
   "metadata": {},
   "outputs": [
    {
     "name": "stdin",
     "output_type": "stream",
     "text": [
      " 2 3 4\n"
     ]
    }
   ],
   "source": [
    "li = [int(ele) for ele in input().split()]      # space seperated input in one line"
   ]
  },
  {
   "cell_type": "code",
   "execution_count": 12,
   "id": "65eec6cb-c4e8-43d1-9216-f0d2c70c8d93",
   "metadata": {},
   "outputs": [
    {
     "data": {
      "text/plain": [
       "[1, 2, 3, 4, 5]"
      ]
     },
     "execution_count": 12,
     "metadata": {},
     "output_type": "execute_result"
    }
   ],
   "source": [
    "li"
   ]
  },
  {
   "cell_type": "markdown",
   "id": "ab6d75b4-13b9-4851-8400-36b4a6ca5fe0",
   "metadata": {},
   "source": [
    "Practice"
   ]
  },
  {
   "cell_type": "code",
   "execution_count": 14,
   "id": "90eeb6c0-3465-40df-882a-61ba2b0cd16c",
   "metadata": {},
   "outputs": [
    {
     "name": "stdin",
     "output_type": "stream",
     "text": [
      "Enter the number 5\n",
      " 1 2 3 4 5\n"
     ]
    },
    {
     "name": "stdout",
     "output_type": "stream",
     "text": [
      "1\n",
      "2\n",
      "3\n",
      "4\n",
      "5\n"
     ]
    }
   ],
   "source": [
    "num = int(input(\"Enter the number\"))\n",
    "li = [int(ele) for ele in input().split()]\n",
    "for x in li:\n",
    "    print(x)"
   ]
  },
  {
   "cell_type": "code",
   "execution_count": null,
   "id": "d644a0c0-1a8e-458c-a623-691c2b600d20",
   "metadata": {},
   "outputs": [],
   "source": []
  }
 ],
 "metadata": {
  "kernelspec": {
   "display_name": "Python 3 (ipykernel)",
   "language": "python",
   "name": "python3"
  },
  "language_info": {
   "codemirror_mode": {
    "name": "ipython",
    "version": 3
   },
   "file_extension": ".py",
   "mimetype": "text/x-python",
   "name": "python",
   "nbconvert_exporter": "python",
   "pygments_lexer": "ipython3",
   "version": "3.11.4"
  }
 },
 "nbformat": 4,
 "nbformat_minor": 5
}
