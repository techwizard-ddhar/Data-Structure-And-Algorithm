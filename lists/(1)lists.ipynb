{
 "cells": [
  {
   "cell_type": "markdown",
   "id": "1524ecd1-cef1-4c7b-8f01-ea63bc30bacc",
   "metadata": {},
   "source": [
    "Create A List"
   ]
  },
  {
   "cell_type": "code",
   "execution_count": 1,
   "id": "18ebeff1-11ee-4b7b-8a04-5faf7cd9e5fc",
   "metadata": {},
   "outputs": [],
   "source": [
    "li = [1, 2, 3]"
   ]
  },
  {
   "cell_type": "code",
   "execution_count": 2,
   "id": "cd501c7f-7c3a-4902-890e-1abda5b80819",
   "metadata": {},
   "outputs": [
    {
     "data": {
      "text/plain": [
       "list"
      ]
     },
     "execution_count": 2,
     "metadata": {},
     "output_type": "execute_result"
    }
   ],
   "source": [
    "type(li)"
   ]
  },
  {
   "cell_type": "code",
   "execution_count": 3,
   "id": "0ee500c9-e24a-408c-986d-b5a10e1af084",
   "metadata": {},
   "outputs": [],
   "source": [
    "li = [1, 2.4, \"John\", 'd']"
   ]
  },
  {
   "cell_type": "code",
   "execution_count": 4,
   "id": "b0fab3ab-36a0-4c1e-97f5-e8d02f3c9793",
   "metadata": {
    "scrolled": true
   },
   "outputs": [
    {
     "data": {
      "text/plain": [
       "[1, 2.4, 'John', 'd']"
      ]
     },
     "execution_count": 4,
     "metadata": {},
     "output_type": "execute_result"
    }
   ],
   "source": [
    "li"
   ]
  },
  {
   "cell_type": "markdown",
   "id": "fdf43221-e119-442e-8dee-2ac4e3eb4469",
   "metadata": {},
   "source": [
    "Access And Change Elements in List"
   ]
  },
  {
   "cell_type": "code",
   "execution_count": 5,
   "id": "f45c3001-ed06-4a22-a68e-49bd177803be",
   "metadata": {},
   "outputs": [
    {
     "data": {
      "text/plain": [
       "1"
      ]
     },
     "execution_count": 5,
     "metadata": {},
     "output_type": "execute_result"
    }
   ],
   "source": [
    "li[0] #Access"
   ]
  },
  {
   "cell_type": "code",
   "execution_count": 6,
   "id": "0898dcdd-87ab-4a33-a452-c08f96477fc2",
   "metadata": {},
   "outputs": [
    {
     "data": {
      "text/plain": [
       "'John'"
      ]
     },
     "execution_count": 6,
     "metadata": {},
     "output_type": "execute_result"
    }
   ],
   "source": [
    "li[2]"
   ]
  },
  {
   "cell_type": "code",
   "execution_count": 7,
   "id": "d312b529-7494-4c73-9c4f-edb75939e040",
   "metadata": {},
   "outputs": [
    {
     "data": {
      "text/plain": [
       "'d'"
      ]
     },
     "execution_count": 7,
     "metadata": {},
     "output_type": "execute_result"
    }
   ],
   "source": [
    "li[3]"
   ]
  },
  {
   "cell_type": "code",
   "execution_count": 8,
   "id": "735cf804-4a3e-4ae0-ab59-e40c6bb23357",
   "metadata": {},
   "outputs": [
    {
     "ename": "IndexError",
     "evalue": "list index out of range",
     "output_type": "error",
     "traceback": [
      "\u001b[1;31m---------------------------------------------------------------------------\u001b[0m",
      "\u001b[1;31mIndexError\u001b[0m                                Traceback (most recent call last)",
      "Cell \u001b[1;32mIn[8], line 1\u001b[0m\n\u001b[1;32m----> 1\u001b[0m \u001b[43mli\u001b[49m\u001b[43m[\u001b[49m\u001b[38;5;241;43m4\u001b[39;49m\u001b[43m]\u001b[49m\n",
      "\u001b[1;31mIndexError\u001b[0m: list index out of range"
     ]
    }
   ],
   "source": [
    "li[4]"
   ]
  },
  {
   "cell_type": "code",
   "execution_count": 9,
   "id": "597facbf-f50a-4f8a-8f61-0b0fcae2f46c",
   "metadata": {},
   "outputs": [],
   "source": [
    "li[2]=\"Debanjan\" #Change"
   ]
  },
  {
   "cell_type": "code",
   "execution_count": 10,
   "id": "c60f2a07-092b-4091-9b8c-d76739eb7c0a",
   "metadata": {},
   "outputs": [
    {
     "data": {
      "text/plain": [
       "[1, 2.4, 'Debanjan', 'd']"
      ]
     },
     "execution_count": 10,
     "metadata": {},
     "output_type": "execute_result"
    }
   ],
   "source": [
    "li"
   ]
  },
  {
   "cell_type": "code",
   "execution_count": 11,
   "id": "71bd4b4d-71fb-41ef-bf9d-7fd8502bcbbc",
   "metadata": {},
   "outputs": [],
   "source": [
    "li[3] = \"Rishi\" "
   ]
  },
  {
   "cell_type": "code",
   "execution_count": 12,
   "id": "68543779-5c64-4e50-8166-51a5915a4907",
   "metadata": {},
   "outputs": [
    {
     "data": {
      "text/plain": [
       "[1, 2.4, 'Debanjan', 'Rishi']"
      ]
     },
     "execution_count": 12,
     "metadata": {},
     "output_type": "execute_result"
    }
   ],
   "source": [
    "li"
   ]
  },
  {
   "cell_type": "markdown",
   "id": "93bab2ed-57fc-4256-a7bf-d596c128d555",
   "metadata": {},
   "source": [
    "Slicing Of A List"
   ]
  },
  {
   "cell_type": "code",
   "execution_count": 13,
   "id": "6e5210b4-7140-4425-ae0e-f4d0b39c0e91",
   "metadata": {},
   "outputs": [
    {
     "data": {
      "text/plain": [
       "[2.4, 'Debanjan']"
      ]
     },
     "execution_count": 13,
     "metadata": {},
     "output_type": "execute_result"
    }
   ],
   "source": [
    "li[1:3] # starting from 1st index, excluding the last index"
   ]
  },
  {
   "cell_type": "code",
   "execution_count": 14,
   "id": "ff11ff30-bd0a-430e-b801-b2b84ed395d9",
   "metadata": {},
   "outputs": [
    {
     "data": {
      "text/plain": [
       "[1, 2.4, 'Debanjan', 'Rishi']"
      ]
     },
     "execution_count": 14,
     "metadata": {},
     "output_type": "execute_result"
    }
   ],
   "source": [
    "li"
   ]
  },
  {
   "cell_type": "code",
   "execution_count": 15,
   "id": "cef2b558-37ac-426f-b5b0-5c04f9d003fc",
   "metadata": {},
   "outputs": [
    {
     "data": {
      "text/plain": [
       "[2.4, 'Debanjan', 'Rishi']"
      ]
     },
     "execution_count": 15,
     "metadata": {},
     "output_type": "execute_result"
    }
   ],
   "source": [
    "li[1:] # starting from 1st index till last"
   ]
  },
  {
   "cell_type": "markdown",
   "id": "54221b08-23d2-427a-8d55-f83660e3db0a",
   "metadata": {},
   "source": [
    "Insert And Append Elements In List"
   ]
  },
  {
   "cell_type": "code",
   "execution_count": 16,
   "id": "98e8c255-d322-485d-9302-9e8cdd8ac0ab",
   "metadata": {},
   "outputs": [],
   "source": [
    "li.append(\"samriddha\") # insert element al last"
   ]
  },
  {
   "cell_type": "code",
   "execution_count": 17,
   "id": "60c1ccea-4937-4a45-9566-b3a561ad7855",
   "metadata": {},
   "outputs": [
    {
     "data": {
      "text/plain": [
       "[1, 2.4, 'Debanjan', 'Rishi', 'samriddha']"
      ]
     },
     "execution_count": 17,
     "metadata": {},
     "output_type": "execute_result"
    }
   ],
   "source": [
    "li"
   ]
  },
  {
   "cell_type": "code",
   "execution_count": 18,
   "id": "fc66a35d-3aee-43f5-a244-ab564f1d2796",
   "metadata": {},
   "outputs": [],
   "source": [
    "li.insert(1,'a') # insertion at particular index"
   ]
  },
  {
   "cell_type": "code",
   "execution_count": 19,
   "id": "153d750e-3b75-4447-a4e0-d7cea4752513",
   "metadata": {},
   "outputs": [
    {
     "data": {
      "text/plain": [
       "[1, 'a', 2.4, 'Debanjan', 'Rishi', 'samriddha']"
      ]
     },
     "execution_count": 19,
     "metadata": {},
     "output_type": "execute_result"
    }
   ],
   "source": [
    "li"
   ]
  },
  {
   "cell_type": "code",
   "execution_count": 20,
   "id": "00d7be13-311c-435d-83e8-596525ea51f0",
   "metadata": {},
   "outputs": [
    {
     "ename": "TypeError",
     "evalue": "list.append() takes exactly one argument (3 given)",
     "output_type": "error",
     "traceback": [
      "\u001b[1;31m---------------------------------------------------------------------------\u001b[0m",
      "\u001b[1;31mTypeError\u001b[0m                                 Traceback (most recent call last)",
      "Cell \u001b[1;32mIn[20], line 1\u001b[0m\n\u001b[1;32m----> 1\u001b[0m \u001b[43mli\u001b[49m\u001b[38;5;241;43m.\u001b[39;49m\u001b[43mappend\u001b[49m\u001b[43m(\u001b[49m\u001b[38;5;241;43m1\u001b[39;49m\u001b[43m,\u001b[49m\u001b[38;5;241;43m2\u001b[39;49m\u001b[43m,\u001b[49m\u001b[38;5;241;43m3\u001b[39;49m\u001b[43m)\u001b[49m\n",
      "\u001b[1;31mTypeError\u001b[0m: list.append() takes exactly one argument (3 given)"
     ]
    }
   ],
   "source": [
    "li.append(1,2,3) # takes only one argument "
   ]
  },
  {
   "cell_type": "code",
   "execution_count": 21,
   "id": "8caf7f01-f074-4fd3-bc9e-13197afe749b",
   "metadata": {},
   "outputs": [],
   "source": [
    "li.append([1,2,3]) # list within a list"
   ]
  },
  {
   "cell_type": "code",
   "execution_count": 22,
   "id": "6f6bb2fd-e830-424e-8fe1-d3c2fabe0d9b",
   "metadata": {},
   "outputs": [
    {
     "data": {
      "text/plain": [
       "[1, 'a', 2.4, 'Debanjan', 'Rishi', 'samriddha', [1, 2, 3]]"
      ]
     },
     "execution_count": 22,
     "metadata": {},
     "output_type": "execute_result"
    }
   ],
   "source": [
    "li"
   ]
  },
  {
   "cell_type": "code",
   "execution_count": 23,
   "id": "cd588a0a-04f5-420f-82cf-ff6f73e8273c",
   "metadata": {},
   "outputs": [],
   "source": [
    "li.extend([1,2,3]) # different elements and not a list"
   ]
  },
  {
   "cell_type": "code",
   "execution_count": 24,
   "id": "8825b8b0-3b63-46b6-af83-449297a3689b",
   "metadata": {},
   "outputs": [
    {
     "data": {
      "text/plain": [
       "[1, 'a', 2.4, 'Debanjan', 'Rishi', 'samriddha', [1, 2, 3], 1, 2, 3]"
      ]
     },
     "execution_count": 24,
     "metadata": {},
     "output_type": "execute_result"
    }
   ],
   "source": [
    "li"
   ]
  },
  {
   "cell_type": "markdown",
   "id": "1e80cf05-9526-43d2-b869-c872ee576f26",
   "metadata": {},
   "source": [
    "Removing Elements From List"
   ]
  },
  {
   "cell_type": "code",
   "execution_count": 27,
   "id": "d4ad23b0-8e11-4cb7-a450-591a3dadc31e",
   "metadata": {},
   "outputs": [],
   "source": [
    "li.insert(4,2.4)"
   ]
  },
  {
   "cell_type": "code",
   "execution_count": 28,
   "id": "0704913b-89e3-449b-94d5-caff5d849b1b",
   "metadata": {},
   "outputs": [
    {
     "data": {
      "text/plain": [
       "[1, 'a', 2.4, 'Debanjan', 2.4, 'Rishi', 'samriddha', [1, 2, 3], 1, 3]"
      ]
     },
     "execution_count": 28,
     "metadata": {},
     "output_type": "execute_result"
    }
   ],
   "source": [
    "li"
   ]
  },
  {
   "cell_type": "code",
   "execution_count": 29,
   "id": "62e37302-add7-4fe0-ad58-e7390b9661bd",
   "metadata": {},
   "outputs": [],
   "source": [
    "li.remove(2.4) # remove first element"
   ]
  },
  {
   "cell_type": "code",
   "execution_count": 30,
   "id": "d46176a5-28e7-42eb-9451-f7e5c607c1e7",
   "metadata": {},
   "outputs": [
    {
     "data": {
      "text/plain": [
       "[1, 'a', 'Debanjan', 2.4, 'Rishi', 'samriddha', [1, 2, 3], 1, 3]"
      ]
     },
     "execution_count": 30,
     "metadata": {},
     "output_type": "execute_result"
    }
   ],
   "source": [
    "li"
   ]
  },
  {
   "cell_type": "code",
   "execution_count": 31,
   "id": "467f4461-14ec-4cb4-815c-f7a47e5d67ca",
   "metadata": {},
   "outputs": [
    {
     "data": {
      "text/plain": [
       "2.4"
      ]
     },
     "execution_count": 31,
     "metadata": {},
     "output_type": "execute_result"
    }
   ],
   "source": [
    "li.pop(3) # remove element from particular index "
   ]
  },
  {
   "cell_type": "code",
   "execution_count": 32,
   "id": "3d64eb59-0555-4f6d-8e27-50581278f350",
   "metadata": {},
   "outputs": [
    {
     "data": {
      "text/plain": [
       "3"
      ]
     },
     "execution_count": 32,
     "metadata": {},
     "output_type": "execute_result"
    }
   ],
   "source": [
    "li.pop() # remove element from last"
   ]
  },
  {
   "cell_type": "code",
   "execution_count": 33,
   "id": "536ea45e-fb72-4935-b1bf-7cde2ff14206",
   "metadata": {},
   "outputs": [
    {
     "data": {
      "text/plain": [
       "[1, 'a', 'Debanjan', 'Rishi', 'samriddha', [1, 2, 3], 1]"
      ]
     },
     "execution_count": 33,
     "metadata": {},
     "output_type": "execute_result"
    }
   ],
   "source": [
    "li"
   ]
  },
  {
   "cell_type": "code",
   "execution_count": 34,
   "id": "2a08f3aa-9bac-44cb-b97a-d6e3056508bc",
   "metadata": {},
   "outputs": [
    {
     "ename": "IndexError",
     "evalue": "pop index out of range",
     "output_type": "error",
     "traceback": [
      "\u001b[1;31m---------------------------------------------------------------------------\u001b[0m",
      "\u001b[1;31mIndexError\u001b[0m                                Traceback (most recent call last)",
      "Cell \u001b[1;32mIn[34], line 1\u001b[0m\n\u001b[1;32m----> 1\u001b[0m \u001b[43mli\u001b[49m\u001b[38;5;241;43m.\u001b[39;49m\u001b[43mpop\u001b[49m\u001b[43m(\u001b[49m\u001b[38;5;241;43m20\u001b[39;49m\u001b[43m)\u001b[49m\n",
      "\u001b[1;31mIndexError\u001b[0m: pop index out of range"
     ]
    }
   ],
   "source": [
    "li.pop(20)"
   ]
  },
  {
   "cell_type": "code",
   "execution_count": 35,
   "id": "9eec014f-606d-4ec5-9d2c-666447c7b1f1",
   "metadata": {},
   "outputs": [
    {
     "data": {
      "text/plain": [
       "7"
      ]
     },
     "execution_count": 35,
     "metadata": {},
     "output_type": "execute_result"
    }
   ],
   "source": [
    "len(li) # find length of a list"
   ]
  },
  {
   "cell_type": "markdown",
   "id": "bb69bb93-7d17-47f6-8354-a1c62dd966e7",
   "metadata": {},
   "source": [
    "List Extend Using \"+\""
   ]
  },
  {
   "cell_type": "code",
   "execution_count": 1,
   "id": "43874b77-5441-4e14-8243-a2b22eff902f",
   "metadata": {},
   "outputs": [
    {
     "name": "stdout",
     "output_type": "stream",
     "text": [
      "[1, 2, 3, 4, 'Debanjan', 'Rishi', 'John', 'sweety']\n"
     ]
    }
   ],
   "source": [
    "list1 = [1, 2, 3, 4]\n",
    "list2 = [\"Debanjan\", \"Rishi\", \"John\", \"sweety\"]\n",
    "\n",
    "new_list = list1 + list2\n",
    "print(new_list)"
   ]
  },
  {
   "cell_type": "markdown",
   "id": "cc60b134-65bb-4f5f-8822-bb7d43e2b2dc",
   "metadata": {},
   "source": [
    "List Count"
   ]
  },
  {
   "cell_type": "code",
   "execution_count": 2,
   "id": "1be3b8d8-16bc-4175-946e-2ff39103c99a",
   "metadata": {},
   "outputs": [],
   "source": [
    "li = [1, 2, 3, 1, 5, 7, 3, 2, 10, 5, 6]"
   ]
  },
  {
   "cell_type": "code",
   "execution_count": 3,
   "id": "16bf7c11-cbcf-4860-8d0b-d9d80b8f07ae",
   "metadata": {},
   "outputs": [
    {
     "name": "stdout",
     "output_type": "stream",
     "text": [
      "2\n"
     ]
    }
   ],
   "source": [
    "print(li.count(1))      # frequency of 1 in a list"
   ]
  },
  {
   "cell_type": "markdown",
   "id": "0abf8cfe-1d37-469e-b761-8b21ecf83487",
   "metadata": {},
   "source": [
    "List Comprehension"
   ]
  },
  {
   "cell_type": "code",
   "execution_count": 7,
   "id": "704f5218-456b-47a2-9940-74ebb38aee2f",
   "metadata": {},
   "outputs": [
    {
     "name": "stdout",
     "output_type": "stream",
     "text": [
      "[0, 1, 4, 9, 16, 25, 36, 49, 64, 81]\n"
     ]
    }
   ],
   "source": [
    "squares = []\n",
    "for i in range(10):\n",
    "    squares.append(i**2)\n",
    "print(squares)"
   ]
  },
  {
   "cell_type": "code",
   "execution_count": 10,
   "id": "d26410a2-c84b-416a-ad55-7d49788d4eab",
   "metadata": {},
   "outputs": [
    {
     "name": "stdout",
     "output_type": "stream",
     "text": [
      "[(0, 0), (1, 1), (2, 4), (3, 9), (4, 16), (5, 25), (6, 36), (7, 49), (8, 64), (9, 81)]\n"
     ]
    }
   ],
   "source": [
    "li = [(i,i**2) for i in range(10)]\n",
    "print(li)"
   ]
  },
  {
   "cell_type": "code",
   "execution_count": 11,
   "id": "a2cc411f-e760-44e3-957b-094068d16a25",
   "metadata": {},
   "outputs": [
    {
     "name": "stdout",
     "output_type": "stream",
     "text": [
      "[[1, 3, 5, 7, 9], [2, 4, 6, 8, 10]]\n"
     ]
    }
   ],
   "source": [
    "Matrix = [[1, 2],\n",
    "          [3, 4],\n",
    "          [5, 6], \n",
    "          [7, 8],\n",
    "          [9, 10]]\n",
    "\n",
    "transposed = []\n",
    "for i in range(2):\n",
    "    pseudo = []\n",
    "    for ele in Matrix:\n",
    "        pseudo.append(ele[i])\n",
    "    transposed.append(pseudo)\n",
    "print(transposed)"
   ]
  },
  {
   "cell_type": "code",
   "execution_count": null,
   "id": "d0b451db-0cd6-431f-8247-a51bb3fde6b2",
   "metadata": {},
   "outputs": [],
   "source": []
  }
 ],
 "metadata": {
  "kernelspec": {
   "display_name": "Python 3 (ipykernel)",
   "language": "python",
   "name": "python3"
  },
  "language_info": {
   "codemirror_mode": {
    "name": "ipython",
    "version": 3
   },
   "file_extension": ".py",
   "mimetype": "text/x-python",
   "name": "python",
   "nbconvert_exporter": "python",
   "pygments_lexer": "ipython3",
   "version": "3.11.4"
  }
 },
 "nbformat": 4,
 "nbformat_minor": 5
}
