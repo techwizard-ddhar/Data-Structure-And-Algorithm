{
 "cells": [
  {
   "cell_type": "markdown",
   "id": "d4a05035-bd97-4b4c-98ca-045f407ccd9c",
   "metadata": {},
   "source": [
    "Split"
   ]
  },
  {
   "cell_type": "code",
   "execution_count": 7,
   "id": "20f209b2-dcec-4752-a8ac-720ac907c00d",
   "metadata": {},
   "outputs": [
    {
     "name": "stdout",
     "output_type": "stream",
     "text": [
      "['My', 'name', 'is', 'Debanjan', 'Dhar']\n"
     ]
    }
   ],
   "source": [
    "str = \"My name is Debanjan Dhar\"\n",
    "li = str.split() # return a list\n",
    "print(li)"
   ]
  },
  {
   "cell_type": "markdown",
   "id": "4247b150-7b88-432f-ba5e-bae86e111676",
   "metadata": {},
   "source": [
    "Replace"
   ]
  },
  {
   "cell_type": "code",
   "execution_count": 8,
   "id": "6db943e4-ae8e-4f98-93dd-93a8641c4232",
   "metadata": {},
   "outputs": [
    {
     "name": "stdout",
     "output_type": "stream",
     "text": [
      "Hello Debanjan\n"
     ]
    }
   ],
   "source": [
    "str = \"Hello john\"\n",
    "str = str.replace(\"john\", \"Debanjan\") # strings are immutable!\n",
    "print(str)"
   ]
  },
  {
   "cell_type": "code",
   "execution_count": 12,
   "id": "fdb71c6c-05dc-46e0-8ab4-3b7459597f9e",
   "metadata": {},
   "outputs": [
    {
     "name": "stdout",
     "output_type": "stream",
     "text": [
      "hello rey, how are you rey, everything good rey\n"
     ]
    }
   ],
   "source": [
    "str = \"hello john, how are you john, everything good john\" # it replace everything\n",
    "str = str.replace(\"john\" , \"rey\")\n",
    "print(str)"
   ]
  },
  {
   "cell_type": "code",
   "execution_count": 13,
   "id": "01dc0751-4dad-4b0c-a3f1-897dfc0dc282",
   "metadata": {},
   "outputs": [
    {
     "name": "stdout",
     "output_type": "stream",
     "text": [
      "hello rey, how are you rey, everything good john\n"
     ]
    }
   ],
   "source": [
    "str = \"hello john, how are you john, everything good john\"\n",
    "str = str.replace(\"john\" , \"rey\",2)\n",
    "print(str)"
   ]
  },
  {
   "cell_type": "markdown",
   "id": "f184b5be-98cf-4f09-8c37-e04f894df8cf",
   "metadata": {},
   "source": [
    "Find"
   ]
  },
  {
   "cell_type": "code",
   "execution_count": 14,
   "id": "fccb2dc5-28cb-4a4b-83bd-2b37fb3f940a",
   "metadata": {},
   "outputs": [
    {
     "name": "stdout",
     "output_type": "stream",
     "text": [
      "13\n"
     ]
    }
   ],
   "source": [
    "str = \"My name is Debanjan Dhar\"  # returns starting index of a substring\n",
    "index = str.find(\"ban\")\n",
    "print(index)"
   ]
  },
  {
   "cell_type": "code",
   "execution_count": 17,
   "id": "b7c45c70-e6b2-4cfd-8934-1dcd3ef87007",
   "metadata": {},
   "outputs": [
    {
     "name": "stdout",
     "output_type": "stream",
     "text": [
      "20\n"
     ]
    }
   ],
   "source": [
    "str = \"My name is Debanjan Dey\"\n",
    "index = str.find(\"De\",20,22)      # specifying the index\n",
    "print(index)"
   ]
  },
  {
   "cell_type": "markdown",
   "id": "7c7c9067-25ea-4f1e-a75b-99ae667e946b",
   "metadata": {},
   "source": [
    "Lower And Upper\n"
   ]
  },
  {
   "cell_type": "code",
   "execution_count": 18,
   "id": "c09ebeec-239e-4741-8dab-e9419f6bab6e",
   "metadata": {},
   "outputs": [
    {
     "name": "stdout",
     "output_type": "stream",
     "text": [
      "hello world\n"
     ]
    }
   ],
   "source": [
    "str = \"HELLO WORLD\"\n",
    "str = str.lower()\n",
    "print(str)"
   ]
  },
  {
   "cell_type": "code",
   "execution_count": 19,
   "id": "016a34df-4a48-45e3-8c66-14c1de7d5f2f",
   "metadata": {},
   "outputs": [
    {
     "name": "stdout",
     "output_type": "stream",
     "text": [
      "HELLO WORLD\n"
     ]
    }
   ],
   "source": [
    "str = \"Hello world\"\n",
    "str = str.upper()\n",
    "print(str)"
   ]
  },
  {
   "cell_type": "markdown",
   "id": "fc256596-4a24-427b-ad54-9799f5279108",
   "metadata": {},
   "source": [
    "Startswith"
   ]
  },
  {
   "cell_type": "code",
   "execution_count": 21,
   "id": "58ada018-bc2e-404a-b417-d3bdd87881e5",
   "metadata": {},
   "outputs": [
    {
     "name": "stdout",
     "output_type": "stream",
     "text": [
      "True\n"
     ]
    }
   ],
   "source": [
    "str = \"My name is john\"\n",
    "str = str.startswith(\"My name\")\n",
    "print(str)"
   ]
  },
  {
   "cell_type": "code",
   "execution_count": 22,
   "id": "6323432a-d3ef-45ff-b509-1acb85f2c907",
   "metadata": {},
   "outputs": [
    {
     "name": "stdout",
     "output_type": "stream",
     "text": [
      "True\n"
     ]
    }
   ],
   "source": [
    "str = \"My name is john\"               # specifying index\n",
    "str = str.startswith(\"is\",8,10)\n",
    "print(str)"
   ]
  },
  {
   "cell_type": "code",
   "execution_count": null,
   "id": "93d47595-beb0-4008-af80-06015c1592c4",
   "metadata": {},
   "outputs": [],
   "source": []
  }
 ],
 "metadata": {
  "kernelspec": {
   "display_name": "Python 3 (ipykernel)",
   "language": "python",
   "name": "python3"
  },
  "language_info": {
   "codemirror_mode": {
    "name": "ipython",
    "version": 3
   },
   "file_extension": ".py",
   "mimetype": "text/x-python",
   "name": "python",
   "nbconvert_exporter": "python",
   "pygments_lexer": "ipython3",
   "version": "3.11.4"
  }
 },
 "nbformat": 4,
 "nbformat_minor": 5
}
