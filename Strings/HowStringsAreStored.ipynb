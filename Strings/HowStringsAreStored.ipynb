{
 "cells": [
  {
   "cell_type": "code",
   "execution_count": 1,
   "id": "76e77189-d9b4-4cfd-a392-6f7c3390bfa8",
   "metadata": {},
   "outputs": [],
   "source": [
    "a = \"Debanjan\"    # a store the reference of str-->\"Debanjan\""
   ]
  },
  {
   "cell_type": "code",
   "execution_count": 5,
   "id": "7b4250fb-55d6-472b-843b-acbf65297202",
   "metadata": {},
   "outputs": [
    {
     "data": {
      "text/plain": [
       "2425806968432"
      ]
     },
     "execution_count": 5,
     "metadata": {},
     "output_type": "execute_result"
    }
   ],
   "source": [
    "id(a)"
   ]
  },
  {
   "cell_type": "code",
   "execution_count": 6,
   "id": "92eff1b7-bcbf-4276-8ec8-0ed5fbdcec5f",
   "metadata": {},
   "outputs": [],
   "source": [
    "x = \"Rishi\"       # strings are immutable"
   ]
  },
  {
   "cell_type": "code",
   "execution_count": 7,
   "id": "f1111c5d-da06-4345-bd21-c7441d8e7b22",
   "metadata": {},
   "outputs": [
    {
     "data": {
      "text/plain": [
       "2425807161712"
      ]
     },
     "execution_count": 7,
     "metadata": {},
     "output_type": "execute_result"
    }
   ],
   "source": [
    "id(x)"
   ]
  },
  {
   "cell_type": "code",
   "execution_count": 8,
   "id": "22f2a4ed-8c20-4aa0-877b-c2b632c82609",
   "metadata": {},
   "outputs": [
    {
     "data": {
      "text/plain": [
       "'D'"
      ]
     },
     "execution_count": 8,
     "metadata": {},
     "output_type": "execute_result"
    }
   ],
   "source": [
    "a[0]"
   ]
  },
  {
   "cell_type": "code",
   "execution_count": 9,
   "id": "e976e5f9-f44d-4289-989b-7ebeb8b66fb5",
   "metadata": {},
   "outputs": [
    {
     "ename": "TypeError",
     "evalue": "'str' object does not support item assignment",
     "output_type": "error",
     "traceback": [
      "\u001b[1;31m---------------------------------------------------------------------------\u001b[0m",
      "\u001b[1;31mTypeError\u001b[0m                                 Traceback (most recent call last)",
      "Cell \u001b[1;32mIn[9], line 1\u001b[0m\n\u001b[1;32m----> 1\u001b[0m \u001b[43ma\u001b[49m\u001b[43m[\u001b[49m\u001b[38;5;241;43m0\u001b[39;49m\u001b[43m]\u001b[49m \u001b[38;5;241m=\u001b[39m \u001b[38;5;124m'\u001b[39m\u001b[38;5;124mR\u001b[39m\u001b[38;5;124m'\u001b[39m\n",
      "\u001b[1;31mTypeError\u001b[0m: 'str' object does not support item assignment"
     ]
    }
   ],
   "source": [
    "a[0] = 'R'       # strings are immutable"
   ]
  },
  {
   "cell_type": "code",
   "execution_count": null,
   "id": "01666615-8e10-4acf-b33c-c1e621caa1eb",
   "metadata": {},
   "outputs": [],
   "source": []
  }
 ],
 "metadata": {
  "kernelspec": {
   "display_name": "Python 3 (ipykernel)",
   "language": "python",
   "name": "python3"
  },
  "language_info": {
   "codemirror_mode": {
    "name": "ipython",
    "version": 3
   },
   "file_extension": ".py",
   "mimetype": "text/x-python",
   "name": "python",
   "nbconvert_exporter": "python",
   "pygments_lexer": "ipython3",
   "version": "3.11.4"
  }
 },
 "nbformat": 4,
 "nbformat_minor": 5
}
