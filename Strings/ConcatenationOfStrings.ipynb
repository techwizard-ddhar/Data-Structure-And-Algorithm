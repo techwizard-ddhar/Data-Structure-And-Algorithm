{
 "cells": [
  {
   "cell_type": "code",
   "execution_count": 2,
   "id": "32bf9658-7773-498f-b5c6-b6a7479df51f",
   "metadata": {},
   "outputs": [],
   "source": [
    "a = \"green\"\n",
    "\n",
    "b = \"blue\""
   ]
  },
  {
   "cell_type": "code",
   "execution_count": 3,
   "id": "5ec71916-5a84-410b-996b-b550d9437556",
   "metadata": {},
   "outputs": [],
   "source": [
    "a = a + b"
   ]
  },
  {
   "cell_type": "code",
   "execution_count": 4,
   "id": "c45d6b83-d481-43e3-904c-ed365f61cbc5",
   "metadata": {},
   "outputs": [
    {
     "data": {
      "text/plain": [
       "'greenblue'"
      ]
     },
     "execution_count": 4,
     "metadata": {},
     "output_type": "execute_result"
    }
   ],
   "source": [
    "a"
   ]
  },
  {
   "cell_type": "code",
   "execution_count": 5,
   "id": "53f5e8de-d29f-4091-9a1a-2ee32ccfe5b1",
   "metadata": {},
   "outputs": [
    {
     "data": {
      "text/plain": [
       "'greenblueredbeautiful'"
      ]
     },
     "execution_count": 5,
     "metadata": {},
     "output_type": "execute_result"
    }
   ],
   "source": [
    "a = a + \"red\" + \"beautiful\"   # multiple string\n",
    "a"
   ]
  },
  {
   "cell_type": "code",
   "execution_count": 6,
   "id": "9c95fedb-c847-4261-a5d0-f44792bc3a0d",
   "metadata": {},
   "outputs": [],
   "source": [
    "y = \"abracadabra\"\n"
   ]
  },
  {
   "cell_type": "code",
   "execution_count": 7,
   "id": "dc2de18d-810d-48d7-9302-dffc60535b18",
   "metadata": {},
   "outputs": [],
   "source": [
    "y = y * 3 # prints y three times"
   ]
  },
  {
   "cell_type": "code",
   "execution_count": 8,
   "id": "af698f2a-57ae-4822-8b4d-467244172a4a",
   "metadata": {},
   "outputs": [
    {
     "data": {
      "text/plain": [
       "'abracadabraabracadabraabracadabra'"
      ]
     },
     "execution_count": 8,
     "metadata": {},
     "output_type": "execute_result"
    }
   ],
   "source": [
    "y"
   ]
  },
  {
   "cell_type": "code",
   "execution_count": 13,
   "id": "b2478f5f-bf99-4ab6-bef6-7bacf7aaa860",
   "metadata": {},
   "outputs": [
    {
     "ename": "TypeError",
     "evalue": "can only concatenate str (not \"int\") to str",
     "output_type": "error",
     "traceback": [
      "\u001b[1;31m---------------------------------------------------------------------------\u001b[0m",
      "\u001b[1;31mTypeError\u001b[0m                                 Traceback (most recent call last)",
      "Cell \u001b[1;32mIn[13], line 3\u001b[0m\n\u001b[0;32m      1\u001b[0m d \u001b[38;5;241m=\u001b[39m \u001b[38;5;124m\"\u001b[39m\u001b[38;5;124myellow\u001b[39m\u001b[38;5;124m\"\u001b[39m\n\u001b[1;32m----> 3\u001b[0m d \u001b[38;5;241m=\u001b[39m \u001b[43md\u001b[49m\u001b[43m \u001b[49m\u001b[38;5;241;43m+\u001b[39;49m\u001b[43m \u001b[49m\u001b[38;5;241;43m3\u001b[39;49m\n",
      "\u001b[1;31mTypeError\u001b[0m: can only concatenate str (not \"int\") to str"
     ]
    }
   ],
   "source": [
    "d = \"yellow\"\n",
    "\n",
    "d = d + 3"
   ]
  },
  {
   "cell_type": "code",
   "execution_count": 14,
   "id": "58e43b12-f9af-4705-a724-8cb1e346e3ba",
   "metadata": {},
   "outputs": [],
   "source": [
    "d = d + str(3)  # convert int into string"
   ]
  },
  {
   "cell_type": "code",
   "execution_count": 15,
   "id": "aef69f07-bdcf-4ac8-a4bf-a701e9e5c52b",
   "metadata": {},
   "outputs": [
    {
     "data": {
      "text/plain": [
       "'yellow3'"
      ]
     },
     "execution_count": 15,
     "metadata": {},
     "output_type": "execute_result"
    }
   ],
   "source": [
    "d"
   ]
  },
  {
   "cell_type": "code",
   "execution_count": null,
   "id": "c27d3d38-6477-4bf0-b31b-bbc8cdfe6290",
   "metadata": {},
   "outputs": [],
   "source": []
  }
 ],
 "metadata": {
  "kernelspec": {
   "display_name": "Python 3 (ipykernel)",
   "language": "python",
   "name": "python3"
  },
  "language_info": {
   "codemirror_mode": {
    "name": "ipython",
    "version": 3
   },
   "file_extension": ".py",
   "mimetype": "text/x-python",
   "name": "python",
   "nbconvert_exporter": "python",
   "pygments_lexer": "ipython3",
   "version": "3.11.4"
  }
 },
 "nbformat": 4,
 "nbformat_minor": 5
}
