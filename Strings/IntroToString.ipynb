{
 "cells": [
  {
   "cell_type": "markdown",
   "id": "7200d4ed-fe8b-4d51-8877-de7799a25de8",
   "metadata": {},
   "source": [
    "String --> sequence of characters \n"
   ]
  },
  {
   "cell_type": "code",
   "execution_count": 1,
   "id": "a50060d7-71d6-4d9b-b2b1-1a4f81c79539",
   "metadata": {},
   "outputs": [
    {
     "data": {
      "text/plain": [
       "'Debanjan'"
      ]
     },
     "execution_count": 1,
     "metadata": {},
     "output_type": "execute_result"
    }
   ],
   "source": [
    "s = \"Debanjan\"\n",
    "s"
   ]
  },
  {
   "cell_type": "code",
   "execution_count": 2,
   "id": "c9509f38-8cfb-4c8b-b056-8967ee38af0d",
   "metadata": {},
   "outputs": [
    {
     "ename": "SyntaxError",
     "evalue": "unterminated string literal (detected at line 1) (2871277695.py, line 1)",
     "output_type": "error",
     "traceback": [
      "\u001b[1;36m  Cell \u001b[1;32mIn[2], line 1\u001b[1;36m\u001b[0m\n\u001b[1;33m    x = \"My\u001b[0m\n\u001b[1;37m        ^\u001b[0m\n\u001b[1;31mSyntaxError\u001b[0m\u001b[1;31m:\u001b[0m unterminated string literal (detected at line 1)\n"
     ]
    }
   ],
   "source": [
    "x = \"My \n",
    "Name Is\n",
    "Debanjan Dhar\"\n",
    "x"
   ]
  },
  {
   "cell_type": "code",
   "execution_count": 8,
   "id": "334dd2d6-9e8a-4d77-90bb-9c0ca58059b9",
   "metadata": {},
   "outputs": [],
   "source": [
    "# Multi line string using triple code\n",
    "\n",
    "x = '''My \n",
    "Name Is                         \n",
    "Debanjan Dhar'''\n"
   ]
  },
  {
   "cell_type": "code",
   "execution_count": 9,
   "id": "80c7e4a5-c318-48d0-a3c2-d0c4dfae5415",
   "metadata": {},
   "outputs": [
    {
     "name": "stdout",
     "output_type": "stream",
     "text": [
      "My \n",
      "Name Is                         \n",
      "Debanjan Dhar\n"
     ]
    }
   ],
   "source": [
    "print(x)"
   ]
  },
  {
   "cell_type": "code",
   "execution_count": 10,
   "id": "57cc32fc-2d38-40e0-87e5-b90d097abf3c",
   "metadata": {},
   "outputs": [],
   "source": [
    "# Accessing string\n",
    "\n",
    "str = \"Debanjan\""
   ]
  },
  {
   "cell_type": "code",
   "execution_count": 11,
   "id": "736d86ea-ae83-4c3d-8467-ea66bf6de96a",
   "metadata": {},
   "outputs": [
    {
     "data": {
      "text/plain": [
       "'D'"
      ]
     },
     "execution_count": 11,
     "metadata": {},
     "output_type": "execute_result"
    }
   ],
   "source": [
    "str[0]"
   ]
  },
  {
   "cell_type": "code",
   "execution_count": 12,
   "id": "745e6184-a192-4610-a324-93578436c5cd",
   "metadata": {},
   "outputs": [
    {
     "data": {
      "text/plain": [
       "'e'"
      ]
     },
     "execution_count": 12,
     "metadata": {},
     "output_type": "execute_result"
    }
   ],
   "source": [
    "str[1]"
   ]
  },
  {
   "cell_type": "code",
   "execution_count": 13,
   "id": "a4336153-74e1-45db-9985-0c3d057f82e0",
   "metadata": {},
   "outputs": [
    {
     "data": {
      "text/plain": [
       "'n'"
      ]
     },
     "execution_count": 13,
     "metadata": {},
     "output_type": "execute_result"
    }
   ],
   "source": [
    "str[-1]             # Negative Indexing as well"
   ]
  },
  {
   "cell_type": "code",
   "execution_count": 14,
   "id": "8f82088c-c2ff-492a-bce9-a1fa31bff3f6",
   "metadata": {},
   "outputs": [
    {
     "data": {
      "text/plain": [
       "'a'"
      ]
     },
     "execution_count": 14,
     "metadata": {},
     "output_type": "execute_result"
    }
   ],
   "source": [
    "str[-2]"
   ]
  },
  {
   "cell_type": "code",
   "execution_count": 15,
   "id": "00f96ce8-87a8-4486-9738-b415ddf99da9",
   "metadata": {},
   "outputs": [],
   "source": [
    "li = '''Hi\n",
    "john'''"
   ]
  },
  {
   "cell_type": "code",
   "execution_count": 16,
   "id": "9d6af6b3-c0ff-4afd-8a9c-678c11b33447",
   "metadata": {},
   "outputs": [
    {
     "data": {
      "text/plain": [
       "'H'"
      ]
     },
     "execution_count": 16,
     "metadata": {},
     "output_type": "execute_result"
    }
   ],
   "source": [
    "li[0]"
   ]
  },
  {
   "cell_type": "code",
   "execution_count": 17,
   "id": "48071a66-1ff4-476f-9aa9-6f7da7c7b35f",
   "metadata": {},
   "outputs": [
    {
     "data": {
      "text/plain": [
       "'\\n'"
      ]
     },
     "execution_count": 17,
     "metadata": {},
     "output_type": "execute_result"
    }
   ],
   "source": [
    "li[2]     # end of line"
   ]
  },
  {
   "cell_type": "code",
   "execution_count": 18,
   "id": "9b3827df-29ad-43a4-b878-a42386d3cc91",
   "metadata": {},
   "outputs": [
    {
     "data": {
      "text/plain": [
       "'Hi\\njohn'"
      ]
     },
     "execution_count": 18,
     "metadata": {},
     "output_type": "execute_result"
    }
   ],
   "source": [
    "li"
   ]
  },
  {
   "cell_type": "code",
   "execution_count": null,
   "id": "b7053670-8c26-462d-bd4d-7c2e6bee37a6",
   "metadata": {},
   "outputs": [],
   "source": []
  }
 ],
 "metadata": {
  "kernelspec": {
   "display_name": "Python 3 (ipykernel)",
   "language": "python",
   "name": "python3"
  },
  "language_info": {
   "codemirror_mode": {
    "name": "ipython",
    "version": 3
   },
   "file_extension": ".py",
   "mimetype": "text/x-python",
   "name": "python",
   "nbconvert_exporter": "python",
   "pygments_lexer": "ipython3",
   "version": "3.11.4"
  }
 },
 "nbformat": 4,
 "nbformat_minor": 5
}
