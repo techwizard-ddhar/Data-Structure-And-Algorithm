{
 "cells": [
  {
   "cell_type": "code",
   "execution_count": 20,
   "id": "2b5b9cac-8c5e-41e1-82f1-a2485dc6a375",
   "metadata": {},
   "outputs": [
    {
     "name": "stdout",
     "output_type": "stream",
     "text": [
      "fdafdavxz\n"
     ]
    }
   ],
   "source": [
    "def replace(str,char1,char2):\n",
    "    for ele in str:\n",
    "        if(ele==char1):\n",
    "            str=str.replace(char1,char2)\n",
    "    return str\n",
    "\n",
    "str = \"fsafsavxz\"\n",
    "str = replace(str,'s','d')\n",
    "print(str)"
   ]
  },
  {
   "cell_type": "code",
   "execution_count": 21,
   "id": "15c62206-5bba-45f8-857e-84371d4da670",
   "metadata": {},
   "outputs": [
    {
     "name": "stdout",
     "output_type": "stream",
     "text": [
      "fdafdavxz\n"
     ]
    }
   ],
   "source": [
    "def replace(str, char1, char2):\n",
    "    for index in range(len(str)):\n",
    "        if(str[index] == char1):\n",
    "            str = str.replace(char1, char2)\n",
    "    return str\n",
    "\n",
    "str = \"fsafsavxz\"\n",
    "str = replace(str, 's', 'd')\n",
    "print(str)\n"
   ]
  },
  {
   "cell_type": "code",
   "execution_count": 24,
   "id": "552281cd-a106-4067-b6f1-43c7e680d3b0",
   "metadata": {},
   "outputs": [
    {
     "name": "stdout",
     "output_type": "stream",
     "text": [
      "ebcde\n"
     ]
    }
   ],
   "source": [
    "def replace(str, char1, char2):\n",
    "    new_str = \"\"\n",
    "    for char in str:\n",
    "        if(char == char1):\n",
    "            new_str+=char2\n",
    "        else:\n",
    "            new_str+=char\n",
    "    return new_str\n",
    "\n",
    "str = \"abcda\"\n",
    "str = replace(str, 'a', 'e')\n",
    "print(str)\n"
   ]
  },
  {
   "cell_type": "code",
   "execution_count": null,
   "id": "c964b69f-8d48-4a9a-9729-a6b354308088",
   "metadata": {},
   "outputs": [],
   "source": []
  }
 ],
 "metadata": {
  "kernelspec": {
   "display_name": "Python 3 (ipykernel)",
   "language": "python",
   "name": "python3"
  },
  "language_info": {
   "codemirror_mode": {
    "name": "ipython",
    "version": 3
   },
   "file_extension": ".py",
   "mimetype": "text/x-python",
   "name": "python",
   "nbconvert_exporter": "python",
   "pygments_lexer": "ipython3",
   "version": "3.11.4"
  }
 },
 "nbformat": 4,
 "nbformat_minor": 5
}
