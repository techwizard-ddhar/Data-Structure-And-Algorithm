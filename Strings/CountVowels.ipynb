{
 "cells": [
  {
   "cell_type": "markdown",
   "id": "e60b7704-b03b-4010-8401-163e677a7a54",
   "metadata": {},
   "source": [
    "count number of vowels, constants, digits and special characters in string"
   ]
  },
  {
   "cell_type": "code",
   "execution_count": 2,
   "id": "9a4616ba-80e1-4b15-80e1-2fc39f2f6d09",
   "metadata": {},
   "outputs": [
    {
     "name": "stdout",
     "output_type": "stream",
     "text": [
      "9 14 11 3\n"
     ]
    }
   ],
   "source": [
    "def CountInString(str):\n",
    "    v,c,d,s = 0,0,0,0\n",
    "    for char in str:\n",
    "        if(char>='a' and char<='z') or (char>='A' and char<='Z'):\n",
    "            char=char.lower()\n",
    "            if(char=='a' or char=='e' or char=='i' or char=='o' or char=='u'):\n",
    "                v+=1\n",
    "            else:\n",
    "                c+=1\n",
    "        elif(char>='0' and char<='9'):\n",
    "            d+=1\n",
    "        else:\n",
    "            s+=1\n",
    "    return v,c,d,s\n",
    "\n",
    "str = \"sfsaAFsawurioq24121141dsafd!@ afsa421\"\n",
    "v,c,d,s = CountInString(str)\n",
    "print(v,c,d,s)\n"
   ]
  },
  {
   "cell_type": "code",
   "execution_count": null,
   "id": "920e266f-e8e2-4bec-a874-2866ae017c97",
   "metadata": {},
   "outputs": [],
   "source": []
  }
 ],
 "metadata": {
  "kernelspec": {
   "display_name": "Python 3 (ipykernel)",
   "language": "python",
   "name": "python3"
  },
  "language_info": {
   "codemirror_mode": {
    "name": "ipython",
    "version": 3
   },
   "file_extension": ".py",
   "mimetype": "text/x-python",
   "name": "python",
   "nbconvert_exporter": "python",
   "pygments_lexer": "ipython3",
   "version": "3.11.4"
  }
 },
 "nbformat": 4,
 "nbformat_minor": 5
}
