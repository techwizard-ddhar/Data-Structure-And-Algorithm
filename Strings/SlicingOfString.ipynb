{
 "cells": [
  {
   "cell_type": "code",
   "execution_count": 2,
   "id": "c0ef3d40-1045-4eda-97a2-6698c51e9229",
   "metadata": {},
   "outputs": [],
   "source": [
    "a = \"Debanjan\""
   ]
  },
  {
   "cell_type": "code",
   "execution_count": 11,
   "id": "9f5ebc78-41d9-4cdc-82ee-2647e2304096",
   "metadata": {},
   "outputs": [
    {
     "data": {
      "text/plain": [
       "'ban'"
      ]
     },
     "execution_count": 11,
     "metadata": {},
     "output_type": "execute_result"
    }
   ],
   "source": [
    "a[2:5]"
   ]
  },
  {
   "cell_type": "code",
   "execution_count": 5,
   "id": "77fd9392-8c7a-44d5-82ec-b1f95ccb6e85",
   "metadata": {},
   "outputs": [
    {
     "data": {
      "text/plain": [
       "'bj'"
      ]
     },
     "execution_count": 5,
     "metadata": {},
     "output_type": "execute_result"
    }
   ],
   "source": [
    "a[2:6:3]     # D(0) e(1) {b(2)} a(3) n(4) {j(5)} a(6) n(7)---> step size(3)"
   ]
  },
  {
   "cell_type": "code",
   "execution_count": 18,
   "id": "bf8b9bad-2747-46ef-858d-3d9356e91db3",
   "metadata": {},
   "outputs": [
    {
     "data": {
      "text/plain": [
       "'beD'"
      ]
     },
     "execution_count": 18,
     "metadata": {},
     "output_type": "execute_result"
    }
   ],
   "source": [
    "a[2::-1]     # slicing should move in reverse order from the starting index. "
   ]
  },
  {
   "cell_type": "code",
   "execution_count": 8,
   "id": "07b87f26-1233-4420-9b51-eaa32e0dbcc2",
   "metadata": {},
   "outputs": [
    {
     "data": {
      "text/plain": [
       "'ebanjan'"
      ]
     },
     "execution_count": 8,
     "metadata": {},
     "output_type": "execute_result"
    }
   ],
   "source": [
    "a[1:]"
   ]
  },
  {
   "cell_type": "code",
   "execution_count": 9,
   "id": "69faf8ea-facb-4607-97b0-e70ec7db6c9a",
   "metadata": {},
   "outputs": [
    {
     "data": {
      "text/plain": [
       "'Deba'"
      ]
     },
     "execution_count": 9,
     "metadata": {},
     "output_type": "execute_result"
    }
   ],
   "source": [
    "a[:4]"
   ]
  },
  {
   "cell_type": "code",
   "execution_count": 7,
   "id": "21dd9ff9-c51f-4e5d-9a93-6a2cb1997420",
   "metadata": {},
   "outputs": [
    {
     "data": {
      "text/plain": [
       "'na'"
      ]
     },
     "execution_count": 7,
     "metadata": {},
     "output_type": "execute_result"
    }
   ],
   "source": [
    "a[:5:-1]   #This means we start from the last element (a[-1]),and move backward in reverse order.\n",
    "           # until the element at index 5 (exclusive) "
   ]
  },
  {
   "cell_type": "code",
   "execution_count": 21,
   "id": "4ed09f45-2f3d-4fee-aee6-68dc8bd6b525",
   "metadata": {},
   "outputs": [
    {
     "data": {
      "text/plain": [
       "''"
      ]
     },
     "execution_count": 21,
     "metadata": {},
     "output_type": "execute_result"
    }
   ],
   "source": [
    "a[5:1]\n"
   ]
  },
  {
   "cell_type": "code",
   "execution_count": 22,
   "id": "4db1603d-9961-4243-bfac-261b614a3625",
   "metadata": {},
   "outputs": [
    {
     "data": {
      "text/plain": [
       "'ja'"
      ]
     },
     "execution_count": 22,
     "metadata": {},
     "output_type": "execute_result"
    }
   ],
   "source": [
    "a[5:1:-2]   # D(0) e(1) {b(2)} a(3) n(4) {j(5)} a(6) n(7)---> step size(-2)"
   ]
  },
  {
   "cell_type": "code",
   "execution_count": null,
   "id": "fdd03b4f-46c1-4332-95a9-9adc3061ff57",
   "metadata": {},
   "outputs": [],
   "source": []
  }
 ],
 "metadata": {
  "kernelspec": {
   "display_name": "Python 3 (ipykernel)",
   "language": "python",
   "name": "python3"
  },
  "language_info": {
   "codemirror_mode": {
    "name": "ipython",
    "version": 3
   },
   "file_extension": ".py",
   "mimetype": "text/x-python",
   "name": "python",
   "nbconvert_exporter": "python",
   "pygments_lexer": "ipython3",
   "version": "3.11.4"
  }
 },
 "nbformat": 4,
 "nbformat_minor": 5
}
