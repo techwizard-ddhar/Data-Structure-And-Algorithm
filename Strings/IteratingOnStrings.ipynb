{
 "cells": [
  {
   "cell_type": "markdown",
   "id": "c8091718-201b-4fcb-aa86-5afe9da40b89",
   "metadata": {},
   "source": [
    "How To Iterate On String"
   ]
  },
  {
   "cell_type": "code",
   "execution_count": 2,
   "id": "9a4e1c1f-a33e-4730-b8eb-c18d86b90bf1",
   "metadata": {},
   "outputs": [],
   "source": [
    "str = \"Hello world\""
   ]
  },
  {
   "cell_type": "code",
   "execution_count": 6,
   "id": "54121b8a-74a3-4f7b-9516-6fb5bd12f202",
   "metadata": {},
   "outputs": [
    {
     "name": "stdout",
     "output_type": "stream",
     "text": [
      "3\n"
     ]
    }
   ],
   "source": [
    "#Method-1\n",
    "\n",
    "count  = 0                              \n",
    "\n",
    "for char in str:\n",
    "    if(char == 'l'):\n",
    "        count+=1\n",
    "print(count)"
   ]
  },
  {
   "cell_type": "code",
   "execution_count": 9,
   "id": "7ee3fb43-205f-42bc-94f0-52428ce441bf",
   "metadata": {},
   "outputs": [
    {
     "name": "stdout",
     "output_type": "stream",
     "text": [
      "2\n"
     ]
    }
   ],
   "source": [
    "#Method-2\n",
    "\n",
    "count = 0\n",
    "\n",
    "for i in range(len(str)):\n",
    "    if(str[i] == 'o'):\n",
    "        count+=1\n",
    "print(count)"
   ]
  },
  {
   "cell_type": "markdown",
   "id": "14cf5f19-5805-4bb8-ad86-e5d89675a191",
   "metadata": {},
   "source": [
    "In And Notin Operation On String"
   ]
  },
  {
   "cell_type": "code",
   "execution_count": 10,
   "id": "4a2c32bc-6743-4c42-bb98-8ec4567a66ec",
   "metadata": {},
   "outputs": [
    {
     "ename": "SyntaxError",
     "evalue": "invalid character '✔' (U+2714) (3775371642.py, line 5)",
     "output_type": "error",
     "traceback": [
      "\u001b[1;36m  Cell \u001b[1;32mIn[10], line 5\u001b[1;36m\u001b[0m\n\u001b[1;33m    H{✔}      e{✔}   eH {X}\u001b[0m\n\u001b[1;37m      ^\u001b[0m\n\u001b[1;31mSyntaxError\u001b[0m\u001b[1;31m:\u001b[0m invalid character '✔' (U+2714)\n"
     ]
    }
   ],
   "source": [
    "str = \"Hello\"\n",
    "\n",
    "Strings:\n",
    "\n",
    "H{✔}      e{✔}   eH {X}\n",
    "He        el      Heo {X}\n",
    "Hel       ell\n",
    "Hell      ello\n",
    "Hello"
   ]
  },
  {
   "cell_type": "code",
   "execution_count": 11,
   "id": "9e49ecaf-7959-4365-90d4-9cd8601f1124",
   "metadata": {},
   "outputs": [],
   "source": [
    "str = \"Hello world\""
   ]
  },
  {
   "cell_type": "code",
   "execution_count": 12,
   "id": "60d1fb93-1bfa-4b82-864c-3065a8c9942a",
   "metadata": {},
   "outputs": [
    {
     "name": "stdout",
     "output_type": "stream",
     "text": [
      "Yes it is a sub-string\n"
     ]
    }
   ],
   "source": [
    "if \"Hel\" in str:\n",
    "    print(\"Yes it is a sub-string\")"
   ]
  },
  {
   "cell_type": "code",
   "execution_count": 13,
   "id": "7423fc6f-8851-4f0c-a619-07229bd7db12",
   "metadata": {},
   "outputs": [
    {
     "name": "stdout",
     "output_type": "stream",
     "text": [
      "Yes it is not a string\n"
     ]
    }
   ],
   "source": [
    "if \"Heo\" not in str:\n",
    "    print(\"Yes it is not a string\")"
   ]
  },
  {
   "cell_type": "code",
   "execution_count": null,
   "id": "577549a5-a46d-48be-a74a-3848795814e0",
   "metadata": {},
   "outputs": [],
   "source": []
  }
 ],
 "metadata": {
  "kernelspec": {
   "display_name": "Python 3 (ipykernel)",
   "language": "python",
   "name": "python3"
  },
  "language_info": {
   "codemirror_mode": {
    "name": "ipython",
    "version": 3
   },
   "file_extension": ".py",
   "mimetype": "text/x-python",
   "name": "python",
   "nbconvert_exporter": "python",
   "pygments_lexer": "ipython3",
   "version": "3.11.4"
  }
 },
 "nbformat": 4,
 "nbformat_minor": 5
}
