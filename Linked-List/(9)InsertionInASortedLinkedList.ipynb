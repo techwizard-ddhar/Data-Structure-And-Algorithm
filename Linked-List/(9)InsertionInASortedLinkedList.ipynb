{
 "cells": [
  {
   "cell_type": "code",
   "execution_count": 21,
   "id": "ff285477-a7ac-4ff7-a80a-9f897784f3a9",
   "metadata": {},
   "outputs": [
    {
     "name": "stdin",
     "output_type": "stream",
     "text": [
      "Enter the element:  25\n"
     ]
    },
    {
     "name": "stdout",
     "output_type": "stream",
     "text": [
      "10 20 25 30 "
     ]
    }
   ],
   "source": [
    "class Node:\n",
    "    def __init__(self, k):\n",
    "        self.key = k\n",
    "        self.next = None\n",
    "\n",
    "def SortedInsert(head, ele):\n",
    "    temp = Node(ele)\n",
    "    curr = head\n",
    "    \n",
    "    if(head == None):\n",
    "        head = temp\n",
    "        return head\n",
    "        \n",
    "    elif(head.key >= temp.key):\n",
    "        temp.next = head\n",
    "        head = temp\n",
    "        return head\n",
    "        \n",
    "    \n",
    "    else:\n",
    "        while(curr.next != None) and (temp.key > curr.next.key):\n",
    "            curr = curr.next\n",
    "    temp.next = curr.next\n",
    "    curr.next = temp\n",
    "    return head\n",
    "        \n",
    "    \n",
    "def printlist(head):\n",
    "    current = head\n",
    "    while(current != None):\n",
    "        print(current.key, end = \" \")\n",
    "        current = current.next\n",
    "    \n",
    "head = Node(10)\n",
    "head.next = Node(20)\n",
    "head.next.next = Node(30)\n",
    "\n",
    "ele = int(input(\"Enter the element: \"))\n",
    "head = SortedInsert(head, ele)\n",
    "printlist(head)"
   ]
  },
  {
   "cell_type": "markdown",
   "id": "1494ac36-3068-477e-84f4-828dd60d3d90",
   "metadata": {},
   "source": []
  }
 ],
 "metadata": {
  "kernelspec": {
   "display_name": "Python 3 (ipykernel)",
   "language": "python",
   "name": "python3"
  },
  "language_info": {
   "codemirror_mode": {
    "name": "ipython",
    "version": 3
   },
   "file_extension": ".py",
   "mimetype": "text/x-python",
   "name": "python",
   "nbconvert_exporter": "python",
   "pygments_lexer": "ipython3",
   "version": "3.11.4"
  }
 },
 "nbformat": 4,
 "nbformat_minor": 5
}
