{
 "cells": [
  {
   "cell_type": "code",
   "execution_count": 11,
   "id": "48234957-de71-47e5-b8d7-48d652483080",
   "metadata": {},
   "outputs": [
    {
     "name": "stdout",
     "output_type": "stream",
     "text": [
      "5 20 25 "
     ]
    }
   ],
   "source": [
    "class Node:\n",
    "    def __init__(self, k):\n",
    "        self.key = k\n",
    "        self.next = None\n",
    "\n",
    "def delete(head):\n",
    "    if(head == None):\n",
    "        return None\n",
    "    else:\n",
    "        curr = head\n",
    "        head = head.next\n",
    "        curr = None # Set curr to None to free the memory of the deleted node\n",
    "        return head\n",
    "    \n",
    "def printlist(head):\n",
    "    current = head\n",
    "    while(current != None):\n",
    "        print(current.key, end = \" \")\n",
    "        current = current.next\n",
    "    \n",
    "head = Node(10)\n",
    "head.next = Node(5)\n",
    "head.next.next = Node(20)\n",
    "head.next.next.next = Node(25)\n",
    "\n",
    "head = delete(head)\n",
    "printlist(head)"
   ]
  },
  {
   "cell_type": "code",
   "execution_count": null,
   "id": "c0696814-ad22-4f1a-b26f-16980c9d28e5",
   "metadata": {},
   "outputs": [],
   "source": []
  }
 ],
 "metadata": {
  "kernelspec": {
   "display_name": "Python 3 (ipykernel)",
   "language": "python",
   "name": "python3"
  },
  "language_info": {
   "codemirror_mode": {
    "name": "ipython",
    "version": 3
   },
   "file_extension": ".py",
   "mimetype": "text/x-python",
   "name": "python",
   "nbconvert_exporter": "python",
   "pygments_lexer": "ipython3",
   "version": "3.11.4"
  }
 },
 "nbformat": 4,
 "nbformat_minor": 5
}
