{
 "cells": [
  {
   "cell_type": "code",
   "execution_count": 29,
   "id": "accbffae-aadc-49a7-ad18-309124181dc9",
   "metadata": {},
   "outputs": [
    {
     "name": "stdin",
     "output_type": "stream",
     "text": [
      "Enter the element:  100\n"
     ]
    },
    {
     "name": "stdout",
     "output_type": "stream",
     "text": [
      "10 20 30 100 "
     ]
    }
   ],
   "source": [
    "class Node:\n",
    "    def __init__(self, k):\n",
    "        self.key = k\n",
    "        self.next = None\n",
    "\n",
    "def insert_last(head, ele):\n",
    "    temp = Node(ele)\n",
    "    curr = head\n",
    "    if(head == None): # check if head is empty\n",
    "        head = temp\n",
    "        \n",
    "    while(curr.next != None):\n",
    "        curr = curr.next\n",
    "    curr.next = temp\n",
    "    temp.next =  None\n",
    "    return head\n",
    "    \n",
    "def printlist(head):\n",
    "    current = head\n",
    "    while(current != None):\n",
    "        print(current.key, end = \" \")\n",
    "        current = current.next\n",
    "    \n",
    "head = Node(10)\n",
    "head.next = Node(20)\n",
    "head.next.next = Node(30)\n",
    "\n",
    "ele = int(input(\"Enter the element: \"))\n",
    "head = insert_last(head, ele)\n",
    "printlist(head)"
   ]
  },
  {
   "cell_type": "code",
   "execution_count": null,
   "id": "0acb5b5b-5b4c-4909-be4b-9096af824179",
   "metadata": {},
   "outputs": [],
   "source": []
  }
 ],
 "metadata": {
  "kernelspec": {
   "display_name": "Python 3 (ipykernel)",
   "language": "python",
   "name": "python3"
  },
  "language_info": {
   "codemirror_mode": {
    "name": "ipython",
    "version": 3
   },
   "file_extension": ".py",
   "mimetype": "text/x-python",
   "name": "python",
   "nbconvert_exporter": "python",
   "pygments_lexer": "ipython3",
   "version": "3.11.4"
  }
 },
 "nbformat": 4,
 "nbformat_minor": 5
}
