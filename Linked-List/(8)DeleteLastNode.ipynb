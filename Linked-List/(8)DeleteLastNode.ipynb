{
 "cells": [
  {
   "cell_type": "code",
   "execution_count": 6,
   "id": "33b04893-1f41-4037-bbc6-9a629cc706bf",
   "metadata": {},
   "outputs": [
    {
     "name": "stdout",
     "output_type": "stream",
     "text": [
      "10 5 20 "
     ]
    }
   ],
   "source": [
    "class Node:\n",
    "    def __init__(self, k):\n",
    "        self.key = k\n",
    "        self.next = None\n",
    "\n",
    "def deletelast(head):\n",
    "    curr1 = head\n",
    "    curr2 = head\n",
    "    if(head == None): # if there is no element\n",
    "        return None\n",
    "    elif(head.next == None): # if there is only one element\n",
    "        return None\n",
    "    while(curr1.next != None):\n",
    "        curr2 = curr1\n",
    "        curr1 = curr1.next\n",
    "    curr2.next = None\n",
    "    curr1 = None\n",
    "    return head\n",
    "        \n",
    "    \n",
    "def printlist(head):\n",
    "    current = head\n",
    "    while(current != None):\n",
    "        print(current.key, end = \" \")\n",
    "        current = current.next\n",
    "    \n",
    "head = Node(10)\n",
    "head.next = Node(5)\n",
    "head.next.next = Node(20)\n",
    "head.next.next.next = Node(25)\n",
    "\n",
    "head = deletelast(head)\n",
    "printlist(head)"
   ]
  },
  {
   "cell_type": "code",
   "execution_count": null,
   "id": "7c4ed82e-38fe-4ece-87d5-a16a02297ce5",
   "metadata": {},
   "outputs": [],
   "source": []
  }
 ],
 "metadata": {
  "kernelspec": {
   "display_name": "Python 3 (ipykernel)",
   "language": "python",
   "name": "python3"
  },
  "language_info": {
   "codemirror_mode": {
    "name": "ipython",
    "version": 3
   },
   "file_extension": ".py",
   "mimetype": "text/x-python",
   "name": "python",
   "nbconvert_exporter": "python",
   "pygments_lexer": "ipython3",
   "version": "3.11.4"
  }
 },
 "nbformat": 4,
 "nbformat_minor": 5
}
