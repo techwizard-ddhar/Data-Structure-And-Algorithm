{
 "cells": [
  {
   "cell_type": "code",
   "execution_count": 3,
   "id": "c3004faa-f444-437e-9f94-409c3d282370",
   "metadata": {},
   "outputs": [
    {
     "name": "stdout",
     "output_type": "stream",
     "text": [
      "10 15 20 25 "
     ]
    }
   ],
   "source": [
    "class Node:\n",
    "    def __init__(self, k):\n",
    "        self.key = k\n",
    "        self.next = None\n",
    "\n",
    "# Traversing a Linked List\n",
    "    \n",
    "def printlist(head):\n",
    "    curr = head\n",
    "    while(curr != None):\n",
    "        print(curr.key, end = \" \")\n",
    "        curr = curr.next\n",
    "    \n",
    "temp1 = Node(10)\n",
    "temp2 = Node(15)\n",
    "temp3 = Node(20)\n",
    "temp4 = Node(25)\n",
    "temp1.next = temp2\n",
    "temp2.next = temp3\n",
    "temp3.next = temp4\n",
    "temp4.next = None\n",
    "head = temp1\n",
    "printlist(head)  "
   ]
  },
  {
   "cell_type": "code",
   "execution_count": 2,
   "id": "7c31a285-675a-4fa3-a059-8ca55559cb59",
   "metadata": {},
   "outputs": [
    {
     "name": "stdout",
     "output_type": "stream",
     "text": [
      "10 5 20 25 "
     ]
    }
   ],
   "source": [
    "class Node:\n",
    "    def __init__(self, k):\n",
    "        self.key = k\n",
    "        self.next = None\n",
    "\n",
    "# Traversing a Linked List\n",
    "\n",
    "def printlist(head):\n",
    "    current = head\n",
    "    while(current != None):\n",
    "        print(current.key, end = \" \")\n",
    "        current = current.next\n",
    "    \n",
    "head = Node(10)\n",
    "head.next = Node(5)\n",
    "head.next.next = Node(20)\n",
    "head.next.next.next = Node(25)\n",
    "printlist(head)"
   ]
  },
  {
   "cell_type": "code",
   "execution_count": null,
   "id": "abf5c9fd-b3fa-4885-934f-75ee3438a00b",
   "metadata": {},
   "outputs": [],
   "source": []
  }
 ],
 "metadata": {
  "kernelspec": {
   "display_name": "Python 3 (ipykernel)",
   "language": "python",
   "name": "python3"
  },
  "language_info": {
   "codemirror_mode": {
    "name": "ipython",
    "version": 3
   },
   "file_extension": ".py",
   "mimetype": "text/x-python",
   "name": "python",
   "nbconvert_exporter": "python",
   "pygments_lexer": "ipython3",
   "version": "3.11.4"
  }
 },
 "nbformat": 4,
 "nbformat_minor": 5
}
