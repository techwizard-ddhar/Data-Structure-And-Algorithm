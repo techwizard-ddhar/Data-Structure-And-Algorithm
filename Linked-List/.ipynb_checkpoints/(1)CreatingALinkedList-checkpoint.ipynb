{
 "cells": [
  {
   "cell_type": "code",
   "execution_count": 9,
   "id": "98dea534-f152-4ba5-b742-723e625da2b4",
   "metadata": {},
   "outputs": [],
   "source": [
    "class Node:\n",
    "    def __init__(self, k):\n",
    "        self.key = k\n",
    "        self.next = None\n",
    "    \n",
    "temp1 = Node(10)\n",
    "temp2 = Node(15)\n",
    "temp3 = Node(20)\n",
    "temp4 = Node(25)\n",
    "temp1.next = temp2\n",
    "temp2.next = temp3\n",
    "temp3.next = temp4\n",
    "temp4.next = None\n",
    "head = temp1\n"
   ]
  },
  {
   "cell_type": "markdown",
   "id": "909f9426-e355-403f-9b45-57c855f1ed71",
   "metadata": {},
   "source": [
    "**Better solution**"
   ]
  },
  {
   "cell_type": "code",
   "execution_count": 8,
   "id": "976ff976-cb2c-489a-a7ab-75a4c8b3ab55",
   "metadata": {},
   "outputs": [],
   "source": [
    "class Node:\n",
    "    def __init__(self, k):\n",
    "        self.key = k\n",
    "        self.next = None\n",
    "        \n",
    "head = Node(10)\n",
    "head.next = Node(5)\n",
    "head.next.next = Node(20)\n",
    "head.next.next.next = Node(25)\n"
   ]
  },
  {
   "cell_type": "code",
   "execution_count": null,
   "id": "6bfaa074-0b0d-4635-988c-98d30f6ef48a",
   "metadata": {},
   "outputs": [],
   "source": []
  }
 ],
 "metadata": {
  "kernelspec": {
   "display_name": "Python 3 (ipykernel)",
   "language": "python",
   "name": "python3"
  },
  "language_info": {
   "codemirror_mode": {
    "name": "ipython",
    "version": 3
   },
   "file_extension": ".py",
   "mimetype": "text/x-python",
   "name": "python",
   "nbconvert_exporter": "python",
   "pygments_lexer": "ipython3",
   "version": "3.11.4"
  }
 },
 "nbformat": 4,
 "nbformat_minor": 5
}
