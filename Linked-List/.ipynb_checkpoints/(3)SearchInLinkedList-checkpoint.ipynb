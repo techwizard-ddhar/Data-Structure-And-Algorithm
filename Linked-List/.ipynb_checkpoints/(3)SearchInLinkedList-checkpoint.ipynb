{
 "cells": [
  {
   "cell_type": "markdown",
   "id": "9a1c3723-96e0-4fc4-b6e6-9702b09c7bf2",
   "metadata": {},
   "source": [
    "**If Found return the element, else return -1**"
   ]
  },
  {
   "cell_type": "code",
   "execution_count": 10,
   "id": "ba1d1b97-f5ec-4236-b347-a76a308a57bd",
   "metadata": {},
   "outputs": [
    {
     "name": "stdin",
     "output_type": "stream",
     "text": [
      "Enter the element:  78\n"
     ]
    },
    {
     "name": "stdout",
     "output_type": "stream",
     "text": [
      "-1\n"
     ]
    }
   ],
   "source": [
    "class Node:\n",
    "    def __init__(self, k):\n",
    "        self.key = k\n",
    "        self.next = None\n",
    "\n",
    "def printlist(head, ele):\n",
    "    current = head\n",
    "    while(current != None):\n",
    "        if(current.key == ele):\n",
    "            return ele\n",
    "        else:\n",
    "            current = current.next\n",
    "    return -1\n",
    "    \n",
    "head = Node(10)\n",
    "head.next = Node(5)\n",
    "head.next.next = Node(20)\n",
    "head.next.next.next = Node(25)\n",
    "\n",
    "ele = int(input(\"Enter the element: \"))\n",
    "output = printlist(head, ele)\n",
    "print(output)"
   ]
  },
  {
   "cell_type": "markdown",
   "id": "2c4f4a51-6012-4b70-8ac7-3b6e9da641d9",
   "metadata": {},
   "source": [
    "**Return The Index**"
   ]
  },
  {
   "cell_type": "code",
   "execution_count": 11,
   "id": "83738966-4fef-450a-b69b-4b56dbb654ab",
   "metadata": {},
   "outputs": [
    {
     "name": "stdin",
     "output_type": "stream",
     "text": [
      "Enter the element:  20\n"
     ]
    },
    {
     "name": "stdout",
     "output_type": "stream",
     "text": [
      "3\n"
     ]
    }
   ],
   "source": [
    "class Node:\n",
    "    def __init__(self, k):\n",
    "        self.key = k\n",
    "        self.next = None\n",
    "\n",
    "def printlist(head, ele):\n",
    "    current = head\n",
    "    pos = 1\n",
    "    while(current != None):\n",
    "        if(current.key == ele):\n",
    "            return pos\n",
    "        else:\n",
    "            pos = pos + 1\n",
    "            current = current.next\n",
    "    return -1\n",
    "    \n",
    "head = Node(10)\n",
    "head.next = Node(5)\n",
    "head.next.next = Node(20)\n",
    "head.next.next.next = Node(25)\n",
    "\n",
    "ele = int(input(\"Enter the element: \"))\n",
    "output = printlist(head, ele)\n",
    "print(output)"
   ]
  },
  {
   "cell_type": "code",
   "execution_count": null,
   "id": "3c1e359e-8fbb-4ee6-a76d-b8e62fb16db4",
   "metadata": {},
   "outputs": [],
   "source": []
  }
 ],
 "metadata": {
  "kernelspec": {
   "display_name": "Python 3 (ipykernel)",
   "language": "python",
   "name": "python3"
  },
  "language_info": {
   "codemirror_mode": {
    "name": "ipython",
    "version": 3
   },
   "file_extension": ".py",
   "mimetype": "text/x-python",
   "name": "python",
   "nbconvert_exporter": "python",
   "pygments_lexer": "ipython3",
   "version": "3.11.4"
  }
 },
 "nbformat": 4,
 "nbformat_minor": 5
}
