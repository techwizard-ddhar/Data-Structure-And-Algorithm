{
 "cells": [
  {
   "cell_type": "code",
   "execution_count": 9,
   "id": "5682c83b-4e32-4cd5-a6cd-ee555027fc05",
   "metadata": {},
   "outputs": [
    {
     "name": "stdout",
     "output_type": "stream",
     "text": [
      "30 20 10 "
     ]
    }
   ],
   "source": [
    "class Node:\n",
    "    def __init__(self, k):\n",
    "        self.key = k\n",
    "        self.next = None\n",
    "\n",
    "def reverse(head):\n",
    "    prev = None\n",
    "    curr = None\n",
    "    next = head\n",
    "    while(next != None):\n",
    "        prev = curr\n",
    "        curr = next\n",
    "        next = next.next\n",
    "        curr.next = prev\n",
    "        head = curr\n",
    "    return head\n",
    "        \n",
    "        \n",
    "def printlist(head):\n",
    "    current = head\n",
    "    while(current != None):\n",
    "        print(current.key, end = \" \")\n",
    "        current = current.next\n",
    "    \n",
    "head = Node(10)\n",
    "head.next = Node(20)\n",
    "head.next.next = Node(30)\n",
    "\n",
    "head = reverse(head)\n",
    "printlist(head)"
   ]
  },
  {
   "cell_type": "markdown",
   "id": "af1d8939-fea3-4a28-af0d-574399472a2b",
   "metadata": {},
   "source": [
    "**Using Recursion**"
   ]
  },
  {
   "cell_type": "code",
   "execution_count": 11,
   "id": "09713080-1810-4302-b483-37c10ce0dce1",
   "metadata": {},
   "outputs": [
    {
     "name": "stdout",
     "output_type": "stream",
     "text": [
      "50 40 30 20 10 "
     ]
    }
   ],
   "source": [
    "class Node:\n",
    "    def __init__(self, k):\n",
    "        self.key = k\n",
    "        self.next = None\n",
    "\n",
    "def reverse(head):\n",
    "    if(head == None):\n",
    "        return head\n",
    "    if(head.next == None):\n",
    "        return head\n",
    "    smallerlistoutput = reverse(head.next)\n",
    "    curr = head\n",
    "    curr = curr.next\n",
    "    curr.next = head\n",
    "    head.next = None\n",
    "    return smallerlistoutput\n",
    "        \n",
    "        \n",
    "def printlist(head):\n",
    "    current = head\n",
    "    while(current != None):\n",
    "        print(current.key, end = \" \")\n",
    "        current = current.next\n",
    "    \n",
    "head = Node(10)\n",
    "head.next = Node(20)\n",
    "head.next.next = Node(30)\n",
    "head.next.next.next = Node(40)\n",
    "head.next.next.next.next = Node(50)\n",
    "\n",
    "head = reverse(head)\n",
    "printlist(head)"
   ]
  },
  {
   "cell_type": "code",
   "execution_count": null,
   "id": "c1950b65-51a1-4450-adc5-cc84710985a3",
   "metadata": {},
   "outputs": [],
   "source": []
  }
 ],
 "metadata": {
  "kernelspec": {
   "display_name": "Python 3 (ipykernel)",
   "language": "python",
   "name": "python3"
  },
  "language_info": {
   "codemirror_mode": {
    "name": "ipython",
    "version": 3
   },
   "file_extension": ".py",
   "mimetype": "text/x-python",
   "name": "python",
   "nbconvert_exporter": "python",
   "pygments_lexer": "ipython3",
   "version": "3.11.4"
  }
 },
 "nbformat": 4,
 "nbformat_minor": 5
}
