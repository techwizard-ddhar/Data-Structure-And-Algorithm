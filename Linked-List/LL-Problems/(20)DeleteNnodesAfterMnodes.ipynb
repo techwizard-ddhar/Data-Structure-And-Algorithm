{
 "cells": [
  {
   "cell_type": "code",
   "execution_count": 1,
   "id": "81fb1800-f492-4108-8934-e75cc7b46381",
   "metadata": {},
   "outputs": [
    {
     "name": "stdout",
     "output_type": "stream",
     "text": [
      "1 2 6 7 11 12 "
     ]
    }
   ],
   "source": [
    "class Node:\n",
    "    def __init__(self,k):\n",
    "        self.key = k\n",
    "        self.next = None\n",
    "\n",
    "def skipMdeleteN(head, M, N):\n",
    "\t\tcurr = head\n",
    "\t\tt = head\n",
    "\t\twhile(curr != None):\n",
    "\t\t\tfor count in range(M-1):\n",
    "\t\t\t\tif(curr != None):\n",
    "\t\t\t\t\tcurr = curr.next\n",
    "\t\t\t\telse:\n",
    "\t\t\t\t\tbreak \n",
    "\t\t\tif(curr != None):\n",
    "\t\t\t\tfor count in range(M+N):\n",
    "\t\t\t\t\tif(t != None):\n",
    "\t\t\t\t\t\tt = t.next\n",
    "\t\t\t\t\telse:\n",
    "\t\t\t\t\t\tbreak  \n",
    "\t\t\t\tcurr.next = t\n",
    "\t\t\t\tcurr = t\n",
    "\t\treturn head\n",
    "                \n",
    "def printlist(head):\n",
    "    curr = head\n",
    "    while(curr != None):\n",
    "        print(curr.key, end = \" \")\n",
    "        curr = curr.next\n",
    "\n",
    "\n",
    "list = [1, 2, 3, 4, 5, 6, 7, 8, 9, 10, 11, 12, 13]\n",
    "head = None\n",
    "curr = None\n",
    "for ele in list:\n",
    "    if(head == None):\n",
    "        head = Node(ele)\n",
    "        curr = head\n",
    "    else:\n",
    "        curr.next = Node(ele)\n",
    "        curr = curr.next\n",
    "\n",
    "M = 2\n",
    "N = 3\n",
    "output = skipMdeleteN(head, M, N)\n",
    "printlist(output)"
   ]
  },
  {
   "cell_type": "code",
   "execution_count": 2,
   "id": "4b5282da-612d-4ff8-81ce-3d7e121380a2",
   "metadata": {},
   "outputs": [
    {
     "name": "stdout",
     "output_type": "stream",
     "text": [
      "9 7 8 "
     ]
    }
   ],
   "source": [
    "class Node:\n",
    "    def __init__(self,k):\n",
    "        self.key = k\n",
    "        self.next = None\n",
    "\n",
    "def skipMdeleteN(head, M, N):\n",
    "\t\tcurr = head\n",
    "\t\tt = head\n",
    "\t\twhile(curr != None):\n",
    "\t\t\tfor count in range(M-1):\n",
    "\t\t\t\tif(curr != None):\n",
    "\t\t\t\t\tcurr = curr.next\n",
    "\t\t\t\telse:\n",
    "\t\t\t\t\tbreak \n",
    "\t\t\tif(curr != None):\n",
    "\t\t\t\tfor count in range(M+N):\n",
    "\t\t\t\t\tif(t != None):\n",
    "\t\t\t\t\t\tt = t.next\n",
    "\t\t\t\t\telse:\n",
    "\t\t\t\t\t\tbreak  \n",
    "\t\t\t\tcurr.next = t\n",
    "\t\t\t\tcurr = t\n",
    "\t\treturn head\n",
    "                \n",
    "def printlist(head):\n",
    "    curr = head\n",
    "    while(curr != None):\n",
    "        print(curr.key, end = \" \")\n",
    "        curr = curr.next\n",
    "\n",
    "\n",
    "list = [9,3,7,7,9,10,8,2]\n",
    "head = None\n",
    "curr = None\n",
    "for ele in list:\n",
    "    if(head == None):\n",
    "        head = Node(ele)\n",
    "        curr = head\n",
    "    else:\n",
    "        curr.next = Node(ele)\n",
    "        curr = curr.next\n",
    "\n",
    "M = 1\n",
    "N = 2\n",
    "output = skipMdeleteN(head, M, N)\n",
    "printlist(output)"
   ]
  },
  {
   "cell_type": "code",
   "execution_count": 3,
   "id": "0f092002-da9c-4fe6-b55f-afe7712db4a2",
   "metadata": {},
   "outputs": [
    {
     "name": "stdout",
     "output_type": "stream",
     "text": [
      "1 2 3 5 6 7 9 10 11 "
     ]
    }
   ],
   "source": [
    "class Node:\n",
    "    def __init__(self,k):\n",
    "        self.key = k\n",
    "        self.next = None\n",
    "\n",
    "def skipMdeleteN(head, M, N):\n",
    "\t\tcurr = head\n",
    "\t\tt = head\n",
    "\t\twhile(curr != None):\n",
    "\t\t\tfor count in range(M-1):\n",
    "\t\t\t\tif(curr != None):\n",
    "\t\t\t\t\tcurr = curr.next\n",
    "\t\t\t\telse:\n",
    "\t\t\t\t\tbreak \n",
    "\t\t\tif(curr != None):\n",
    "\t\t\t\tfor count in range(M+N):\n",
    "\t\t\t\t\tif(t != None):\n",
    "\t\t\t\t\t\tt = t.next\n",
    "\t\t\t\t\telse:\n",
    "\t\t\t\t\t\tbreak  \n",
    "\t\t\t\tcurr.next = t\n",
    "\t\t\t\tcurr = t\n",
    "\t\treturn head\n",
    "                \n",
    "def printlist(head):\n",
    "    curr = head\n",
    "    while(curr != None):\n",
    "        print(curr.key, end = \" \")\n",
    "        curr = curr.next\n",
    "\n",
    "\n",
    "list = [1,2,3,4,5,6,7,8,9,10,11]\n",
    "head = None\n",
    "curr = None\n",
    "for ele in list:\n",
    "    if(head == None):\n",
    "        head = Node(ele)\n",
    "        curr = head\n",
    "    else:\n",
    "        curr.next = Node(ele)\n",
    "        curr = curr.next\n",
    "\n",
    "M = 3\n",
    "N = 1\n",
    "output = skipMdeleteN(head, M, N)\n",
    "printlist(output)"
   ]
  },
  {
   "cell_type": "code",
   "execution_count": null,
   "id": "09922963-65b2-49ef-8460-2e8c3f82e6ae",
   "metadata": {},
   "outputs": [],
   "source": []
  }
 ],
 "metadata": {
  "kernelspec": {
   "display_name": "Python 3 (ipykernel)",
   "language": "python",
   "name": "python3"
  },
  "language_info": {
   "codemirror_mode": {
    "name": "ipython",
    "version": 3
   },
   "file_extension": ".py",
   "mimetype": "text/x-python",
   "name": "python",
   "nbconvert_exporter": "python",
   "pygments_lexer": "ipython3",
   "version": "3.11.4"
  }
 },
 "nbformat": 4,
 "nbformat_minor": 5
}
