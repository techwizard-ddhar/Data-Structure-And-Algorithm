{
 "cells": [
  {
   "cell_type": "code",
   "execution_count": 9,
   "id": "178592d5-a88e-4596-9bad-cd0f65cbffba",
   "metadata": {},
   "outputs": [
    {
     "name": "stdout",
     "output_type": "stream",
     "text": [
      "True\n"
     ]
    }
   ],
   "source": [
    "class Node:\n",
    "    def __init__(self, k):\n",
    "        self.key = k\n",
    "        self.next = None\n",
    "\n",
    "def createcycle(head, a, b):\n",
    "    counta = 0\n",
    "    countb = 0\n",
    "    prev = head\n",
    "    curr = head\n",
    "    while(counta != a) or (countb != b):\n",
    "        if(counta != a):\n",
    "            counta += 1\n",
    "            prev = prev.next\n",
    "        if(countb != b):\n",
    "            countb += 1\n",
    "            curr = curr.next\n",
    "    curr.next = prev\n",
    "    return head\n",
    "\n",
    "def detectloop(head):\n",
    "    slow = head\n",
    "    fast = head\n",
    "    while(fast != None) and (fast.next != None):\n",
    "        slow = slow.next\n",
    "        fast = fast.next.next\n",
    "        if(slow == fast):\n",
    "            return True\n",
    "    return False\n",
    "            \n",
    "head = Node(1)\n",
    "head.next = Node(2)\n",
    "head.next.next = Node(3)\n",
    "head.next.next.next = Node(4)\n",
    "head.next.next.next.next = Node(5)\n",
    "head.next.next.next.next.next = Node(6)\n",
    "\n",
    "head = createcycle(head, 4, 4)\n",
    "print(detectloop(head))"
   ]
  },
  {
   "cell_type": "code",
   "execution_count": null,
   "id": "79066662-535a-48f6-aced-6c2d346f92bd",
   "metadata": {},
   "outputs": [],
   "source": []
  }
 ],
 "metadata": {
  "kernelspec": {
   "display_name": "Python 3 (ipykernel)",
   "language": "python",
   "name": "python3"
  },
  "language_info": {
   "codemirror_mode": {
    "name": "ipython",
    "version": 3
   },
   "file_extension": ".py",
   "mimetype": "text/x-python",
   "name": "python",
   "nbconvert_exporter": "python",
   "pygments_lexer": "ipython3",
   "version": "3.11.4"
  }
 },
 "nbformat": 4,
 "nbformat_minor": 5
}
