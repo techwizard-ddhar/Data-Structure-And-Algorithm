{
 "cells": [
  {
   "cell_type": "markdown",
   "id": "83e8b67a-b65c-4f70-af3e-855bbbf1ebc0",
   "metadata": {},
   "source": [
    "**My Approach --> Doesn't work for consecutive duplicate elements**"
   ]
  },
  {
   "cell_type": "code",
   "execution_count": 22,
   "id": "9df3896a-d0cf-4f29-ad34-7bbe00fe8661",
   "metadata": {},
   "outputs": [
    {
     "name": "stdout",
     "output_type": "stream",
     "text": [
      "3 3 "
     ]
    }
   ],
   "source": [
    "class Node:\n",
    "    def __init__(self, k):\n",
    "        self.key = k\n",
    "        self.next = None\n",
    "\n",
    "def removeDuplicates(head):\n",
    "    prev = None\n",
    "    curr = head\n",
    "    while(curr != None) and (curr.next != None):\n",
    "        prev = curr\n",
    "        curr = curr.next\n",
    "        if(prev.key == curr.key):\n",
    "            prev.next = curr.next\n",
    "            curr = None\n",
    "            curr = prev.next\n",
    "    return head\n",
    "\n",
    "def printlist(head):\n",
    "    curr = head\n",
    "    while(curr != None):\n",
    "        print(curr.key, end = \" \")\n",
    "        curr = curr.next\n",
    "\n",
    "head = Node(1)\n",
    "head.next = Node(2)\n",
    "head.next.next = Node(3)\n",
    "head.next.next.next = Node(3)\n",
    "head.next.next.next.next = Node(4)\n",
    "head.next.next.next.next.next = Node(5)\n",
    "head.next.next.next.next.next.next = Node(5)\n",
    "head.next.next.next.next.next.next.next = Node(6)\n",
    "\n",
    "out = removeDuplicates(head)\n",
    "printlist(out)"
   ]
  },
  {
   "cell_type": "markdown",
   "id": "591beeb9-8635-46b7-8701-cdde94ec8501",
   "metadata": {},
   "source": [
    "**Correct Solution**"
   ]
  },
  {
   "cell_type": "code",
   "execution_count": 25,
   "id": "221309c4-6d0e-456c-84cf-d02dcc2355f1",
   "metadata": {},
   "outputs": [
    {
     "name": "stdout",
     "output_type": "stream",
     "text": [
      "2 5 6 "
     ]
    }
   ],
   "source": [
    "class Node:\n",
    "    def __init__(self, k):\n",
    "        self.key = k\n",
    "        self.next = None\n",
    "\n",
    "def removeDuplicates(head):\n",
    "    curr = head\n",
    "    while(curr != None) and (curr.next != None):\n",
    "        if(curr.key == curr.next.key):\n",
    "            curr.next = curr.next.next\n",
    "        else:\n",
    "            curr = curr.next\n",
    "    return head\n",
    "\n",
    "def printlist(head):\n",
    "    curr = head\n",
    "    while(curr != None):\n",
    "        print(curr.key, end = \" \")\n",
    "        curr = curr.next\n",
    "\n",
    "head = Node(2)\n",
    "head.next = Node(2)\n",
    "head.next.next = Node(2)\n",
    "head.next.next.next = Node(2)\n",
    "head.next.next.next.next = Node(2)\n",
    "head.next.next.next.next.next = Node(5)\n",
    "head.next.next.next.next.next.next = Node(5)\n",
    "head.next.next.next.next.next.next.next = Node(6)\n",
    "\n",
    "out = removeDuplicates(head)\n",
    "printlist(out)"
   ]
  },
  {
   "cell_type": "code",
   "execution_count": null,
   "id": "58894b00-1832-46e8-901c-c5a2bd99f418",
   "metadata": {},
   "outputs": [],
   "source": []
  }
 ],
 "metadata": {
  "kernelspec": {
   "display_name": "Python 3 (ipykernel)",
   "language": "python",
   "name": "python3"
  },
  "language_info": {
   "codemirror_mode": {
    "name": "ipython",
    "version": 3
   },
   "file_extension": ".py",
   "mimetype": "text/x-python",
   "name": "python",
   "nbconvert_exporter": "python",
   "pygments_lexer": "ipython3",
   "version": "3.11.4"
  }
 },
 "nbformat": 4,
 "nbformat_minor": 5
}
