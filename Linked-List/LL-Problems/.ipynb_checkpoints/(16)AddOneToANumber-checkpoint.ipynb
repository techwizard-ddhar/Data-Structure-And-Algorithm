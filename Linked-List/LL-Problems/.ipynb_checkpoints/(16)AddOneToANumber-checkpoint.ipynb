{
 "cells": [
  {
   "cell_type": "code",
   "execution_count": 2,
   "id": "8d643e0a-4d85-4b0e-be2d-af8b53de1210",
   "metadata": {},
   "outputs": [
    {
     "name": "stdout",
     "output_type": "stream",
     "text": [
      "1 5 5 0 9 0 7 5 1 9 6 0 5 0 1 2 8 5 6 1 8 0 "
     ]
    }
   ],
   "source": [
    "class Node:\n",
    "    def __init__(self,k):\n",
    "        self.key = k\n",
    "        self.next = None\n",
    "\n",
    "def reverse(head):\n",
    "    prev = None\n",
    "    curr = None\n",
    "    next = head\n",
    "    while(next != None):\n",
    "        prev = curr\n",
    "        curr = next\n",
    "        next = next.next\n",
    "        curr.next = prev\n",
    "        head = curr\n",
    "    return head\n",
    "\n",
    "def AddOne(head):\n",
    "    head = reverse(head)\n",
    "    k = head\n",
    "    #curr = head--> not possible because we are moving the head node, \n",
    "    #because of which curr next will become None as it will oose the connection with head mode\n",
    "    \n",
    "    carry = 0\n",
    "    head.key += 1\n",
    "    while(head != None) and (head.key > 9 or carry > 0):\n",
    "        curr = head\n",
    "        head.key += carry\n",
    "        carry = head.key//10\n",
    "        head.key = head.key%10\n",
    "        head = head.next\n",
    "        #curr = curr.next--> not possible \n",
    "    if(carry > 0):\n",
    "        curr.next = Node(carry)\n",
    "    return reverse(k)\n",
    "\n",
    "def printlist(head):\n",
    "    curr = head\n",
    "    while(curr != None):\n",
    "        print(curr.key, end = \" \")\n",
    "        curr = curr.next\n",
    "\n",
    "list = [1, 5, 5, 0, 9, 0, 7, 5, 1, 9, 6, 0, 5, 0, 1, 2, 8, 5, 6, 1, 7, 9]\n",
    "head = None\n",
    "curr = None\n",
    "for ele in list:\n",
    "    if(head == None):\n",
    "        head = Node(ele)\n",
    "        curr = head\n",
    "    else:\n",
    "        curr.next = Node(ele)\n",
    "        curr = curr.next\n",
    "\n",
    "output = AddOne(head)\n",
    "printlist(output)"
   ]
  },
  {
   "cell_type": "code",
   "execution_count": null,
   "id": "ecfc31a9-c53d-4cb4-b458-48ec14705bc7",
   "metadata": {},
   "outputs": [],
   "source": []
  }
 ],
 "metadata": {
  "kernelspec": {
   "display_name": "Python 3 (ipykernel)",
   "language": "python",
   "name": "python3"
  },
  "language_info": {
   "codemirror_mode": {
    "name": "ipython",
    "version": 3
   },
   "file_extension": ".py",
   "mimetype": "text/x-python",
   "name": "python",
   "nbconvert_exporter": "python",
   "pygments_lexer": "ipython3",
   "version": "3.11.4"
  }
 },
 "nbformat": 4,
 "nbformat_minor": 5
}
