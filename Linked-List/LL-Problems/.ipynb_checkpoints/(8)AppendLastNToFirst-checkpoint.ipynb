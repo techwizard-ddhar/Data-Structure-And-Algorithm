{
 "cells": [
  {
   "cell_type": "code",
   "execution_count": 23,
   "id": "93a3648c-c96e-4eee-b8ca-742b5a6a54ee",
   "metadata": {},
   "outputs": [
    {
     "name": "stdout",
     "output_type": "stream",
     "text": [
      "20 30 40 50 60 10 "
     ]
    }
   ],
   "source": [
    "class Node:\n",
    "    def __init__(self, k):\n",
    "        self.key = k\n",
    "        self.next = None\n",
    "\n",
    "def move_to_nth_from_end(head, n):\n",
    "        length = 0\n",
    "        current = head\n",
    "        while(current != None):\n",
    "            length += 1\n",
    "            current = current.next\n",
    "\n",
    "        position = length - n\n",
    "    \n",
    "        curr = head\n",
    "        count = 1\n",
    "        while(count != position):\n",
    "            count += 1\n",
    "            curr = curr.next\n",
    "        head2 = curr.next \n",
    "        tail = head2\n",
    "        curr.next = None # no head\n",
    "        while(tail.next != None):\n",
    "            tail = tail.next\n",
    "        tail.next = head\n",
    "        head = head2\n",
    "        return head\n",
    "                \n",
    "def printlist(head):\n",
    "    curr = head\n",
    "    while(curr != None):\n",
    "        print(curr.key, end = \" \")\n",
    "        curr = curr.next\n",
    "        \n",
    "head = Node(10)\n",
    "head.next = Node(20)\n",
    "head.next.next = Node(30)\n",
    "head.next.next.next = Node(40)\n",
    "head.next.next.next.next = Node(50)\n",
    "head.next.next.next.next.next = Node(60)\n",
    "\n",
    "\n",
    "output = move_to_nth_from_end(head, 5)\n",
    "printlist(output)"
   ]
  },
  {
   "cell_type": "code",
   "execution_count": 25,
   "id": "b29b58bf-8840-4767-94f4-d3600bb6b2e2",
   "metadata": {},
   "outputs": [
    {
     "name": "stdout",
     "output_type": "stream",
     "text": [
      "90 61 67 100 10 6 77 "
     ]
    }
   ],
   "source": [
    "class Node:\n",
    "    def __init__(self, k):\n",
    "        self.key = k\n",
    "        self.next = None\n",
    "\n",
    "def move_to_nth_from_end(head, n):\n",
    "        length = 0\n",
    "        current = head\n",
    "        while(current != None):\n",
    "            length += 1\n",
    "            current = current.next\n",
    "\n",
    "        position = length - n\n",
    "    \n",
    "        curr = head\n",
    "        count = 1\n",
    "        while(count != position):\n",
    "            count += 1\n",
    "            curr = curr.next\n",
    "        head2 = curr.next \n",
    "        tail = head2\n",
    "        curr.next = None # no head\n",
    "        while(tail.next != None):\n",
    "            tail = tail.next\n",
    "        tail.next = head\n",
    "        head = head2\n",
    "        return head\n",
    "                \n",
    "def printlist(head):\n",
    "    curr = head\n",
    "    while(curr != None):\n",
    "        print(curr.key, end = \" \")\n",
    "        curr = curr.next\n",
    "        \n",
    "head = Node(10)\n",
    "head.next = Node(6)\n",
    "head.next.next = Node(77)\n",
    "head.next.next.next = Node(90)\n",
    "head.next.next.next.next = Node(61)\n",
    "head.next.next.next.next.next = Node(67)\n",
    "head.next.next.next.next.next.next = Node(100)\n",
    "\n",
    "output = move_to_nth_from_end(head, 4)\n",
    "printlist(output)"
   ]
  },
  {
   "cell_type": "code",
   "execution_count": null,
   "id": "86fcd981-fa1e-4245-9d8d-41e81957f127",
   "metadata": {},
   "outputs": [],
   "source": []
  }
 ],
 "metadata": {
  "kernelspec": {
   "display_name": "Python 3 (ipykernel)",
   "language": "python",
   "name": "python3"
  },
  "language_info": {
   "codemirror_mode": {
    "name": "ipython",
    "version": 3
   },
   "file_extension": ".py",
   "mimetype": "text/x-python",
   "name": "python",
   "nbconvert_exporter": "python",
   "pygments_lexer": "ipython3",
   "version": "3.11.4"
  }
 },
 "nbformat": 4,
 "nbformat_minor": 5
}
