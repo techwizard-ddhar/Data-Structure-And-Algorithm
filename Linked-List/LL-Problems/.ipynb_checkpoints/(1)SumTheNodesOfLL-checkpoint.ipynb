{
 "cells": [
  {
   "cell_type": "code",
   "execution_count": 7,
   "id": "1e7777db-59ec-4829-a0f2-c4bbdb3a9b12",
   "metadata": {},
   "outputs": [
    {
     "name": "stdout",
     "output_type": "stream",
     "text": [
      "150\n"
     ]
    }
   ],
   "source": [
    "class Node:\n",
    "    def __init__(self, k):\n",
    "        self.key = k\n",
    "        self.next = None\n",
    "\n",
    "def sumOfElements(head):\n",
    "    curr = head\n",
    "    total_sum = 0\n",
    "    while(curr != None):\n",
    "        total_sum = total_sum + curr.key\n",
    "        curr = curr.next\n",
    "    return total_sum\n",
    "    \n",
    "head = Node(10)\n",
    "head.next = Node(20)\n",
    "head.next.next = Node(30)\n",
    "head.next.next.next = Node(40)\n",
    "head.next.next.next.next = Node(50)\n",
    "\n",
    "output = sumOfElements(head)\n",
    "print(output)"
   ]
  },
  {
   "cell_type": "code",
   "execution_count": 8,
   "id": "0ace0495-1749-476d-a86c-9e4555e4e6e8",
   "metadata": {},
   "outputs": [
    {
     "name": "stdout",
     "output_type": "stream",
     "text": [
      "15\n"
     ]
    }
   ],
   "source": [
    "class Node:\n",
    "    def __init__(self, k):\n",
    "        self.key = k\n",
    "        self.next = None\n",
    "\n",
    "def sumOfElements(head):\n",
    "    curr = head\n",
    "    total_sum = 0\n",
    "    while(curr != None):\n",
    "        total_sum = total_sum + curr.key\n",
    "        curr = curr.next\n",
    "    return total_sum\n",
    "    \n",
    "head = Node(1)\n",
    "head.next = Node(2)\n",
    "head.next.next = Node(3)\n",
    "head.next.next.next = Node(4)\n",
    "head.next.next.next.next = Node(5)\n",
    "\n",
    "output = sumOfElements(head)\n",
    "print(output)"
   ]
  },
  {
   "cell_type": "code",
   "execution_count": 9,
   "id": "079435e2-75a6-4303-95be-54347e501832",
   "metadata": {},
   "outputs": [
    {
     "name": "stdout",
     "output_type": "stream",
     "text": [
      "25\n"
     ]
    }
   ],
   "source": [
    "class Node:\n",
    "    def __init__(self, k):\n",
    "        self.key = k\n",
    "        self.next = None\n",
    "\n",
    "def sumOfElements(head):\n",
    "    curr = head\n",
    "    total_sum = 0\n",
    "    while(curr != None):\n",
    "        total_sum = total_sum + curr.key\n",
    "        curr = curr.next\n",
    "    return total_sum\n",
    "    \n",
    "head = Node(2)\n",
    "head.next = Node(4)\n",
    "head.next.next = Node(6)\n",
    "head.next.next.next = Node(7)\n",
    "head.next.next.next.next = Node(5)\n",
    "head.next.next.next.next.next = Node(1)\n",
    "head.next.next.next.next.next.next = Node(0)\n",
    "\n",
    "output = sumOfElements(head)\n",
    "print(output)"
   ]
  },
  {
   "cell_type": "code",
   "execution_count": null,
   "id": "96b228c6-026c-4f68-9609-0705c6473a2c",
   "metadata": {},
   "outputs": [],
   "source": []
  }
 ],
 "metadata": {
  "kernelspec": {
   "display_name": "Python 3 (ipykernel)",
   "language": "python",
   "name": "python3"
  },
  "language_info": {
   "codemirror_mode": {
    "name": "ipython",
    "version": 3
   },
   "file_extension": ".py",
   "mimetype": "text/x-python",
   "name": "python",
   "nbconvert_exporter": "python",
   "pygments_lexer": "ipython3",
   "version": "3.11.4"
  }
 },
 "nbformat": 4,
 "nbformat_minor": 5
}
