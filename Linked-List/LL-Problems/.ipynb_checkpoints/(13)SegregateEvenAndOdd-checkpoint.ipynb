{
 "cells": [
  {
   "cell_type": "code",
   "execution_count": 27,
   "id": "528a9757-24af-45a2-92d4-f532bb3d0057",
   "metadata": {},
   "outputs": [
    {
     "name": "stdout",
     "output_type": "stream",
     "text": [
      "4 0 6 6 6 14 12 11 5 11 1 5 17 19 19 9 9 "
     ]
    }
   ],
   "source": [
    "class Node:\n",
    "    def __init__(self, key):\n",
    "        self.key = key\n",
    "        self.next = None\n",
    "\n",
    "def split_even_odd(head):\n",
    "    head2 = None\n",
    "    head3 = None\n",
    "    current = head\n",
    "\n",
    "    while(current != None):\n",
    "        if(current.key % 2 == 0):\n",
    "            if(head2 == None):\n",
    "                head2 = Node(current.key)\n",
    "                curr1 = head2\n",
    "            else:\n",
    "                curr1.next = Node(current.key)\n",
    "                curr1 = curr1.next\n",
    "                \n",
    "        else:\n",
    "            if(head3  == None):\n",
    "                head3 = Node(current.key)\n",
    "                curr2 = head3\n",
    "            else:\n",
    "                curr2.next = Node(current.key)\n",
    "                curr2 = curr2.next\n",
    "\n",
    "        current = current.next\n",
    "\n",
    "    return head2, head3\n",
    "\n",
    "def append(head2, head3):\n",
    "    p1 = head2\n",
    "    while(p1.next != None):\n",
    "        p1 = p1.next\n",
    "    p1.next = head3\n",
    "    return head2\n",
    "    \n",
    "\n",
    "def print_list(head):\n",
    "    curr = head\n",
    "    while(curr != None):\n",
    "        print(curr.key, end=\" \")\n",
    "        curr = curr.next\n",
    "        \n",
    "values = [4, 11, 5, 11, 0, 6, 1, 6, 6, 5, 17, 14, 19, 19, 12, 9, 9]\n",
    "head = None\n",
    "current = None\n",
    "for val in values:\n",
    "    if head is None:\n",
    "        head = Node(val)\n",
    "        current = head\n",
    "    else:\n",
    "        current.next = Node(val)\n",
    "        current = current.next\n",
    "\n",
    "even_list, odd_list = split_even_odd(head)\n",
    "output = append(even_list, odd_list)\n",
    "print_list(output)"
   ]
  },
  {
   "cell_type": "code",
   "execution_count": null,
   "id": "6ceee823-b2a5-4308-b605-f3ab72b5a5bc",
   "metadata": {},
   "outputs": [],
   "source": []
  }
 ],
 "metadata": {
  "kernelspec": {
   "display_name": "Python 3 (ipykernel)",
   "language": "python",
   "name": "python3"
  },
  "language_info": {
   "codemirror_mode": {
    "name": "ipython",
    "version": 3
   },
   "file_extension": ".py",
   "mimetype": "text/x-python",
   "name": "python",
   "nbconvert_exporter": "python",
   "pygments_lexer": "ipython3",
   "version": "3.11.4"
  }
 },
 "nbformat": 4,
 "nbformat_minor": 5
}
