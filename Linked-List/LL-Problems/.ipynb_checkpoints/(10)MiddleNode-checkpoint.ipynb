{
 "cells": [
  {
   "cell_type": "code",
   "execution_count": 8,
   "id": "e8d69183-2bd2-476d-8bc2-83ffd61d031e",
   "metadata": {},
   "outputs": [
    {
     "name": "stdout",
     "output_type": "stream",
     "text": [
      "4 5 6 "
     ]
    }
   ],
   "source": [
    "class Node:\n",
    "    def __init__(self, k):\n",
    "        self.key = k\n",
    "        self.next = None\n",
    "    \n",
    "def FindMiddleElement(head):\n",
    "    length = 0\n",
    "    curr = head\n",
    "    while(curr != None):\n",
    "        length += 1\n",
    "        curr = curr.next\n",
    "    mid = length // 2\n",
    "    curr = head\n",
    "    prev = None\n",
    "    for i in range(mid):\n",
    "        prev = curr\n",
    "        curr = curr.next\n",
    "    head = curr\n",
    "    prev.next = None\n",
    "    return head\n",
    "           \n",
    "def printlist(head):\n",
    "    curr = head\n",
    "    while(curr != None):\n",
    "        print(curr.key, end = \" \")\n",
    "        curr = curr.next\n",
    "        \n",
    "head = Node(1)\n",
    "head.next = Node(2)\n",
    "head.next.next = Node(3)\n",
    "head.next.next.next = Node(4)\n",
    "head.next.next.next.next = Node(5)\n",
    "head.next.next.next.next.next = Node(6)\n",
    "\n",
    "head = FindMiddleElement(head)\n",
    "printlist(head)"
   ]
  },
  {
   "cell_type": "markdown",
   "id": "c8ee68fc-0f05-4fd6-9253-981f6de5b26a",
   "metadata": {},
   "source": [
    "**Better Solution**"
   ]
  },
  {
   "cell_type": "code",
   "execution_count": 11,
   "id": "92605068-454c-427b-84c2-a479f2742cc2",
   "metadata": {},
   "outputs": [
    {
     "ename": "AttributeError",
     "evalue": "'NoneType' object has no attribute 'next'",
     "output_type": "error",
     "traceback": [
      "\u001b[1;31m---------------------------------------------------------------------------\u001b[0m",
      "\u001b[1;31mAttributeError\u001b[0m                            Traceback (most recent call last)",
      "Cell \u001b[1;32mIn[11], line 27\u001b[0m\n\u001b[0;32m     24\u001b[0m head\u001b[38;5;241m.\u001b[39mnext\u001b[38;5;241m.\u001b[39mnext\u001b[38;5;241m.\u001b[39mnext\u001b[38;5;241m.\u001b[39mnext \u001b[38;5;241m=\u001b[39m Node(\u001b[38;5;241m5\u001b[39m)\n\u001b[0;32m     25\u001b[0m \u001b[38;5;66;03m#head.next.next.next.next.next = Node(6)\u001b[39;00m\n\u001b[1;32m---> 27\u001b[0m head \u001b[38;5;241m=\u001b[39m \u001b[43mFindMiddleElement\u001b[49m\u001b[43m(\u001b[49m\u001b[43mhead\u001b[49m\u001b[43m)\u001b[49m\n\u001b[0;32m     28\u001b[0m printlist(head)\n",
      "Cell \u001b[1;32mIn[11], line 11\u001b[0m, in \u001b[0;36mFindMiddleElement\u001b[1;34m(head)\u001b[0m\n\u001b[0;32m      9\u001b[0m \u001b[38;5;28;01mwhile\u001b[39;00m(fast \u001b[38;5;241m!=\u001b[39m \u001b[38;5;28;01mNone\u001b[39;00m):\n\u001b[0;32m     10\u001b[0m     slow \u001b[38;5;241m=\u001b[39m slow\u001b[38;5;241m.\u001b[39mnext\n\u001b[1;32m---> 11\u001b[0m     fast \u001b[38;5;241m=\u001b[39m \u001b[43mfast\u001b[49m\u001b[38;5;241;43m.\u001b[39;49m\u001b[43mnext\u001b[49m\u001b[38;5;241;43m.\u001b[39;49m\u001b[43mnext\u001b[49m\n\u001b[0;32m     12\u001b[0m \u001b[38;5;28;01mreturn\u001b[39;00m slow\n",
      "\u001b[1;31mAttributeError\u001b[0m: 'NoneType' object has no attribute 'next'"
     ]
    }
   ],
   "source": [
    "class Node:\n",
    "    def __init__(self, k):\n",
    "        self.key = k\n",
    "        self.next = None\n",
    "    \n",
    "def FindMiddleElement(head):\n",
    "    slow = head\n",
    "    fast = head\n",
    "    while(fast != None) and (fast.next != None):\n",
    "        slow = slow.next\n",
    "        fast = fast.next.next\n",
    "    return slow\n",
    "           \n",
    "def printlist(head):\n",
    "    curr = head\n",
    "    while(curr != None):\n",
    "        print(curr.key, end = \" \")\n",
    "        curr = curr.next\n",
    "        \n",
    "head = Node(1)\n",
    "head.next = Node(2)\n",
    "head.next.next = Node(3)\n",
    "head.next.next.next = Node(4)\n",
    "head.next.next.next.next = Node(5)\n",
    "#head.next.next.next.next.next = Node(6)\n",
    "\n",
    "head = FindMiddleElement(head)\n",
    "printlist(head)"
   ]
  },
  {
   "cell_type": "code",
   "execution_count": null,
   "id": "5d657495-31dd-4c4b-9c9f-e47288d32eba",
   "metadata": {},
   "outputs": [],
   "source": []
  }
 ],
 "metadata": {
  "kernelspec": {
   "display_name": "Python 3 (ipykernel)",
   "language": "python",
   "name": "python3"
  },
  "language_info": {
   "codemirror_mode": {
    "name": "ipython",
    "version": 3
   },
   "file_extension": ".py",
   "mimetype": "text/x-python",
   "name": "python",
   "nbconvert_exporter": "python",
   "pygments_lexer": "ipython3",
   "version": "3.11.4"
  }
 },
 "nbformat": 4,
 "nbformat_minor": 5
}
