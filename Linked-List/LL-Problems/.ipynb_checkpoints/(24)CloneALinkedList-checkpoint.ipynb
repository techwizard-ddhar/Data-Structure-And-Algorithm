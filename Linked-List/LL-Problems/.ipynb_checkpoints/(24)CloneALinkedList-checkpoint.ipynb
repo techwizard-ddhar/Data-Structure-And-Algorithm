{
 "cells": [
  {
   "cell_type": "code",
   "execution_count": 9,
   "id": "647e37ab-66de-4fc4-93cb-843a477020f3",
   "metadata": {},
   "outputs": [
    {
     "name": "stdout",
     "output_type": "stream",
     "text": [
      "The cloned linked list:\n",
      "-> 1 ( 3 )-> 2 ( 1 )-> 3 ( 5 )-> 4 ( 3 )-> 5 ( 2 )"
     ]
    }
   ],
   "source": [
    "class Node:\n",
    "\tdef __init__(self, x):\n",
    "\t\tself.data = x\n",
    "\t\tself.next = None\n",
    "\t\tself.random = None\n",
    "\n",
    "\n",
    "def cloneLinkedList(head):\n",
    "\tif head == None:\n",
    "\t\treturn None\n",
    "\t# Step 1: Create new nodes and insert them next to the original nodes\n",
    "\tcurr = head\n",
    "\twhile(curr != None):\n",
    "\t\tnewNode = Node(curr.data)\n",
    "\t\tnewNode.next = curr.next\n",
    "\t\tcurr.next = newNode\n",
    "\t\tcurr = newNode.next\n",
    "\n",
    "\t# Step 2: Set the random pointers of the new nodes\n",
    "\tcurr = head\n",
    "\twhile curr != None:\n",
    "\t\tif curr.random != None:\n",
    "\t\t\tcurr.next.random = curr.random.next\n",
    "\t\tcurr = curr.next.next\n",
    "\t# Step 3: Separate the new nodes from the original nodes\n",
    "\tcurr = head\n",
    "\tclonedHead = head.next\n",
    "\tclonedCurr = clonedHead\n",
    "\twhile clonedCurr.next != None:\n",
    "\t\tcurr.next = curr.next.next\n",
    "\t\tclonedCurr.next = clonedCurr.next.next\n",
    "\t\tcurr = curr.next\n",
    "\t\tclonedCurr = clonedCurr.next\n",
    "\tcurr.next = None\n",
    "\tclonedCurr.next = None\n",
    "\treturn clonedHead\n",
    "\n",
    "def printList(head):\n",
    "\tcurr = head\n",
    "\twhile(curr != None):\n",
    "\t\tprint(\"->\", curr.data, \"(\", curr.random.data, \")\", end=\"\")\n",
    "\t\tcurr = curr.next\n",
    "\t\n",
    "\n",
    "list = [1,2,3,4,5]\n",
    "head = None\n",
    "curr = None\n",
    "for ele in list:\n",
    "    if(head == None):\n",
    "        head = Node(ele)\n",
    "        curr = head\n",
    "    else:\n",
    "        curr.next = Node(ele)\n",
    "        curr = curr.next\n",
    "head.random = head.next.next\n",
    "head.next.random = head\n",
    "head.next.next.random = head.next.next.next.next\n",
    "head.next.next.next.random = head.next.next\n",
    "head.next.next.next.next.random = head.next\n",
    "\n",
    "sol = cloneLinkedList(head)\n",
    "print(\"The cloned linked list:\")\n",
    "printList(sol)\n"
   ]
  },
  {
   "cell_type": "code",
   "execution_count": null,
   "id": "9852d4b8-02f6-4fca-8d13-7d9085b2c5b5",
   "metadata": {},
   "outputs": [],
   "source": []
  }
 ],
 "metadata": {
  "kernelspec": {
   "display_name": "Python 3 (ipykernel)",
   "language": "python",
   "name": "python3"
  },
  "language_info": {
   "codemirror_mode": {
    "name": "ipython",
    "version": 3
   },
   "file_extension": ".py",
   "mimetype": "text/x-python",
   "name": "python",
   "nbconvert_exporter": "python",
   "pygments_lexer": "ipython3",
   "version": "3.11.4"
  }
 },
 "nbformat": 4,
 "nbformat_minor": 5
}
