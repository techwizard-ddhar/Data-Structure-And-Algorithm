{
 "cells": [
  {
   "cell_type": "code",
   "execution_count": 5,
   "id": "e2b272c6-72d0-4811-aa8c-94865d32a426",
   "metadata": {},
   "outputs": [
    {
     "name": "stdout",
     "output_type": "stream",
     "text": [
      "1 2 9 6 5 7 99 8 4 "
     ]
    }
   ],
   "source": [
    "class Node:\n",
    "    def __init__(self, k):\n",
    "        self.key = k\n",
    "        self.next = None\n",
    "\n",
    "def joinTheLists(head1, head2):\n",
    "    curr = head1\n",
    "    while(curr.next != None):\n",
    "        curr = curr.next\n",
    "    curr.next = head2\n",
    "    return head1\n",
    "\n",
    "def printlist(head):\n",
    "    curr = head\n",
    "    while(curr != None):\n",
    "        print(curr.key, end = \" \")\n",
    "        curr = curr.next\n",
    "\n",
    "head1 = Node(1)\n",
    "head1.next = Node(2)\n",
    "head1.next.next = Node(9)\n",
    "head1.next.next.next = Node(6)\n",
    "head1.next.next.next.next = Node(5)\n",
    "head1.next.next.next.next.next = Node(7)\n",
    "head2 = Node(99)\n",
    "head2.next = Node(8)\n",
    "head2.next.next = Node(4)\n",
    "\n",
    "out = joinTheLists(head1, head2)\n",
    "printlist(out)"
   ]
  },
  {
   "cell_type": "code",
   "execution_count": null,
   "id": "fb4706e2-5b0a-4fa9-8ff3-32c89ecca23b",
   "metadata": {},
   "outputs": [],
   "source": []
  }
 ],
 "metadata": {
  "kernelspec": {
   "display_name": "Python 3 (ipykernel)",
   "language": "python",
   "name": "python3"
  },
  "language_info": {
   "codemirror_mode": {
    "name": "ipython",
    "version": 3
   },
   "file_extension": ".py",
   "mimetype": "text/x-python",
   "name": "python",
   "nbconvert_exporter": "python",
   "pygments_lexer": "ipython3",
   "version": "3.11.4"
  }
 },
 "nbformat": 4,
 "nbformat_minor": 5
}
