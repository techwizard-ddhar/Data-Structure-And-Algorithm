{
 "cells": [
  {
   "cell_type": "code",
   "execution_count": 18,
   "id": "56f9228e-a8dc-4019-ae81-2f51cf26c4d7",
   "metadata": {},
   "outputs": [
    {
     "name": "stdout",
     "output_type": "stream",
     "text": [
      "Intersected at point 8\n"
     ]
    }
   ],
   "source": [
    "class Node:\n",
    "    def __init__(self, k):\n",
    "        self.key = k\n",
    "        self.next = None\n",
    "\n",
    "def intersection(head1, head2, skipa, skipb):\n",
    "    counta = 0\n",
    "    countb = 0\n",
    "    prev = head1\n",
    "    curr = head2\n",
    "    while(counta != skipa) or (countb != skipb):\n",
    "        if(counta != skipa):\n",
    "            counta += 1\n",
    "            prev = prev.next\n",
    "        if(countb != skipb):\n",
    "            countb += 1\n",
    "            curr = curr.next\n",
    "    while(prev != None) and (curr != None):\n",
    "        if(prev.key == curr.key):\n",
    "            return prev.key\n",
    "        prev = prev.next\n",
    "        curr = curr.next\n",
    "    return -1\n",
    "            \n",
    "values1 = [4,1,8,4,5]\n",
    "head1 = None\n",
    "current1 = None\n",
    "for val in values1:\n",
    "    if head1 is None:\n",
    "        head1 = Node(val)\n",
    "        current1 = head1\n",
    "    else:\n",
    "        current1.next = Node(val)\n",
    "        current1 = current1.next\n",
    "\n",
    "values2 = [5,6,1,8,4,5]\n",
    "head2 = None\n",
    "current2 = None\n",
    "for val in values2:\n",
    "    if head2 is None:\n",
    "        head2 = Node(val)\n",
    "        current2 = head2\n",
    "    else:\n",
    "        current2.next = Node(val)\n",
    "        current2 = current2.next\n",
    "\n",
    "output = intersection(head1, head2, 2, 3)\n",
    "if(output == -1):\n",
    "    print(\"No Intersection\")\n",
    "else:\n",
    "    print(\"Intersected at point\", output)"
   ]
  },
  {
   "cell_type": "code",
   "execution_count": null,
   "id": "c402e34d-750e-459d-bb1d-b41146dff663",
   "metadata": {},
   "outputs": [],
   "source": []
  }
 ],
 "metadata": {
  "kernelspec": {
   "display_name": "Python 3 (ipykernel)",
   "language": "python",
   "name": "python3"
  },
  "language_info": {
   "codemirror_mode": {
    "name": "ipython",
    "version": 3
   },
   "file_extension": ".py",
   "mimetype": "text/x-python",
   "name": "python",
   "nbconvert_exporter": "python",
   "pygments_lexer": "ipython3",
   "version": "3.11.4"
  }
 },
 "nbformat": 4,
 "nbformat_minor": 5
}
