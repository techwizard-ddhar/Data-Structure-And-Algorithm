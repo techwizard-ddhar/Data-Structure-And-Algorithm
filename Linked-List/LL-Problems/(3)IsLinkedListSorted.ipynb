{
 "cells": [
  {
   "cell_type": "markdown",
   "id": "5fc18cbb-ef5b-4baa-91f6-da9664d828e0",
   "metadata": {},
   "source": [
    "**Increasing Order**"
   ]
  },
  {
   "cell_type": "code",
   "execution_count": 20,
   "id": "f2c256a7-1959-46ee-9133-7aef939b394d",
   "metadata": {},
   "outputs": [
    {
     "name": "stdout",
     "output_type": "stream",
     "text": [
      "0\n"
     ]
    }
   ],
   "source": [
    "class Node:\n",
    "    def __init__(self, k):\n",
    "        self.key = k\n",
    "        self.next = None\n",
    "\n",
    "def isSorted(head):\n",
    "    curr = head\n",
    "    if(head == None):\n",
    "        return 1\n",
    "    elif(head.next == None):\n",
    "        return 1\n",
    "    while(curr.next != None):\n",
    "        if(curr.key > curr.next.key) :\n",
    "            return 0\n",
    "        curr = curr.next\n",
    "    return 1\n",
    "\n",
    "head = Node(2)\n",
    "head.next = Node(4)\n",
    "head.next.next = Node(6)\n",
    "head.next.next.next = Node(7)\n",
    "head.next.next.next.next = Node(5) \n",
    "\n",
    "\n",
    "output = isSorted(head)\n",
    "print(output)"
   ]
  },
  {
   "cell_type": "markdown",
   "id": "8a108c68-b3e3-4a24-a1e6-0b69a82a5d5b",
   "metadata": {},
   "source": [
    "**Decreasing Order**"
   ]
  },
  {
   "cell_type": "code",
   "execution_count": 39,
   "id": "75988004-ca24-4974-8798-9cecebf46b6b",
   "metadata": {},
   "outputs": [
    {
     "name": "stdout",
     "output_type": "stream",
     "text": [
      "0\n"
     ]
    }
   ],
   "source": [
    "class Node:\n",
    "    def __init__(self, k):\n",
    "        self.key = k\n",
    "        self.next = None\n",
    "\n",
    "def isSorted(head):\n",
    "    curr = head\n",
    "    if(head == None):\n",
    "        return 1\n",
    "    if(head == None):\n",
    "        return 1\n",
    "    while(curr.next != None):\n",
    "        if(curr.key < curr.next.key) :\n",
    "            return 0\n",
    "        curr = curr.next\n",
    "    return 1\n",
    "\n",
    "head = Node(0)\n",
    "head.next = Node(10)\n",
    "head.next.next = Node(9)\n",
    "head.next.next.next = Node(8)\n",
    "head.next.next.next.next = Node(7) \n",
    "\n",
    "\n",
    "out = isSorted(head)\n",
    "print(out)"
   ]
  },
  {
   "cell_type": "code",
   "execution_count": null,
   "id": "073fc2d0-2f19-49c5-9b98-359171f48ff3",
   "metadata": {},
   "outputs": [],
   "source": []
  }
 ],
 "metadata": {
  "kernelspec": {
   "display_name": "Python 3 (ipykernel)",
   "language": "python",
   "name": "python3"
  },
  "language_info": {
   "codemirror_mode": {
    "name": "ipython",
    "version": 3
   },
   "file_extension": ".py",
   "mimetype": "text/x-python",
   "name": "python",
   "nbconvert_exporter": "python",
   "pygments_lexer": "ipython3",
   "version": "3.11.4"
  }
 },
 "nbformat": 4,
 "nbformat_minor": 5
}
