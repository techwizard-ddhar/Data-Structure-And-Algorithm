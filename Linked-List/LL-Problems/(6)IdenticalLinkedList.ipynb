{
 "cells": [
  {
   "cell_type": "code",
   "execution_count": 12,
   "id": "be4641d0-3fd0-4151-bea9-97b514f39173",
   "metadata": {},
   "outputs": [
    {
     "name": "stdout",
     "output_type": "stream",
     "text": [
      "False\n"
     ]
    }
   ],
   "source": [
    "class Node:\n",
    "    def __init__(self, k):\n",
    "        self.key = k\n",
    "        self.next = None\n",
    "\n",
    "def areIdentical(head1, head2):\n",
    "    curr1 = head1\n",
    "    curr2 = head2\n",
    "    while(curr1 != None) and (curr2 != None):\n",
    "        if(curr1.key != curr2.key):\n",
    "            return False\n",
    "        curr1 = curr1.next\n",
    "        curr2 = curr2.next\n",
    "    return (curr1 == None) and (curr2 == None)\n",
    "\n",
    "def printlist(head):\n",
    "    curr = head1\n",
    "    while(curr != None):\n",
    "        print(curr.key, end = \" \")\n",
    "        curr = curr.next\n",
    "\n",
    "head1 = Node(2)\n",
    "head1.next = Node(3)\n",
    "head1.next.next = Node(9)\n",
    "head1.next.next.next = Node(10)\n",
    "head2 = Node(2)\n",
    "head2.next = Node(3)\n",
    "head2.next.next = Node(9)\n",
    "\n",
    "\n",
    "out = areIdentical(head1, head2)\n",
    "print(out)"
   ]
  },
  {
   "cell_type": "code",
   "execution_count": null,
   "id": "01b4538b-07ac-444b-8fbd-e7262ea8b970",
   "metadata": {},
   "outputs": [],
   "source": []
  }
 ],
 "metadata": {
  "kernelspec": {
   "display_name": "Python 3 (ipykernel)",
   "language": "python",
   "name": "python3"
  },
  "language_info": {
   "codemirror_mode": {
    "name": "ipython",
    "version": 3
   },
   "file_extension": ".py",
   "mimetype": "text/x-python",
   "name": "python",
   "nbconvert_exporter": "python",
   "pygments_lexer": "ipython3",
   "version": "3.11.4"
  }
 },
 "nbformat": 4,
 "nbformat_minor": 5
}
