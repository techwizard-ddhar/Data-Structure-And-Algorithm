{
 "cells": [
  {
   "cell_type": "code",
   "execution_count": 12,
   "id": "dcad4460-a57d-4b20-8e8e-d66a66e2723f",
   "metadata": {},
   "outputs": [
    {
     "name": "stdout",
     "output_type": "stream",
     "text": [
      "10 50 30 40 20 60 "
     ]
    }
   ],
   "source": [
    "class Node:\n",
    "    def __init__(self, k):\n",
    "        self.key = k\n",
    "        self.next = None\n",
    "\n",
    "def swap(head, a, b):\n",
    "    counta = 0\n",
    "    countb = 0\n",
    "    c1 = head\n",
    "    c2 = head\n",
    "    p1 = None\n",
    "    p2 = None\n",
    "    while(counta != a) or (countb != b):\n",
    "        if(a == b):\n",
    "            return head\n",
    "        if(counta != a):\n",
    "            p1 = c1\n",
    "            c1 = c1.next\n",
    "            counta += 1\n",
    "        if(countb != b):\n",
    "            p2 = c2\n",
    "            c2 = c2.next\n",
    "            countb += 1\n",
    "    if(p1 != None):\n",
    "        p1.next = c2\n",
    "    else:\n",
    "        head = c2\n",
    "    if(p2 != None):\n",
    "        p2.next = c1\n",
    "    else:\n",
    "        head = c1\n",
    "    c1.next, c2.next = c2.next, c1.next\n",
    "\n",
    "    return head\n",
    "\n",
    "def printlist(head):\n",
    "    curr = head\n",
    "    while(curr != None):\n",
    "        print(curr.key, end = \" \")\n",
    "        curr = curr.next\n",
    "\n",
    "head = Node(10)#0\n",
    "head.next = Node(20)#1\n",
    "head.next.next = Node(30)#2\n",
    "head.next.next.next = Node(40)#3\n",
    "head.next.next.next.next = Node(50)#4\n",
    "head.next.next.next.next.next = Node(60)#5\n",
    "out = swap(head, 4, 1)\n",
    "printlist(out)"
   ]
  },
  {
   "cell_type": "code",
   "execution_count": null,
   "id": "fde54e6e-29e3-40e9-8a8e-58e07ba1faf4",
   "metadata": {},
   "outputs": [],
   "source": []
  }
 ],
 "metadata": {
  "kernelspec": {
   "display_name": "Python 3 (ipykernel)",
   "language": "python",
   "name": "python3"
  },
  "language_info": {
   "codemirror_mode": {
    "name": "ipython",
    "version": 3
   },
   "file_extension": ".py",
   "mimetype": "text/x-python",
   "name": "python",
   "nbconvert_exporter": "python",
   "pygments_lexer": "ipython3",
   "version": "3.11.4"
  }
 },
 "nbformat": 4,
 "nbformat_minor": 5
}
