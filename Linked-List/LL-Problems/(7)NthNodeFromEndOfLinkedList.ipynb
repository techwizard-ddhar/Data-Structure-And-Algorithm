{
 "cells": [
  {
   "cell_type": "code",
   "execution_count": 38,
   "id": "20952d0b-61e5-4bce-bcd6-6ba519368640",
   "metadata": {},
   "outputs": [
    {
     "name": "stdout",
     "output_type": "stream",
     "text": [
      "1\n"
     ]
    }
   ],
   "source": [
    "class Node:\n",
    "    def __init__(self, k):\n",
    "        self.key = k\n",
    "        self.next = None\n",
    "\n",
    "def getNthFromLast(head, N):\n",
    "    curr = head\n",
    "    count = 0\n",
    "    while(curr != None):\n",
    "        if(count == N):\n",
    "            return curr.key\n",
    "        curr = curr.next\n",
    "        count += 1\n",
    "    return -1\n",
    "            \n",
    "def reverse(head):\n",
    "    prev = None\n",
    "    curr = None\n",
    "    next = head\n",
    "    while(next != None):\n",
    "        prev = curr\n",
    "        curr = next\n",
    "        next = next.next\n",
    "        curr.next = prev\n",
    "        head = curr\n",
    "    return head\n",
    "    \n",
    "head = Node(3)\n",
    "head.next = Node(-4)\n",
    "head.next.next = Node(0)\n",
    "head.next.next.next = Node(3)\n",
    "head.next.next.next.next = Node(-6)\n",
    "head.next.next.next.next.next = Node(7)\n",
    "head.next.next.next.next.next.next = Node(3)\n",
    "head.next.next.next.next.next.next.next = Node(-9)\n",
    "head.next.next.next.next.next.next.next.next = Node(1)\n",
    "head.next.next.next.next.next.next.next.next.next = Node(8)\n",
    "head.next.next.next.next.next.next.next.next.next.next = Node(-1)\n",
    "\n",
    "\n",
    "head = reverse(head)\n",
    "output2 = getNthFromLast(head, 2)\n",
    "print(output2)"
   ]
  },
  {
   "cell_type": "code",
   "execution_count": 40,
   "id": "fd4bb8b2-7375-4321-84c3-f450539e19d2",
   "metadata": {},
   "outputs": [
    {
     "name": "stdout",
     "output_type": "stream",
     "text": [
      "-7\n"
     ]
    }
   ],
   "source": [
    "class Node:\n",
    "    def __init__(self, k):\n",
    "        self.key = k\n",
    "        self.next = None\n",
    "\n",
    "def getNthFromLast(head, N):\n",
    "    curr = head\n",
    "    count = 0\n",
    "    while(curr != None):\n",
    "        if(count == N):\n",
    "            return curr.key\n",
    "        curr = curr.next\n",
    "        count += 1\n",
    "    return -1\n",
    "            \n",
    "def reverse(head):\n",
    "    prev = None\n",
    "    curr = None\n",
    "    next = head\n",
    "    while(next != None):\n",
    "        prev = curr\n",
    "        curr = next\n",
    "        next = next.next\n",
    "        curr.next = prev\n",
    "        head = curr\n",
    "    return head\n",
    "    \n",
    "head = Node(8)\n",
    "head.next = Node(-8)\n",
    "head.next.next = Node(4)\n",
    "head.next.next.next = Node(8)\n",
    "head.next.next.next.next = Node(9)\n",
    "head.next.next.next.next.next = Node(0)\n",
    "head.next.next.next.next.next.next = Node(-7)\n",
    "head.next.next.next.next.next.next.next = Node(-7)\n",
    "head.next.next.next.next.next.next.next.next = Node(4)\n",
    "head.next.next.next.next.next.next.next.next.next = Node(-2)\n",
    "head.next.next.next.next.next.next.next.next.next.next = Node(-1)\n",
    "\n",
    "\n",
    "head = reverse(head)\n",
    "output2 = getNthFromLast(head, 4)\n",
    "print(output2)"
   ]
  },
  {
   "cell_type": "code",
   "execution_count": null,
   "id": "36226158-48b5-46c0-a5f7-128626139325",
   "metadata": {},
   "outputs": [],
   "source": []
  }
 ],
 "metadata": {
  "kernelspec": {
   "display_name": "Python 3 (ipykernel)",
   "language": "python",
   "name": "python3"
  },
  "language_info": {
   "codemirror_mode": {
    "name": "ipython",
    "version": 3
   },
   "file_extension": ".py",
   "mimetype": "text/x-python",
   "name": "python",
   "nbconvert_exporter": "python",
   "pygments_lexer": "ipython3",
   "version": "3.11.4"
  }
 },
 "nbformat": 4,
 "nbformat_minor": 5
}
