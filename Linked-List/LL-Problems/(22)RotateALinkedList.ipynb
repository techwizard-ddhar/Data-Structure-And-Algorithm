{
 "cells": [
  {
   "cell_type": "code",
   "execution_count": 3,
   "id": "c0337462-7e7a-4477-96d5-338be5593dd5",
   "metadata": {},
   "outputs": [
    {
     "name": "stdin",
     "output_type": "stream",
     "text": [
      "Enter the number : 8\n"
     ]
    },
    {
     "name": "stdout",
     "output_type": "stream",
     "text": [
      "50 60 10 20 30 40 "
     ]
    }
   ],
   "source": [
    "class Node:\n",
    "    def __init__(self, k):\n",
    "        self.key = k\n",
    "        self.next = None\n",
    "\n",
    "def rotateRight(head, k):\n",
    "        if(head == None) or (k == 0):\n",
    "            return head\n",
    "        length = 0\n",
    "        current = head\n",
    "        while(current != None):\n",
    "            length += 1\n",
    "            current = current.next\n",
    "\n",
    "        k = k % length\n",
    "        if(k == 0):\n",
    "            return head\n",
    "        position = length - k\n",
    "    \n",
    "        curr = head\n",
    "        prev = head\n",
    "        count = 0\n",
    "        while(count != position):\n",
    "            count += 1\n",
    "            prev = curr\n",
    "            curr = curr.next\n",
    "        prev.next = None\n",
    "        tail = curr\n",
    "        while(tail.next != None):\n",
    "            tail = tail.next\n",
    "        tail.next = head\n",
    "        head = curr\n",
    "        return head\n",
    "                \n",
    "def printlist(head):\n",
    "    curr = head\n",
    "    while(curr != None):\n",
    "        print(curr.key, end = \" \")\n",
    "        curr = curr.next\n",
    "        \n",
    "head = Node(10)\n",
    "head.next = Node(20)\n",
    "head.next.next = Node(30)\n",
    "head.next.next.next = Node(40)\n",
    "head.next.next.next.next = Node(50)\n",
    "head.next.next.next.next.next = Node(60)\n",
    "\n",
    "\n",
    "k = int(input(\"Enter the number :\"))\n",
    "output = rotateRight(head, k)\n",
    "printlist(output)"
   ]
  },
  {
   "cell_type": "code",
   "execution_count": null,
   "id": "305d2f11-73fd-487f-923c-b1ff456a8f03",
   "metadata": {},
   "outputs": [],
   "source": []
  }
 ],
 "metadata": {
  "kernelspec": {
   "display_name": "Python 3 (ipykernel)",
   "language": "python",
   "name": "python3"
  },
  "language_info": {
   "codemirror_mode": {
    "name": "ipython",
    "version": 3
   },
   "file_extension": ".py",
   "mimetype": "text/x-python",
   "name": "python",
   "nbconvert_exporter": "python",
   "pygments_lexer": "ipython3",
   "version": "3.11.4"
  }
 },
 "nbformat": 4,
 "nbformat_minor": 5
}
