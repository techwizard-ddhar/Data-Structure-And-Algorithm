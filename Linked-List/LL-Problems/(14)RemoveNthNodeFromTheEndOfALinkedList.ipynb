{
 "cells": [
  {
   "cell_type": "code",
   "execution_count": 5,
   "id": "7659f29a-a77a-4e20-98b9-521c69cb8bc5",
   "metadata": {},
   "outputs": [
    {
     "name": "stdout",
     "output_type": "stream",
     "text": [
      "4 11 5 11 0 6 1 6 6 5 17 14 19 12 8 9 "
     ]
    }
   ],
   "source": [
    "class Node:\n",
    "    def __init__(self, key):\n",
    "        self.key = key\n",
    "        self.next = None\n",
    "\n",
    "def RemoveNthNodeFromLast(head, n):\n",
    "    curr = head\n",
    "    length = 0\n",
    "    while(curr != None):\n",
    "        length += 1\n",
    "        curr = curr.next\n",
    "    position = length - n\n",
    "    p1 = head\n",
    "    p2 = head\n",
    "    for i in range(position):\n",
    "        p2 = p1\n",
    "        p1 = p1.next\n",
    "    p2.next = p1.next\n",
    "    p2 = None\n",
    "    return head\n",
    "\n",
    "def print_list(head):\n",
    "    curr = head\n",
    "    while(curr != None):\n",
    "        print(curr.key, end=\" \")\n",
    "        curr = curr.next\n",
    "        \n",
    "values = [4, 11, 5, 11, 0, 6, 1, 6, 6, 5, 17, 14, 19, 19, 12, 8, 9]\n",
    "head = None\n",
    "current = None\n",
    "for val in values:\n",
    "    if head is None:\n",
    "        head = Node(val)\n",
    "        current = head\n",
    "    else:\n",
    "        current.next = Node(val)\n",
    "        current = current.next\n",
    "\n",
    "list = RemoveNthNodeFromLast(head, 5)\n",
    "print_list(list)"
   ]
  },
  {
   "cell_type": "code",
   "execution_count": null,
   "id": "b21ccb03-0e3b-4d7a-93c7-fbe0c6fac368",
   "metadata": {},
   "outputs": [],
   "source": []
  }
 ],
 "metadata": {
  "kernelspec": {
   "display_name": "Python 3 (ipykernel)",
   "language": "python",
   "name": "python3"
  },
  "language_info": {
   "codemirror_mode": {
    "name": "ipython",
    "version": 3
   },
   "file_extension": ".py",
   "mimetype": "text/x-python",
   "name": "python",
   "nbconvert_exporter": "python",
   "pygments_lexer": "ipython3",
   "version": "3.11.4"
  }
 },
 "nbformat": 4,
 "nbformat_minor": 5
}
