{
 "cells": [
  {
   "cell_type": "code",
   "execution_count": 42,
   "id": "a8f49f5d-d68b-4365-8092-600149840ca1",
   "metadata": {},
   "outputs": [
    {
     "name": "stdout",
     "output_type": "stream",
     "text": [
      "3 2 1 4 5 "
     ]
    }
   ],
   "source": [
    "class Node:\n",
    "    def __init__(self, k):\n",
    "        self.key = k\n",
    "        self.next = None\n",
    "\n",
    "def reverseKnodes(head,k):\n",
    "    curr = head\n",
    "    count = 0\n",
    "    if(k == 0) or (k == 1):\n",
    "        return head\n",
    "    while(curr != None) and (count != k):\n",
    "        curr = curr.next\n",
    "        count += 1\n",
    "    if(count == k):\n",
    "        prev = None\n",
    "        temp = None\n",
    "        next = head\n",
    "        for i in range(k):\n",
    "            prev = temp\n",
    "            temp = next\n",
    "            next = next.next\n",
    "            temp.next = prev\n",
    "        if(next != None):\n",
    "            head.next = reverseKnodes(next, k)\n",
    "        return temp\n",
    "    return head\n",
    "    \n",
    "def printlist(head):\n",
    "    current = head\n",
    "    while(current != None):\n",
    "        print(current.key, end = \" \")\n",
    "        current = current.next\n",
    "    \n",
    "lists = [1,2,3,4,5]\n",
    "head = None\n",
    "curr = None\n",
    "for ele in lists:\n",
    "    if(head == None):\n",
    "        head = Node(ele)\n",
    "        curr = head\n",
    "    else:\n",
    "        curr.next = Node(ele)\n",
    "        curr = curr.next\n",
    "\n",
    "head = reverseKnodes(head, 3)\n",
    "printlist(head)"
   ]
  },
  {
   "cell_type": "code",
   "execution_count": null,
   "id": "1ba60812-24dd-4ce0-a76c-baf169462d13",
   "metadata": {},
   "outputs": [],
   "source": []
  },
  {
   "cell_type": "code",
   "execution_count": null,
   "id": "6c77d153-2797-4cf7-8626-eadfb37add91",
   "metadata": {},
   "outputs": [],
   "source": []
  }
 ],
 "metadata": {
  "kernelspec": {
   "display_name": "Python 3 (ipykernel)",
   "language": "python",
   "name": "python3"
  },
  "language_info": {
   "codemirror_mode": {
    "name": "ipython",
    "version": 3
   },
   "file_extension": ".py",
   "mimetype": "text/x-python",
   "name": "python",
   "nbconvert_exporter": "python",
   "pygments_lexer": "ipython3",
   "version": "3.11.4"
  }
 },
 "nbformat": 4,
 "nbformat_minor": 5
}
