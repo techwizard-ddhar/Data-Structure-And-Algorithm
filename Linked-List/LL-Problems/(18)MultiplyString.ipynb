{
 "cells": [
  {
   "cell_type": "code",
   "execution_count": 1,
   "id": "360e2320-7513-4140-b557-7583c2713cad",
   "metadata": {},
   "outputs": [
    {
     "name": "stdout",
     "output_type": "stream",
     "text": [
      "0000\n"
     ]
    }
   ],
   "source": [
    "class Node:\n",
    "    def __init__(self,k):\n",
    "        self.key = k\n",
    "        self.next = None\n",
    "    \n",
    "def AddTwoNos(head1, head2):\n",
    "    p1 = head1\n",
    "    p2 = head2\n",
    "    carry = 0\n",
    "    sum = 0\n",
    "    sumHead = None\n",
    "    sumCurr = None\n",
    "    while(p1 != None) or (p2 != None):\n",
    "        sum = 0\n",
    "        if(p1 != None):\n",
    "            sum += p1.key\n",
    "            p1 = p1.next\n",
    "        if(p2 != None):\n",
    "            sum += p2.key\n",
    "            p2 = p2.next\n",
    "        sum += carry\n",
    "        carry = sum//10\n",
    "        if(sumHead == None):\n",
    "            sumHead = Node(sum%10)\n",
    "            sumCurr = sumHead\n",
    "        else:\n",
    "            sumCurr.next = Node(sum%10)\n",
    "            sumCurr = sumCurr.next\n",
    "    if(carry > 0):\n",
    "        sumCurr.next = Node(carry)\n",
    "    return sumHead\n",
    "    \n",
    "def Multiplication(num1, num2):\n",
    "    zero_padding = 0\n",
    "    result = None\n",
    "    num1 = num1[::-1]\n",
    "    num2 = num2[::-1]\n",
    "    for ival in num1:\n",
    "        carry = 0\n",
    "        mulHead = None\n",
    "        mulCurr = None\n",
    "        for jval in num2:\n",
    "            product = int(ival) * int(jval) + carry\n",
    "            carry = product//10\n",
    "            if(mulHead == None):\n",
    "                mulHead = Node(product%10)\n",
    "                mulCurr = mulHead\n",
    "            else:\n",
    "                mulCurr.next = Node(product%10)\n",
    "                mulCurr = mulCurr.next\n",
    "        if(carry > 0):\n",
    "            mulCurr.next = Node(carry)\n",
    "        for _ in range(zero_padding):  \n",
    "            mulCurr = Node(0)\n",
    "            mulCurr.next = mulHead\n",
    "            mulHead = mulCurr\n",
    "        result = AddTwoNos(result, mulHead)\n",
    "        zero_padding += 1\n",
    "        \n",
    "    result_str = \"\"\n",
    "    while(result != None):\n",
    "        result_str += str(result.key)\n",
    "        result = result.next\n",
    "\n",
    "    return result_str[::-1]\n",
    "        \n",
    "num1 = \"4589\"\n",
    "num2 = \"325\"\n",
    "output = Multiplication(num1, num2)\n",
    "print(output)"
   ]
  },
  {
   "cell_type": "code",
   "execution_count": null,
   "id": "7d7e9074-972d-4254-9469-069be342537f",
   "metadata": {},
   "outputs": [],
   "source": []
  }
 ],
 "metadata": {
  "kernelspec": {
   "display_name": "Python 3 (ipykernel)",
   "language": "python",
   "name": "python3"
  },
  "language_info": {
   "codemirror_mode": {
    "name": "ipython",
    "version": 3
   },
   "file_extension": ".py",
   "mimetype": "text/x-python",
   "name": "python",
   "nbconvert_exporter": "python",
   "pygments_lexer": "ipython3",
   "version": "3.11.4"
  }
 },
 "nbformat": 4,
 "nbformat_minor": 5
}
