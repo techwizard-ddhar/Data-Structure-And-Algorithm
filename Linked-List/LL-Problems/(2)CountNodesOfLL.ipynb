{
 "cells": [
  {
   "cell_type": "code",
   "execution_count": 3,
   "id": "2d323a45-2a31-4289-886e-feb0965638ad",
   "metadata": {},
   "outputs": [
    {
     "name": "stdout",
     "output_type": "stream",
     "text": [
      "7\n"
     ]
    }
   ],
   "source": [
    "class Node:\n",
    "    def __init__(self, k):\n",
    "        self.key = k\n",
    "        self.next = None\n",
    "\n",
    "def getCount(head):\n",
    "    curr = head\n",
    "    count = 0\n",
    "    while(curr != None):\n",
    "        count += 1\n",
    "        curr = curr.next\n",
    "    return count\n",
    "    \n",
    "head = Node(2)\n",
    "head.next = Node(4)\n",
    "head.next.next = Node(6)\n",
    "head.next.next.next = Node(7)\n",
    "head.next.next.next.next = Node(5)\n",
    "head.next.next.next.next.next = Node(1)\n",
    "head.next.next.next.next.next.next = Node(0)\n",
    "\n",
    "output = getCount(head)\n",
    "print(output)"
   ]
  },
  {
   "cell_type": "code",
   "execution_count": null,
   "id": "3d75d937-8082-495c-9e14-1c4008c8e038",
   "metadata": {},
   "outputs": [],
   "source": []
  }
 ],
 "metadata": {
  "kernelspec": {
   "display_name": "Python 3 (ipykernel)",
   "language": "python",
   "name": "python3"
  },
  "language_info": {
   "codemirror_mode": {
    "name": "ipython",
    "version": 3
   },
   "file_extension": ".py",
   "mimetype": "text/x-python",
   "name": "python",
   "nbconvert_exporter": "python",
   "pygments_lexer": "ipython3",
   "version": "3.11.4"
  }
 },
 "nbformat": 4,
 "nbformat_minor": 5
}
