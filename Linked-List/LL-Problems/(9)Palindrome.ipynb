{
 "cells": [
  {
   "cell_type": "markdown",
   "id": "7a12dfbe-c172-446e-8873-a198c7d8285a",
   "metadata": {},
   "source": [
    "**Time Complexity = O(n); Space Complexity = O(n)**"
   ]
  },
  {
   "cell_type": "code",
   "execution_count": 5,
   "id": "f6dc652d-b7ba-4f0d-a884-12c86b806f6d",
   "metadata": {},
   "outputs": [
    {
     "name": "stdout",
     "output_type": "stream",
     "text": [
      "True\n"
     ]
    }
   ],
   "source": [
    "class Node:\n",
    "    def __init__(self, k):\n",
    "        self.key = k\n",
    "        self.next = None\n",
    "\n",
    "def palindrome(head, head2):\n",
    "    curr1 = head\n",
    "    curr2 = head2\n",
    "    \n",
    "    if(head == None):\n",
    "        return True\n",
    "        \n",
    "    while(curr1 != None) and (curr2 != None):\n",
    "        if(curr1.key != curr2.key):\n",
    "            return False\n",
    "        curr1 = curr1.next\n",
    "        curr2 = curr2.next\n",
    "    return True\n",
    "    \n",
    "def reverse(head):\n",
    "    prev = None\n",
    "    curr = None\n",
    "    next = head\n",
    "    while(next != None):\n",
    "        prev = curr\n",
    "        curr = next\n",
    "        next = next.next\n",
    "        curr.next = prev\n",
    "        head = curr\n",
    "    return head\n",
    "           \n",
    "head = Node(9)\n",
    "head.next = Node(2)\n",
    "head.next.next = Node(3)\n",
    "head.next.next.next = Node(3)\n",
    "head.next.next.next.next = Node(2)\n",
    "head.next.next.next.next.next = Node(9)\n",
    "\n",
    "head2 = reverse(head)\n",
    "print(palindrome(head, head2))"
   ]
  },
  {
   "cell_type": "code",
   "execution_count": 11,
   "id": "3bb0b07c-625d-4962-8aba-411e13108691",
   "metadata": {},
   "outputs": [
    {
     "name": "stdout",
     "output_type": "stream",
     "text": [
      "False\n"
     ]
    }
   ],
   "source": [
    "class Node:\n",
    "    def __init__(self, k):\n",
    "        self.key = k\n",
    "        self.next = None\n",
    "\n",
    "def palindrome(head, head2):\n",
    "    curr1 = head\n",
    "    curr2 = head2\n",
    "    \n",
    "    if(head == None):\n",
    "        return True\n",
    "        \n",
    "    while(curr1 != None) and (curr2 != None):\n",
    "        if(curr1.key != curr2.key):\n",
    "            return False\n",
    "        curr1 = curr1.next\n",
    "        curr2 = curr2.next\n",
    "    return True\n",
    "    \n",
    "def reverse(head):\n",
    "    prev = None\n",
    "    curr = None\n",
    "    next = head\n",
    "    while(next != None):\n",
    "        prev = curr\n",
    "        curr = next\n",
    "        next = next.next\n",
    "        curr.next = prev\n",
    "        head = curr\n",
    "    return head\n",
    "\n",
    "\n",
    "head = Node(9)\n",
    "head.next = Node(2)\n",
    "head.next.next = Node(46)\n",
    "head.next.next.next = Node(4644)\n",
    "head.next.next.next.next = Node(1000001)\n",
    "head.next.next.next.next.next = Node(1000001)\n",
    "head.next.next.next.next.next.next = Node(1)\n",
    "head.next.next.next.next.next.next.next = Node(2)\n",
    "head.next.next.next.next.next.next.next.next = Node(2)\n",
    "head.next.next.next.next.next.next.next.next.next = Node(1)\n",
    "\n",
    "head2 = reverse(head)\n",
    "print(palindrome(head, head2))"
   ]
  },
  {
   "cell_type": "markdown",
   "id": "8d5591d7-d8ec-4fcf-8a49-e20132ecacb6",
   "metadata": {},
   "source": [
    "**Better Solution --> Time Complexity = O(n) =**                                                                **n/2 --> to find mid;**                                                                                               **n/2 --> to reverse 2nd half;**                                                                                       **n/2 --> for comparison**\n",
    "**; Space Complexity = O(1) because no extra space is required**"
   ]
  },
  {
   "cell_type": "code",
   "execution_count": 4,
   "id": "1deec091-ad6a-49ee-89e9-16ac66002a5d",
   "metadata": {},
   "outputs": [
    {
     "name": "stdout",
     "output_type": "stream",
     "text": [
      "True\n"
     ]
    }
   ],
   "source": [
    "class Node:\n",
    "    def __init__(self, k):\n",
    "        self.key = k\n",
    "        self.next = None\n",
    "\n",
    "def palindrome(head):\n",
    "    length = 0\n",
    "    curr = head\n",
    "    while(curr != None):\n",
    "        length += 1\n",
    "        curr = curr.next\n",
    "    mid = length // 2\n",
    "    curr = head\n",
    "    for i in range(mid):\n",
    "        curr = curr.next\n",
    "    head2 = curr.next\n",
    "    curr.next = None\n",
    "    return head2\n",
    "    \n",
    "    \n",
    "def reverse(head2):\n",
    "    prev = None\n",
    "    curr = None\n",
    "    next = head2\n",
    "    while(next != None):\n",
    "        prev = curr\n",
    "        curr = next\n",
    "        next = next.next\n",
    "        curr.next = prev\n",
    "        head2 = curr\n",
    "    return head2\n",
    "\n",
    "def comparison(head, head2):\n",
    "    curr1 = head\n",
    "    curr2 = head2\n",
    "    \n",
    "    if(head == None):\n",
    "        return True\n",
    "        \n",
    "    while(curr1 != None) and (curr2 != None):\n",
    "        if(curr1.key != curr2.key):\n",
    "            return False\n",
    "        curr1 = curr1.next\n",
    "        curr2 = curr2.next\n",
    "    return True\n",
    "           \n",
    "head = Node(9)\n",
    "head.next = Node(2)\n",
    "head.next.next = Node(3)\n",
    "head.next.next.next = Node(3)\n",
    "head.next.next.next.next = Node(2)\n",
    "head.next.next.next.next.next = Node(9)\n",
    "\n",
    "head2 = palindrome(head)\n",
    "head2 = reverse(head2)\n",
    "print(comparison(head, head2))"
   ]
  },
  {
   "cell_type": "code",
   "execution_count": null,
   "id": "fa9e2f5a-40d0-4cce-9334-4d56dae9b84e",
   "metadata": {},
   "outputs": [],
   "source": []
  }
 ],
 "metadata": {
  "kernelspec": {
   "display_name": "Python 3 (ipykernel)",
   "language": "python",
   "name": "python3"
  },
  "language_info": {
   "codemirror_mode": {
    "name": "ipython",
    "version": 3
   },
   "file_extension": ".py",
   "mimetype": "text/x-python",
   "name": "python",
   "nbconvert_exporter": "python",
   "pygments_lexer": "ipython3",
   "version": "3.11.4"
  }
 },
 "nbformat": 4,
 "nbformat_minor": 5
}
