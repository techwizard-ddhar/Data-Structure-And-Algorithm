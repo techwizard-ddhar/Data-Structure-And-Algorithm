{
 "cells": [
  {
   "cell_type": "code",
   "execution_count": 43,
   "id": "2e471c27-933c-4f03-8c75-3c038aa1ea91",
   "metadata": {},
   "outputs": [
    {
     "name": "stdout",
     "output_type": "stream",
     "text": [
      "The cycle begins at node 4\n"
     ]
    }
   ],
   "source": [
    "class Node:\n",
    "    def __init__(self, k):\n",
    "        self.key = k\n",
    "        self.next = None\n",
    "\n",
    "def createcycle(head, a, b):\n",
    "    counta = 0\n",
    "    countb = 0\n",
    "    prev = head\n",
    "    curr = head\n",
    "    while(counta != a) or (countb != b):\n",
    "        if(counta != a):\n",
    "            counta += 1\n",
    "            prev = prev.next\n",
    "        if(countb != b):\n",
    "            countb += 1\n",
    "            curr = curr.next\n",
    "    curr.next = prev\n",
    "    return head\n",
    "\n",
    "def detectloop(head):\n",
    "    slow = head\n",
    "    fast = head\n",
    "    entry = head\n",
    "    while(fast != None) and (fast.next != None):\n",
    "        slow = slow.next\n",
    "        fast = fast.next.next\n",
    "        if(slow == fast):\n",
    "            while(slow != entry):\n",
    "                slow = slow.next\n",
    "                entry = entry.next\n",
    "            return entry\n",
    "    return None\n",
    "            \n",
    "head = Node(1)\n",
    "head.next = Node(2)\n",
    "head.next.next = Node(3)\n",
    "head.next.next.next = Node(4)\n",
    "head.next.next.next.next = Node(5)\n",
    "head.next.next.next.next.next = Node(6)\n",
    "\n",
    "createcycle(head, 4, 4)\n",
    "result = detectloop(head)\n",
    "\n",
    "if(result == None):\n",
    "    print(\"No Cycle\")\n",
    "else:\n",
    "    start = head\n",
    "    count = 0\n",
    "    while(start != result):\n",
    "        count += 1\n",
    "        start = start.next\n",
    "    print(\"The cycle begins at node\", count)"
   ]
  },
  {
   "cell_type": "code",
   "execution_count": null,
   "id": "056cbb2c-8d2d-494b-b50e-fbf22bf36f55",
   "metadata": {},
   "outputs": [],
   "source": []
  }
 ],
 "metadata": {
  "kernelspec": {
   "display_name": "Python 3 (ipykernel)",
   "language": "python",
   "name": "python3"
  },
  "language_info": {
   "codemirror_mode": {
    "name": "ipython",
    "version": 3
   },
   "file_extension": ".py",
   "mimetype": "text/x-python",
   "name": "python",
   "nbconvert_exporter": "python",
   "pygments_lexer": "ipython3",
   "version": "3.11.4"
  }
 },
 "nbformat": 4,
 "nbformat_minor": 5
}
