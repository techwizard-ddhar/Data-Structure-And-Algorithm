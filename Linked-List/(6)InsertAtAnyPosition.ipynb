{
 "cells": [
  {
   "cell_type": "code",
   "execution_count": 16,
   "id": "89ebf926-a03d-4461-be1b-71bf69c5f539",
   "metadata": {},
   "outputs": [
    {
     "name": "stdin",
     "output_type": "stream",
     "text": [
      "Enter the element:  7\n",
      "Enter the position:  9\n"
     ]
    },
    {
     "name": "stdout",
     "output_type": "stream",
     "text": [
      "8 3 9 7 6 "
     ]
    }
   ],
   "source": [
    "class Node:\n",
    "    def __init__(self, k):\n",
    "        self.key = k\n",
    "        self.next = None\n",
    "\n",
    "def Insert_Any_Position(head, ele, pos):\n",
    "    temp = Node(ele)\n",
    "    curr = head\n",
    "    \n",
    "    #Insert at the beginning\n",
    "    \n",
    "    if(pos == 0): \n",
    "        temp.next = head\n",
    "        head = temp\n",
    "        return head\n",
    "        \n",
    "    for i in range(pos-1):\n",
    "        curr = curr.next\n",
    "        \n",
    "        #if position is more than the length of the linked list\n",
    "        \n",
    "        if(curr == None):\n",
    "            return head\n",
    "            \n",
    "    temp.next = curr.next\n",
    "    curr.next = temp\n",
    "    return head\n",
    "    \n",
    "def printlist(head):\n",
    "    current = head\n",
    "    while(current != None):\n",
    "        print(current.key, end = \" \")\n",
    "        current = current.next\n",
    "    \n",
    "head = Node(8)\n",
    "head.next = Node(3)\n",
    "head.next.next = Node(9)\n",
    "head.next.next.next = Node(7)\n",
    "head.next.next.next.next = Node(6)\n",
    "\n",
    "ele = int(input(\"Enter the element: \"))\n",
    "pos = int(input(\"Enter the position: \"))\n",
    "head = Insert_Any_Position(head, ele, pos)\n",
    "\n",
    "printlist(head)"
   ]
  },
  {
   "cell_type": "code",
   "execution_count": null,
   "id": "24b6c721-994f-4b6a-9296-a51765dd14a1",
   "metadata": {},
   "outputs": [],
   "source": []
  }
 ],
 "metadata": {
  "kernelspec": {
   "display_name": "Python 3 (ipykernel)",
   "language": "python",
   "name": "python3"
  },
  "language_info": {
   "codemirror_mode": {
    "name": "ipython",
    "version": 3
   },
   "file_extension": ".py",
   "mimetype": "text/x-python",
   "name": "python",
   "nbconvert_exporter": "python",
   "pygments_lexer": "ipython3",
   "version": "3.11.4"
  }
 },
 "nbformat": 4,
 "nbformat_minor": 5
}
