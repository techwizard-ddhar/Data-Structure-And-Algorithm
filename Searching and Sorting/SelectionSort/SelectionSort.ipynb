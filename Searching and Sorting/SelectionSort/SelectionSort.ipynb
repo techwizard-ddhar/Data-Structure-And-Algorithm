{
 "cells": [
  {
   "cell_type": "markdown",
   "id": "7a263a82-5de7-4eb5-93e5-4e274e19f65e",
   "metadata": {},
   "source": [
    "**SelectionSort-->Ascending Order**"
   ]
  },
  {
   "cell_type": "code",
   "execution_count": 4,
   "id": "70dd993b-458f-4086-ab3c-8244a279dea4",
   "metadata": {},
   "outputs": [
    {
     "name": "stdout",
     "output_type": "stream",
     "text": [
      "[9, 13, 20, 24, 46, 52]\n"
     ]
    }
   ],
   "source": [
    "def SelectionSort(arr):\n",
    "    length = len(arr)\n",
    "    for i in range(length-1):\n",
    "        MinIndex = i\n",
    "        for j in range((i+1), length):\n",
    "            if(arr[j] < arr[MinIndex]):\n",
    "                MinIndex = j\n",
    "        arr[i], arr[MinIndex] = arr[MinIndex], arr[i]\n",
    "    \n",
    "    \n",
    "\n",
    "\n",
    "arr = [13,46,24,52,20,9]\n",
    "SelectionSort(arr)\n",
    "print(arr)"
   ]
  },
  {
   "cell_type": "markdown",
   "id": "aa16494f-25bb-4cfb-853c-b9e5a22009bc",
   "metadata": {},
   "source": [
    "**SelectionSort-->Descending Order**"
   ]
  },
  {
   "cell_type": "code",
   "execution_count": 5,
   "id": "7f9cb56e-0ebc-4dbf-b7bf-ad0e3b8be0c4",
   "metadata": {},
   "outputs": [
    {
     "name": "stdout",
     "output_type": "stream",
     "text": [
      "[52, 46, 24, 20, 13, 9]\n"
     ]
    }
   ],
   "source": [
    "def SelectionSort(arr):\n",
    "    length = len(arr)\n",
    "    for i in range(length-1):\n",
    "        MaxIndex = i\n",
    "        for j in range((i+1), length):\n",
    "            if(arr[j] > arr[MaxIndex]):\n",
    "                MaxIndex = j\n",
    "        arr[i], arr[MaxIndex] = arr[MaxIndex], arr[i]\n",
    "    \n",
    "    \n",
    "\n",
    "\n",
    "arr = [13,46,24,52,20,9]\n",
    "SelectionSort(arr)\n",
    "print(arr)"
   ]
  },
  {
   "cell_type": "code",
   "execution_count": null,
   "id": "dfdb6d9a-8b64-47c2-9834-d28f5e080027",
   "metadata": {},
   "outputs": [],
   "source": []
  }
 ],
 "metadata": {
  "kernelspec": {
   "display_name": "Python 3 (ipykernel)",
   "language": "python",
   "name": "python3"
  },
  "language_info": {
   "codemirror_mode": {
    "name": "ipython",
    "version": 3
   },
   "file_extension": ".py",
   "mimetype": "text/x-python",
   "name": "python",
   "nbconvert_exporter": "python",
   "pygments_lexer": "ipython3",
   "version": "3.11.4"
  }
 },
 "nbformat": 4,
 "nbformat_minor": 5
}
