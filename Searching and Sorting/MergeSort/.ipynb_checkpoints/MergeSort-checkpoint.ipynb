{
 "cells": [
  {
   "cell_type": "code",
   "execution_count": 15,
   "id": "ba025ef2-1012-4bb7-9b47-c686ae42abba",
   "metadata": {},
   "outputs": [
    {
     "name": "stdout",
     "output_type": "stream",
     "text": [
      "[1, 2, 3, 7, 10, 14, 23, 44, 48, 57, 58, 65, 74]\n"
     ]
    }
   ],
   "source": [
    "def MergeSort(arr, low, high):\n",
    "    if low < high:\n",
    "        mid = (low + high) // 2\n",
    "        MergeSort(arr, low, mid)\n",
    "        MergeSort(arr, mid + 1, high)\n",
    "        Merge(arr, low, mid, high)\n",
    "\n",
    "\n",
    "def Merge(arr, low, mid, high):\n",
    "    Left_arr = arr[low:mid+1]\n",
    "    Right_arr = arr[mid+1:high+1]\n",
    "    i = 0 # i will iterate over Left sublist\n",
    "    j = 0 # j will iterate over Right sublist\n",
    "    k = low # k will iterate over main list\n",
    "\n",
    "    while(i < len(Left_arr) and j < len(Right_arr)):\n",
    "        if(Left_arr[i] < Right_arr[j]):\n",
    "            arr[k] = Left_arr[i]\n",
    "            i += 1\n",
    "        else:\n",
    "            arr[k] = Right_arr[j]\n",
    "            j += 1\n",
    "        k += 1\n",
    "    # For all the remaining values\n",
    "    while(i < len(Left_arr)):\n",
    "        arr[k] = Left_arr[i]\n",
    "        i += 1\n",
    "        k += 1\n",
    "\n",
    "    while(j < len(Right_arr)):\n",
    "        arr[k] = Right_arr[j]\n",
    "        j += 1\n",
    "        k += 1\n",
    "    \n",
    "        \n",
    "arr = [44, 65, 2, 3, 58, 14, 57, 23, 10, 1, 7, 74, 48]  \n",
    "MergeSort(arr, 0, len(arr) -1)  \n",
    "print(arr)  "
   ]
  },
  {
   "cell_type": "code",
   "execution_count": null,
   "id": "e5aa881f-350d-456d-b213-558f0d0ed1cb",
   "metadata": {},
   "outputs": [],
   "source": []
  }
 ],
 "metadata": {
  "kernelspec": {
   "display_name": "Python 3 (ipykernel)",
   "language": "python",
   "name": "python3"
  },
  "language_info": {
   "codemirror_mode": {
    "name": "ipython",
    "version": 3
   },
   "file_extension": ".py",
   "mimetype": "text/x-python",
   "name": "python",
   "nbconvert_exporter": "python",
   "pygments_lexer": "ipython3",
   "version": "3.11.4"
  }
 },
 "nbformat": 4,
 "nbformat_minor": 5
}
