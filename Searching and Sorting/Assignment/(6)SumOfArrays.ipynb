{
 "cells": [
  {
   "cell_type": "code",
   "execution_count": 12,
   "id": "700b1c9d-5c70-4830-b8bf-9359dad32515",
   "metadata": {},
   "outputs": [
    {
     "name": "stdout",
     "output_type": "stream",
     "text": [
      "[1, 2, 2, 0]\n"
     ]
    }
   ],
   "source": [
    "arr1 = [7,6,1]\n",
    "n = len(arr1)\n",
    "\n",
    "arr2 = [4,5,9]\n",
    "m = len(arr2)\n",
    "\n",
    "k = max(n, m)  \n",
    "output = (k + 1) * [0] # size of output array (plus one for potential carry)\n",
    "\n",
    "i = n-1\n",
    "j = m-1\n",
    "carry = 0\n",
    "\n",
    "while(i >= 0 and j>= 0):\n",
    "    sum = arr1[i] + arr2[j] + carry\n",
    "    output[k] = sum%10\n",
    "    carry = sum//10\n",
    "    i -= 1\n",
    "    j -= 1\n",
    "    k -= 1\n",
    "# remaining elemnts in both arrays\n",
    "    \n",
    "while(i >= 0):\n",
    "    sum = arr1[i]+carry\n",
    "    output[k] = sum%10\n",
    "    carry = sum//10\n",
    "    i -= 1\n",
    "    k -= 1\n",
    "\n",
    "while(j >= 0):\n",
    "    sum = arr2[j] + carry\n",
    "    output[k] = sum%10\n",
    "    carry = sum//10\n",
    "    j -= 1\n",
    "    k -= 1\n",
    "output[0] = carry # if 1 carry is left out\n",
    "\n",
    "print(output)\n",
    "    \n"
   ]
  },
  {
   "cell_type": "code",
   "execution_count": null,
   "id": "015066eb-96a4-4556-84e1-dc7b063c7c86",
   "metadata": {},
   "outputs": [],
   "source": [
    "a=5\n",
    "b=10\n",
    "ans = max(a,b)\n",
    "ans"
   ]
  },
  {
   "cell_type": "code",
   "execution_count": null,
   "id": "01ee6a45-f798-4400-802d-6c53130b15ab",
   "metadata": {},
   "outputs": [],
   "source": []
  }
 ],
 "metadata": {
  "kernelspec": {
   "display_name": "Python 3 (ipykernel)",
   "language": "python",
   "name": "python3"
  },
  "language_info": {
   "codemirror_mode": {
    "name": "ipython",
    "version": 3
   },
   "file_extension": ".py",
   "mimetype": "text/x-python",
   "name": "python",
   "nbconvert_exporter": "python",
   "pygments_lexer": "ipython3",
   "version": "3.11.4"
  }
 },
 "nbformat": 4,
 "nbformat_minor": 5
}
