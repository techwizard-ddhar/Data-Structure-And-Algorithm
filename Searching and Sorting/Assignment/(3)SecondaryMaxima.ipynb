{
 "cells": [
  {
   "cell_type": "code",
   "execution_count": 19,
   "id": "277a0620-5631-4114-9c0b-3c584addc615",
   "metadata": {},
   "outputs": [
    {
     "name": "stdout",
     "output_type": "stream",
     "text": [
      "Largest: 133\n",
      "Second Largest: 28\n"
     ]
    }
   ],
   "source": [
    "arr = [2, 133, 4, 1, 3, 6, 28, 28]\n",
    "length = len(arr)\n",
    "largest = 0\n",
    "sec_max = 0\n",
    "\n",
    "for i in range(length):\n",
    "    if(largest < arr[i]):\n",
    "        sec_max = largest\n",
    "        largest = arr[i]\n",
    "    elif(sec_max < arr[i] and sec_max != largest):\n",
    "        sec_max = arr[i]\n",
    "\n",
    "print(\"Largest:\", largest)\n",
    "print(\"Second Largest:\", sec_max)\n"
   ]
  },
  {
   "cell_type": "code",
   "execution_count": null,
   "id": "b8c09884-1efe-43db-8e80-41e11dc9b8ee",
   "metadata": {},
   "outputs": [],
   "source": []
  }
 ],
 "metadata": {
  "kernelspec": {
   "display_name": "Python 3 (ipykernel)",
   "language": "python",
   "name": "python3"
  },
  "language_info": {
   "codemirror_mode": {
    "name": "ipython",
    "version": 3
   },
   "file_extension": ".py",
   "mimetype": "text/x-python",
   "name": "python",
   "nbconvert_exporter": "python",
   "pygments_lexer": "ipython3",
   "version": "3.11.4"
  }
 },
 "nbformat": 4,
 "nbformat_minor": 5
}
