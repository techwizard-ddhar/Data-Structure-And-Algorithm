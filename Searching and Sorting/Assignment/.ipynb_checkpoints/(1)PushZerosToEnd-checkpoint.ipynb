{
 "cells": [
  {
   "cell_type": "code",
   "execution_count": 2,
   "id": "e34892fb-1c77-4077-a98c-529d31ca383e",
   "metadata": {},
   "outputs": [
    {
     "name": "stdout",
     "output_type": "stream",
     "text": [
      "[2, 1, 3, 0, 0, 0, 0]\n"
     ]
    }
   ],
   "source": [
    "arr = [2,0,0,1,3,0,0]\n",
    "length = len(arr)\n",
    "arr1 = []\n",
    "arr2 = []\n",
    "\n",
    "for i in range(length):\n",
    "    if(arr[i] != 0):\n",
    "        arr1.append(arr[i])\n",
    "    else:\n",
    "        arr2.append(arr[i])\n",
    "    a = arr1 + arr2\n",
    "print(a)\n",
    "    "
   ]
  },
  {
   "cell_type": "code",
   "execution_count": 6,
   "id": "b38d4263-5b77-497f-85a5-195c98d4c71c",
   "metadata": {},
   "outputs": [
    {
     "name": "stdout",
     "output_type": "stream",
     "text": [
      "[2, 1, 3, 0, 0, 0, 0]\n"
     ]
    }
   ],
   "source": [
    "arr = [2,0,0,1,3,0,0]\n",
    "length = len(arr)\n",
    "nonzero = 0\n",
    "for i in range(length):\n",
    "    if(arr[i] != 0):\n",
    "        temp = arr[i] \n",
    "        arr[i] = arr[nonzero] \n",
    "        arr[nonzero] = temp \n",
    "        nonzero += 1 # increment, if arr[i] = 0 # 1\n",
    "print(arr)\n",
    "        "
   ]
  },
  {
   "cell_type": "code",
   "execution_count": 1,
   "id": "9d1bce89-8cc7-40e6-a2d1-ff748391361c",
   "metadata": {},
   "outputs": [
    {
     "name": "stdout",
     "output_type": "stream",
     "text": [
      "[2, 1, 3, 0, 0, 0, 0]\n"
     ]
    }
   ],
   "source": [
    "arr = [2,0,0,1,3,0,0]\n",
    "length = len(arr)\n",
    "nonzero = 0\n",
    "for i in range(length):\n",
    "    if(arr[i] != 0):\n",
    "        temp = arr[i] \n",
    "        arr[i] = arr[nonzero] \n",
    "        arr[nonzero] = temp \n",
    "        nonzero += 1 # increment, if arr[i] = 0 # 1\n",
    "print(arr)"
   ]
  },
  {
   "cell_type": "code",
   "execution_count": null,
   "id": "3a5bf675-fc60-4cc8-b63c-d98410ed4f1f",
   "metadata": {},
   "outputs": [],
   "source": []
  }
 ],
 "metadata": {
  "kernelspec": {
   "display_name": "Python 3 (ipykernel)",
   "language": "python",
   "name": "python3"
  },
  "language_info": {
   "codemirror_mode": {
    "name": "ipython",
    "version": 3
   },
   "file_extension": ".py",
   "mimetype": "text/x-python",
   "name": "python",
   "nbconvert_exporter": "python",
   "pygments_lexer": "ipython3",
   "version": "3.11.4"
  }
 },
 "nbformat": 4,
 "nbformat_minor": 5
}
