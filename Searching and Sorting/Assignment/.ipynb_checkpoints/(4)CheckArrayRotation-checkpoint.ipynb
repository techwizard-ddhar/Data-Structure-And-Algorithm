{
 "cells": [
  {
   "cell_type": "code",
   "execution_count": 35,
   "id": "a9466197-8810-4ced-b310-45ecca11175b",
   "metadata": {},
   "outputs": [
    {
     "name": "stdout",
     "output_type": "stream",
     "text": [
      "Position from where the array has been rotated:  None\n"
     ]
    }
   ],
   "source": [
    "def CheckRotateArray():\n",
    "    for i in range(n-1):\n",
    "        if(arr[i] > arr[i+1]):\n",
    "            return (i+1)\n",
    "\n",
    "arr = [3,6,8,9,10]\n",
    "n = len(arr)\n",
    "\n",
    "output = CheckRotateArray()\n",
    "print('Position from where the array has been rotated: ', output)"
   ]
  },
  {
   "cell_type": "markdown",
   "id": "e30c4ebb-e21a-44b9-a308-9921d4549015",
   "metadata": {},
   "source": [
    "**To display 0 instead of None**"
   ]
  },
  {
   "cell_type": "code",
   "execution_count": 36,
   "id": "bd2c4fd1-b83c-49ad-9c3a-782e694296e3",
   "metadata": {},
   "outputs": [
    {
     "name": "stdout",
     "output_type": "stream",
     "text": [
      "Position from where the array has been rotated:  0\n"
     ]
    }
   ],
   "source": [
    "def CheckRotateArray():\n",
    "    for i in range(n-1):\n",
    "        if(arr[i] > arr[i+1]):\n",
    "            return (i+1) # for this test case if block will not run and hence it return zero\n",
    "    return 0\n",
    "\n",
    "arr = [3,6,8,9,10]\n",
    "n = len(arr)\n",
    "\n",
    "output = CheckRotateArray()\n",
    "print('Position from where the array has been rotated: ', output)"
   ]
  },
  {
   "cell_type": "code",
   "execution_count": null,
   "id": "578c89b3-c5f5-432c-a4f8-a35f4f88962b",
   "metadata": {},
   "outputs": [],
   "source": []
  }
 ],
 "metadata": {
  "kernelspec": {
   "display_name": "Python 3 (ipykernel)",
   "language": "python",
   "name": "python3"
  },
  "language_info": {
   "codemirror_mode": {
    "name": "ipython",
    "version": 3
   },
   "file_extension": ".py",
   "mimetype": "text/x-python",
   "name": "python",
   "nbconvert_exporter": "python",
   "pygments_lexer": "ipython3",
   "version": "3.11.4"
  }
 },
 "nbformat": 4,
 "nbformat_minor": 5
}
