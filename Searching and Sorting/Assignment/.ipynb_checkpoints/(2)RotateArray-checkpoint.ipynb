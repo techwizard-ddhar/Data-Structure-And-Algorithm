{
 "cells": [
  {
   "cell_type": "code",
   "execution_count": 27,
   "id": "345f1fbc-9b2a-4e49-a9a3-90fd2948d897",
   "metadata": {},
   "outputs": [
    {
     "name": "stdin",
     "output_type": "stream",
     "text": [
      "Enter Number Of Test cases:  3\n",
      "Enter value of shift:  5\n",
      "Numbers to be intered in a list:  9\n",
      " 19\n",
      " 12\n",
      " 16\n",
      " 18\n",
      " 12\n",
      " 18\n",
      " 22\n",
      " 13\n",
      " 17\n"
     ]
    },
    {
     "name": "stdout",
     "output_type": "stream",
     "text": [
      "[18, 22, 13, 17, 19, 12, 16, 18, 12]\n"
     ]
    },
    {
     "name": "stdin",
     "output_type": "stream",
     "text": [
      "Enter value of shift:  5\n",
      "Numbers to be intered in a list:  10\n",
      " 13\n",
      " 25\n",
      " 28\n",
      " 11\n",
      " 15\n",
      " 16\n",
      " 17\n",
      " 22\n",
      " 15\n",
      " 16\n"
     ]
    },
    {
     "name": "stdout",
     "output_type": "stream",
     "text": [
      "[16, 17, 22, 15, 16, 13, 25, 28, 11, 15]\n"
     ]
    },
    {
     "name": "stdin",
     "output_type": "stream",
     "text": [
      "Enter value of shift:  2\n",
      "Numbers to be intered in a list:  10\n",
      " 16\n",
      " 17\n",
      " 30\n",
      " 18\n",
      " 24\n",
      " 30\n",
      " 18\n",
      " 22\n",
      " 11\n",
      " 16\n"
     ]
    },
    {
     "name": "stdout",
     "output_type": "stream",
     "text": [
      "[30, 18, 24, 30, 18, 22, 11, 16, 16, 17]\n"
     ]
    }
   ],
   "source": [
    "def reverse(arr,d,n):\n",
    "    temp = []\n",
    "    for i in range(d,n):\n",
    "        temp.append(arr[i])\n",
    "        \n",
    "    for i in range(0,d):\n",
    "        temp.append(arr[i])\n",
    "    arr = temp\n",
    "    print(arr)\n",
    "    \n",
    "def array():\n",
    "    arr = []\n",
    "    d = int(input('Enter value of shift: '))\n",
    "    n = int(input('Numbers to be intered in a list: '))\n",
    "    for i in range(n):\n",
    "        curr = int(input())\n",
    "        arr.append(curr)\n",
    "    return arr,d,n\n",
    "    \n",
    "num_test_cases = int(input(\"Enter Number Of Test cases: \"))\n",
    "\n",
    "for j in range(num_test_cases):\n",
    "    arr, d, n = array()\n",
    "    reverse(arr, d, n)\n",
    "    "
   ]
  },
  {
   "cell_type": "code",
   "execution_count": null,
   "id": "7cd28324-34af-40fe-bf8e-537d91f206c2",
   "metadata": {},
   "outputs": [],
   "source": [
    "def reverse(arr,d,n):\n",
    "    temp = []\n",
    "    for i in range(0,d):\n",
    "        temp.append(arr[i])\n",
    "        \n",
    "    for i in range(d,n):\n",
    "        temp.append(arr[i])\n",
    "    arr = temp\n",
    "    print(arr)\n",
    "    \n",
    "def array():\n",
    "    arr = []\n",
    "    d = int(input('Enter value of shift: '))\n",
    "    n = int(input('Numbers to be intered in a list: '))\n",
    "    for i in range(n):\n",
    "        curr = int(input())\n",
    "        arr.append(curr)\n",
    "    return arr,d,n\n",
    "    \n",
    "num_test_cases = int(input(\"Enter Number Of Test cases: \"))\n",
    "\n",
    "for j in range(num_test_cases):\n",
    "    arr, d, n = array()\n",
    "    reverse(arr, d, n)\n",
    "    "
   ]
  },
  {
   "cell_type": "code",
   "execution_count": 75,
   "id": "aae2c440-5f4e-462c-a388-a84e9302d300",
   "metadata": {},
   "outputs": [
    {
     "name": "stdin",
     "output_type": "stream",
     "text": [
      "Enter Number Of Test cases:  2\n",
      "Enter value of shift:  5\n",
      "Numbers to be intered in a list:  9\n",
      " 19\n",
      " 12\n",
      " 16\n",
      " 18\n",
      " 12\n",
      " 18\n",
      " 22\n",
      " 13\n",
      " 17\n"
     ]
    },
    {
     "name": "stdout",
     "output_type": "stream",
     "text": [
      "[19, 12, 16, 18, 12, 18, 17, 13, 22]\n"
     ]
    },
    {
     "name": "stdin",
     "output_type": "stream",
     "text": [
      "Enter value of shift:  5\n",
      "Numbers to be intered in a list:  10\n",
      " 13\n",
      " 25\n",
      " 28\n",
      " 11\n",
      " 15\n",
      " 16\n",
      " 17\n",
      " 22\n",
      " 15\n",
      " 16\n"
     ]
    },
    {
     "name": "stdout",
     "output_type": "stream",
     "text": [
      "[13, 25, 28, 11, 15, 16, 16, 15, 22, 17]\n"
     ]
    }
   ],
   "source": [
    "def reverse(arr,d,n):\n",
    "    temp2 = []\n",
    "    temp3 = []\n",
    "    for i in range(0,d+1):\n",
    "        temp2.append(arr[i])\n",
    "    for i in range(d+1,n):\n",
    "        temp3.append(arr[i])\n",
    "    a = temp2+temp3[::-1]\n",
    "    print(a)\n",
    "    \n",
    "def array():\n",
    "    arr = []\n",
    "    d = int(input('Enter value of shift: '))\n",
    "    n = int(input('Numbers to be intered in a list: '))\n",
    "    for i in range(n):\n",
    "        curr = int(input())\n",
    "        arr.append(curr)\n",
    "    return arr,d,n\n",
    "    \n",
    "num_test_cases = int(input(\"Enter Number Of Test cases: \"))\n",
    "\n",
    "for j in range(num_test_cases):\n",
    "    arr, d, n = array()\n",
    "    reverse(arr, d, n)\n",
    "    "
   ]
  },
  {
   "cell_type": "code",
   "execution_count": null,
   "id": "f48fc35f-2e70-4956-932d-74a99d978fb9",
   "metadata": {},
   "outputs": [],
   "source": []
  }
 ],
 "metadata": {
  "kernelspec": {
   "display_name": "Python 3 (ipykernel)",
   "language": "python",
   "name": "python3"
  },
  "language_info": {
   "codemirror_mode": {
    "name": "ipython",
    "version": 3
   },
   "file_extension": ".py",
   "mimetype": "text/x-python",
   "name": "python",
   "nbconvert_exporter": "python",
   "pygments_lexer": "ipython3",
   "version": "3.11.4"
  }
 },
 "nbformat": 4,
 "nbformat_minor": 5
}
