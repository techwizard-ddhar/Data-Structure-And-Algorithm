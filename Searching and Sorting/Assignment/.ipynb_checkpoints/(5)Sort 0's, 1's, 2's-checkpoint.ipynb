{
 "cells": [
  {
   "cell_type": "code",
   "execution_count": 1,
   "id": "f5c65180-5a6f-46ad-bb4c-2889f6cbb34d",
   "metadata": {},
   "outputs": [
    {
     "name": "stdout",
     "output_type": "stream",
     "text": [
      "[0, 0, 0, 1, 1, 2, 2]\n"
     ]
    }
   ],
   "source": [
    "def partition(arr, low, high):\n",
    "    pivot = arr[low]\n",
    "    i = low\n",
    "    j = high\n",
    "    while(i < j):\n",
    "        while(i < high and arr[i] < pivot):\n",
    "            i += 1\n",
    "        while(j > low and arr[j] >= pivot):\n",
    "            j -= 1\n",
    "        if(i < j):\n",
    "            arr[i], arr[j] = arr[j], arr[i]\n",
    "    if(pivot > arr[j]):\n",
    "        arr[low], arr[j] = arr[j], arr[low]\n",
    "    return j\n",
    "\n",
    "\n",
    "def QuickSort(arr, low, high):\n",
    "    if(low < high):\n",
    "        parIndex = partition(arr, low, high)\n",
    "        QuickSort(arr, low, parIndex-1)\n",
    "        QuickSort(arr, parIndex+1, high)\n",
    "\n",
    "arr = [0,1,2,0,2,0,1]\n",
    "QuickSort(arr, 0, len(arr)-1)\n",
    "print(arr)"
   ]
  },
  {
   "cell_type": "code",
   "execution_count": null,
   "id": "21be1979-8ceb-4a95-a557-bd5e3cbbc8d9",
   "metadata": {},
   "outputs": [],
   "source": []
  }
 ],
 "metadata": {
  "kernelspec": {
   "display_name": "Python 3 (ipykernel)",
   "language": "python",
   "name": "python3"
  },
  "language_info": {
   "codemirror_mode": {
    "name": "ipython",
    "version": 3
   },
   "file_extension": ".py",
   "mimetype": "text/x-python",
   "name": "python",
   "nbconvert_exporter": "python",
   "pygments_lexer": "ipython3",
   "version": "3.11.4"
  }
 },
 "nbformat": 4,
 "nbformat_minor": 5
}
