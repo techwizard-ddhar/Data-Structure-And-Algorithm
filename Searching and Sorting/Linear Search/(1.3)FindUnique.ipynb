{
 "cells": [
  {
   "cell_type": "code",
   "execution_count": 17,
   "id": "5ecb0e6d-9f1a-4070-a631-04f48bdbe02e",
   "metadata": {},
   "outputs": [
    {
     "name": "stdout",
     "output_type": "stream",
     "text": [
      "10\n"
     ]
    }
   ],
   "source": [
    "def unique(dict):\n",
    "    isUnique = False\n",
    "    for w in dict:\n",
    "        if(dict[w] == 1):\n",
    "            print(w)\n",
    "            isUnique = True\n",
    "            break\n",
    "    if isUnique is False:\n",
    "        print(-1)\n",
    "            \n",
    "    \n",
    "    \n",
    "def freq():\n",
    "    list = [1,3,1,3,6,6,7,10,7]\n",
    "    dic = {}\n",
    "    for ele in list:\n",
    "        if ele in dic:\n",
    "            dic[ele] = dic[ele]+1\n",
    "        else:\n",
    "            dic[ele] = 1\n",
    "    return dic\n",
    "\n",
    "output_1 = freq()\n",
    "unique(output_1)"
   ]
  },
  {
   "cell_type": "code",
   "execution_count": null,
   "id": "a2311311-4497-477a-a421-053f4654d98c",
   "metadata": {},
   "outputs": [],
   "source": []
  }
 ],
 "metadata": {
  "kernelspec": {
   "display_name": "Python 3 (ipykernel)",
   "language": "python",
   "name": "python3"
  },
  "language_info": {
   "codemirror_mode": {
    "name": "ipython",
    "version": 3
   },
   "file_extension": ".py",
   "mimetype": "text/x-python",
   "name": "python",
   "nbconvert_exporter": "python",
   "pygments_lexer": "ipython3",
   "version": "3.11.4"
  }
 },
 "nbformat": 4,
 "nbformat_minor": 5
}
