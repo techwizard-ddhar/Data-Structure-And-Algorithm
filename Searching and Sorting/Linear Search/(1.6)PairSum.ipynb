{
 "cells": [
  {
   "cell_type": "code",
   "execution_count": 6,
   "id": "c86dccc9-ef03-40b0-acbf-10c79806f4b2",
   "metadata": {},
   "outputs": [
    {
     "name": "stdout",
     "output_type": "stream",
     "text": [
      "(7, {(3, 4), (4, 3), (1, 6), (2, 5), (5, 2)})\n"
     ]
    }
   ],
   "source": [
    "def run(arr,n):\n",
    "    sum = 7\n",
    "    s = set()\n",
    "    pairs = 0\n",
    "    for i in range(n):\n",
    "        for j in range((i+1),n):\n",
    "            if(arr[i] + arr[j] == sum):\n",
    "                s.add((arr[i],arr[j]))\n",
    "                pairs += 1\n",
    "    return pairs, s\n",
    "\n",
    "arr = [1,3,6,2,5,4,3,2,4]\n",
    "n = len(arr)\n",
    "output = run(arr,n)\n",
    "print(output)\n"
   ]
  },
  {
   "cell_type": "code",
   "execution_count": null,
   "id": "a4d680c0-572e-492f-a243-d4df134a1bff",
   "metadata": {},
   "outputs": [],
   "source": []
  }
 ],
 "metadata": {
  "kernelspec": {
   "display_name": "Python 3 (ipykernel)",
   "language": "python",
   "name": "python3"
  },
  "language_info": {
   "codemirror_mode": {
    "name": "ipython",
    "version": 3
   },
   "file_extension": ".py",
   "mimetype": "text/x-python",
   "name": "python",
   "nbconvert_exporter": "python",
   "pygments_lexer": "ipython3",
   "version": "3.11.4"
  }
 },
 "nbformat": 4,
 "nbformat_minor": 5
}
