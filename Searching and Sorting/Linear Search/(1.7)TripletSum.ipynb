{
 "cells": [
  {
   "cell_type": "code",
   "execution_count": 3,
   "id": "9b0785c3-6def-4e67-834b-e43353410d06",
   "metadata": {},
   "outputs": [
    {
     "name": "stdout",
     "output_type": "stream",
     "text": [
      "(5, {(2, 11, -3), (-6, 5, 11), (-5, 5, 10), (8, 5, -3), (2, 8, 0)})\n"
     ]
    }
   ],
   "source": [
    "def run(arr,n):\n",
    "    sum = 10\n",
    "    s = set()\n",
    "    pairs = 0\n",
    "    for i in range(n):\n",
    "        for j in range((i+1),n):\n",
    "            for k in range((j+1),n):\n",
    "                if(arr[i] + arr[j] + arr[k] == sum):\n",
    "                    s.add((arr[i],arr[j],arr[k]))\n",
    "                    pairs += 1\n",
    "    return pairs, s\n",
    "\n",
    "arr = [2, -5, 8, -6, 0, 5, 10, 11, -3]\n",
    "n = len(arr)\n",
    "output = run(arr,n)\n",
    "print(output)\n"
   ]
  },
  {
   "cell_type": "code",
   "execution_count": null,
   "id": "b00b85ce-a36c-4312-b57a-1da3af047a04",
   "metadata": {},
   "outputs": [],
   "source": []
  }
 ],
 "metadata": {
  "kernelspec": {
   "display_name": "Python 3 (ipykernel)",
   "language": "python",
   "name": "python3"
  },
  "language_info": {
   "codemirror_mode": {
    "name": "ipython",
    "version": 3
   },
   "file_extension": ".py",
   "mimetype": "text/x-python",
   "name": "python",
   "nbconvert_exporter": "python",
   "pygments_lexer": "ipython3",
   "version": "3.11.4"
  }
 },
 "nbformat": 4,
 "nbformat_minor": 5
}
