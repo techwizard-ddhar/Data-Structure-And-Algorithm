{
 "cells": [
  {
   "cell_type": "markdown",
   "id": "dba19b76-b2d3-49d8-bb60-9f9da37998b0",
   "metadata": {},
   "source": [
    "**Linear Search**"
   ]
  },
  {
   "cell_type": "code",
   "execution_count": 1,
   "id": "ddf5ab8a-5f6d-4305-a5b4-19a5f9ad039b",
   "metadata": {},
   "outputs": [
    {
     "name": "stdin",
     "output_type": "stream",
     "text": [
      "Enter number of elements: 6\n",
      " 2 4 7 9 10 13\n"
     ]
    },
    {
     "data": {
      "text/plain": [
       "[2, 4, 7, 9, 10, 13]"
      ]
     },
     "execution_count": 1,
     "metadata": {},
     "output_type": "execute_result"
    }
   ],
   "source": [
    "num = input(\"Enter number of elements:\" )\n",
    "list = [int(ele) for ele in input().split()]\n",
    "list"
   ]
  },
  {
   "cell_type": "code",
   "execution_count": 2,
   "id": "d8469443-2b78-4889-b2ef-4a753a48c807",
   "metadata": {},
   "outputs": [
    {
     "name": "stdin",
     "output_type": "stream",
     "text": [
      "Enter element you want to search: 7\n"
     ]
    },
    {
     "data": {
      "text/plain": [
       "7"
      ]
     },
     "execution_count": 2,
     "metadata": {},
     "output_type": "execute_result"
    }
   ],
   "source": [
    "ele = int(input('Enter element you want to search:' ))\n",
    "ele"
   ]
  },
  {
   "cell_type": "code",
   "execution_count": 3,
   "id": "be6785a2-af92-4e31-b7ff-14caba607435",
   "metadata": {},
   "outputs": [
    {
     "name": "stdout",
     "output_type": "stream",
     "text": [
      "Key Not Found\n",
      "Key Not Found\n",
      "Key found--> 7\n",
      "Key Not Found\n",
      "Key Not Found\n",
      "Key Not Found\n"
     ]
    }
   ],
   "source": [
    "for i in range(len(list)):\n",
    "    if(list[i] == ele):\n",
    "        print('Key found-->', list[i])\n",
    "    else:\n",
    "        print('Key Not Found')"
   ]
  },
  {
   "cell_type": "code",
   "execution_count": 8,
   "id": "545cf00c-5994-4b9c-931e-edfad19dee32",
   "metadata": {},
   "outputs": [
    {
     "name": "stdout",
     "output_type": "stream",
     "text": [
      "Key found at index--> 2\n"
     ]
    }
   ],
   "source": [
    "isFound = False # The element is not found\n",
    "for i in range(len(list)):\n",
    "    if(list[i] == ele):\n",
    "        print('Key found at index-->',i)\n",
    "        isFound = True # It becomes true, because we found the element\n",
    "        break\n",
    "if isFound is False: # check if the element is not found print -1\n",
    "    print(-1)"
   ]
  },
  {
   "cell_type": "markdown",
   "id": "d08bf683-bed8-44c5-9485-b4670f11f2bf",
   "metadata": {},
   "source": [
    "**Using Function**"
   ]
  },
  {
   "cell_type": "code",
   "execution_count": 16,
   "id": "d5265039-ecd2-4b79-9dbc-3c3354422915",
   "metadata": {},
   "outputs": [
    {
     "name": "stdin",
     "output_type": "stream",
     "text": [
      "Enter number of elements: 7\n",
      " 1 6 2 8 10 14 5\n",
      "Enter element you want to search: 10\n"
     ]
    },
    {
     "name": "stdout",
     "output_type": "stream",
     "text": [
      "Element found at index--> 4 10\n"
     ]
    }
   ],
   "source": [
    "def run(list,key):\n",
    "    isFound = False # The element is not found\n",
    "    for i in range(len(list)):\n",
    "        if(list[i] == key):\n",
    "            print('Element found at index-->',i,list[i])\n",
    "            isFound = True # It becomes true, because we found the element\n",
    "            break\n",
    "if isFound is False: # check if the element is not found print -1\n",
    "    print(-1)\n",
    "    \n",
    "    \n",
    "def gen_li():\n",
    "    num = input(\"Enter number of elements:\" )\n",
    "    list = [int(ele) for ele in input().split()]\n",
    "    return list\n",
    "\n",
    "def gen_key():\n",
    "    ele = int(input('Enter element you want to search:' ))\n",
    "    return ele\n",
    "\n",
    "output_1 = gen_li()\n",
    "output_2 = gen_key()\n",
    "run(output_1, output_2)\n"
   ]
  },
  {
   "cell_type": "code",
   "execution_count": null,
   "id": "ebe208a3-06a9-4e5e-986a-9e53dd100453",
   "metadata": {},
   "outputs": [],
   "source": []
  }
 ],
 "metadata": {
  "kernelspec": {
   "display_name": "Python 3 (ipykernel)",
   "language": "python",
   "name": "python3"
  },
  "language_info": {
   "codemirror_mode": {
    "name": "ipython",
    "version": 3
   },
   "file_extension": ".py",
   "mimetype": "text/x-python",
   "name": "python",
   "nbconvert_exporter": "python",
   "pygments_lexer": "ipython3",
   "version": "3.11.4"
  }
 },
 "nbformat": 4,
 "nbformat_minor": 5
}
