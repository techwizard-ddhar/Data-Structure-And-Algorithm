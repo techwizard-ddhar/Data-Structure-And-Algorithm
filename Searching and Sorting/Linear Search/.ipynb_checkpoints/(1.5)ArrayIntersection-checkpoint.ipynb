{
 "cells": [
  {
   "cell_type": "code",
   "execution_count": 3,
   "id": "6c68ce65-21a8-4606-9a27-5b52f821db29",
   "metadata": {},
   "outputs": [
    {
     "name": "stdout",
     "output_type": "stream",
     "text": [
      "{2, 3, 4}\n"
     ]
    }
   ],
   "source": [
    "s1 = {2,6,8,5,4,3}\n",
    "s2 = {2,3,4,7}\n",
    "\n",
    "print(s1.intersection(s2))"
   ]
  },
  {
   "cell_type": "code",
   "execution_count": 9,
   "id": "d773c0d4-0f1b-41ab-817c-65892a3e52f7",
   "metadata": {},
   "outputs": [
    {
     "name": "stdout",
     "output_type": "stream",
     "text": [
      "{1, 2}\n"
     ]
    }
   ],
   "source": [
    "# The problem over here is that, set doesn't support duplicate values\n",
    "\n",
    "s3 = {2,6,1,2}\n",
    "s4 = {1,2,3,4,2}\n",
    "\n",
    "print(s3.intersection(s4))\n"
   ]
  },
  {
   "cell_type": "code",
   "execution_count": 13,
   "id": "afc08613-cc44-4564-b4db-636d4d7a1cc4",
   "metadata": {},
   "outputs": [
    {
     "name": "stdout",
     "output_type": "stream",
     "text": [
      "2\n",
      "2\n",
      "1\n",
      "2\n",
      "2\n"
     ]
    }
   ],
   "source": [
    "def intersect(arr1, n1, arr2, n2):\n",
    "    for i in range(n1):\n",
    "        for j in range(n2):\n",
    "            if(arr2[j] == arr1[i]):\n",
    "                print(arr2[j])\n",
    "\n",
    "arr1 = [2,6,1,2]\n",
    "n1 = len(arr1) # Length of arr1\n",
    "\n",
    "arr2 = [1,2,3,4,2]\n",
    "n2 = len(arr2) # Length of arr2\n",
    "\n",
    "intersect(arr1, n1, arr2, n2)"
   ]
  },
  {
   "cell_type": "code",
   "execution_count": 21,
   "id": "ef5fa7a3-fced-40fe-a34c-dc3d40447459",
   "metadata": {},
   "outputs": [
    {
     "name": "stdout",
     "output_type": "stream",
     "text": [
      "[2, 1, 2]\n"
     ]
    }
   ],
   "source": [
    "def intersect(arr1, n1, arr2, n2):\n",
    "    list = []\n",
    "    for i in range(n1):\n",
    "        for j in range(n2):\n",
    "            if(arr2[j] == arr1[i]):\n",
    "                list.append(arr2[j])\n",
    "                break\n",
    "    return list\n",
    "\n",
    "arr1 = [2,6,1,2]\n",
    "n1 = len(arr1) # Length of arr1\n",
    "\n",
    "arr2 = [1,2,3,4,2]\n",
    "n2 = len(arr2) # Length of arr2\n",
    "\n",
    "output_1 = intersect(arr1, n1, arr2, n2)\n",
    "print(output_1)"
   ]
  },
  {
   "cell_type": "code",
   "execution_count": null,
   "id": "2d4e6cd7-9054-4039-88b7-98b68220ce2b",
   "metadata": {},
   "outputs": [],
   "source": []
  }
 ],
 "metadata": {
  "kernelspec": {
   "display_name": "Python 3 (ipykernel)",
   "language": "python",
   "name": "python3"
  },
  "language_info": {
   "codemirror_mode": {
    "name": "ipython",
    "version": 3
   },
   "file_extension": ".py",
   "mimetype": "text/x-python",
   "name": "python",
   "nbconvert_exporter": "python",
   "pygments_lexer": "ipython3",
   "version": "3.11.4"
  }
 },
 "nbformat": 4,
 "nbformat_minor": 5
}
