{
 "cells": [
  {
   "cell_type": "markdown",
   "id": "9d791dc8-2874-4be2-9267-0b163e7a1550",
   "metadata": {},
   "source": [
    "**My Approach** **(Sort 0's, 1's)**"
   ]
  },
  {
   "cell_type": "code",
   "execution_count": 10,
   "id": "187ce457-cb57-4ad8-8134-2e1ce4a4dc67",
   "metadata": {},
   "outputs": [
    {
     "name": "stdout",
     "output_type": "stream",
     "text": [
      "[0, 0, 0, 0, 0, 1, 1, 1, 1, 1, 1]\n"
     ]
    }
   ],
   "source": [
    "def run():\n",
    "    arr = [0,0,0,1,1,1,0,1,1,0,1]\n",
    "    li = []\n",
    "    li1 = []\n",
    "    for i in range(len(arr)):\n",
    "        if(arr[i] == 0):\n",
    "            li.append(arr[i])\n",
    "        \n",
    "        else:\n",
    "            li1.append(arr[i])\n",
    "    arr = li + li1\n",
    "    return arr\n",
    "\n",
    "\n",
    "output = run()\n",
    "print(output)"
   ]
  },
  {
   "cell_type": "markdown",
   "id": "a83f8684-74f6-4d6a-86a8-a7d7acbd4b83",
   "metadata": {},
   "source": [
    "**Better Solution**"
   ]
  },
  {
   "cell_type": "code",
   "execution_count": 18,
   "id": "6edcf6a2-b9cd-48f7-b5fd-7d3c6f69bff6",
   "metadata": {},
   "outputs": [
    {
     "name": "stdout",
     "output_type": "stream",
     "text": [
      "Sorted array: [0, 0, 0, 1, 1]\n"
     ]
    }
   ],
   "source": [
    "def fun():\n",
    "    arr = [0,1,0,1,0]\n",
    "    current_pos = 0 # Iteration \n",
    "    next_zero = 0\n",
    "    while(current_pos < len(arr)):\n",
    "        if(arr[current_pos] == 0):\n",
    "            arr[current_pos], arr[next_zero] = arr[next_zero], arr[current_pos]\n",
    "            next_zero += 1\n",
    "        current_pos += 1\n",
    "    return arr\n",
    "\n",
    "ans = fun()\n",
    "print(\"Sorted array:\", ans)\n"
   ]
  },
  {
   "cell_type": "markdown",
   "id": "c322545b-73f0-417c-84fa-fa506f1354ea",
   "metadata": {},
   "source": [
    "**Sort 0's, 1's, 2's**"
   ]
  },
  {
   "cell_type": "code",
   "execution_count": 15,
   "id": "45d2f9f0-457f-45e0-be1b-a937b13f448b",
   "metadata": {},
   "outputs": [
    {
     "name": "stdout",
     "output_type": "stream",
     "text": [
      "Sorted array: [0, 0, 0, 0, 0, 1, 1, 1, 1, 1, 2, 2]\n"
     ]
    }
   ],
   "source": [
    "def fun():\n",
    "    arr = [0,1,1,0,1,2,1,2,0,0,0,1]\n",
    "    current_pos = 0 # Iteration \n",
    "    low = 0\n",
    "    high =len(arr)-1\n",
    "    \n",
    "    while(current_pos <= high):\n",
    "            if(arr[current_pos] == 0):\n",
    "                arr[current_pos], arr[low] = arr[low], arr[current_pos]\n",
    "                low += 1\n",
    "                current_pos += 1\n",
    "            \n",
    "            elif(arr[current_pos] == 2):\n",
    "                arr[current_pos], arr[high] = arr[high], arr[current_pos]\n",
    "                high -= 1\n",
    "            else:\n",
    "                current_pos += 1 # If arr[current_pos] == 1, just move forward\n",
    "    return arr\n",
    "\n",
    "ans = fun()\n",
    "print(\"Sorted array:\", ans)\n"
   ]
  },
  {
   "cell_type": "code",
   "execution_count": 19,
   "id": "c2c5db87-6506-4427-89a3-d1e2a60cdce2",
   "metadata": {},
   "outputs": [
    {
     "name": "stdout",
     "output_type": "stream",
     "text": [
      "Sorted array: [0, 1, 1, 1, 2, 2]\n"
     ]
    }
   ],
   "source": [
    "def fun():\n",
    "    arr = [0,1,1,2,1,2]\n",
    "    current_pos = 0 # Iteration \n",
    "    low = 0\n",
    "    high =len(arr)-1\n",
    "    \n",
    "    while(current_pos <= high):\n",
    "            if(arr[current_pos] == 0):\n",
    "                arr[current_pos], arr[low] = arr[low], arr[current_pos]\n",
    "                low += 1\n",
    "                current_pos += 1\n",
    "            \n",
    "            elif(arr[current_pos] == 2):\n",
    "                arr[current_pos], arr[high] = arr[high], arr[current_pos]\n",
    "                high -= 1\n",
    "            else:\n",
    "                current_pos += 1 # If arr[current_pos] == 1, just move forward\n",
    "    return arr\n",
    "\n",
    "ans = fun()\n",
    "print(\"Sorted array:\", ans)\n"
   ]
  },
  {
   "cell_type": "code",
   "execution_count": null,
   "id": "aafd1387-58ec-40ee-8b7e-c30e071b3de1",
   "metadata": {},
   "outputs": [],
   "source": []
  }
 ],
 "metadata": {
  "kernelspec": {
   "display_name": "Python 3 (ipykernel)",
   "language": "python",
   "name": "python3"
  },
  "language_info": {
   "codemirror_mode": {
    "name": "ipython",
    "version": 3
   },
   "file_extension": ".py",
   "mimetype": "text/x-python",
   "name": "python",
   "nbconvert_exporter": "python",
   "pygments_lexer": "ipython3",
   "version": "3.11.4"
  }
 },
 "nbformat": 4,
 "nbformat_minor": 5
}
