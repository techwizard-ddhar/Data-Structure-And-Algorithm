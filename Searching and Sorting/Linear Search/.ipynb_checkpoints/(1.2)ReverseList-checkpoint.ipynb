{
 "cells": [
  {
   "cell_type": "code",
   "execution_count": 1,
   "id": "78b9113b-c5bd-4638-a83d-c747e6b608b1",
   "metadata": {},
   "outputs": [
    {
     "name": "stdout",
     "output_type": "stream",
     "text": [
      "[6, 5, 4, 3, 2, 1]\n"
     ]
    }
   ],
   "source": [
    "li = [1,2,3,4,5,6]\n",
    "li.reverse()\n",
    "print(li)"
   ]
  },
  {
   "cell_type": "code",
   "execution_count": 3,
   "id": "1414ba18-20e9-413e-b1fd-a65e961fd24e",
   "metadata": {},
   "outputs": [
    {
     "data": {
      "text/plain": [
       "[1, 2, 3, 4, 5, 6]"
      ]
     },
     "execution_count": 3,
     "metadata": {},
     "output_type": "execute_result"
    }
   ],
   "source": [
    "li[5::-1]"
   ]
  },
  {
   "cell_type": "code",
   "execution_count": 5,
   "id": "b5062723-1308-453f-9efa-41481ed6ff0e",
   "metadata": {},
   "outputs": [
    {
     "name": "stdout",
     "output_type": "stream",
     "text": [
      "[6, 5, 4, 3, 2, 1]\n"
     ]
    }
   ],
   "source": [
    "def reverse_li(arr, length):\n",
    "    for i in range(length//2): # // it make sure we get integer value only\n",
    "        temp = arr[i]\n",
    "        arr[i] = arr[length-1-i]\n",
    "        arr[length-1-i] = temp\n",
    "    \n",
    "arr = [1,2,3,4,5,6]\n",
    "length = len(arr)\n",
    "reverse_li(arr, length)\n",
    "print(arr)"
   ]
  },
  {
   "cell_type": "code",
   "execution_count": null,
   "id": "85df9519-88b0-4190-ada2-4bd60f09fc9f",
   "metadata": {},
   "outputs": [],
   "source": []
  }
 ],
 "metadata": {
  "kernelspec": {
   "display_name": "Python 3 (ipykernel)",
   "language": "python",
   "name": "python3"
  },
  "language_info": {
   "codemirror_mode": {
    "name": "ipython",
    "version": 3
   },
   "file_extension": ".py",
   "mimetype": "text/x-python",
   "name": "python",
   "nbconvert_exporter": "python",
   "pygments_lexer": "ipython3",
   "version": "3.11.4"
  }
 },
 "nbformat": 4,
 "nbformat_minor": 5
}
