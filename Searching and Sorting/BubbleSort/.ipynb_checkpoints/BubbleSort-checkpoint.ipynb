{
 "cells": [
  {
   "cell_type": "code",
   "execution_count": 3,
   "id": "145dfdcb-7520-4e56-a3e6-c986884967ef",
   "metadata": {},
   "outputs": [
    {
     "name": "stdout",
     "output_type": "stream",
     "text": [
      "[4, 6, 3, 1, 2, 8]\n"
     ]
    }
   ],
   "source": [
    "def BubbleSort(arr):\n",
    "    length = len(arr)\n",
    "    for i in range(length-1):\n",
    "        if(arr[i] > arr[i+1]):\n",
    "            arr[i], arr[i+1] = arr[i+1], arr[i]\n",
    "    \n",
    "    \n",
    "arr = [6,4,8,3,1,2]\n",
    "BubbleSort(arr)\n",
    "print(arr)"
   ]
  },
  {
   "cell_type": "code",
   "execution_count": 4,
   "id": "ca6e5d02-1279-4b95-99f3-0d8c4cd5424d",
   "metadata": {},
   "outputs": [
    {
     "name": "stdout",
     "output_type": "stream",
     "text": [
      "[1, 2, 3, 4, 6, 8]\n"
     ]
    }
   ],
   "source": [
    "def BubbleSort(arr):\n",
    "    length = len(arr)\n",
    "    for i in range(length-1): # Number of Rounds\n",
    "        \n",
    "        # j is used for comparison, with each iteration, comparison decreases\n",
    "        for j in range(length-1-i):\n",
    "            if(arr[j] > arr[j+1]):\n",
    "                arr[j], arr[j+1] = arr[j+1], arr[j]\n",
    "    \n",
    "    \n",
    "arr = [6,4,8,3,1,2]\n",
    "BubbleSort(arr)\n",
    "print(arr)"
   ]
  },
  {
   "cell_type": "code",
   "execution_count": null,
   "id": "e6b83062-d6eb-4ced-8720-0df85fb20d0b",
   "metadata": {},
   "outputs": [],
   "source": []
  }
 ],
 "metadata": {
  "kernelspec": {
   "display_name": "Python 3 (ipykernel)",
   "language": "python",
   "name": "python3"
  },
  "language_info": {
   "codemirror_mode": {
    "name": "ipython",
    "version": 3
   },
   "file_extension": ".py",
   "mimetype": "text/x-python",
   "name": "python",
   "nbconvert_exporter": "python",
   "pygments_lexer": "ipython3",
   "version": "3.11.4"
  }
 },
 "nbformat": 4,
 "nbformat_minor": 5
}
