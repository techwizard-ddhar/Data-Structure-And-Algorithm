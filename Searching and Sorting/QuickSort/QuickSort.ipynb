{
 "cells": [
  {
   "cell_type": "code",
   "execution_count": 17,
   "id": "f3a90006-9bb2-4bc1-afcd-aba121021d9c",
   "metadata": {},
   "outputs": [
    {
     "name": "stdout",
     "output_type": "stream",
     "text": [
      "[-20, -9, -9, -7, -4, 0, 9, 5]\n"
     ]
    }
   ],
   "source": [
    "def partition(arr, low, high):\n",
    "    pivot = arr[low]  # Select the pivot as arr[low]\n",
    "    i = low + 1\n",
    "    j = high\n",
    "    while i < j:\n",
    "        while i < j and arr[i] <= pivot:\n",
    "            i += 1\n",
    "        while i < j and arr[j] > pivot:\n",
    "            j -= 1\n",
    "        if i < j:\n",
    "            arr[i], arr[j] = arr[j], arr[i]\n",
    "    if pivot > arr[j]:  # Check if swapping is necessary for pivot and arr[j]\n",
    "        arr[low], arr[j] = arr[j], arr[low]\n",
    "    return j\n",
    "\n",
    "    \n",
    "def QuickSort(arr,low,high):\n",
    "    if(low < high):\n",
    "        parIndex = partition(arr, low, high)\n",
    "        QuickSort(arr, low, parIndex-1)\n",
    "        QuickSort(arr, parIndex+1, high)\n",
    "        \n",
    "arr = [0, 9, -4, -9,-9, -7, -20, 5]\n",
    "QuickSort(arr, 0, len(arr)-1)\n",
    "print(arr)"
   ]
  },
  {
   "cell_type": "code",
   "execution_count": null,
   "id": "22525e2b-b32d-4c5d-887c-7c2ce03ca4f7",
   "metadata": {},
   "outputs": [],
   "source": []
  }
 ],
 "metadata": {
  "kernelspec": {
   "display_name": "Python 3 (ipykernel)",
   "language": "python",
   "name": "python3"
  },
  "language_info": {
   "codemirror_mode": {
    "name": "ipython",
    "version": 3
   },
   "file_extension": ".py",
   "mimetype": "text/x-python",
   "name": "python",
   "nbconvert_exporter": "python",
   "pygments_lexer": "ipython3",
   "version": "3.11.4"
  }
 },
 "nbformat": 4,
 "nbformat_minor": 5
}
