{
 "cells": [
  {
   "cell_type": "code",
   "execution_count": 11,
   "id": "d20d2568-c47f-49ca-98e0-ba4c16e8062a",
   "metadata": {},
   "outputs": [
    {
     "name": "stdin",
     "output_type": "stream",
     "text": [
      "Enter number of test cases:  3\n",
      "Enter Number Of Elements:  3\n",
      " 2 2 1\n"
     ]
    },
    {
     "name": "stdout",
     "output_type": "stream",
     "text": [
      "The single element is: 1\n"
     ]
    },
    {
     "name": "stdin",
     "output_type": "stream",
     "text": [
      "Enter Number Of Elements:  5\n",
      " 4 1 2 1 2\n"
     ]
    },
    {
     "name": "stdout",
     "output_type": "stream",
     "text": [
      "The single element is: 4\n"
     ]
    },
    {
     "name": "stdin",
     "output_type": "stream",
     "text": [
      "Enter Number Of Elements:  11\n",
      " 1 1 2 2 3 3 6 6 7 9 9 \n"
     ]
    },
    {
     "name": "stdout",
     "output_type": "stream",
     "text": [
      "The single element is: 7\n"
     ]
    }
   ],
   "source": [
    "def appearance(arr):\n",
    "    dic = {}\n",
    "    for ele in arr:\n",
    "        if ele in dic:\n",
    "            dic[ele] = dic[ele] + 1\n",
    "        else:\n",
    "            dic[ele] = 1\n",
    "        \n",
    "    for w in dic:\n",
    "        if(dic[w] == 1):\n",
    "            return w\n",
    "        \n",
    "    return 0\n",
    "\n",
    "if __name__ == \"__main__\":\n",
    "    num_test_cases = int(input('Enter number of test cases: '))\n",
    "    \n",
    "    for j in range(num_test_cases):\n",
    "        num = int(input('Enter Number Of Elements: '))\n",
    "        arr = [int(ele) for ele in input().split()]\n",
    "        output = appearance(arr)\n",
    "        print(\"The single element is:\", output)"
   ]
  },
  {
   "cell_type": "code",
   "execution_count": null,
   "id": "9ca6dc73-fc13-4145-98aa-c95cd4988b6e",
   "metadata": {},
   "outputs": [],
   "source": []
  }
 ],
 "metadata": {
  "kernelspec": {
   "display_name": "Python 3 (ipykernel)",
   "language": "python",
   "name": "python3"
  },
  "language_info": {
   "codemirror_mode": {
    "name": "ipython",
    "version": 3
   },
   "file_extension": ".py",
   "mimetype": "text/x-python",
   "name": "python",
   "nbconvert_exporter": "python",
   "pygments_lexer": "ipython3",
   "version": "3.11.4"
  }
 },
 "nbformat": 4,
 "nbformat_minor": 5
}
