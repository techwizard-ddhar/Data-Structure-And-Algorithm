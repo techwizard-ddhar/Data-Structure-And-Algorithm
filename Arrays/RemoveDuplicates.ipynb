{
 "cells": [
  {
   "cell_type": "markdown",
   "id": "30a80442-9362-4a7e-a32a-610881ace089",
   "metadata": {},
   "source": [
    "**Input: arr[1,1,2,2,2,3,3]**\n",
    "\n",
    "**Output: arr[1,2,3,_,_,_,_]**\n",
    "\n",
    "**Explanation: Total number of unique elements are 3, i.e[1,2,3] and Therefore return 3 after assigning [1,2,3] in the beginning of the array.**"
   ]
  },
  {
   "cell_type": "code",
   "execution_count": 26,
   "id": "b75e0999-80d1-4e06-a5b2-4d6a3f668482",
   "metadata": {},
   "outputs": [
    {
     "name": "stdout",
     "output_type": "stream",
     "text": [
      "1 1 2 "
     ]
    }
   ],
   "source": [
    "def removeDuplicates(arr,n):\n",
    "    s = set()\n",
    "    for w in range(n):\n",
    "        s.add(arr[w])\n",
    "    arr = s # When you do arr = s,  this doesn't actually modify the original arr list\n",
    "    k = len(s)\n",
    "    return k\n",
    "    \n",
    "if __name__ == \"__main__\":\n",
    "    arr = [1,1,2,2,2,3,3]\n",
    "    n = len(arr)\n",
    "    k = removeDuplicates(arr,n)\n",
    "    for ele in range(k):\n",
    "        print(arr[ele], end = ' ')"
   ]
  },
  {
   "cell_type": "code",
   "execution_count": 27,
   "id": "1995309d-0171-4c07-ab7b-ddd5030154c2",
   "metadata": {},
   "outputs": [
    {
     "data": {
      "text/plain": [
       "3"
      ]
     },
     "execution_count": 27,
     "metadata": {},
     "output_type": "execute_result"
    }
   ],
   "source": [
    "k"
   ]
  },
  {
   "cell_type": "code",
   "execution_count": 28,
   "id": "f27d0b24-571d-4747-a084-176633054a93",
   "metadata": {},
   "outputs": [
    {
     "data": {
      "text/plain": [
       "set()"
      ]
     },
     "execution_count": 28,
     "metadata": {},
     "output_type": "execute_result"
    }
   ],
   "source": [
    "s"
   ]
  },
  {
   "cell_type": "code",
   "execution_count": 29,
   "id": "75213c2d-20b6-4417-9f0e-944c57bae246",
   "metadata": {},
   "outputs": [
    {
     "data": {
      "text/plain": [
       "[1, 1, 2, 2, 2, 3, 3]"
      ]
     },
     "execution_count": 29,
     "metadata": {},
     "output_type": "execute_result"
    }
   ],
   "source": [
    "arr"
   ]
  },
  {
   "cell_type": "code",
   "execution_count": 30,
   "id": "f09756a1-b103-49a2-a7f0-88e55de24c92",
   "metadata": {},
   "outputs": [
    {
     "name": "stdout",
     "output_type": "stream",
     "text": [
      "1 2 3 "
     ]
    }
   ],
   "source": [
    "def removeDuplicates(arr,n):\n",
    "    s = set()\n",
    "    for w in range(n):\n",
    "        s.add(arr[w])\n",
    "    i = 0\n",
    "    for ele in s:\n",
    "        arr[i] = ele\n",
    "        i += 1\n",
    "    k = len(s)\n",
    "    return k\n",
    "    \n",
    "if __name__ == \"__main__\":\n",
    "    arr = [1,1,2,2,2,3,3]\n",
    "    n = len(arr)\n",
    "    k = removeDuplicates(arr,n)\n",
    "    for ele in range(k):\n",
    "        print(arr[ele], end = ' ')"
   ]
  },
  {
   "cell_type": "code",
   "execution_count": null,
   "id": "f16988a2-3667-410a-b640-bf0b5d2b4a30",
   "metadata": {},
   "outputs": [],
   "source": []
  }
 ],
 "metadata": {
  "kernelspec": {
   "display_name": "Python 3 (ipykernel)",
   "language": "python",
   "name": "python3"
  },
  "language_info": {
   "codemirror_mode": {
    "name": "ipython",
    "version": 3
   },
   "file_extension": ".py",
   "mimetype": "text/x-python",
   "name": "python",
   "nbconvert_exporter": "python",
   "pygments_lexer": "ipython3",
   "version": "3.11.4"
  }
 },
 "nbformat": 4,
 "nbformat_minor": 5
}
