{
 "cells": [
  {
   "cell_type": "code",
   "execution_count": 38,
   "id": "b48aabb5-0753-4f7d-9189-174cac674673",
   "metadata": {},
   "outputs": [
    {
     "name": "stdout",
     "output_type": "stream",
     "text": [
      "The number is not missing\n"
     ]
    }
   ],
   "source": [
    "def MissingNumber(arr,n,num):\n",
    "    isMissing = True\n",
    "    for i in range(n):\n",
    "        if(arr[i] == num):\n",
    "            isMissing = False\n",
    "            break\n",
    "    if isMissing:\n",
    "        return i\n",
    "    else:\n",
    "        return None\n",
    "\n",
    "if __name__ == \"__main__\":\n",
    "    arr = [1,2,3,4,5]\n",
    "    n = len(arr)\n",
    "    num = 3\n",
    "    output = MissingNumber(arr, n, num)\n",
    "    if output is not None:\n",
    "        print('The Missing Number Is: ', output)\n",
    "    else:\n",
    "        print('The number is not missing')\n",
    "    \n",
    "        \n",
    "    "
   ]
  },
  {
   "cell_type": "code",
   "execution_count": 41,
   "id": "ca8f0963-ebe8-4ebb-8139-ee40943c6dd2",
   "metadata": {},
   "outputs": [
    {
     "name": "stdout",
     "output_type": "stream",
     "text": [
      "The Missing Number Is:  3\n"
     ]
    }
   ],
   "source": [
    "def MissingNumber(arr,N):\n",
    "    summation = N*(N+1)//2\n",
    "    s2 = sum(arr)\n",
    "    MissingNumber = summation - s2\n",
    "    return MissingNumber\n",
    "    \n",
    "\n",
    "if __name__ == \"__main__\":\n",
    "    arr = [1,2,4,5]\n",
    "    N = 5 # The total length should be 5, if 3 was present\n",
    "    output = MissingNumber(arr, N)\n",
    "    print('The Missing Number Is: ', output)\n",
    "\n",
    "    \n",
    "        \n",
    "    "
   ]
  },
  {
   "cell_type": "code",
   "execution_count": null,
   "id": "ac5e4697-8704-47de-847e-298497775c7d",
   "metadata": {},
   "outputs": [],
   "source": []
  }
 ],
 "metadata": {
  "kernelspec": {
   "display_name": "Python 3 (ipykernel)",
   "language": "python",
   "name": "python3"
  },
  "language_info": {
   "codemirror_mode": {
    "name": "ipython",
    "version": 3
   },
   "file_extension": ".py",
   "mimetype": "text/x-python",
   "name": "python",
   "nbconvert_exporter": "python",
   "pygments_lexer": "ipython3",
   "version": "3.11.4"
  }
 },
 "nbformat": 4,
 "nbformat_minor": 5
}
