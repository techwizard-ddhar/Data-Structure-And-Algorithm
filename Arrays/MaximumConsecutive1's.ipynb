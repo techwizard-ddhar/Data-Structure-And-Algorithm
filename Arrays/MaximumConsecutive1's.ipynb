{
 "cells": [
  {
   "cell_type": "markdown",
   "id": "33339433-bfda-4188-8124-645a0dc44515",
   "metadata": {},
   "source": [
    "**My Approach**"
   ]
  },
  {
   "cell_type": "code",
   "execution_count": 23,
   "id": "1cee6df1-5c88-447e-acb9-fdfbcfea0f54",
   "metadata": {},
   "outputs": [
    {
     "name": "stdin",
     "output_type": "stream",
     "text": [
      "Enter number of test cases:  4\n",
      "Enter Number Of Elements:  16\n",
      " 0 1 1 0 0 1 0 1 0 1 0 0 1 0 0 0\n"
     ]
    },
    {
     "name": "stdout",
     "output_type": "stream",
     "text": [
      "Number of consecutives 1s are:  2\n"
     ]
    },
    {
     "name": "stdin",
     "output_type": "stream",
     "text": [
      "Enter Number Of Elements:  11\n",
      " 1 1 1 0 0 0 0 0 0 1 1\n"
     ]
    },
    {
     "name": "stdout",
     "output_type": "stream",
     "text": [
      "Number of consecutives 1s are:  3\n"
     ]
    },
    {
     "name": "stdin",
     "output_type": "stream",
     "text": [
      "Enter Number Of Elements:  15\n",
      " 0 0 1 0 0 1 1 1 0 0 0 1 1 0 0\n"
     ]
    },
    {
     "name": "stdout",
     "output_type": "stream",
     "text": [
      "Number of consecutives 1s are:  3\n"
     ]
    },
    {
     "name": "stdin",
     "output_type": "stream",
     "text": [
      "Enter Number Of Elements:  14\n",
      " 0 0 1 0 1 0 1 0 1 0 1 0 0 1\n"
     ]
    },
    {
     "name": "stdout",
     "output_type": "stream",
     "text": [
      "Number of consecutives 1s are:  1\n"
     ]
    }
   ],
   "source": [
    "def consecutive_ones(arr):\n",
    "    count = 0\n",
    "    max_count = 0\n",
    "    for ele in arr:\n",
    "        if(ele == 1):\n",
    "            count += 1\n",
    "        else:\n",
    "            count = 0\n",
    "        if(max_count < count):\n",
    "            max_count = count\n",
    "    return max_count\n",
    "\n",
    "num_test_cases = int(input('Enter number of test cases: '))\n",
    "\n",
    "for j in range(num_test_cases):\n",
    "    num = int(input('Enter Number Of Elements: '))\n",
    "    arr = [int(ele) for ele in input().split()]\n",
    "    output = consecutive_ones(arr)\n",
    "    print('Number of consecutives 1s are: ', output)"
   ]
  },
  {
   "cell_type": "markdown",
   "id": "b2f7e26d-8802-46a3-aebb-f130a103c833",
   "metadata": {},
   "source": [
    "**Using Max Function**"
   ]
  },
  {
   "cell_type": "code",
   "execution_count": 15,
   "id": "5a04d30b-67c0-4b06-8418-d11ab1a93808",
   "metadata": {},
   "outputs": [
    {
     "name": "stdout",
     "output_type": "stream",
     "text": [
      "4\n"
     ]
    }
   ],
   "source": [
    "arr = [1, 0, 1, 1, 0, 1, 1, 1, 0, 0, 1, 1, 1, 1]\n",
    "count = 0\n",
    "max_count = 0\n",
    "\n",
    "for ele in arr:\n",
    "    if(ele == 1):\n",
    "        count += 1\n",
    "    else:\n",
    "        count = 0\n",
    "    max_count = max(max_count,count)\n",
    "print(max_count)"
   ]
  },
  {
   "cell_type": "code",
   "execution_count": null,
   "id": "8b999ad0-b3a3-4ca7-a718-dce4adfd3fd0",
   "metadata": {},
   "outputs": [],
   "source": []
  }
 ],
 "metadata": {
  "kernelspec": {
   "display_name": "Python 3 (ipykernel)",
   "language": "python",
   "name": "python3"
  },
  "language_info": {
   "codemirror_mode": {
    "name": "ipython",
    "version": 3
   },
   "file_extension": ".py",
   "mimetype": "text/x-python",
   "name": "python",
   "nbconvert_exporter": "python",
   "pygments_lexer": "ipython3",
   "version": "3.11.4"
  }
 },
 "nbformat": 4,
 "nbformat_minor": 5
}
