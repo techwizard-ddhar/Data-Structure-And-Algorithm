{
 "cells": [
  {
   "cell_type": "code",
   "execution_count": 15,
   "id": "0f07b8e3-1655-410b-a89f-c41c8eec86e0",
   "metadata": {},
   "outputs": [
    {
     "name": "stdin",
     "output_type": "stream",
     "text": [
      "Enter number of test cases 2\n",
      "Enter number of elements 7\n",
      " -1 -3 4 0 2 -3 4\n",
      "Enter the sum:  0\n"
     ]
    },
    {
     "name": "stdout",
     "output_type": "stream",
     "text": [
      "The length of the longest subarray is: 5\n"
     ]
    },
    {
     "name": "stdin",
     "output_type": "stream",
     "text": [
      "Enter number of elements 10\n",
      " 1 2 3 4 5 6 7 8 9 10\n",
      "Enter the sum:  10\n"
     ]
    },
    {
     "name": "stdout",
     "output_type": "stream",
     "text": [
      "The length of the longest subarray is: 4\n"
     ]
    }
   ],
   "source": [
    "def longest_subarray(arr, k):\n",
    "    n = len(arr)\n",
    "    s = set()\n",
    "    length = 0\n",
    "    for i in range(n):\n",
    "        subarray = []\n",
    "        subarray_sum = 0\n",
    "        for j in range(i, n):\n",
    "            subarray_sum += arr[j]\n",
    "            subarray.append(arr[j])\n",
    "            \n",
    "            if(subarray_sum == k):\n",
    "                s.add(tuple(subarray))\n",
    "                length = max(length, j-i+1)\n",
    "    return length\n",
    "\n",
    "if __name__ == \"__main__\":\n",
    "    num_of_test_cases = int(input('Enter number of test cases'))\n",
    "    for j in range(num_of_test_cases):\n",
    "        num = int(input('Enter number of elements'))\n",
    "        arr = [int(ele) for ele in input().split()]\n",
    "        k = int(input('Enter the sum: '))\n",
    "        output = longest_subarray(arr, k)\n",
    "        print('The length of the longest subarray is:', output)"
   ]
  },
  {
   "cell_type": "code",
   "execution_count": 16,
   "id": "4e87b952-99b8-4e75-91ab-fc3fb8359adc",
   "metadata": {},
   "outputs": [
    {
     "data": {
      "text/plain": [
       "{(-3, 4, 0, 2, -3), (-1, -3, 4), (-1, -3, 4, 0), (0,)}"
      ]
     },
     "execution_count": 16,
     "metadata": {},
     "output_type": "execute_result"
    }
   ],
   "source": [
    "s"
   ]
  }
 ],
 "metadata": {
  "kernelspec": {
   "display_name": "Python 3 (ipykernel)",
   "language": "python",
   "name": "python3"
  },
  "language_info": {
   "codemirror_mode": {
    "name": "ipython",
    "version": 3
   },
   "file_extension": ".py",
   "mimetype": "text/x-python",
   "name": "python",
   "nbconvert_exporter": "python",
   "pygments_lexer": "ipython3",
   "version": "3.11.4"
  }
 },
 "nbformat": 4,
 "nbformat_minor": 5
}
