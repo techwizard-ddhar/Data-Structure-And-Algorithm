{
 "cells": [
  {
   "cell_type": "code",
   "execution_count": 36,
   "id": "e7843f36-698d-427f-bf3a-1ad4cfcaaff5",
   "metadata": {},
   "outputs": [
    {
     "name": "stdout",
     "output_type": "stream",
     "text": [
      "0\n",
      "set()\n"
     ]
    }
   ],
   "source": [
    "arr = [8, 15, 17, 0, 11]\n",
    "n = len(arr)\n",
    "k = 17\n",
    "length = 0\n",
    "sum = 0\n",
    "list = []\n",
    "s = set()\n",
    "\n",
    "for i in range(n):\n",
    "    for j in range(i, n):\n",
    "        sum += arr[j]\n",
    "        list.append(arr[j])\n",
    "        \n",
    "        if(sum == k):\n",
    "            s.add(tuple(list))\n",
    "            length = max(length, j - i + 1)\n",
    "print(length)\n",
    "print(s)\n",
    "\n",
    "# The value of sum and List will not be updated"
   ]
  },
  {
   "cell_type": "code",
   "execution_count": 43,
   "id": "18054f48-a68d-4836-8d83-a23fb7ef8696",
   "metadata": {},
   "outputs": [
    {
     "name": "stdout",
     "output_type": "stream",
     "text": [
      "3\n",
      "{(1, 2), (3,), (1, 1, 1)}\n"
     ]
    }
   ],
   "source": [
    "arr = [1,2,3,1,1,1,1]\n",
    "n = len(arr)\n",
    "k = 3\n",
    "length = 0\n",
    "s = set()\n",
    "\n",
    "for i in range(n):\n",
    "    sum = 0\n",
    "    list = []\n",
    "    for j in range(i, n):\n",
    "        sum += arr[j]\n",
    "        list.append(arr[j])\n",
    "        \n",
    "        if(sum == k):\n",
    "            s.add(tuple(list))\n",
    "            length = max(length, j - i + 1)\n",
    "print(length)\n",
    "print(s)"
   ]
  },
  {
   "cell_type": "code",
   "execution_count": null,
   "id": "10528819-1655-46ee-8b82-194ee115ca2f",
   "metadata": {},
   "outputs": [],
   "source": []
  }
 ],
 "metadata": {
  "kernelspec": {
   "display_name": "Python 3 (ipykernel)",
   "language": "python",
   "name": "python3"
  },
  "language_info": {
   "codemirror_mode": {
    "name": "ipython",
    "version": 3
   },
   "file_extension": ".py",
   "mimetype": "text/x-python",
   "name": "python",
   "nbconvert_exporter": "python",
   "pygments_lexer": "ipython3",
   "version": "3.11.4"
  }
 },
 "nbformat": 4,
 "nbformat_minor": 5
}
